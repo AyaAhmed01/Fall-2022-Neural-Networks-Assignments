{
  "metadata": {
    "kernelspec": {
      "language": "python",
      "display_name": "Python 3",
      "name": "python3"
    },
    "language_info": {
      "name": "python",
      "version": "3.7.6",
      "mimetype": "text/x-python",
      "codemirror_mode": {
        "name": "ipython",
        "version": 3
      },
      "pygments_lexer": "ipython3",
      "nbconvert_exporter": "python",
      "file_extension": ".py"
    },
    "colab": {
      "provenance": [],
      "include_colab_link": true
    }
  },
  "nbformat_minor": 0,
  "nbformat": 4,
  "cells": [
    {
      "cell_type": "markdown",
      "metadata": {
        "id": "view-in-github",
        "colab_type": "text"
      },
      "source": [
        "<a href=\"https://colab.research.google.com/github/AyaAhmed01/Fall-2022-Neural-Networks-Assignments/blob/main/A5-2_svhn_dataset.ipynb\" target=\"_parent\"><img src=\"https://colab.research.google.com/assets/colab-badge.svg\" alt=\"Open In Colab\"/></a>"
      ]
    },
    {
      "cell_type": "markdown",
      "source": [
        "---\n",
        "# Cairo University Faculty of Engineering\n",
        "## Deep Learning\n",
        "## Assignment 5_2\n",
        "\n",
        "---"
      ],
      "metadata": {
        "id": "0rcLGQPGCeJH"
      }
    },
    {
      "cell_type": "markdown",
      "source": [
        "Please write your full name here\n",
        "- **Name** : \"Aya Emad FOuad Ahmed\""
      ],
      "metadata": {
        "id": "Fcv8lfVfCeJP"
      }
    },
    {
      "cell_type": "markdown",
      "source": [
        "## Image classifier for the SVHN dataset\n",
        "### Instructions\n",
        "\n",
        "In this notebook, you will create a neural network that classifies real-world images digits.\n",
        "Within this notebook you will find instructions in each section for how to complete the assignment.\n",
        "\n",
        "Pay close attention to the instructions. Feel free to add extra cells into the notebook as required.\n",
        "\n",
        "### Let's get started!\n",
        "\n",
        "We'll start by running some imports, and loading the dataset. You are free to make further imports throughout the notebook as you wish."
      ],
      "metadata": {
        "id": "JKdrCUE4CeJQ"
      }
    },
    {
      "cell_type": "markdown",
      "source": [
        "For this assignmnet, you will use the [SVHN dataset](http://ufldl.stanford.edu/housenumbers/). This is an image dataset of over 600,000 digit images in all, and is a harder dataset than MNIST as the numbers appear in the context of natural scene images. SVHN is obtained from house numbers in Google Street View images.\n",
        "\n",
        "* Y. Netzer, T. Wang, A. Coates, A. Bissacco, B. Wu and A. Y. Ng. \"Reading Digits in Natural Images with Unsupervised Feature Learning\". NIPS Workshop on Deep Learning and Unsupervised Feature Learning, 2011.\n",
        "\n",
        "The train and test datasets required for this project can be downloaded from [here](http://ufldl.stanford.edu/housenumbers/train.tar.gz) and [here](http://ufldl.stanford.edu/housenumbers/test.tar.gz). Once unzipped, you will have two files: `train_32x32.mat` and `test_32x32.mat`.\n",
        "\n",
        "- If using Colab: You should store these files in Drive.\n",
        "\n",
        "Your goal is to develop an end-to-end workflow for building, training, validating, evaluating and saving a neural network that classifies a real-world image into one of ten classes."
      ],
      "metadata": {
        "id": "dkNPepnJCeJR"
      }
    },
    {
      "cell_type": "code",
      "source": [
        "import tensorflow as tf\n",
        "import numpy as np\n",
        "from scipy.io import loadmat\n",
        "import matplotlib.pyplot as plt\n",
        "from tensorflow.keras.layers import Conv2D , MaxPooling2D , Dense , BatchNormalization , Dropout ,Flatten\n",
        "from tensorflow.keras import Sequential\n",
        "import pandas as pd\n",
        "%matplotlib inline"
      ],
      "metadata": {
        "execution": {
          "iopub.status.busy": "2022-12-07T21:34:21.392315Z",
          "iopub.execute_input": "2022-12-07T21:34:21.392753Z",
          "iopub.status.idle": "2022-12-07T21:34:21.402451Z",
          "shell.execute_reply.started": "2022-12-07T21:34:21.392714Z",
          "shell.execute_reply": "2022-12-07T21:34:21.401204Z"
        },
        "trusted": true,
        "id": "ywdr7_bSCeJS"
      },
      "execution_count": null,
      "outputs": []
    },
    {
      "cell_type": "code",
      "source": [
        "# Run this cell to load the dataset\n",
        "\n",
        "test = loadmat('/kaggle/input/test_32x32.mat')\n",
        "train = loadmat('/kaggle/input/train_32x32.mat')"
      ],
      "metadata": {
        "execution": {
          "iopub.status.busy": "2022-12-07T21:34:22.809216Z",
          "iopub.execute_input": "2022-12-07T21:34:22.809619Z",
          "iopub.status.idle": "2022-12-07T21:34:25.736701Z",
          "shell.execute_reply.started": "2022-12-07T21:34:22.809587Z",
          "shell.execute_reply": "2022-12-07T21:34:25.735468Z"
        },
        "trusted": true,
        "colab": {
          "base_uri": "https://localhost:8080/",
          "height": 432
        },
        "id": "s-KBET5gCeJU",
        "outputId": "011318e9-46c9-43b6-9304-53250e8203cc"
      },
      "execution_count": null,
      "outputs": [
        {
          "output_type": "error",
          "ename": "FileNotFoundError",
          "evalue": "ignored",
          "traceback": [
            "\u001b[0;31m---------------------------------------------------------------------------\u001b[0m",
            "\u001b[0;31mFileNotFoundError\u001b[0m                         Traceback (most recent call last)",
            "\u001b[0;32m/usr/local/lib/python3.8/dist-packages/scipy/io/matlab/mio.py\u001b[0m in \u001b[0;36m_open_file\u001b[0;34m(file_like, appendmat, mode)\u001b[0m\n\u001b[1;32m     38\u001b[0m     \u001b[0;32mtry\u001b[0m\u001b[0;34m:\u001b[0m\u001b[0;34m\u001b[0m\u001b[0;34m\u001b[0m\u001b[0m\n\u001b[0;32m---> 39\u001b[0;31m         \u001b[0;32mreturn\u001b[0m \u001b[0mopen\u001b[0m\u001b[0;34m(\u001b[0m\u001b[0mfile_like\u001b[0m\u001b[0;34m,\u001b[0m \u001b[0mmode\u001b[0m\u001b[0;34m)\u001b[0m\u001b[0;34m,\u001b[0m \u001b[0;32mTrue\u001b[0m\u001b[0;34m\u001b[0m\u001b[0;34m\u001b[0m\u001b[0m\n\u001b[0m\u001b[1;32m     40\u001b[0m     \u001b[0;32mexcept\u001b[0m \u001b[0mIOError\u001b[0m \u001b[0;32mas\u001b[0m \u001b[0me\u001b[0m\u001b[0;34m:\u001b[0m\u001b[0;34m\u001b[0m\u001b[0;34m\u001b[0m\u001b[0m\n",
            "\u001b[0;31mFileNotFoundError\u001b[0m: [Errno 2] No such file or directory: '/kaggle/input/test_32x32.mat'",
            "\nDuring handling of the above exception, another exception occurred:\n",
            "\u001b[0;31mFileNotFoundError\u001b[0m                         Traceback (most recent call last)",
            "\u001b[0;32m<ipython-input-2-c21489b19b63>\u001b[0m in \u001b[0;36m<module>\u001b[0;34m\u001b[0m\n\u001b[1;32m      1\u001b[0m \u001b[0;31m# Run this cell to load the dataset\u001b[0m\u001b[0;34m\u001b[0m\u001b[0;34m\u001b[0m\u001b[0;34m\u001b[0m\u001b[0m\n\u001b[1;32m      2\u001b[0m \u001b[0;34m\u001b[0m\u001b[0m\n\u001b[0;32m----> 3\u001b[0;31m \u001b[0mtest\u001b[0m \u001b[0;34m=\u001b[0m \u001b[0mloadmat\u001b[0m\u001b[0;34m(\u001b[0m\u001b[0;34m'/kaggle/input/test_32x32.mat'\u001b[0m\u001b[0;34m)\u001b[0m\u001b[0;34m\u001b[0m\u001b[0;34m\u001b[0m\u001b[0m\n\u001b[0m\u001b[1;32m      4\u001b[0m \u001b[0;31m# train = loadmat('/kaggle/input/train_32x32.mat')\u001b[0m\u001b[0;34m\u001b[0m\u001b[0;34m\u001b[0m\u001b[0;34m\u001b[0m\u001b[0m\n",
            "\u001b[0;32m/usr/local/lib/python3.8/dist-packages/scipy/io/matlab/mio.py\u001b[0m in \u001b[0;36mloadmat\u001b[0;34m(file_name, mdict, appendmat, **kwargs)\u001b[0m\n\u001b[1;32m    222\u001b[0m     \"\"\"\n\u001b[1;32m    223\u001b[0m     \u001b[0mvariable_names\u001b[0m \u001b[0;34m=\u001b[0m \u001b[0mkwargs\u001b[0m\u001b[0;34m.\u001b[0m\u001b[0mpop\u001b[0m\u001b[0;34m(\u001b[0m\u001b[0;34m'variable_names'\u001b[0m\u001b[0;34m,\u001b[0m \u001b[0;32mNone\u001b[0m\u001b[0;34m)\u001b[0m\u001b[0;34m\u001b[0m\u001b[0;34m\u001b[0m\u001b[0m\n\u001b[0;32m--> 224\u001b[0;31m     \u001b[0;32mwith\u001b[0m \u001b[0m_open_file_context\u001b[0m\u001b[0;34m(\u001b[0m\u001b[0mfile_name\u001b[0m\u001b[0;34m,\u001b[0m \u001b[0mappendmat\u001b[0m\u001b[0;34m)\u001b[0m \u001b[0;32mas\u001b[0m \u001b[0mf\u001b[0m\u001b[0;34m:\u001b[0m\u001b[0;34m\u001b[0m\u001b[0;34m\u001b[0m\u001b[0m\n\u001b[0m\u001b[1;32m    225\u001b[0m         \u001b[0mMR\u001b[0m\u001b[0;34m,\u001b[0m \u001b[0m_\u001b[0m \u001b[0;34m=\u001b[0m \u001b[0mmat_reader_factory\u001b[0m\u001b[0;34m(\u001b[0m\u001b[0mf\u001b[0m\u001b[0;34m,\u001b[0m \u001b[0;34m**\u001b[0m\u001b[0mkwargs\u001b[0m\u001b[0;34m)\u001b[0m\u001b[0;34m\u001b[0m\u001b[0;34m\u001b[0m\u001b[0m\n\u001b[1;32m    226\u001b[0m         \u001b[0mmatfile_dict\u001b[0m \u001b[0;34m=\u001b[0m \u001b[0mMR\u001b[0m\u001b[0;34m.\u001b[0m\u001b[0mget_variables\u001b[0m\u001b[0;34m(\u001b[0m\u001b[0mvariable_names\u001b[0m\u001b[0;34m)\u001b[0m\u001b[0;34m\u001b[0m\u001b[0;34m\u001b[0m\u001b[0m\n",
            "\u001b[0;32m/usr/lib/python3.8/contextlib.py\u001b[0m in \u001b[0;36m__enter__\u001b[0;34m(self)\u001b[0m\n\u001b[1;32m    111\u001b[0m         \u001b[0;32mdel\u001b[0m \u001b[0mself\u001b[0m\u001b[0;34m.\u001b[0m\u001b[0margs\u001b[0m\u001b[0;34m,\u001b[0m \u001b[0mself\u001b[0m\u001b[0;34m.\u001b[0m\u001b[0mkwds\u001b[0m\u001b[0;34m,\u001b[0m \u001b[0mself\u001b[0m\u001b[0;34m.\u001b[0m\u001b[0mfunc\u001b[0m\u001b[0;34m\u001b[0m\u001b[0;34m\u001b[0m\u001b[0m\n\u001b[1;32m    112\u001b[0m         \u001b[0;32mtry\u001b[0m\u001b[0;34m:\u001b[0m\u001b[0;34m\u001b[0m\u001b[0;34m\u001b[0m\u001b[0m\n\u001b[0;32m--> 113\u001b[0;31m             \u001b[0;32mreturn\u001b[0m \u001b[0mnext\u001b[0m\u001b[0;34m(\u001b[0m\u001b[0mself\u001b[0m\u001b[0;34m.\u001b[0m\u001b[0mgen\u001b[0m\u001b[0;34m)\u001b[0m\u001b[0;34m\u001b[0m\u001b[0;34m\u001b[0m\u001b[0m\n\u001b[0m\u001b[1;32m    114\u001b[0m         \u001b[0;32mexcept\u001b[0m \u001b[0mStopIteration\u001b[0m\u001b[0;34m:\u001b[0m\u001b[0;34m\u001b[0m\u001b[0;34m\u001b[0m\u001b[0m\n\u001b[1;32m    115\u001b[0m             \u001b[0;32mraise\u001b[0m \u001b[0mRuntimeError\u001b[0m\u001b[0;34m(\u001b[0m\u001b[0;34m\"generator didn't yield\"\u001b[0m\u001b[0;34m)\u001b[0m \u001b[0;32mfrom\u001b[0m \u001b[0;32mNone\u001b[0m\u001b[0;34m\u001b[0m\u001b[0;34m\u001b[0m\u001b[0m\n",
            "\u001b[0;32m/usr/local/lib/python3.8/dist-packages/scipy/io/matlab/mio.py\u001b[0m in \u001b[0;36m_open_file_context\u001b[0;34m(file_like, appendmat, mode)\u001b[0m\n\u001b[1;32m     15\u001b[0m \u001b[0;34m@\u001b[0m\u001b[0mcontextmanager\u001b[0m\u001b[0;34m\u001b[0m\u001b[0;34m\u001b[0m\u001b[0m\n\u001b[1;32m     16\u001b[0m \u001b[0;32mdef\u001b[0m \u001b[0m_open_file_context\u001b[0m\u001b[0;34m(\u001b[0m\u001b[0mfile_like\u001b[0m\u001b[0;34m,\u001b[0m \u001b[0mappendmat\u001b[0m\u001b[0;34m,\u001b[0m \u001b[0mmode\u001b[0m\u001b[0;34m=\u001b[0m\u001b[0;34m'rb'\u001b[0m\u001b[0;34m)\u001b[0m\u001b[0;34m:\u001b[0m\u001b[0;34m\u001b[0m\u001b[0;34m\u001b[0m\u001b[0m\n\u001b[0;32m---> 17\u001b[0;31m     \u001b[0mf\u001b[0m\u001b[0;34m,\u001b[0m \u001b[0mopened\u001b[0m \u001b[0;34m=\u001b[0m \u001b[0m_open_file\u001b[0m\u001b[0;34m(\u001b[0m\u001b[0mfile_like\u001b[0m\u001b[0;34m,\u001b[0m \u001b[0mappendmat\u001b[0m\u001b[0;34m,\u001b[0m \u001b[0mmode\u001b[0m\u001b[0;34m)\u001b[0m\u001b[0;34m\u001b[0m\u001b[0;34m\u001b[0m\u001b[0m\n\u001b[0m\u001b[1;32m     18\u001b[0m     \u001b[0;32mtry\u001b[0m\u001b[0;34m:\u001b[0m\u001b[0;34m\u001b[0m\u001b[0;34m\u001b[0m\u001b[0m\n\u001b[1;32m     19\u001b[0m         \u001b[0;32myield\u001b[0m \u001b[0mf\u001b[0m\u001b[0;34m\u001b[0m\u001b[0;34m\u001b[0m\u001b[0m\n",
            "\u001b[0;32m/usr/local/lib/python3.8/dist-packages/scipy/io/matlab/mio.py\u001b[0m in \u001b[0;36m_open_file\u001b[0;34m(file_like, appendmat, mode)\u001b[0m\n\u001b[1;32m     43\u001b[0m             \u001b[0;32mif\u001b[0m \u001b[0mappendmat\u001b[0m \u001b[0;32mand\u001b[0m \u001b[0;32mnot\u001b[0m \u001b[0mfile_like\u001b[0m\u001b[0;34m.\u001b[0m\u001b[0mendswith\u001b[0m\u001b[0;34m(\u001b[0m\u001b[0;34m'.mat'\u001b[0m\u001b[0;34m)\u001b[0m\u001b[0;34m:\u001b[0m\u001b[0;34m\u001b[0m\u001b[0;34m\u001b[0m\u001b[0m\n\u001b[1;32m     44\u001b[0m                 \u001b[0mfile_like\u001b[0m \u001b[0;34m+=\u001b[0m \u001b[0;34m'.mat'\u001b[0m\u001b[0;34m\u001b[0m\u001b[0;34m\u001b[0m\u001b[0m\n\u001b[0;32m---> 45\u001b[0;31m             \u001b[0;32mreturn\u001b[0m \u001b[0mopen\u001b[0m\u001b[0;34m(\u001b[0m\u001b[0mfile_like\u001b[0m\u001b[0;34m,\u001b[0m \u001b[0mmode\u001b[0m\u001b[0;34m)\u001b[0m\u001b[0;34m,\u001b[0m \u001b[0;32mTrue\u001b[0m\u001b[0;34m\u001b[0m\u001b[0;34m\u001b[0m\u001b[0m\n\u001b[0m\u001b[1;32m     46\u001b[0m         \u001b[0;32melse\u001b[0m\u001b[0;34m:\u001b[0m\u001b[0;34m\u001b[0m\u001b[0;34m\u001b[0m\u001b[0m\n\u001b[1;32m     47\u001b[0m             raise IOError(\n",
            "\u001b[0;31mFileNotFoundError\u001b[0m: [Errno 2] No such file or directory: '/kaggle/input/test_32x32.mat'"
          ]
        }
      ]
    },
    {
      "cell_type": "markdown",
      "source": [
        "Both `train` and `test` are dictionaries with keys `X` and `y` for the input images and labels respectively."
      ],
      "metadata": {
        "id": "35MuemW7CeJV"
      }
    },
    {
      "cell_type": "markdown",
      "source": [
        "## 1. Inspect and preprocess the dataset\n",
        "* Extract the training and testing images and labels separately from the train and test dictionaries loaded for you.\n",
        "* Select a random sample of images and corresponding labels from the dataset (at least 10), and display them in a figure.\n",
        "* Convert the training and test images to grayscale by taking the average across all colour channels for each pixel. _Hint: retain the channel dimension, which will now have size 1._\n",
        "* Select a random sample of the grayscale images and corresponding labels from the dataset (at least 10), and display them in a figure."
      ],
      "metadata": {
        "id": "EIWYGb6BCeJV"
      }
    },
    {
      "cell_type": "code",
      "source": [
        "train_x = train['X']\n",
        "train_y = train['y']\n",
        "test_x = test['X']\n",
        "test_y = test['y']"
      ],
      "metadata": {
        "execution": {
          "iopub.status.busy": "2022-12-07T21:37:39.080166Z",
          "iopub.execute_input": "2022-12-07T21:37:39.080597Z",
          "iopub.status.idle": "2022-12-07T21:37:39.135110Z",
          "shell.execute_reply.started": "2022-12-07T21:37:39.080558Z",
          "shell.execute_reply": "2022-12-07T21:37:39.134229Z"
        },
        "trusted": true,
        "id": "i5OTOJj_CeJW"
      },
      "execution_count": null,
      "outputs": []
    },
    {
      "cell_type": "code",
      "source": [
        "train_y[train_y == 10] = 0\n",
        "test_y[test_y == 10] = 0"
      ],
      "metadata": {
        "execution": {
          "iopub.status.busy": "2022-12-07T21:37:46.312014Z",
          "iopub.execute_input": "2022-12-07T21:37:46.312736Z",
          "iopub.status.idle": "2022-12-07T21:37:46.317877Z",
          "shell.execute_reply.started": "2022-12-07T21:37:46.312700Z",
          "shell.execute_reply": "2022-12-07T21:37:46.316914Z"
        },
        "trusted": true,
        "id": "tVOC6wa3CeJX"
      },
      "execution_count": null,
      "outputs": []
    },
    {
      "cell_type": "code",
      "source": [
        "train_x.shape"
      ],
      "metadata": {
        "execution": {
          "iopub.status.busy": "2022-12-07T21:37:54.827052Z",
          "iopub.execute_input": "2022-12-07T21:37:54.827757Z",
          "iopub.status.idle": "2022-12-07T21:37:54.833912Z",
          "shell.execute_reply.started": "2022-12-07T21:37:54.827696Z",
          "shell.execute_reply": "2022-12-07T21:37:54.833201Z"
        },
        "trusted": true,
        "id": "SIjngdgdCeJX",
        "outputId": "b14d399d-1eef-4fdb-d2a4-4238b7e55d3a"
      },
      "execution_count": null,
      "outputs": [
        {
          "execution_count": 74,
          "output_type": "execute_result",
          "data": {
            "text/plain": "(32, 32, 3, 73257)"
          },
          "metadata": {}
        }
      ]
    },
    {
      "cell_type": "code",
      "source": [
        "# Shape of training examples isn't the way that is usually dealt with so used np.transpose to permutate the axis\n",
        "train_x = np.transpose(train_x,(3 ,0 ,1,2))\n",
        "test_x = np.transpose(test_x,(3 ,0 ,1,2))\n",
        "\n",
        "print(\"Train x shape : {}\\nTest x shape : {}\".format(train_x.shape,test_x.shape))"
      ],
      "metadata": {
        "execution": {
          "iopub.status.busy": "2022-12-07T21:32:19.156781Z",
          "iopub.status.idle": "2022-12-07T21:32:19.157582Z"
        },
        "trusted": true,
        "id": "n08n5YveCeJY"
      },
      "execution_count": null,
      "outputs": []
    },
    {
      "cell_type": "code",
      "source": [
        "# Normalize\n",
        "train_x = train_x / 255\n",
        "test_x = test_x / 255"
      ],
      "metadata": {
        "execution": {
          "iopub.status.busy": "2022-12-07T21:38:02.904156Z",
          "iopub.execute_input": "2022-12-07T21:38:02.904726Z",
          "iopub.status.idle": "2022-12-07T21:38:03.878861Z",
          "shell.execute_reply.started": "2022-12-07T21:38:02.904672Z",
          "shell.execute_reply": "2022-12-07T21:38:03.878046Z"
        },
        "trusted": true,
        "id": "2I4DZEpWCeJZ"
      },
      "execution_count": null,
      "outputs": []
    },
    {
      "cell_type": "code",
      "source": [
        "## ATTENTION: this's not my own function, it's grabbed from other notebook but I understood the code ##\n",
        "\n",
        "def show_pictures_colored(indices,tset,tlabel):\n",
        "\n",
        "    fig , axlist = plt.subplots(ncols = 5 , nrows = 2 )\n",
        "\n",
        "    for ind , pind in enumerate(indices):\n",
        "\n",
        "        axlist.ravel()[ind].set_axis_off()\n",
        "        axlist.ravel()[ind].set_title('{}'.format(tlabel[pind]))\n",
        "        axlist.ravel()[ind].imshow(tset[pind])\n",
        "    fig.tight_layout()\n",
        "\n",
        "def show_pictures_grey(indices,tset,tlabel):\n",
        "\n",
        "    fig , axlist = plt.subplots(ncols = 5 , nrows = 2 )\n",
        "\n",
        "    for ind , pind in enumerate(indices):\n",
        "\n",
        "        axlist.ravel()[ind].set_axis_off()\n",
        "        axlist.ravel()[ind].set_title('{}'.format(tlabel[pind]))\n",
        "        axlist.ravel()[ind].imshow(tset[pind,:,:,0])\n",
        "    fig.tight_layout()\n"
      ],
      "metadata": {
        "execution": {
          "iopub.status.busy": "2022-12-07T21:32:19.160449Z",
          "iopub.status.idle": "2022-12-07T21:32:19.160973Z"
        },
        "trusted": true,
        "id": "ehbxn901CeJZ"
      },
      "execution_count": null,
      "outputs": []
    },
    {
      "cell_type": "code",
      "source": [
        "indices = list(np.random.randint(1,train_x.shape[0],size=(10,)))\n",
        "show_pictures_colored(indices,train_x,train_y)"
      ],
      "metadata": {
        "scrolled": true,
        "execution": {
          "iopub.status.busy": "2022-12-07T21:32:19.161885Z",
          "iopub.status.idle": "2022-12-07T21:32:19.162345Z"
        },
        "trusted": true,
        "id": "aTCdZBvfCeJa"
      },
      "execution_count": null,
      "outputs": []
    },
    {
      "cell_type": "code",
      "source": [
        "train_x_grey = np.mean(train_x,keepdims=True,axis = -1)\n",
        "test_x_grey = np.mean(test_x,keepdims=True,axis = -1)\n",
        "train_x_grey.shape"
      ],
      "metadata": {
        "execution": {
          "iopub.status.busy": "2022-12-07T21:32:19.163699Z",
          "iopub.status.idle": "2022-12-07T21:32:19.164168Z"
        },
        "trusted": true,
        "id": "TzEnuiwyCeJa"
      },
      "execution_count": null,
      "outputs": []
    },
    {
      "cell_type": "code",
      "source": [
        "indices = list(np.random.randint(1,train_x.shape[0],size=(10,)) )\n",
        "show_pictures_grey(indices , train_x_grey , train_y)"
      ],
      "metadata": {
        "execution": {
          "iopub.status.busy": "2022-12-07T21:32:19.165176Z",
          "iopub.status.idle": "2022-12-07T21:32:19.165753Z"
        },
        "trusted": true,
        "id": "-pcarcqcCeJa"
      },
      "execution_count": null,
      "outputs": []
    },
    {
      "cell_type": "code",
      "source": [
        "# divide training into train & validation\n",
        "from sklearn.model_selection import train_test_split\n",
        "\n",
        "train_x , val_x , train_y , val_y = train_test_split(train_x_grey,train_y, test_size = 0.04 )"
      ],
      "metadata": {
        "execution": {
          "iopub.status.busy": "2022-12-07T21:32:19.176755Z",
          "iopub.status.idle": "2022-12-07T21:32:19.177293Z"
        },
        "trusted": true,
        "id": "AHc0QlceCeJa"
      },
      "execution_count": null,
      "outputs": []
    },
    {
      "cell_type": "markdown",
      "source": [
        "## 2. MLP neural network classifier\n",
        "* Build an MLP classifier model using the Sequential API. Your model should use only Flatten and Dense layers, with the final layer having a 10-way softmax output.\n",
        "* You should design and build the model yourself. Feel free to experiment with different MLP architectures. _Hint: to achieve a reasonable accuracy you won't need to use more than 4 or 5 layers._\n",
        "* Print out the model summary (using the summary() method)\n",
        "* Compile and train the model (we recommend a maximum of 30 epochs), making use of both training and validation sets during the training run.\n",
        "* Your model should track at least one appropriate metric, and use at least two callbacks during training, one of which should be a ModelCheckpoint callback.\n",
        "* As a guide, you should aim to achieve a final categorical cross entropy training loss of less than 1.0 (the validation loss might be higher).\n",
        "* Plot the learning curves for loss vs epoch and accuracy vs epoch for both training and validation sets.\n",
        "* Compute and display the loss and accuracy of the trained model on the test set."
      ],
      "metadata": {
        "id": "TVpU96UhCeJb"
      }
    },
    {
      "cell_type": "code",
      "source": [
        "# Build model\n",
        "def build_mlp():\n",
        "    model = Sequential()\n",
        "    model.add(Flatten(input_shape=(32,32)))\n",
        "    model.add(Dense(64, activation='relu'))\n",
        "    model.add(Dense(64, activation='relu'))\n",
        "    model.add(Dense(32, activation='relu'))\n",
        "    model.add(Dense(10, activation='softmax'))\n",
        "    return model"
      ],
      "metadata": {
        "execution": {
          "iopub.status.busy": "2022-12-07T21:32:19.178300Z",
          "iopub.status.idle": "2022-12-07T21:32:19.178743Z"
        },
        "trusted": true,
        "id": "QsQdHmv4CeJb"
      },
      "execution_count": null,
      "outputs": []
    },
    {
      "cell_type": "code",
      "source": [
        "model = build_mlp()"
      ],
      "metadata": {
        "execution": {
          "iopub.status.busy": "2022-12-07T21:32:19.179728Z",
          "iopub.status.idle": "2022-12-07T21:32:19.180199Z"
        },
        "trusted": true,
        "id": "Ipetn2IgCeJb"
      },
      "execution_count": null,
      "outputs": []
    },
    {
      "cell_type": "code",
      "source": [
        "model.summary()"
      ],
      "metadata": {
        "execution": {
          "iopub.status.busy": "2022-12-07T21:32:19.181211Z",
          "iopub.status.idle": "2022-12-07T21:32:19.181698Z"
        },
        "trusted": true,
        "id": "HQYweQUHCeJb"
      },
      "execution_count": null,
      "outputs": []
    },
    {
      "cell_type": "code",
      "source": [
        "model.compile(optimizer='adam',\n",
        "              loss=tf.keras.losses.CategoricalCrossentropy(),\n",
        "              metrics=[tf.keras.metrics.CategoricalAccuracy()])"
      ],
      "metadata": {
        "execution": {
          "iopub.status.busy": "2022-12-07T21:32:19.182790Z",
          "iopub.status.idle": "2022-12-07T21:32:19.183295Z"
        },
        "trusted": true,
        "id": "LKetqHlnCeJc"
      },
      "execution_count": null,
      "outputs": []
    },
    {
      "cell_type": "markdown",
      "source": [
        "## Callbacks : save best and reducelr on plateau"
      ],
      "metadata": {
        "id": "ectEjqSaCeJc"
      }
    },
    {
      "cell_type": "code",
      "source": [
        "from tensorflow.keras.callbacks import ModelCheckpoint , ReduceLROnPlateau\n",
        "\n",
        "callback_best = ModelCheckpoint('model/best_model' , save_best_only= True ,save_weights_only=True , monitor=\"val_accuracy\" )\n",
        "reduceLRplat = ReduceLROnPlateau(monitor=\"val_loss\",patience=5)"
      ],
      "metadata": {
        "execution": {
          "iopub.status.busy": "2022-12-07T21:32:19.184748Z",
          "iopub.status.idle": "2022-12-07T21:32:19.185235Z"
        },
        "trusted": true,
        "id": "C2iYDy-OCeJc"
      },
      "execution_count": null,
      "outputs": []
    },
    {
      "cell_type": "code",
      "source": [
        "from keras.utils.np_utils import to_categorical\n",
        "\n",
        "train_y_cat = to_categorical(train_y,10)    # Converts a class vector (integers) to binary class matrix (one hot encoding)\n",
        "val_y_cat = to_categorical(val_y,10)"
      ],
      "metadata": {
        "execution": {
          "iopub.status.busy": "2022-12-07T21:32:19.186358Z",
          "iopub.status.idle": "2022-12-07T21:32:19.186815Z"
        },
        "trusted": true,
        "id": "LqK3OSunCeJc"
      },
      "execution_count": null,
      "outputs": []
    },
    {
      "cell_type": "code",
      "source": [
        "history = model.fit(train_x, train_y_cat, validation_data= (val_x, val_y_cat), verbose= 2, epochs= 25,\n",
        "                    batch_size= 300, callbacks= [callback_best, reduceLRplat])"
      ],
      "metadata": {
        "execution": {
          "iopub.status.busy": "2022-12-07T21:32:19.188092Z",
          "iopub.status.idle": "2022-12-07T21:32:19.188573Z"
        },
        "trusted": true,
        "id": "RI3WNCM2CeJd"
      },
      "execution_count": null,
      "outputs": []
    },
    {
      "cell_type": "code",
      "source": [
        "# list all data in history\n",
        "# print(history.history.keys())\n",
        "# summarize history for accuracy\n",
        "plt.plot(history.history['categorical_accuracy'])      #dict_keys(['loss', 'categorical_accuracy', 'val_loss', 'val_categorical_accuracy', 'lr'])\n",
        "plt.plot(history.history['val_categorical_accuracy'])\n",
        "plt.title('model accuracy')\n",
        "plt.ylabel('accuracy')\n",
        "plt.xlabel('epoch')\n",
        "plt.legend(['train', 'test'], loc='upper left')\n",
        "plt.show()\n",
        "# summarize history for loss\n",
        "plt.plot(history.history['loss'])\n",
        "plt.plot(history.history['val_loss'])\n",
        "plt.title('model loss')\n",
        "plt.ylabel('loss')\n",
        "plt.xlabel('epoch')\n",
        "plt.legend(['train', 'test'], loc='upper left')\n",
        "plt.show()\n",
        "# df = pd.DataFrame(history.history())   # other way\n",
        "# df.plot(y= [\"loss\",\"val_loss\"],use_index = True)\n",
        "# df.plot(y= [ \"accuracy\",\"val_accuracy\"] , use_index = True)"
      ],
      "metadata": {
        "execution": {
          "iopub.status.busy": "2022-12-07T21:32:19.189620Z",
          "iopub.status.idle": "2022-12-07T21:32:19.190113Z"
        },
        "trusted": true,
        "id": "if0RNifMCeJd"
      },
      "execution_count": null,
      "outputs": []
    },
    {
      "cell_type": "code",
      "source": [
        "# Compute and display the loss and accuracy of the trained model on the test set.\n",
        "[test_loss, test_acc] = model.evaluate(test_x_grey, to_categorical(test_y, 10))\n",
        "print(\"Evaluation result on Test Data : Loss = {}, accuracy = {}\".format(test_loss, test_acc))"
      ],
      "metadata": {
        "execution": {
          "iopub.status.busy": "2022-12-07T21:32:19.191298Z",
          "iopub.status.idle": "2022-12-07T21:32:19.191756Z"
        },
        "trusted": true,
        "id": "sE2Rin-oCeJd"
      },
      "execution_count": null,
      "outputs": []
    },
    {
      "cell_type": "markdown",
      "source": [
        "## 3. CNN neural network classifier\n",
        "* Build a CNN classifier model using the Sequential API. Your model should use the Conv2D, MaxPool2D, BatchNormalization, Flatten, Dense and Dropout layers. The final layer should again have a 10-way softmax output.\n",
        "* You should design and build the model yourself. Feel free to experiment with different CNN architectures. _Hint: to achieve a reasonable accuracy you won't need to use more than 2 or 3 convolutional layers and 2 fully connected layers.)_\n",
        "* The CNN model should use fewer trainable parameters than your MLP model.\n",
        "* Compile and train the model (we recommend a maximum of 30 epochs), making use of both training and validation sets during the training run.\n",
        "* Your model should track at least one appropriate metric, and use at least two callbacks during training, one of which should be a ModelCheckpoint callback.\n",
        "* You should aim to beat the MLP model performance with fewer parameters!\n",
        "* Plot the learning curves for loss vs epoch and accuracy vs epoch for both training and validation sets.\n",
        "* Compute and display the loss and accuracy of the trained model on the test set."
      ],
      "metadata": {
        "id": "zeglu2BCCeJd"
      }
    },
    {
      "cell_type": "code",
      "source": [
        "# should use the Conv2D, MaxPool2D, BatchNormalization, Flatten, Dense and Dropout layers.\n",
        "# The final layer should again have a 10-way softmax output.\n",
        "# 2 or 3 convolutional layers and 2 fully connected layers\n",
        "# (30 epochs), making use of both training and validation sets during the training run.\n",
        "from keras.layers import Dense\n",
        "from keras.layers import Dropout\n",
        "from keras.layers import Conv2D\n",
        "from keras.layers import MaxPooling2D\n",
        "from keras.layers import BatchNormalization\n",
        "\n",
        "# a LeNet-5 like CNN\n",
        "def build_cnn(x_train):\n",
        "    model = Sequential([Conv2D(6,input_shape=(x_train[0].shape), strides=1, kernel_size= 5, activation= 'relu'),\n",
        "                       MaxPooling2D(pool_size= 2, strides= 2),\n",
        "                       Conv2D(16, strides=1, kernel_size= 5, activation= 'relu'),\n",
        "                       MaxPooling2D(pool_size= 2, strides= 2),\n",
        "                       BatchNormalization(),\n",
        "                       Flatten(),\n",
        "                       Dense(units= 120, activation= 'relu'),\n",
        "                       Dropout(0.2),\n",
        "                       Dense(units= 84, activation= 'relu'),\n",
        "                       Dense(units= 10, activation= 'softmax')])\n",
        "    return model\n",
        "\n",
        "    #conv s=1 f=5, maxpooling f=s=2,  same conv,  same pooling, batch_norm,  flatten, fc 120, dropout, fc 84, softmax"
      ],
      "metadata": {
        "execution": {
          "iopub.status.busy": "2022-12-07T21:32:19.192855Z",
          "iopub.status.idle": "2022-12-07T21:32:19.193362Z"
        },
        "trusted": true,
        "id": "xdF-qJb0CeJd"
      },
      "execution_count": null,
      "outputs": []
    },
    {
      "cell_type": "code",
      "source": [
        "model = build_cnn(train_x)\n",
        "model.compile(optimizer='adam',\n",
        "              loss=tf.keras.losses.CategoricalCrossentropy(),\n",
        "              metrics=[tf.keras.metrics.CategoricalAccuracy()])"
      ],
      "metadata": {
        "execution": {
          "iopub.status.busy": "2022-12-07T21:32:19.194352Z",
          "iopub.status.idle": "2022-12-07T21:32:19.194806Z"
        },
        "trusted": true,
        "id": "7RT-KTP6CeJe"
      },
      "execution_count": null,
      "outputs": []
    },
    {
      "cell_type": "code",
      "source": [
        "from tensorflow.keras.callbacks import CSVLogger\n",
        "from tensorflow.keras.callbacks import EarlyStopping\n",
        "\n",
        "callback_best_cnn = ModelCheckpoint('model_cnn/best_model' ,save_best_only=True ,  save_weights_only=True , monitor=\"val_accuracy\" )\n",
        "\n",
        "# Callback that streams epoch results to a CSV file.\n",
        "# Supports all values that can be represented as a string, including 1D iterables such as np.ndarray.\n",
        "csvlogger = CSVLogger('model_cnn.csv')\n",
        "\n",
        "callback_earlyStopping = EarlyStopping(monitor='val_loss', patience=3)"
      ],
      "metadata": {
        "execution": {
          "iopub.status.busy": "2022-12-07T21:32:19.195807Z",
          "iopub.status.idle": "2022-12-07T21:32:19.196327Z"
        },
        "trusted": true,
        "id": "WgSkYt8sCeJe"
      },
      "execution_count": null,
      "outputs": []
    },
    {
      "cell_type": "code",
      "source": [
        "history = model.fit(train_x, train_y_cat, validation_data= (val_x, val_y_cat), verbose= 2, epochs= 20,\n",
        "                    batch_size= 300, callbacks= [callback_best_cnn, csvlogger,callback_earlyStopping])"
      ],
      "metadata": {
        "execution": {
          "iopub.status.busy": "2022-12-07T21:32:19.197430Z",
          "iopub.status.idle": "2022-12-07T21:32:19.197898Z"
        },
        "trusted": true,
        "id": "rQykTbi-CeJe"
      },
      "execution_count": null,
      "outputs": []
    },
    {
      "cell_type": "code",
      "source": [
        "print(history.history.keys())"
      ],
      "metadata": {
        "execution": {
          "iopub.status.busy": "2022-12-07T21:32:19.199143Z",
          "iopub.status.idle": "2022-12-07T21:32:19.199638Z"
        },
        "trusted": true,
        "id": "coh6VazYCeJe"
      },
      "execution_count": null,
      "outputs": []
    },
    {
      "cell_type": "code",
      "source": [
        "plt.plot(history.history['categorical_accuracy'])      #dict_keys(['loss', 'categorical_accuracy', 'val_loss', 'val_categorical_accuracy', 'lr'])\n",
        "plt.plot(history.history['val_categorical_accuracy'])\n",
        "plt.title('model accuracy')\n",
        "plt.ylabel('accuracy')\n",
        "plt.xlabel('epoch')\n",
        "plt.legend(['train', 'test'], loc='upper left')\n",
        "plt.show()\n",
        "# summarize history for loss\n",
        "plt.plot(history.history['loss'])\n",
        "plt.plot(history.history['val_loss'])\n",
        "plt.title('model loss')\n",
        "plt.ylabel('loss')\n",
        "plt.xlabel('epoch')\n",
        "plt.legend(['train', 'test'], loc='upper left')\n",
        "plt.show()\n",
        "\n",
        "# Compute and display the loss and accuracy of the trained model on the test set.\n",
        "[test_loss, test_acc] = model.evaluate(test_x_grey, to_categorical(test_y, 10))\n",
        "print(\"Evaluation result on Test Data : Loss = {}, accuracy = {}\".format(test_loss, test_acc))"
      ],
      "metadata": {
        "execution": {
          "iopub.status.busy": "2022-12-07T21:32:19.200864Z",
          "iopub.status.idle": "2022-12-07T21:32:19.201413Z"
        },
        "trusted": true,
        "id": "wrdVlzscCeJe"
      },
      "execution_count": null,
      "outputs": []
    },
    {
      "cell_type": "markdown",
      "source": [
        "## 4. Get model predictions\n",
        "* Load the best weights for the MLP and CNN models that you saved during the training run.\n",
        "* Randomly select 5 images and corresponding labels from the test set and display the images with their labels.\n",
        "* Alongside the image and label, show each model’s predictive distribution as a bar chart, and the final model prediction given by the label with maximum probability."
      ],
      "metadata": {
        "id": "yOpgdnH-CeJf"
      }
    },
    {
      "cell_type": "code",
      "source": [
        "best_mlp = build_mlp()\n",
        "best_mlp.load_weights('model/best_model')"
      ],
      "metadata": {
        "execution": {
          "iopub.status.busy": "2022-12-07T21:32:19.202456Z",
          "iopub.status.idle": "2022-12-07T21:32:19.202931Z"
        },
        "trusted": true,
        "id": "nsAfloTNCeJf"
      },
      "execution_count": null,
      "outputs": []
    },
    {
      "cell_type": "code",
      "source": [
        "best_cnn = build_cnn()\n",
        "best_cnn.load_weights('model_cnn/best_model')"
      ],
      "metadata": {
        "execution": {
          "iopub.status.busy": "2022-12-07T21:32:19.204075Z",
          "iopub.status.idle": "2022-12-07T21:32:19.204549Z"
        },
        "trusted": true,
        "id": "TC-JvsyTCeJf"
      },
      "execution_count": null,
      "outputs": []
    }
  ]
}