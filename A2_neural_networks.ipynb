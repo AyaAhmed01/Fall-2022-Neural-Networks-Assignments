{
  "cells": [
    {
      "cell_type": "markdown",
      "metadata": {
        "id": "view-in-github",
        "colab_type": "text"
      },
      "source": [
        "<a href=\"https://colab.research.google.com/github/AyaAhmed01/Fall-2022-Neural-Networks-Assignments/blob/main/A2_neural_networks.ipynb\" target=\"_parent\"><img src=\"https://colab.research.google.com/assets/colab-badge.svg\" alt=\"Open In Colab\"/></a>"
      ]
    },
    {
      "cell_type": "markdown",
      "id": "d2fed8c8-3b58-464a-b89d-df85d934f740",
      "metadata": {
        "id": "d2fed8c8-3b58-464a-b89d-df85d934f740"
      },
      "source": [
        "---\n",
        "# Cairo University Faculty of Engineering\n",
        "## Deep Learning\n",
        "## Assignment 2\n",
        "\n",
        "---"
      ]
    },
    {
      "cell_type": "markdown",
      "id": "9f09594d-0c42-4205-a0af-77097e41f555",
      "metadata": {
        "id": "9f09594d-0c42-4205-a0af-77097e41f555"
      },
      "source": [
        "Please write your full name here\n",
        "- **Name** : Aya Emad Fouad Ahmed"
      ]
    },
    {
      "cell_type": "code",
      "source": [
        "!pip install d2l"
      ],
      "metadata": {
        "colab": {
          "base_uri": "https://localhost:8080/",
          "height": 1000
        },
        "id": "RL-ZWXcTrRDG",
        "outputId": "0740d1a2-5bbb-4ae5-f39e-4d57a40ddb37"
      },
      "id": "RL-ZWXcTrRDG",
      "execution_count": null,
      "outputs": [
        {
          "output_type": "stream",
          "name": "stdout",
          "text": [
            "Looking in indexes: https://pypi.org/simple, https://us-python.pkg.dev/colab-wheels/public/simple/\n",
            "Collecting d2l\n",
            "  Downloading d2l-0.17.5-py3-none-any.whl (82 kB)\n",
            "\u001b[K     |████████████████████████████████| 82 kB 615 kB/s \n",
            "\u001b[?25hCollecting numpy==1.21.5\n",
            "  Downloading numpy-1.21.5-cp37-cp37m-manylinux_2_12_x86_64.manylinux2010_x86_64.whl (15.7 MB)\n",
            "\u001b[K     |████████████████████████████████| 15.7 MB 24.4 MB/s \n",
            "\u001b[?25hCollecting jupyter==1.0.0\n",
            "  Downloading jupyter-1.0.0-py2.py3-none-any.whl (2.7 kB)\n",
            "Collecting matplotlib==3.5.1\n",
            "  Downloading matplotlib-3.5.1-cp37-cp37m-manylinux_2_5_x86_64.manylinux1_x86_64.whl (11.2 MB)\n",
            "\u001b[K     |████████████████████████████████| 11.2 MB 28.6 MB/s \n",
            "\u001b[?25hCollecting requests==2.25.1\n",
            "  Downloading requests-2.25.1-py2.py3-none-any.whl (61 kB)\n",
            "\u001b[K     |████████████████████████████████| 61 kB 7.4 MB/s \n",
            "\u001b[?25hCollecting pandas==1.2.4\n",
            "  Downloading pandas-1.2.4-cp37-cp37m-manylinux1_x86_64.whl (9.9 MB)\n",
            "\u001b[K     |████████████████████████████████| 9.9 MB 14.5 MB/s \n",
            "\u001b[?25hRequirement already satisfied: nbconvert in /usr/local/lib/python3.7/dist-packages (from jupyter==1.0.0->d2l) (5.6.1)\n",
            "Requirement already satisfied: jupyter-console in /usr/local/lib/python3.7/dist-packages (from jupyter==1.0.0->d2l) (6.1.0)\n",
            "Requirement already satisfied: ipywidgets in /usr/local/lib/python3.7/dist-packages (from jupyter==1.0.0->d2l) (7.7.1)\n",
            "Requirement already satisfied: ipykernel in /usr/local/lib/python3.7/dist-packages (from jupyter==1.0.0->d2l) (5.3.4)\n",
            "Requirement already satisfied: notebook in /usr/local/lib/python3.7/dist-packages (from jupyter==1.0.0->d2l) (5.5.0)\n",
            "Collecting qtconsole\n",
            "  Downloading qtconsole-5.3.2-py3-none-any.whl (120 kB)\n",
            "\u001b[K     |████████████████████████████████| 120 kB 66.6 MB/s \n",
            "\u001b[?25hRequirement already satisfied: pillow>=6.2.0 in /usr/local/lib/python3.7/dist-packages (from matplotlib==3.5.1->d2l) (7.1.2)\n",
            "Requirement already satisfied: kiwisolver>=1.0.1 in /usr/local/lib/python3.7/dist-packages (from matplotlib==3.5.1->d2l) (1.4.4)\n",
            "Requirement already satisfied: cycler>=0.10 in /usr/local/lib/python3.7/dist-packages (from matplotlib==3.5.1->d2l) (0.11.0)\n",
            "Requirement already satisfied: packaging>=20.0 in /usr/local/lib/python3.7/dist-packages (from matplotlib==3.5.1->d2l) (21.3)\n",
            "Collecting fonttools>=4.22.0\n",
            "  Downloading fonttools-4.38.0-py3-none-any.whl (965 kB)\n",
            "\u001b[K     |████████████████████████████████| 965 kB 60.1 MB/s \n",
            "\u001b[?25hRequirement already satisfied: pyparsing>=2.2.1 in /usr/local/lib/python3.7/dist-packages (from matplotlib==3.5.1->d2l) (3.0.9)\n",
            "Requirement already satisfied: python-dateutil>=2.7 in /usr/local/lib/python3.7/dist-packages (from matplotlib==3.5.1->d2l) (2.8.2)\n",
            "Requirement already satisfied: pytz>=2017.3 in /usr/local/lib/python3.7/dist-packages (from pandas==1.2.4->d2l) (2022.5)\n",
            "Requirement already satisfied: urllib3<1.27,>=1.21.1 in /usr/local/lib/python3.7/dist-packages (from requests==2.25.1->d2l) (1.24.3)\n",
            "Requirement already satisfied: chardet<5,>=3.0.2 in /usr/local/lib/python3.7/dist-packages (from requests==2.25.1->d2l) (3.0.4)\n",
            "Requirement already satisfied: certifi>=2017.4.17 in /usr/local/lib/python3.7/dist-packages (from requests==2.25.1->d2l) (2022.9.24)\n",
            "Requirement already satisfied: idna<3,>=2.5 in /usr/local/lib/python3.7/dist-packages (from requests==2.25.1->d2l) (2.10)\n",
            "Requirement already satisfied: typing-extensions in /usr/local/lib/python3.7/dist-packages (from kiwisolver>=1.0.1->matplotlib==3.5.1->d2l) (4.1.1)\n",
            "Requirement already satisfied: six>=1.5 in /usr/local/lib/python3.7/dist-packages (from python-dateutil>=2.7->matplotlib==3.5.1->d2l) (1.15.0)\n",
            "Requirement already satisfied: jupyter-client in /usr/local/lib/python3.7/dist-packages (from ipykernel->jupyter==1.0.0->d2l) (6.1.12)\n",
            "Requirement already satisfied: traitlets>=4.1.0 in /usr/local/lib/python3.7/dist-packages (from ipykernel->jupyter==1.0.0->d2l) (5.1.1)\n",
            "Requirement already satisfied: ipython>=5.0.0 in /usr/local/lib/python3.7/dist-packages (from ipykernel->jupyter==1.0.0->d2l) (7.9.0)\n",
            "Requirement already satisfied: tornado>=4.2 in /usr/local/lib/python3.7/dist-packages (from ipykernel->jupyter==1.0.0->d2l) (5.1.1)\n",
            "Collecting jedi>=0.10\n",
            "  Downloading jedi-0.18.1-py2.py3-none-any.whl (1.6 MB)\n",
            "\u001b[K     |████████████████████████████████| 1.6 MB 41.1 MB/s \n",
            "\u001b[?25hRequirement already satisfied: setuptools>=18.5 in /usr/local/lib/python3.7/dist-packages (from ipython>=5.0.0->ipykernel->jupyter==1.0.0->d2l) (57.4.0)\n",
            "Requirement already satisfied: pexpect in /usr/local/lib/python3.7/dist-packages (from ipython>=5.0.0->ipykernel->jupyter==1.0.0->d2l) (4.8.0)\n",
            "Requirement already satisfied: pygments in /usr/local/lib/python3.7/dist-packages (from ipython>=5.0.0->ipykernel->jupyter==1.0.0->d2l) (2.6.1)\n",
            "Requirement already satisfied: decorator in /usr/local/lib/python3.7/dist-packages (from ipython>=5.0.0->ipykernel->jupyter==1.0.0->d2l) (4.4.2)\n",
            "Requirement already satisfied: prompt-toolkit<2.1.0,>=2.0.0 in /usr/local/lib/python3.7/dist-packages (from ipython>=5.0.0->ipykernel->jupyter==1.0.0->d2l) (2.0.10)\n",
            "Requirement already satisfied: pickleshare in /usr/local/lib/python3.7/dist-packages (from ipython>=5.0.0->ipykernel->jupyter==1.0.0->d2l) (0.7.5)\n",
            "Requirement already satisfied: backcall in /usr/local/lib/python3.7/dist-packages (from ipython>=5.0.0->ipykernel->jupyter==1.0.0->d2l) (0.2.0)\n",
            "Requirement already satisfied: parso<0.9.0,>=0.8.0 in /usr/local/lib/python3.7/dist-packages (from jedi>=0.10->ipython>=5.0.0->ipykernel->jupyter==1.0.0->d2l) (0.8.3)\n",
            "Requirement already satisfied: wcwidth in /usr/local/lib/python3.7/dist-packages (from prompt-toolkit<2.1.0,>=2.0.0->ipython>=5.0.0->ipykernel->jupyter==1.0.0->d2l) (0.2.5)\n",
            "Requirement already satisfied: jupyterlab-widgets>=1.0.0 in /usr/local/lib/python3.7/dist-packages (from ipywidgets->jupyter==1.0.0->d2l) (3.0.3)\n",
            "Requirement already satisfied: widgetsnbextension~=3.6.0 in /usr/local/lib/python3.7/dist-packages (from ipywidgets->jupyter==1.0.0->d2l) (3.6.1)\n",
            "Requirement already satisfied: ipython-genutils~=0.2.0 in /usr/local/lib/python3.7/dist-packages (from ipywidgets->jupyter==1.0.0->d2l) (0.2.0)\n",
            "Requirement already satisfied: jupyter-core>=4.4.0 in /usr/local/lib/python3.7/dist-packages (from notebook->jupyter==1.0.0->d2l) (4.11.2)\n",
            "Requirement already satisfied: pyzmq>=17 in /usr/local/lib/python3.7/dist-packages (from notebook->jupyter==1.0.0->d2l) (23.2.1)\n",
            "Requirement already satisfied: jinja2 in /usr/local/lib/python3.7/dist-packages (from notebook->jupyter==1.0.0->d2l) (2.11.3)\n",
            "Requirement already satisfied: nbformat in /usr/local/lib/python3.7/dist-packages (from notebook->jupyter==1.0.0->d2l) (5.7.0)\n",
            "Requirement already satisfied: terminado>=0.8.1 in /usr/local/lib/python3.7/dist-packages (from notebook->jupyter==1.0.0->d2l) (0.13.3)\n",
            "Requirement already satisfied: Send2Trash in /usr/local/lib/python3.7/dist-packages (from notebook->jupyter==1.0.0->d2l) (1.8.0)\n",
            "Requirement already satisfied: ptyprocess in /usr/local/lib/python3.7/dist-packages (from terminado>=0.8.1->notebook->jupyter==1.0.0->d2l) (0.7.0)\n",
            "Requirement already satisfied: MarkupSafe>=0.23 in /usr/local/lib/python3.7/dist-packages (from jinja2->notebook->jupyter==1.0.0->d2l) (2.0.1)\n",
            "Requirement already satisfied: defusedxml in /usr/local/lib/python3.7/dist-packages (from nbconvert->jupyter==1.0.0->d2l) (0.7.1)\n",
            "Requirement already satisfied: entrypoints>=0.2.2 in /usr/local/lib/python3.7/dist-packages (from nbconvert->jupyter==1.0.0->d2l) (0.4)\n",
            "Requirement already satisfied: pandocfilters>=1.4.1 in /usr/local/lib/python3.7/dist-packages (from nbconvert->jupyter==1.0.0->d2l) (1.5.0)\n",
            "Requirement already satisfied: testpath in /usr/local/lib/python3.7/dist-packages (from nbconvert->jupyter==1.0.0->d2l) (0.6.0)\n",
            "Requirement already satisfied: bleach in /usr/local/lib/python3.7/dist-packages (from nbconvert->jupyter==1.0.0->d2l) (5.0.1)\n",
            "Requirement already satisfied: mistune<2,>=0.8.1 in /usr/local/lib/python3.7/dist-packages (from nbconvert->jupyter==1.0.0->d2l) (0.8.4)\n",
            "Requirement already satisfied: fastjsonschema in /usr/local/lib/python3.7/dist-packages (from nbformat->notebook->jupyter==1.0.0->d2l) (2.16.2)\n",
            "Requirement already satisfied: jsonschema>=2.6 in /usr/local/lib/python3.7/dist-packages (from nbformat->notebook->jupyter==1.0.0->d2l) (4.3.3)\n",
            "Requirement already satisfied: importlib-metadata>=3.6 in /usr/local/lib/python3.7/dist-packages (from nbformat->notebook->jupyter==1.0.0->d2l) (4.13.0)\n",
            "Requirement already satisfied: zipp>=0.5 in /usr/local/lib/python3.7/dist-packages (from importlib-metadata>=3.6->nbformat->notebook->jupyter==1.0.0->d2l) (3.9.0)\n",
            "Requirement already satisfied: pyrsistent!=0.17.0,!=0.17.1,!=0.17.2,>=0.14.0 in /usr/local/lib/python3.7/dist-packages (from jsonschema>=2.6->nbformat->notebook->jupyter==1.0.0->d2l) (0.18.1)\n",
            "Requirement already satisfied: importlib-resources>=1.4.0 in /usr/local/lib/python3.7/dist-packages (from jsonschema>=2.6->nbformat->notebook->jupyter==1.0.0->d2l) (5.10.0)\n",
            "Requirement already satisfied: attrs>=17.4.0 in /usr/local/lib/python3.7/dist-packages (from jsonschema>=2.6->nbformat->notebook->jupyter==1.0.0->d2l) (22.1.0)\n",
            "Requirement already satisfied: webencodings in /usr/local/lib/python3.7/dist-packages (from bleach->nbconvert->jupyter==1.0.0->d2l) (0.5.1)\n",
            "Collecting qtpy>=2.0.1\n",
            "  Downloading QtPy-2.2.1-py3-none-any.whl (82 kB)\n",
            "\u001b[K     |████████████████████████████████| 82 kB 859 kB/s \n",
            "\u001b[?25hInstalling collected packages: jedi, qtpy, qtconsole, numpy, fonttools, requests, pandas, matplotlib, jupyter, d2l\n",
            "  Attempting uninstall: numpy\n",
            "    Found existing installation: numpy 1.21.6\n",
            "    Uninstalling numpy-1.21.6:\n",
            "      Successfully uninstalled numpy-1.21.6\n",
            "  Attempting uninstall: requests\n",
            "    Found existing installation: requests 2.23.0\n",
            "    Uninstalling requests-2.23.0:\n",
            "      Successfully uninstalled requests-2.23.0\n",
            "  Attempting uninstall: pandas\n",
            "    Found existing installation: pandas 1.3.5\n",
            "    Uninstalling pandas-1.3.5:\n",
            "      Successfully uninstalled pandas-1.3.5\n",
            "  Attempting uninstall: matplotlib\n",
            "    Found existing installation: matplotlib 3.2.2\n",
            "    Uninstalling matplotlib-3.2.2:\n",
            "      Successfully uninstalled matplotlib-3.2.2\n",
            "Successfully installed d2l-0.17.5 fonttools-4.38.0 jedi-0.18.1 jupyter-1.0.0 matplotlib-3.5.1 numpy-1.21.5 pandas-1.2.4 qtconsole-5.3.2 qtpy-2.2.1 requests-2.25.1\n"
          ]
        },
        {
          "output_type": "display_data",
          "data": {
            "application/vnd.colab-display-data+json": {
              "pip_warning": {
                "packages": [
                  "matplotlib",
                  "mpl_toolkits",
                  "numpy",
                  "pandas",
                  "requests"
                ]
              }
            }
          },
          "metadata": {}
        }
      ]
    },
    {
      "cell_type": "code",
      "source": [
        "!pip install matplotlib_inline"
      ],
      "metadata": {
        "colab": {
          "base_uri": "https://localhost:8080/"
        },
        "id": "4ihUIYK2sFA7",
        "outputId": "2d4c4baa-9ce5-4f12-df20-f611535827a6"
      },
      "id": "4ihUIYK2sFA7",
      "execution_count": null,
      "outputs": [
        {
          "output_type": "stream",
          "name": "stdout",
          "text": [
            "Looking in indexes: https://pypi.org/simple, https://us-python.pkg.dev/colab-wheels/public/simple/\n",
            "Collecting matplotlib_inline\n",
            "  Downloading matplotlib_inline-0.1.6-py3-none-any.whl (9.4 kB)\n",
            "Requirement already satisfied: traitlets in /usr/local/lib/python3.7/dist-packages (from matplotlib_inline) (5.1.1)\n",
            "Installing collected packages: matplotlib-inline\n",
            "Successfully installed matplotlib-inline-0.1.6\n"
          ]
        }
      ]
    },
    {
      "cell_type": "code",
      "execution_count": null,
      "id": "02dc8d6e-7d9a-48c0-a84d-fdd3c63c9c78",
      "metadata": {
        "id": "02dc8d6e-7d9a-48c0-a84d-fdd3c63c9c78"
      },
      "outputs": [],
      "source": [
        "import numpy as np\n",
        "import matplotlib.pyplot as plt\n",
        "import random\n",
        "import tensorflow as tf\n",
        "%matplotlib inline\n",
        "\n",
        "from tensorflow.keras.models import Sequential\n",
        "from tensorflow.keras.layers import Dense\n",
        "from d2l import tensorflow as d2l\n",
        "import pandas as pd\n",
        "import math\n",
        "\n",
        "from sklearn.datasets import make_blobs  #To generate artificial data\n",
        "from keras.optimizers import SGD\n",
        "from keras.utils import to_categorical"
      ]
    },
    {
      "cell_type": "markdown",
      "id": "6055f2a1-24c2-46eb-92a8-b9f387f3dcc2",
      "metadata": {
        "id": "6055f2a1-24c2-46eb-92a8-b9f387f3dcc2",
        "tags": []
      },
      "source": [
        "# Part 1 Computational Graphs\n"
      ]
    },
    {
      "cell_type": "markdown",
      "id": "5ea98a23-c5be-4a87-8a53-588fbdcadf1e",
      "metadata": {
        "id": "5ea98a23-c5be-4a87-8a53-588fbdcadf1e"
      },
      "source": [
        "## Example\n",
        "Suppose that we have a function of the form: $f(x,y) = \\sigma(x) + (x-y)^2$"
      ]
    },
    {
      "cell_type": "markdown",
      "id": "ead972fc-bc4a-4f70-bd22-473a84326027",
      "metadata": {
        "id": "ead972fc-bc4a-4f70-bd22-473a84326027"
      },
      "source": [
        "**SHOW YOUR WORK**"
      ]
    },
    {
      "cell_type": "markdown",
      "id": "4d072290-86f5-4f6c-8e64-0c2b6ee79114",
      "metadata": {
        "id": "4d072290-86f5-4f6c-8e64-0c2b6ee79114"
      },
      "source": [
        "0. **Draw its computational graph with a minimum of 4 operations inside it. Name your intermediate variables and upload a picture of your graph**"
      ]
    },
    {
      "cell_type": "markdown",
      "id": "1dc590ee-33e8-458a-ba81-fd2e6ca01b79",
      "metadata": {
        "id": "1dc590ee-33e8-458a-ba81-fd2e6ca01b79"
      },
      "source": [
        "- Your Answer:\n",
        "    - ![Answer](https://lh3.googleusercontent.com/imCfWGTRWywf7YZEjXicKPY3ZSvBIxtNP-giOahs6P6-c0QLpg75v8Lja4bM9ISPSmU=w2400)"
      ]
    },
    {
      "cell_type": "markdown",
      "id": "e95e6d93-ec11-40d6-a639-40fad6e1ad3c",
      "metadata": {
        "id": "e95e6d93-ec11-40d6-a639-40fad6e1ad3c"
      },
      "source": [
        "1. **Compute the forward path for this function. Use intermediate variables you identified in your graph**\n",
        "\n",
        "- f --> final output\n",
        "- Upload a a picture of your graph"
      ]
    },
    {
      "cell_type": "markdown",
      "id": "0f9df23d-f8f6-4408-a2cf-943987324775",
      "metadata": {
        "id": "0f9df23d-f8f6-4408-a2cf-943987324775"
      },
      "source": [
        "- Your Answer:\n",
        "    - ![Answer](https://lh3.googleusercontent.com/zdd6rc2Xc0eXs8xfhfpIdWuvP-JfkUUs4Nija-DX7GiLfK3-b52diM6Lefa4B7O38uE=w2400)"
      ]
    },
    {
      "cell_type": "markdown",
      "id": "902480a7-16e1-415e-bdea-24fe845774fe",
      "metadata": {
        "id": "902480a7-16e1-415e-bdea-24fe845774fe"
      },
      "source": [
        "\n",
        "2. **Compute the backward path for this function to get:**\n",
        "$$\n",
        "\\nabla f(x,y) = [ \\frac{\\partial f}{\\partial y}, \\frac{\\partial f}{\\partial x} ]\n",
        "$$\n",
        "\n",
        "- Upload a a picture of your graph\n",
        "- **Use intermediate variables**\n",
        "- **Write df/dy and df/dx**\n",
        "- *Hint: Gradients add up at forks. This follows the multivariable chain rule in Calculus, which states that if a variable branches out to different parts, then the gradients that flow back to it will add.*"
      ]
    },
    {
      "cell_type": "markdown",
      "id": "c83b8b27-0cb2-4c2e-9eea-351fc216d952",
      "metadata": {
        "id": "c83b8b27-0cb2-4c2e-9eea-351fc216d952"
      },
      "source": [
        "- Your Answer:\n",
        "    - ![Answer](https://lh4.googleusercontent.com/62nOQgzp3soM-EYCiMPLzwlVzRz2a7cHgYb9D89-xxjyAEfWCmAJ0gdQpGlsxiYVyww=w2400)"
      ]
    },
    {
      "cell_type": "markdown",
      "id": "4f383a40-2b6d-4bb3-bb45-4b6602896480",
      "metadata": {
        "tags": [],
        "id": "4f383a40-2b6d-4bb3-bb45-4b6602896480"
      },
      "source": [
        "# Part 2: Regression"
      ]
    },
    {
      "cell_type": "markdown",
      "id": "0ddb4513-a883-475c-acb4-7daf8a1434a7",
      "metadata": {
        "jp-MarkdownHeadingCollapsed": true,
        "origin_pos": 0,
        "tags": [],
        "id": "0ddb4513-a883-475c-acb4-7daf8a1434a7"
      },
      "source": [
        "In this part, (**we will implement the entire linear regression method from scratch,\n",
        "including the data pipeline, the model,\n",
        "the loss function, and the minibatch stochastic gradient descent optimizer.**)\n",
        "You will rely only on tensors and auto differentiation.\n"
      ]
    },
    {
      "cell_type": "markdown",
      "id": "9885bf7b-0575-456d-a16c-997636bb6b3b",
      "metadata": {
        "id": "9885bf7b-0575-456d-a16c-997636bb6b3b"
      },
      "source": [
        "we will use $n$ to denote\n",
        "the number of examples in our dataset.\n",
        "We index the data examples by $i$, denoting each input\n",
        "as $\\mathbf{x}^{(i)} = [x_1^{(i)}, x_2^{(i)}]^\\top$\n",
        "and the corresponding label as $y^{(i)}$.\n",
        "\n",
        "\n",
        "**Linear Model**\n",
        "\n",
        "When our inputs consist of $d$ features,\n",
        "we express our prediction $\\hat{y}$ (in general the \"hat\" symbol denotes estimates) as\n",
        "\n",
        "$$\\hat{y} = w_1  x_1 + ... + w_d  x_d + b.$$\n",
        "\n",
        "\n",
        "We will often find it convenient\n",
        "to refer to features of our entire dataset of $n$ examples\n",
        "via the *design matrix* $\\mathbf{X} \\in \\mathbb{R}^{n \\times d}$.\n",
        "Here, $\\mathbf{X}$ contains one row for every example\n",
        "and one column for every feature.\n",
        "\n",
        "For a collection of features $\\mathbf{X}$,\n",
        "the predictions $\\hat{\\mathbf{y}} \\in \\mathbb{R}^n$\n",
        "can be expressed via the matrix-vector product:\n",
        "\n",
        "$${\\hat{\\mathbf{y}}} = \\mathbf{X} \\mathbf{w} + b,$$\n",
        "\n",
        "\n",
        "**Loss Function**\n",
        "\n",
        "When our prediction for an example $i$ is $\\hat{y}^{(i)}$\n",
        "and the corresponding true label is $y^{(i)}$,\n",
        "the squared error is given by:\n",
        "\n",
        "$$l^{(i)}(\\mathbf{w}, b) = \\frac{1}{2} \\left(\\hat{y}^{(i)} - y^{(i)}\\right)^2.$$\n",
        "\n",
        "To measure the quality of a model on the entire dataset of $n$ examples,\n",
        "we simply average (or equivalently, sum)\n",
        "the losses on the training set.\n",
        "\n",
        "$$L(\\mathbf{w}, b) =\\frac{1}{n}\\sum_{i=1}^n l^{(i)}(\\mathbf{w}, b) =\\frac{1}{n} \\sum_{i=1}^n \\frac{1}{2}\\left(\\mathbf{w}^\\top \\mathbf{x}^{(i)} + b - y^{(i)}\\right)^2.$$\n",
        "\n",
        "When training the model, we want to find parameters ($\\mathbf{w}^*, b^*$)\n",
        "that minimize the total loss across all training examples:\n",
        "\n",
        "$$\\mathbf{w}^*, b^* = \\operatorname*{argmin}_{\\mathbf{w}, b}\\  L(\\mathbf{w}, b).$$\n"
      ]
    },
    {
      "cell_type": "markdown",
      "id": "eddedadc-6641-4c7a-8134-79549b655a62",
      "metadata": {
        "id": "eddedadc-6641-4c7a-8134-79549b655a62"
      },
      "source": [
        "**Minibatch Stochastic Gradient Descent**\n",
        "\n",
        "We can express the update mathematically as follows\n",
        "($\\partial$ denotes the partial derivative):\n",
        "\n",
        "$$(\\mathbf{w},b) \\leftarrow (\\mathbf{w},b) - \\frac{\\eta}{|\\mathcal{B}|} \\sum_{i \\in \\mathcal{B}} \\partial_{(\\mathbf{w},b)} l^{(i)}(\\mathbf{w},b).$$\n"
      ]
    },
    {
      "cell_type": "markdown",
      "id": "b5b67706-78b0-428a-b984-03e8a44f2daf",
      "metadata": {
        "id": "b5b67706-78b0-428a-b984-03e8a44f2daf"
      },
      "source": [
        "## Synthetic Data, Simple Model\n",
        "### Generating the Dataset\n",
        "\n",
        "To keep things simple, we will [**construct an artificial dataset\n",
        "according to a linear model with additive noise.**]\n",
        "\n",
        "In the following code snippet, we generate a dataset\n",
        "containing 1000 examples, each consisting of 2 features\n",
        "sampled from a standard normal distribution.\n",
        "Thus our synthetic dataset will be a matrix\n",
        "$\\mathbf{X}\\in \\mathbb{R}^{1000 \\times 2}$.\n",
        "\n",
        "(**The true parameters generating our dataset will be\n",
        "$\\mathbf{w} = [2, -3.4]^\\top$ and $b = 4.2$,\n",
        "and**) our synthetic labels will be assigned according\n",
        "to the following linear model with the noise term $\\epsilon$:\n",
        "\n",
        "(**$$\\mathbf{y}= \\mathbf{X} \\mathbf{w} + b + \\mathbf\\epsilon.$$**)"
      ]
    },
    {
      "cell_type": "code",
      "execution_count": null,
      "id": "6c56cf52-1cbe-4f80-9551-9988b28fe967",
      "metadata": {
        "origin_pos": 6,
        "tab": [
          "tensorflow"
        ],
        "id": "6c56cf52-1cbe-4f80-9551-9988b28fe967"
      },
      "outputs": [],
      "source": [
        "def synthetic_data(w, b, num_examples):\n",
        "    \"\"\"Generate y = Xw + b + noise.\"\"\"\n",
        "    X = tf.zeros((num_examples, w.shape[0]))\n",
        "    X += tf.random.normal(shape=X.shape)\n",
        "    y = tf.matmul(X, tf.reshape(w, (-1, 1))) + b\n",
        "    y += tf.random.normal(shape=y.shape, stddev=0.01)\n",
        "    y = tf.reshape(y, (-1, 1))\n",
        "    return X, y"
      ]
    },
    {
      "cell_type": "code",
      "execution_count": null,
      "id": "6f7fc2ce-cdd3-45f0-b632-f5b7fbd38155",
      "metadata": {
        "origin_pos": 7,
        "tab": [
          "tensorflow"
        ],
        "id": "6f7fc2ce-cdd3-45f0-b632-f5b7fbd38155"
      },
      "outputs": [],
      "source": [
        "tf.random.set_seed(5)\n",
        "true_w = tf.constant([2, -3.4])\n",
        "true_b = 4.2\n",
        "features, labels = synthetic_data(true_w, true_b, 1000)"
      ]
    },
    {
      "cell_type": "code",
      "execution_count": null,
      "id": "a088e27d-495b-461f-b483-5eaaa97d1dc8",
      "metadata": {
        "origin_pos": 9,
        "tab": [
          "tensorflow"
        ],
        "id": "a088e27d-495b-461f-b483-5eaaa97d1dc8",
        "colab": {
          "base_uri": "https://localhost:8080/"
        },
        "outputId": "87fceee0-dc96-4783-ebd6-87fca57169ae"
      },
      "outputs": [
        {
          "output_type": "stream",
          "name": "stdout",
          "text": [
            "features: tf.Tensor([-0.18030666 -0.95028627], shape=(2,), dtype=float32) \n",
            "label: tf.Tensor([7.0726256], shape=(1,), dtype=float32)\n"
          ]
        }
      ],
      "source": [
        "print('features:', features[0],'\\nlabel:', labels[0])"
      ]
    },
    {
      "cell_type": "markdown",
      "id": "af9a27cb-fcac-4856-99cb-724fa649c9a9",
      "metadata": {
        "origin_pos": 10,
        "id": "af9a27cb-fcac-4856-99cb-724fa649c9a9"
      },
      "source": [
        "By generating a scatter plot using the second feature `features[:, 1]` and `labels`,\n",
        "we can clearly observe the linear correlation between the two.\n"
      ]
    },
    {
      "cell_type": "code",
      "source": [
        "!pip uninstall matplotlib\n",
        "!python -m pip install --upgrade pip\n",
        "!pip install matplotlib"
      ],
      "metadata": {
        "colab": {
          "base_uri": "https://localhost:8080/"
        },
        "id": "eHNE5w7a65TH",
        "outputId": "cc140dd0-db10-46ba-e8bf-633036fc6722"
      },
      "id": "eHNE5w7a65TH",
      "execution_count": null,
      "outputs": [
        {
          "output_type": "stream",
          "name": "stdout",
          "text": [
            "Found existing installation: matplotlib 3.5.1\n",
            "Uninstalling matplotlib-3.5.1:\n",
            "  Would remove:\n",
            "    /usr/local/lib/python3.7/dist-packages/matplotlib-3.5.1-py3.7-nspkg.pth\n",
            "    /usr/local/lib/python3.7/dist-packages/matplotlib-3.5.1.dist-info/*\n",
            "    /usr/local/lib/python3.7/dist-packages/matplotlib/*\n",
            "    /usr/local/lib/python3.7/dist-packages/mpl_toolkits/axes_grid/*\n",
            "    /usr/local/lib/python3.7/dist-packages/mpl_toolkits/axes_grid1/*\n",
            "    /usr/local/lib/python3.7/dist-packages/mpl_toolkits/axisartist/*\n",
            "    /usr/local/lib/python3.7/dist-packages/mpl_toolkits/mplot3d/*\n",
            "    /usr/local/lib/python3.7/dist-packages/mpl_toolkits/tests/*\n",
            "    /usr/local/lib/python3.7/dist-packages/pylab.py\n",
            "Proceed (y/n)? y\n",
            "  Successfully uninstalled matplotlib-3.5.1\n",
            "Looking in indexes: https://pypi.org/simple, https://us-python.pkg.dev/colab-wheels/public/simple/\n",
            "Requirement already satisfied: pip in /usr/local/lib/python3.7/dist-packages (21.1.3)\n",
            "Collecting pip\n",
            "  Downloading pip-22.3-py3-none-any.whl (2.1 MB)\n",
            "\u001b[K     |████████████████████████████████| 2.1 MB 4.1 MB/s \n",
            "\u001b[?25hInstalling collected packages: pip\n",
            "  Attempting uninstall: pip\n",
            "    Found existing installation: pip 21.1.3\n",
            "    Uninstalling pip-21.1.3:\n",
            "      Successfully uninstalled pip-21.1.3\n",
            "\u001b[31mERROR: pip's dependency resolver does not currently take into account all the packages that are installed. This behaviour is the source of the following dependency conflicts.\n",
            "fastai 2.7.9 requires matplotlib, which is not installed.\u001b[0m\n",
            "Successfully installed pip-22.3\n",
            "Looking in indexes: https://pypi.org/simple, https://us-python.pkg.dev/colab-wheels/public/simple/\n",
            "Collecting matplotlib\n",
            "  Downloading matplotlib-3.5.3-cp37-cp37m-manylinux_2_5_x86_64.manylinux1_x86_64.whl (11.2 MB)\n",
            "\u001b[2K     \u001b[90m━━━━━━━━━━━━━━━━━━━━━━━━━━━━━━━━━━━━━━━━\u001b[0m \u001b[32m11.2/11.2 MB\u001b[0m \u001b[31m69.5 MB/s\u001b[0m eta \u001b[36m0:00:00\u001b[0m\n",
            "\u001b[?25hRequirement already satisfied: fonttools>=4.22.0 in /usr/local/lib/python3.7/dist-packages (from matplotlib) (4.38.0)\n",
            "Requirement already satisfied: packaging>=20.0 in /usr/local/lib/python3.7/dist-packages (from matplotlib) (21.3)\n",
            "Requirement already satisfied: kiwisolver>=1.0.1 in /usr/local/lib/python3.7/dist-packages (from matplotlib) (1.4.4)\n",
            "Requirement already satisfied: pyparsing>=2.2.1 in /usr/local/lib/python3.7/dist-packages (from matplotlib) (3.0.9)\n",
            "Requirement already satisfied: python-dateutil>=2.7 in /usr/local/lib/python3.7/dist-packages (from matplotlib) (2.8.2)\n",
            "Requirement already satisfied: pillow>=6.2.0 in /usr/local/lib/python3.7/dist-packages (from matplotlib) (7.1.2)\n",
            "Requirement already satisfied: numpy>=1.17 in /usr/local/lib/python3.7/dist-packages (from matplotlib) (1.21.5)\n",
            "Requirement already satisfied: cycler>=0.10 in /usr/local/lib/python3.7/dist-packages (from matplotlib) (0.11.0)\n",
            "Requirement already satisfied: typing-extensions in /usr/local/lib/python3.7/dist-packages (from kiwisolver>=1.0.1->matplotlib) (4.1.1)\n",
            "Requirement already satisfied: six>=1.5 in /usr/local/lib/python3.7/dist-packages (from python-dateutil>=2.7->matplotlib) (1.15.0)\n",
            "Installing collected packages: matplotlib\n",
            "\u001b[31mERROR: pip's dependency resolver does not currently take into account all the packages that are installed. This behaviour is the source of the following dependency conflicts.\n",
            "d2l 0.17.5 requires matplotlib==3.5.1, but you have matplotlib 3.5.3 which is incompatible.\u001b[0m\u001b[31m\n",
            "\u001b[0mSuccessfully installed matplotlib-3.5.3\n",
            "\u001b[33mWARNING: Running pip as the 'root' user can result in broken permissions and conflicting behaviour with the system package manager. It is recommended to use a virtual environment instead: https://pip.pypa.io/warnings/venv\u001b[0m\u001b[33m\n",
            "\u001b[0m"
          ]
        }
      ]
    },
    {
      "cell_type": "code",
      "source": [
        "!pip uninstall d2l\n",
        "!pip install d2l"
      ],
      "metadata": {
        "colab": {
          "base_uri": "https://localhost:8080/",
          "height": 1000
        },
        "id": "hjGxhhq27vHh",
        "outputId": "1e543939-ffe1-43a6-c931-fabf4aa2eec4"
      },
      "id": "hjGxhhq27vHh",
      "execution_count": null,
      "outputs": [
        {
          "output_type": "stream",
          "name": "stdout",
          "text": [
            "Found existing installation: d2l 0.17.5\n",
            "Uninstalling d2l-0.17.5:\n",
            "  Would remove:\n",
            "    /usr/local/lib/python3.7/dist-packages/d2l-0.17.5.dist-info/*\n",
            "    /usr/local/lib/python3.7/dist-packages/d2l/*\n",
            "Proceed (Y/n)? y\n",
            "  Successfully uninstalled d2l-0.17.5\n",
            "\u001b[33mWARNING: Running pip as the 'root' user can result in broken permissions and conflicting behaviour with the system package manager. It is recommended to use a virtual environment instead: https://pip.pypa.io/warnings/venv\u001b[0m\u001b[33m\n",
            "\u001b[0mLooking in indexes: https://pypi.org/simple, https://us-python.pkg.dev/colab-wheels/public/simple/\n",
            "Collecting d2l\n",
            "  Using cached d2l-0.17.5-py3-none-any.whl (82 kB)\n",
            "Requirement already satisfied: numpy==1.21.5 in /usr/local/lib/python3.7/dist-packages (from d2l) (1.21.5)\n",
            "Requirement already satisfied: jupyter==1.0.0 in /usr/local/lib/python3.7/dist-packages (from d2l) (1.0.0)\n",
            "Collecting matplotlib==3.5.1\n",
            "  Using cached matplotlib-3.5.1-cp37-cp37m-manylinux_2_5_x86_64.manylinux1_x86_64.whl (11.2 MB)\n",
            "Requirement already satisfied: pandas==1.2.4 in /usr/local/lib/python3.7/dist-packages (from d2l) (1.2.4)\n",
            "Requirement already satisfied: requests==2.25.1 in /usr/local/lib/python3.7/dist-packages (from d2l) (2.25.1)\n",
            "Requirement already satisfied: nbconvert in /usr/local/lib/python3.7/dist-packages (from jupyter==1.0.0->d2l) (5.6.1)\n",
            "Requirement already satisfied: jupyter-console in /usr/local/lib/python3.7/dist-packages (from jupyter==1.0.0->d2l) (6.1.0)\n",
            "Requirement already satisfied: qtconsole in /usr/local/lib/python3.7/dist-packages (from jupyter==1.0.0->d2l) (5.3.2)\n",
            "Requirement already satisfied: notebook in /usr/local/lib/python3.7/dist-packages (from jupyter==1.0.0->d2l) (5.5.0)\n",
            "Requirement already satisfied: ipykernel in /usr/local/lib/python3.7/dist-packages (from jupyter==1.0.0->d2l) (5.3.4)\n",
            "Requirement already satisfied: ipywidgets in /usr/local/lib/python3.7/dist-packages (from jupyter==1.0.0->d2l) (7.7.1)\n",
            "Requirement already satisfied: pillow>=6.2.0 in /usr/local/lib/python3.7/dist-packages (from matplotlib==3.5.1->d2l) (7.1.2)\n",
            "Requirement already satisfied: python-dateutil>=2.7 in /usr/local/lib/python3.7/dist-packages (from matplotlib==3.5.1->d2l) (2.8.2)\n",
            "Requirement already satisfied: cycler>=0.10 in /usr/local/lib/python3.7/dist-packages (from matplotlib==3.5.1->d2l) (0.11.0)\n",
            "Requirement already satisfied: kiwisolver>=1.0.1 in /usr/local/lib/python3.7/dist-packages (from matplotlib==3.5.1->d2l) (1.4.4)\n",
            "Requirement already satisfied: fonttools>=4.22.0 in /usr/local/lib/python3.7/dist-packages (from matplotlib==3.5.1->d2l) (4.38.0)\n",
            "Requirement already satisfied: packaging>=20.0 in /usr/local/lib/python3.7/dist-packages (from matplotlib==3.5.1->d2l) (21.3)\n",
            "Requirement already satisfied: pyparsing>=2.2.1 in /usr/local/lib/python3.7/dist-packages (from matplotlib==3.5.1->d2l) (3.0.9)\n",
            "Requirement already satisfied: pytz>=2017.3 in /usr/local/lib/python3.7/dist-packages (from pandas==1.2.4->d2l) (2022.5)\n",
            "Requirement already satisfied: certifi>=2017.4.17 in /usr/local/lib/python3.7/dist-packages (from requests==2.25.1->d2l) (2022.9.24)\n",
            "Requirement already satisfied: urllib3<1.27,>=1.21.1 in /usr/local/lib/python3.7/dist-packages (from requests==2.25.1->d2l) (1.24.3)\n",
            "Requirement already satisfied: idna<3,>=2.5 in /usr/local/lib/python3.7/dist-packages (from requests==2.25.1->d2l) (2.10)\n",
            "Requirement already satisfied: chardet<5,>=3.0.2 in /usr/local/lib/python3.7/dist-packages (from requests==2.25.1->d2l) (3.0.4)\n",
            "Requirement already satisfied: typing-extensions in /usr/local/lib/python3.7/dist-packages (from kiwisolver>=1.0.1->matplotlib==3.5.1->d2l) (4.1.1)\n",
            "Requirement already satisfied: six>=1.5 in /usr/local/lib/python3.7/dist-packages (from python-dateutil>=2.7->matplotlib==3.5.1->d2l) (1.15.0)\n",
            "Requirement already satisfied: ipython>=5.0.0 in /usr/local/lib/python3.7/dist-packages (from ipykernel->jupyter==1.0.0->d2l) (7.9.0)\n",
            "Requirement already satisfied: traitlets>=4.1.0 in /usr/local/lib/python3.7/dist-packages (from ipykernel->jupyter==1.0.0->d2l) (5.1.1)\n",
            "Requirement already satisfied: jupyter-client in /usr/local/lib/python3.7/dist-packages (from ipykernel->jupyter==1.0.0->d2l) (6.1.12)\n",
            "Requirement already satisfied: tornado>=4.2 in /usr/local/lib/python3.7/dist-packages (from ipykernel->jupyter==1.0.0->d2l) (5.1.1)\n",
            "Requirement already satisfied: ipython-genutils~=0.2.0 in /usr/local/lib/python3.7/dist-packages (from ipywidgets->jupyter==1.0.0->d2l) (0.2.0)\n",
            "Requirement already satisfied: widgetsnbextension~=3.6.0 in /usr/local/lib/python3.7/dist-packages (from ipywidgets->jupyter==1.0.0->d2l) (3.6.1)\n",
            "Requirement already satisfied: jupyterlab-widgets>=1.0.0 in /usr/local/lib/python3.7/dist-packages (from ipywidgets->jupyter==1.0.0->d2l) (3.0.3)\n",
            "Requirement already satisfied: pygments in /usr/local/lib/python3.7/dist-packages (from jupyter-console->jupyter==1.0.0->d2l) (2.6.1)\n",
            "Requirement already satisfied: prompt-toolkit!=3.0.0,!=3.0.1,<3.1.0,>=2.0.0 in /usr/local/lib/python3.7/dist-packages (from jupyter-console->jupyter==1.0.0->d2l) (2.0.10)\n",
            "Requirement already satisfied: pandocfilters>=1.4.1 in /usr/local/lib/python3.7/dist-packages (from nbconvert->jupyter==1.0.0->d2l) (1.5.0)\n",
            "Requirement already satisfied: testpath in /usr/local/lib/python3.7/dist-packages (from nbconvert->jupyter==1.0.0->d2l) (0.6.0)\n",
            "Requirement already satisfied: entrypoints>=0.2.2 in /usr/local/lib/python3.7/dist-packages (from nbconvert->jupyter==1.0.0->d2l) (0.4)\n",
            "Requirement already satisfied: nbformat>=4.4 in /usr/local/lib/python3.7/dist-packages (from nbconvert->jupyter==1.0.0->d2l) (5.7.0)\n",
            "Requirement already satisfied: bleach in /usr/local/lib/python3.7/dist-packages (from nbconvert->jupyter==1.0.0->d2l) (5.0.1)\n",
            "Requirement already satisfied: defusedxml in /usr/local/lib/python3.7/dist-packages (from nbconvert->jupyter==1.0.0->d2l) (0.7.1)\n",
            "Requirement already satisfied: jinja2>=2.4 in /usr/local/lib/python3.7/dist-packages (from nbconvert->jupyter==1.0.0->d2l) (2.11.3)\n",
            "Requirement already satisfied: jupyter-core in /usr/local/lib/python3.7/dist-packages (from nbconvert->jupyter==1.0.0->d2l) (4.11.2)\n",
            "Requirement already satisfied: mistune<2,>=0.8.1 in /usr/local/lib/python3.7/dist-packages (from nbconvert->jupyter==1.0.0->d2l) (0.8.4)\n",
            "Requirement already satisfied: Send2Trash in /usr/local/lib/python3.7/dist-packages (from notebook->jupyter==1.0.0->d2l) (1.8.0)\n",
            "Requirement already satisfied: pyzmq>=17 in /usr/local/lib/python3.7/dist-packages (from notebook->jupyter==1.0.0->d2l) (23.2.1)\n",
            "Requirement already satisfied: terminado>=0.8.1 in /usr/local/lib/python3.7/dist-packages (from notebook->jupyter==1.0.0->d2l) (0.13.3)\n",
            "Requirement already satisfied: qtpy>=2.0.1 in /usr/local/lib/python3.7/dist-packages (from qtconsole->jupyter==1.0.0->d2l) (2.2.1)\n",
            "Requirement already satisfied: pexpect in /usr/local/lib/python3.7/dist-packages (from ipython>=5.0.0->ipykernel->jupyter==1.0.0->d2l) (4.8.0)\n",
            "Requirement already satisfied: jedi>=0.10 in /usr/local/lib/python3.7/dist-packages (from ipython>=5.0.0->ipykernel->jupyter==1.0.0->d2l) (0.18.1)\n",
            "Requirement already satisfied: backcall in /usr/local/lib/python3.7/dist-packages (from ipython>=5.0.0->ipykernel->jupyter==1.0.0->d2l) (0.2.0)\n",
            "Requirement already satisfied: pickleshare in /usr/local/lib/python3.7/dist-packages (from ipython>=5.0.0->ipykernel->jupyter==1.0.0->d2l) (0.7.5)\n",
            "Requirement already satisfied: decorator in /usr/local/lib/python3.7/dist-packages (from ipython>=5.0.0->ipykernel->jupyter==1.0.0->d2l) (4.4.2)\n",
            "Requirement already satisfied: setuptools>=18.5 in /usr/local/lib/python3.7/dist-packages (from ipython>=5.0.0->ipykernel->jupyter==1.0.0->d2l) (57.4.0)\n",
            "Requirement already satisfied: MarkupSafe>=0.23 in /usr/local/lib/python3.7/dist-packages (from jinja2>=2.4->nbconvert->jupyter==1.0.0->d2l) (2.0.1)\n",
            "Requirement already satisfied: fastjsonschema in /usr/local/lib/python3.7/dist-packages (from nbformat>=4.4->nbconvert->jupyter==1.0.0->d2l) (2.16.2)\n",
            "Requirement already satisfied: jsonschema>=2.6 in /usr/local/lib/python3.7/dist-packages (from nbformat>=4.4->nbconvert->jupyter==1.0.0->d2l) (4.3.3)\n",
            "Requirement already satisfied: importlib-metadata>=3.6 in /usr/local/lib/python3.7/dist-packages (from nbformat>=4.4->nbconvert->jupyter==1.0.0->d2l) (4.13.0)\n",
            "Requirement already satisfied: wcwidth in /usr/local/lib/python3.7/dist-packages (from prompt-toolkit!=3.0.0,!=3.0.1,<3.1.0,>=2.0.0->jupyter-console->jupyter==1.0.0->d2l) (0.2.5)\n",
            "Requirement already satisfied: ptyprocess in /usr/local/lib/python3.7/dist-packages (from terminado>=0.8.1->notebook->jupyter==1.0.0->d2l) (0.7.0)\n",
            "Requirement already satisfied: webencodings in /usr/local/lib/python3.7/dist-packages (from bleach->nbconvert->jupyter==1.0.0->d2l) (0.5.1)\n",
            "Requirement already satisfied: zipp>=0.5 in /usr/local/lib/python3.7/dist-packages (from importlib-metadata>=3.6->nbformat>=4.4->nbconvert->jupyter==1.0.0->d2l) (3.9.0)\n",
            "Requirement already satisfied: parso<0.9.0,>=0.8.0 in /usr/local/lib/python3.7/dist-packages (from jedi>=0.10->ipython>=5.0.0->ipykernel->jupyter==1.0.0->d2l) (0.8.3)\n",
            "Requirement already satisfied: attrs>=17.4.0 in /usr/local/lib/python3.7/dist-packages (from jsonschema>=2.6->nbformat>=4.4->nbconvert->jupyter==1.0.0->d2l) (22.1.0)\n",
            "Requirement already satisfied: importlib-resources>=1.4.0 in /usr/local/lib/python3.7/dist-packages (from jsonschema>=2.6->nbformat>=4.4->nbconvert->jupyter==1.0.0->d2l) (5.10.0)\n",
            "Requirement already satisfied: pyrsistent!=0.17.0,!=0.17.1,!=0.17.2,>=0.14.0 in /usr/local/lib/python3.7/dist-packages (from jsonschema>=2.6->nbformat>=4.4->nbconvert->jupyter==1.0.0->d2l) (0.18.1)\n",
            "Installing collected packages: matplotlib, d2l\n",
            "  Attempting uninstall: matplotlib\n",
            "    Found existing installation: matplotlib 3.5.3\n",
            "    Uninstalling matplotlib-3.5.3:\n",
            "      Successfully uninstalled matplotlib-3.5.3\n",
            "Successfully installed d2l-0.17.5 matplotlib-3.5.1\n",
            "\u001b[33mWARNING: Running pip as the 'root' user can result in broken permissions and conflicting behaviour with the system package manager. It is recommended to use a virtual environment instead: https://pip.pypa.io/warnings/venv\u001b[0m\u001b[33m\n",
            "\u001b[0m"
          ]
        },
        {
          "output_type": "display_data",
          "data": {
            "application/vnd.colab-display-data+json": {
              "pip_warning": {
                "packages": [
                  "d2l",
                  "matplotlib",
                  "mpl_toolkits"
                ]
              }
            }
          },
          "metadata": {}
        }
      ]
    },
    {
      "cell_type": "code",
      "execution_count": null,
      "id": "8cbcb65e-1376-4879-8a6c-5dc2dbc4c945",
      "metadata": {
        "origin_pos": 11,
        "tab": [
          "tensorflow"
        ],
        "id": "8cbcb65e-1376-4879-8a6c-5dc2dbc4c945",
        "colab": {
          "base_uri": "https://localhost:8080/",
          "height": 244
        },
        "outputId": "169a5113-4fd2-42bd-e592-45e23da4d287"
      },
      "outputs": [
        {
          "output_type": "display_data",
          "data": {
            "text/plain": [
              "<Figure size 252x180 with 1 Axes>"
            ],
            "image/svg+xml": "<?xml version=\"1.0\" encoding=\"utf-8\" standalone=\"no\"?>\n<!DOCTYPE svg PUBLIC \"-//W3C//DTD SVG 1.1//EN\"\n  \"http://www.w3.org/Graphics/SVG/1.1/DTD/svg11.dtd\">\n<svg xmlns:xlink=\"http://www.w3.org/1999/xlink\" width=\"238.052177pt\" height=\"166.978125pt\" viewBox=\"0 0 238.052177 166.978125\" xmlns=\"http://www.w3.org/2000/svg\" version=\"1.1\">\n <metadata>\n  <rdf:RDF xmlns:dc=\"http://purl.org/dc/elements/1.1/\" xmlns:cc=\"http://creativecommons.org/ns#\" xmlns:rdf=\"http://www.w3.org/1999/02/22-rdf-syntax-ns#\">\n   <cc:Work>\n    <dc:type rdf:resource=\"http://purl.org/dc/dcmitype/StillImage\"/>\n    <dc:date>2022-10-27T10:44:57.326302</dc:date>\n    <dc:format>image/svg+xml</dc:format>\n    <dc:creator>\n     <cc:Agent>\n      <dc:title>Matplotlib v3.5.1, https://matplotlib.org/</dc:title>\n     </cc:Agent>\n    </dc:creator>\n   </cc:Work>\n  </rdf:RDF>\n </metadata>\n <defs>\n  <style type=\"text/css\">*{stroke-linejoin: round; stroke-linecap: butt}</style>\n </defs>\n <g id=\"figure_1\">\n  <g id=\"patch_1\">\n   <path d=\"M 0 166.978125 \nL 238.052177 166.978125 \nL 238.052177 0 \nL 0 0 \nL 0 166.978125 \nz\n\" style=\"fill: none\"/>\n  </g>\n  <g id=\"axes_1\">\n   <g id=\"patch_2\">\n    <path d=\"M 35.304688 143.1 \nL 230.604688 143.1 \nL 230.604688 7.2 \nL 35.304688 7.2 \nz\n\" style=\"fill: #ffffff\"/>\n   </g>\n   <g id=\"PathCollection_1\">\n    <defs>\n     <path id=\"md26ef96ec2\" d=\"M 0 0.5 \nC 0.132602 0.5 0.25979 0.447317 0.353553 0.353553 \nC 0.447317 0.25979 0.5 0.132602 0.5 0 \nC 0.5 -0.132602 0.447317 -0.25979 0.353553 -0.353553 \nC 0.25979 -0.447317 0.132602 -0.5 0 -0.5 \nC -0.132602 -0.5 -0.25979 -0.447317 -0.353553 -0.353553 \nC -0.447317 -0.25979 -0.5 -0.132602 -0.5 0 \nC -0.5 0.132602 -0.447317 0.25979 -0.353553 0.353553 \nC -0.25979 0.447317 -0.132602 0.5 0 0.5 \nz\n\" style=\"stroke: #1f77b4\"/>\n    </defs>\n    <g clip-path=\"url(#p49fdc99534)\">\n     <use xlink:href=\"#md26ef96ec2\" x=\"103.457998\" y=\"54.25546\" style=\"fill: #1f77b4; stroke: #1f77b4\"/>\n     <use xlink:href=\"#md26ef96ec2\" x=\"108.670767\" y=\"56.259884\" style=\"fill: #1f77b4; stroke: #1f77b4\"/>\n     <use xlink:href=\"#md26ef96ec2\" x=\"111.781997\" y=\"45.245211\" style=\"fill: #1f77b4; stroke: #1f77b4\"/>\n     <use xlink:href=\"#md26ef96ec2\" x=\"125.069465\" y=\"58.339966\" style=\"fill: #1f77b4; stroke: #1f77b4\"/>\n     <use xlink:href=\"#md26ef96ec2\" x=\"146.435551\" y=\"56.934176\" style=\"fill: #1f77b4; stroke: #1f77b4\"/>\n     <use xlink:href=\"#md26ef96ec2\" x=\"151.896613\" y=\"71.752691\" style=\"fill: #1f77b4; stroke: #1f77b4\"/>\n     <use xlink:href=\"#md26ef96ec2\" x=\"112.874621\" y=\"44.02145\" style=\"fill: #1f77b4; stroke: #1f77b4\"/>\n     <use xlink:href=\"#md26ef96ec2\" x=\"95.917463\" y=\"38.996296\" style=\"fill: #1f77b4; stroke: #1f77b4\"/>\n     <use xlink:href=\"#md26ef96ec2\" x=\"158.937374\" y=\"96.769017\" style=\"fill: #1f77b4; stroke: #1f77b4\"/>\n     <use xlink:href=\"#md26ef96ec2\" x=\"127.958998\" y=\"74.949805\" style=\"fill: #1f77b4; stroke: #1f77b4\"/>\n     <use xlink:href=\"#md26ef96ec2\" x=\"151.369462\" y=\"81.395746\" style=\"fill: #1f77b4; stroke: #1f77b4\"/>\n     <use xlink:href=\"#md26ef96ec2\" x=\"128.177048\" y=\"72.001112\" style=\"fill: #1f77b4; stroke: #1f77b4\"/>\n     <use xlink:href=\"#md26ef96ec2\" x=\"146.364905\" y=\"79.058719\" style=\"fill: #1f77b4; stroke: #1f77b4\"/>\n     <use xlink:href=\"#md26ef96ec2\" x=\"92.673456\" y=\"41.106705\" style=\"fill: #1f77b4; stroke: #1f77b4\"/>\n     <use xlink:href=\"#md26ef96ec2\" x=\"155.867169\" y=\"91.075923\" style=\"fill: #1f77b4; stroke: #1f77b4\"/>\n     <use xlink:href=\"#md26ef96ec2\" x=\"145.977952\" y=\"88.822793\" style=\"fill: #1f77b4; stroke: #1f77b4\"/>\n     <use xlink:href=\"#md26ef96ec2\" x=\"106.333316\" y=\"60.911169\" style=\"fill: #1f77b4; stroke: #1f77b4\"/>\n     <use xlink:href=\"#md26ef96ec2\" x=\"103.876424\" y=\"57.624645\" style=\"fill: #1f77b4; stroke: #1f77b4\"/>\n     <use xlink:href=\"#md26ef96ec2\" x=\"126.286385\" y=\"67.412715\" style=\"fill: #1f77b4; stroke: #1f77b4\"/>\n     <use xlink:href=\"#md26ef96ec2\" x=\"91.705393\" y=\"25.643258\" style=\"fill: #1f77b4; stroke: #1f77b4\"/>\n     <use xlink:href=\"#md26ef96ec2\" x=\"156.641159\" y=\"95.778747\" style=\"fill: #1f77b4; stroke: #1f77b4\"/>\n     <use xlink:href=\"#md26ef96ec2\" x=\"135.453667\" y=\"74.463674\" style=\"fill: #1f77b4; stroke: #1f77b4\"/>\n     <use xlink:href=\"#md26ef96ec2\" x=\"87.925611\" y=\"55.988466\" style=\"fill: #1f77b4; stroke: #1f77b4\"/>\n     <use xlink:href=\"#md26ef96ec2\" x=\"123.319297\" y=\"70.838346\" style=\"fill: #1f77b4; stroke: #1f77b4\"/>\n     <use xlink:href=\"#md26ef96ec2\" x=\"152.298419\" y=\"82.39078\" style=\"fill: #1f77b4; stroke: #1f77b4\"/>\n     <use xlink:href=\"#md26ef96ec2\" x=\"56.039132\" y=\"41.130935\" style=\"fill: #1f77b4; stroke: #1f77b4\"/>\n     <use xlink:href=\"#md26ef96ec2\" x=\"77.254375\" y=\"48.874821\" style=\"fill: #1f77b4; stroke: #1f77b4\"/>\n     <use xlink:href=\"#md26ef96ec2\" x=\"115.959125\" y=\"56.331462\" style=\"fill: #1f77b4; stroke: #1f77b4\"/>\n     <use xlink:href=\"#md26ef96ec2\" x=\"118.579993\" y=\"52.893916\" style=\"fill: #1f77b4; stroke: #1f77b4\"/>\n     <use xlink:href=\"#md26ef96ec2\" x=\"95.528495\" y=\"48.376409\" style=\"fill: #1f77b4; stroke: #1f77b4\"/>\n     <use xlink:href=\"#md26ef96ec2\" x=\"139.928005\" y=\"66.884337\" style=\"fill: #1f77b4; stroke: #1f77b4\"/>\n     <use xlink:href=\"#md26ef96ec2\" x=\"131.855654\" y=\"75.978776\" style=\"fill: #1f77b4; stroke: #1f77b4\"/>\n     <use xlink:href=\"#md26ef96ec2\" x=\"117.556774\" y=\"54.985524\" style=\"fill: #1f77b4; stroke: #1f77b4\"/>\n     <use xlink:href=\"#md26ef96ec2\" x=\"82.137229\" y=\"46.295853\" style=\"fill: #1f77b4; stroke: #1f77b4\"/>\n     <use xlink:href=\"#md26ef96ec2\" x=\"76.942554\" y=\"50.174051\" style=\"fill: #1f77b4; stroke: #1f77b4\"/>\n     <use xlink:href=\"#md26ef96ec2\" x=\"119.931521\" y=\"59.463312\" style=\"fill: #1f77b4; stroke: #1f77b4\"/>\n     <use xlink:href=\"#md26ef96ec2\" x=\"138.100046\" y=\"82.765538\" style=\"fill: #1f77b4; stroke: #1f77b4\"/>\n     <use xlink:href=\"#md26ef96ec2\" x=\"97.561526\" y=\"54.337719\" style=\"fill: #1f77b4; stroke: #1f77b4\"/>\n     <use xlink:href=\"#md26ef96ec2\" x=\"98.663332\" y=\"53.067017\" style=\"fill: #1f77b4; stroke: #1f77b4\"/>\n     <use xlink:href=\"#md26ef96ec2\" x=\"135.796982\" y=\"68.7113\" style=\"fill: #1f77b4; stroke: #1f77b4\"/>\n     <use xlink:href=\"#md26ef96ec2\" x=\"118.901099\" y=\"58.894017\" style=\"fill: #1f77b4; stroke: #1f77b4\"/>\n     <use xlink:href=\"#md26ef96ec2\" x=\"111.17525\" y=\"66.205976\" style=\"fill: #1f77b4; stroke: #1f77b4\"/>\n     <use xlink:href=\"#md26ef96ec2\" x=\"167.08919\" y=\"100.831176\" style=\"fill: #1f77b4; stroke: #1f77b4\"/>\n     <use xlink:href=\"#md26ef96ec2\" x=\"118.534425\" y=\"70.172117\" style=\"fill: #1f77b4; stroke: #1f77b4\"/>\n     <use xlink:href=\"#md26ef96ec2\" x=\"154.806286\" y=\"87.419923\" style=\"fill: #1f77b4; stroke: #1f77b4\"/>\n     <use xlink:href=\"#md26ef96ec2\" x=\"97.024826\" y=\"54.818929\" style=\"fill: #1f77b4; stroke: #1f77b4\"/>\n     <use xlink:href=\"#md26ef96ec2\" x=\"112.266053\" y=\"44.603172\" style=\"fill: #1f77b4; stroke: #1f77b4\"/>\n     <use xlink:href=\"#md26ef96ec2\" x=\"185.882073\" y=\"94.361965\" style=\"fill: #1f77b4; stroke: #1f77b4\"/>\n     <use xlink:href=\"#md26ef96ec2\" x=\"135.537521\" y=\"72.822223\" style=\"fill: #1f77b4; stroke: #1f77b4\"/>\n     <use xlink:href=\"#md26ef96ec2\" x=\"130.307219\" y=\"67.607529\" style=\"fill: #1f77b4; stroke: #1f77b4\"/>\n     <use xlink:href=\"#md26ef96ec2\" x=\"142.879279\" y=\"78.971449\" style=\"fill: #1f77b4; stroke: #1f77b4\"/>\n     <use xlink:href=\"#md26ef96ec2\" x=\"106.841473\" y=\"43.833765\" style=\"fill: #1f77b4; stroke: #1f77b4\"/>\n     <use xlink:href=\"#md26ef96ec2\" x=\"146.939027\" y=\"98.135533\" style=\"fill: #1f77b4; stroke: #1f77b4\"/>\n     <use xlink:href=\"#md26ef96ec2\" x=\"127.69702\" y=\"64.632581\" style=\"fill: #1f77b4; stroke: #1f77b4\"/>\n     <use xlink:href=\"#md26ef96ec2\" x=\"126.46014\" y=\"59.652817\" style=\"fill: #1f77b4; stroke: #1f77b4\"/>\n     <use xlink:href=\"#md26ef96ec2\" x=\"89.282025\" y=\"50.559589\" style=\"fill: #1f77b4; stroke: #1f77b4\"/>\n     <use xlink:href=\"#md26ef96ec2\" x=\"98.919047\" y=\"43.429453\" style=\"fill: #1f77b4; stroke: #1f77b4\"/>\n     <use xlink:href=\"#md26ef96ec2\" x=\"80.348002\" y=\"32.354977\" style=\"fill: #1f77b4; stroke: #1f77b4\"/>\n     <use xlink:href=\"#md26ef96ec2\" x=\"97.28183\" y=\"43.363308\" style=\"fill: #1f77b4; stroke: #1f77b4\"/>\n     <use xlink:href=\"#md26ef96ec2\" x=\"169.747279\" y=\"90.668193\" style=\"fill: #1f77b4; stroke: #1f77b4\"/>\n     <use xlink:href=\"#md26ef96ec2\" x=\"145.170897\" y=\"101.721947\" style=\"fill: #1f77b4; stroke: #1f77b4\"/>\n     <use xlink:href=\"#md26ef96ec2\" x=\"86.38961\" y=\"41.752333\" style=\"fill: #1f77b4; stroke: #1f77b4\"/>\n     <use xlink:href=\"#md26ef96ec2\" x=\"141.576291\" y=\"80.532836\" style=\"fill: #1f77b4; stroke: #1f77b4\"/>\n     <use xlink:href=\"#md26ef96ec2\" x=\"143.972472\" y=\"70.508637\" style=\"fill: #1f77b4; stroke: #1f77b4\"/>\n     <use xlink:href=\"#md26ef96ec2\" x=\"115.886402\" y=\"70.176511\" style=\"fill: #1f77b4; stroke: #1f77b4\"/>\n     <use xlink:href=\"#md26ef96ec2\" x=\"140.367046\" y=\"64.844843\" style=\"fill: #1f77b4; stroke: #1f77b4\"/>\n     <use xlink:href=\"#md26ef96ec2\" x=\"113.925066\" y=\"59.696034\" style=\"fill: #1f77b4; stroke: #1f77b4\"/>\n     <use xlink:href=\"#md26ef96ec2\" x=\"115.484048\" y=\"55.176895\" style=\"fill: #1f77b4; stroke: #1f77b4\"/>\n     <use xlink:href=\"#md26ef96ec2\" x=\"115.661426\" y=\"56.281664\" style=\"fill: #1f77b4; stroke: #1f77b4\"/>\n     <use xlink:href=\"#md26ef96ec2\" x=\"134.86865\" y=\"77.773032\" style=\"fill: #1f77b4; stroke: #1f77b4\"/>\n     <use xlink:href=\"#md26ef96ec2\" x=\"108.304567\" y=\"46.620384\" style=\"fill: #1f77b4; stroke: #1f77b4\"/>\n     <use xlink:href=\"#md26ef96ec2\" x=\"148.043819\" y=\"80.42492\" style=\"fill: #1f77b4; stroke: #1f77b4\"/>\n     <use xlink:href=\"#md26ef96ec2\" x=\"106.298361\" y=\"45.72394\" style=\"fill: #1f77b4; stroke: #1f77b4\"/>\n     <use xlink:href=\"#md26ef96ec2\" x=\"152.053346\" y=\"86.792041\" style=\"fill: #1f77b4; stroke: #1f77b4\"/>\n     <use xlink:href=\"#md26ef96ec2\" x=\"90.842738\" y=\"62.346326\" style=\"fill: #1f77b4; stroke: #1f77b4\"/>\n     <use xlink:href=\"#md26ef96ec2\" x=\"153.612615\" y=\"84.26271\" style=\"fill: #1f77b4; stroke: #1f77b4\"/>\n     <use xlink:href=\"#md26ef96ec2\" x=\"70.547949\" y=\"34.858114\" style=\"fill: #1f77b4; stroke: #1f77b4\"/>\n     <use xlink:href=\"#md26ef96ec2\" x=\"139.638087\" y=\"83.021947\" style=\"fill: #1f77b4; stroke: #1f77b4\"/>\n     <use xlink:href=\"#md26ef96ec2\" x=\"151.888097\" y=\"90.22388\" style=\"fill: #1f77b4; stroke: #1f77b4\"/>\n     <use xlink:href=\"#md26ef96ec2\" x=\"187.438745\" y=\"108.651784\" style=\"fill: #1f77b4; stroke: #1f77b4\"/>\n     <use xlink:href=\"#md26ef96ec2\" x=\"57.637938\" y=\"40.955526\" style=\"fill: #1f77b4; stroke: #1f77b4\"/>\n     <use xlink:href=\"#md26ef96ec2\" x=\"103.116872\" y=\"67.626883\" style=\"fill: #1f77b4; stroke: #1f77b4\"/>\n     <use xlink:href=\"#md26ef96ec2\" x=\"130.279441\" y=\"65.787228\" style=\"fill: #1f77b4; stroke: #1f77b4\"/>\n     <use xlink:href=\"#md26ef96ec2\" x=\"120.984324\" y=\"75.878974\" style=\"fill: #1f77b4; stroke: #1f77b4\"/>\n     <use xlink:href=\"#md26ef96ec2\" x=\"134.07826\" y=\"74.585476\" style=\"fill: #1f77b4; stroke: #1f77b4\"/>\n     <use xlink:href=\"#md26ef96ec2\" x=\"160.544697\" y=\"88.164357\" style=\"fill: #1f77b4; stroke: #1f77b4\"/>\n     <use xlink:href=\"#md26ef96ec2\" x=\"202.173554\" y=\"110.754701\" style=\"fill: #1f77b4; stroke: #1f77b4\"/>\n     <use xlink:href=\"#md26ef96ec2\" x=\"140.983354\" y=\"86.093214\" style=\"fill: #1f77b4; stroke: #1f77b4\"/>\n     <use xlink:href=\"#md26ef96ec2\" x=\"164.539587\" y=\"98.022045\" style=\"fill: #1f77b4; stroke: #1f77b4\"/>\n     <use xlink:href=\"#md26ef96ec2\" x=\"133.038829\" y=\"80.280425\" style=\"fill: #1f77b4; stroke: #1f77b4\"/>\n     <use xlink:href=\"#md26ef96ec2\" x=\"120.588925\" y=\"65.250999\" style=\"fill: #1f77b4; stroke: #1f77b4\"/>\n     <use xlink:href=\"#md26ef96ec2\" x=\"142.455653\" y=\"88.773612\" style=\"fill: #1f77b4; stroke: #1f77b4\"/>\n     <use xlink:href=\"#md26ef96ec2\" x=\"98.045357\" y=\"59.41372\" style=\"fill: #1f77b4; stroke: #1f77b4\"/>\n     <use xlink:href=\"#md26ef96ec2\" x=\"138.434207\" y=\"79.931346\" style=\"fill: #1f77b4; stroke: #1f77b4\"/>\n     <use xlink:href=\"#md26ef96ec2\" x=\"120.007364\" y=\"46.251402\" style=\"fill: #1f77b4; stroke: #1f77b4\"/>\n     <use xlink:href=\"#md26ef96ec2\" x=\"141.38134\" y=\"59.318833\" style=\"fill: #1f77b4; stroke: #1f77b4\"/>\n     <use xlink:href=\"#md26ef96ec2\" x=\"109.526332\" y=\"48.806555\" style=\"fill: #1f77b4; stroke: #1f77b4\"/>\n     <use xlink:href=\"#md26ef96ec2\" x=\"140.161384\" y=\"66.380575\" style=\"fill: #1f77b4; stroke: #1f77b4\"/>\n     <use xlink:href=\"#md26ef96ec2\" x=\"163.600302\" y=\"84.90051\" style=\"fill: #1f77b4; stroke: #1f77b4\"/>\n     <use xlink:href=\"#md26ef96ec2\" x=\"171.451122\" y=\"106.943595\" style=\"fill: #1f77b4; stroke: #1f77b4\"/>\n     <use xlink:href=\"#md26ef96ec2\" x=\"121.035127\" y=\"54.303529\" style=\"fill: #1f77b4; stroke: #1f77b4\"/>\n     <use xlink:href=\"#md26ef96ec2\" x=\"123.819011\" y=\"74.349835\" style=\"fill: #1f77b4; stroke: #1f77b4\"/>\n     <use xlink:href=\"#md26ef96ec2\" x=\"109.31171\" y=\"53.385788\" style=\"fill: #1f77b4; stroke: #1f77b4\"/>\n     <use xlink:href=\"#md26ef96ec2\" x=\"130.954709\" y=\"71.649328\" style=\"fill: #1f77b4; stroke: #1f77b4\"/>\n     <use xlink:href=\"#md26ef96ec2\" x=\"106.138441\" y=\"57.057106\" style=\"fill: #1f77b4; stroke: #1f77b4\"/>\n     <use xlink:href=\"#md26ef96ec2\" x=\"134.980025\" y=\"79.202761\" style=\"fill: #1f77b4; stroke: #1f77b4\"/>\n     <use xlink:href=\"#md26ef96ec2\" x=\"112.232385\" y=\"48.124745\" style=\"fill: #1f77b4; stroke: #1f77b4\"/>\n     <use xlink:href=\"#md26ef96ec2\" x=\"140.847078\" y=\"76.876773\" style=\"fill: #1f77b4; stroke: #1f77b4\"/>\n     <use xlink:href=\"#md26ef96ec2\" x=\"139.928478\" y=\"79.206403\" style=\"fill: #1f77b4; stroke: #1f77b4\"/>\n     <use xlink:href=\"#md26ef96ec2\" x=\"88.408963\" y=\"64.151209\" style=\"fill: #1f77b4; stroke: #1f77b4\"/>\n     <use xlink:href=\"#md26ef96ec2\" x=\"147.156238\" y=\"61.600071\" style=\"fill: #1f77b4; stroke: #1f77b4\"/>\n     <use xlink:href=\"#md26ef96ec2\" x=\"133.12324\" y=\"69.98141\" style=\"fill: #1f77b4; stroke: #1f77b4\"/>\n     <use xlink:href=\"#md26ef96ec2\" x=\"105.631613\" y=\"33.281793\" style=\"fill: #1f77b4; stroke: #1f77b4\"/>\n     <use xlink:href=\"#md26ef96ec2\" x=\"121.221183\" y=\"72.084656\" style=\"fill: #1f77b4; stroke: #1f77b4\"/>\n     <use xlink:href=\"#md26ef96ec2\" x=\"129.919445\" y=\"61.058935\" style=\"fill: #1f77b4; stroke: #1f77b4\"/>\n     <use xlink:href=\"#md26ef96ec2\" x=\"116.760736\" y=\"66.41526\" style=\"fill: #1f77b4; stroke: #1f77b4\"/>\n     <use xlink:href=\"#md26ef96ec2\" x=\"152.878055\" y=\"87.318937\" style=\"fill: #1f77b4; stroke: #1f77b4\"/>\n     <use xlink:href=\"#md26ef96ec2\" x=\"120.825672\" y=\"63.113081\" style=\"fill: #1f77b4; stroke: #1f77b4\"/>\n     <use xlink:href=\"#md26ef96ec2\" x=\"120.373679\" y=\"55.462634\" style=\"fill: #1f77b4; stroke: #1f77b4\"/>\n     <use xlink:href=\"#md26ef96ec2\" x=\"123.321788\" y=\"54.081045\" style=\"fill: #1f77b4; stroke: #1f77b4\"/>\n     <use xlink:href=\"#md26ef96ec2\" x=\"141.160842\" y=\"67.411926\" style=\"fill: #1f77b4; stroke: #1f77b4\"/>\n     <use xlink:href=\"#md26ef96ec2\" x=\"139.073482\" y=\"66.602735\" style=\"fill: #1f77b4; stroke: #1f77b4\"/>\n     <use xlink:href=\"#md26ef96ec2\" x=\"101.056929\" y=\"54.086568\" style=\"fill: #1f77b4; stroke: #1f77b4\"/>\n     <use xlink:href=\"#md26ef96ec2\" x=\"88.88289\" y=\"53.795424\" style=\"fill: #1f77b4; stroke: #1f77b4\"/>\n     <use xlink:href=\"#md26ef96ec2\" x=\"111.153094\" y=\"57.417322\" style=\"fill: #1f77b4; stroke: #1f77b4\"/>\n     <use xlink:href=\"#md26ef96ec2\" x=\"146.022688\" y=\"83.373886\" style=\"fill: #1f77b4; stroke: #1f77b4\"/>\n     <use xlink:href=\"#md26ef96ec2\" x=\"93.9165\" y=\"39.65608\" style=\"fill: #1f77b4; stroke: #1f77b4\"/>\n     <use xlink:href=\"#md26ef96ec2\" x=\"91.207384\" y=\"29.873352\" style=\"fill: #1f77b4; stroke: #1f77b4\"/>\n     <use xlink:href=\"#md26ef96ec2\" x=\"123.327204\" y=\"63.472593\" style=\"fill: #1f77b4; stroke: #1f77b4\"/>\n     <use xlink:href=\"#md26ef96ec2\" x=\"127.667829\" y=\"51.868334\" style=\"fill: #1f77b4; stroke: #1f77b4\"/>\n     <use xlink:href=\"#md26ef96ec2\" x=\"130.581048\" y=\"59.000818\" style=\"fill: #1f77b4; stroke: #1f77b4\"/>\n     <use xlink:href=\"#md26ef96ec2\" x=\"157.181084\" y=\"69.813895\" style=\"fill: #1f77b4; stroke: #1f77b4\"/>\n     <use xlink:href=\"#md26ef96ec2\" x=\"139.78096\" y=\"83.419075\" style=\"fill: #1f77b4; stroke: #1f77b4\"/>\n     <use xlink:href=\"#md26ef96ec2\" x=\"119.127318\" y=\"67.364092\" style=\"fill: #1f77b4; stroke: #1f77b4\"/>\n     <use xlink:href=\"#md26ef96ec2\" x=\"123.805889\" y=\"65.931909\" style=\"fill: #1f77b4; stroke: #1f77b4\"/>\n     <use xlink:href=\"#md26ef96ec2\" x=\"128.469546\" y=\"78.610403\" style=\"fill: #1f77b4; stroke: #1f77b4\"/>\n     <use xlink:href=\"#md26ef96ec2\" x=\"147.915287\" y=\"91.309052\" style=\"fill: #1f77b4; stroke: #1f77b4\"/>\n     <use xlink:href=\"#md26ef96ec2\" x=\"83.285323\" y=\"28.448438\" style=\"fill: #1f77b4; stroke: #1f77b4\"/>\n     <use xlink:href=\"#md26ef96ec2\" x=\"137.424991\" y=\"80.61372\" style=\"fill: #1f77b4; stroke: #1f77b4\"/>\n     <use xlink:href=\"#md26ef96ec2\" x=\"95.00687\" y=\"50.177881\" style=\"fill: #1f77b4; stroke: #1f77b4\"/>\n     <use xlink:href=\"#md26ef96ec2\" x=\"102.142875\" y=\"51.68097\" style=\"fill: #1f77b4; stroke: #1f77b4\"/>\n     <use xlink:href=\"#md26ef96ec2\" x=\"117.716561\" y=\"64.084665\" style=\"fill: #1f77b4; stroke: #1f77b4\"/>\n     <use xlink:href=\"#md26ef96ec2\" x=\"119.436212\" y=\"52.747206\" style=\"fill: #1f77b4; stroke: #1f77b4\"/>\n     <use xlink:href=\"#md26ef96ec2\" x=\"118.1939\" y=\"62.535929\" style=\"fill: #1f77b4; stroke: #1f77b4\"/>\n     <use xlink:href=\"#md26ef96ec2\" x=\"148.834344\" y=\"71.514503\" style=\"fill: #1f77b4; stroke: #1f77b4\"/>\n     <use xlink:href=\"#md26ef96ec2\" x=\"136.918916\" y=\"76.999174\" style=\"fill: #1f77b4; stroke: #1f77b4\"/>\n     <use xlink:href=\"#md26ef96ec2\" x=\"162.895511\" y=\"101.668217\" style=\"fill: #1f77b4; stroke: #1f77b4\"/>\n     <use xlink:href=\"#md26ef96ec2\" x=\"153.753728\" y=\"90.41147\" style=\"fill: #1f77b4; stroke: #1f77b4\"/>\n     <use xlink:href=\"#md26ef96ec2\" x=\"158.107338\" y=\"95.834201\" style=\"fill: #1f77b4; stroke: #1f77b4\"/>\n     <use xlink:href=\"#md26ef96ec2\" x=\"143.638719\" y=\"82.813933\" style=\"fill: #1f77b4; stroke: #1f77b4\"/>\n     <use xlink:href=\"#md26ef96ec2\" x=\"138.157858\" y=\"60.214809\" style=\"fill: #1f77b4; stroke: #1f77b4\"/>\n     <use xlink:href=\"#md26ef96ec2\" x=\"125.583847\" y=\"61.426519\" style=\"fill: #1f77b4; stroke: #1f77b4\"/>\n     <use xlink:href=\"#md26ef96ec2\" x=\"60.18366\" y=\"22.61011\" style=\"fill: #1f77b4; stroke: #1f77b4\"/>\n     <use xlink:href=\"#md26ef96ec2\" x=\"124.26619\" y=\"70.534359\" style=\"fill: #1f77b4; stroke: #1f77b4\"/>\n     <use xlink:href=\"#md26ef96ec2\" x=\"138.781503\" y=\"76.589825\" style=\"fill: #1f77b4; stroke: #1f77b4\"/>\n     <use xlink:href=\"#md26ef96ec2\" x=\"148.088258\" y=\"93.873118\" style=\"fill: #1f77b4; stroke: #1f77b4\"/>\n     <use xlink:href=\"#md26ef96ec2\" x=\"142.512775\" y=\"66.618296\" style=\"fill: #1f77b4; stroke: #1f77b4\"/>\n     <use xlink:href=\"#md26ef96ec2\" x=\"146.776915\" y=\"85.05917\" style=\"fill: #1f77b4; stroke: #1f77b4\"/>\n     <use xlink:href=\"#md26ef96ec2\" x=\"114.539376\" y=\"54.169436\" style=\"fill: #1f77b4; stroke: #1f77b4\"/>\n     <use xlink:href=\"#md26ef96ec2\" x=\"144.409949\" y=\"93.806537\" style=\"fill: #1f77b4; stroke: #1f77b4\"/>\n     <use xlink:href=\"#md26ef96ec2\" x=\"53.788565\" y=\"26.593429\" style=\"fill: #1f77b4; stroke: #1f77b4\"/>\n     <use xlink:href=\"#md26ef96ec2\" x=\"144.044516\" y=\"75.550871\" style=\"fill: #1f77b4; stroke: #1f77b4\"/>\n     <use xlink:href=\"#md26ef96ec2\" x=\"75.426119\" y=\"33.895867\" style=\"fill: #1f77b4; stroke: #1f77b4\"/>\n     <use xlink:href=\"#md26ef96ec2\" x=\"152.555677\" y=\"100.313839\" style=\"fill: #1f77b4; stroke: #1f77b4\"/>\n     <use xlink:href=\"#md26ef96ec2\" x=\"111.603271\" y=\"78.100766\" style=\"fill: #1f77b4; stroke: #1f77b4\"/>\n     <use xlink:href=\"#md26ef96ec2\" x=\"145.671432\" y=\"87.191455\" style=\"fill: #1f77b4; stroke: #1f77b4\"/>\n     <use xlink:href=\"#md26ef96ec2\" x=\"144.59552\" y=\"88.027\" style=\"fill: #1f77b4; stroke: #1f77b4\"/>\n     <use xlink:href=\"#md26ef96ec2\" x=\"163.706155\" y=\"77.600753\" style=\"fill: #1f77b4; stroke: #1f77b4\"/>\n     <use xlink:href=\"#md26ef96ec2\" x=\"123.583462\" y=\"60.281526\" style=\"fill: #1f77b4; stroke: #1f77b4\"/>\n     <use xlink:href=\"#md26ef96ec2\" x=\"124.516948\" y=\"82.318791\" style=\"fill: #1f77b4; stroke: #1f77b4\"/>\n     <use xlink:href=\"#md26ef96ec2\" x=\"136.614304\" y=\"78.470837\" style=\"fill: #1f77b4; stroke: #1f77b4\"/>\n     <use xlink:href=\"#md26ef96ec2\" x=\"134.520757\" y=\"76.52363\" style=\"fill: #1f77b4; stroke: #1f77b4\"/>\n     <use xlink:href=\"#md26ef96ec2\" x=\"158.178284\" y=\"87.105258\" style=\"fill: #1f77b4; stroke: #1f77b4\"/>\n     <use xlink:href=\"#md26ef96ec2\" x=\"127.619991\" y=\"66.499681\" style=\"fill: #1f77b4; stroke: #1f77b4\"/>\n     <use xlink:href=\"#md26ef96ec2\" x=\"124.58247\" y=\"96.747695\" style=\"fill: #1f77b4; stroke: #1f77b4\"/>\n     <use xlink:href=\"#md26ef96ec2\" x=\"128.683704\" y=\"71.692743\" style=\"fill: #1f77b4; stroke: #1f77b4\"/>\n     <use xlink:href=\"#md26ef96ec2\" x=\"120.373083\" y=\"65.882585\" style=\"fill: #1f77b4; stroke: #1f77b4\"/>\n     <use xlink:href=\"#md26ef96ec2\" x=\"133.368699\" y=\"57.068156\" style=\"fill: #1f77b4; stroke: #1f77b4\"/>\n     <use xlink:href=\"#md26ef96ec2\" x=\"88.604639\" y=\"43.130958\" style=\"fill: #1f77b4; stroke: #1f77b4\"/>\n     <use xlink:href=\"#md26ef96ec2\" x=\"134.005458\" y=\"63.10277\" style=\"fill: #1f77b4; stroke: #1f77b4\"/>\n     <use xlink:href=\"#md26ef96ec2\" x=\"74.426864\" y=\"33.395745\" style=\"fill: #1f77b4; stroke: #1f77b4\"/>\n     <use xlink:href=\"#md26ef96ec2\" x=\"130.734505\" y=\"65.37466\" style=\"fill: #1f77b4; stroke: #1f77b4\"/>\n     <use xlink:href=\"#md26ef96ec2\" x=\"151.942739\" y=\"68.333167\" style=\"fill: #1f77b4; stroke: #1f77b4\"/>\n     <use xlink:href=\"#md26ef96ec2\" x=\"125.392251\" y=\"41.909919\" style=\"fill: #1f77b4; stroke: #1f77b4\"/>\n     <use xlink:href=\"#md26ef96ec2\" x=\"134.032758\" y=\"74.56334\" style=\"fill: #1f77b4; stroke: #1f77b4\"/>\n     <use xlink:href=\"#md26ef96ec2\" x=\"134.76276\" y=\"68.074113\" style=\"fill: #1f77b4; stroke: #1f77b4\"/>\n     <use xlink:href=\"#md26ef96ec2\" x=\"154.163293\" y=\"92.580232\" style=\"fill: #1f77b4; stroke: #1f77b4\"/>\n     <use xlink:href=\"#md26ef96ec2\" x=\"129.54981\" y=\"77.986456\" style=\"fill: #1f77b4; stroke: #1f77b4\"/>\n     <use xlink:href=\"#md26ef96ec2\" x=\"109.454688\" y=\"53.649519\" style=\"fill: #1f77b4; stroke: #1f77b4\"/>\n     <use xlink:href=\"#md26ef96ec2\" x=\"142.301617\" y=\"72.020757\" style=\"fill: #1f77b4; stroke: #1f77b4\"/>\n     <use xlink:href=\"#md26ef96ec2\" x=\"121.267077\" y=\"62.290759\" style=\"fill: #1f77b4; stroke: #1f77b4\"/>\n     <use xlink:href=\"#md26ef96ec2\" x=\"143.201839\" y=\"77.383381\" style=\"fill: #1f77b4; stroke: #1f77b4\"/>\n     <use xlink:href=\"#md26ef96ec2\" x=\"90.422838\" y=\"49.521434\" style=\"fill: #1f77b4; stroke: #1f77b4\"/>\n     <use xlink:href=\"#md26ef96ec2\" x=\"127.921821\" y=\"91.168605\" style=\"fill: #1f77b4; stroke: #1f77b4\"/>\n     <use xlink:href=\"#md26ef96ec2\" x=\"114.361114\" y=\"70.783311\" style=\"fill: #1f77b4; stroke: #1f77b4\"/>\n     <use xlink:href=\"#md26ef96ec2\" x=\"117.257173\" y=\"76.712379\" style=\"fill: #1f77b4; stroke: #1f77b4\"/>\n     <use xlink:href=\"#md26ef96ec2\" x=\"173.022643\" y=\"117.407694\" style=\"fill: #1f77b4; stroke: #1f77b4\"/>\n     <use xlink:href=\"#md26ef96ec2\" x=\"146.939478\" y=\"73.289953\" style=\"fill: #1f77b4; stroke: #1f77b4\"/>\n     <use xlink:href=\"#md26ef96ec2\" x=\"174.229203\" y=\"117.918502\" style=\"fill: #1f77b4; stroke: #1f77b4\"/>\n     <use xlink:href=\"#md26ef96ec2\" x=\"106.721523\" y=\"53.996171\" style=\"fill: #1f77b4; stroke: #1f77b4\"/>\n     <use xlink:href=\"#md26ef96ec2\" x=\"125.981747\" y=\"70.107207\" style=\"fill: #1f77b4; stroke: #1f77b4\"/>\n     <use xlink:href=\"#md26ef96ec2\" x=\"121.479054\" y=\"51.676866\" style=\"fill: #1f77b4; stroke: #1f77b4\"/>\n     <use xlink:href=\"#md26ef96ec2\" x=\"131.623789\" y=\"72.034668\" style=\"fill: #1f77b4; stroke: #1f77b4\"/>\n     <use xlink:href=\"#md26ef96ec2\" x=\"141.697221\" y=\"82.31292\" style=\"fill: #1f77b4; stroke: #1f77b4\"/>\n     <use xlink:href=\"#md26ef96ec2\" x=\"111.022883\" y=\"51.064226\" style=\"fill: #1f77b4; stroke: #1f77b4\"/>\n     <use xlink:href=\"#md26ef96ec2\" x=\"107.996616\" y=\"35.874051\" style=\"fill: #1f77b4; stroke: #1f77b4\"/>\n     <use xlink:href=\"#md26ef96ec2\" x=\"134.893315\" y=\"86.530631\" style=\"fill: #1f77b4; stroke: #1f77b4\"/>\n     <use xlink:href=\"#md26ef96ec2\" x=\"116.638995\" y=\"66.160932\" style=\"fill: #1f77b4; stroke: #1f77b4\"/>\n     <use xlink:href=\"#md26ef96ec2\" x=\"140.690914\" y=\"70.299222\" style=\"fill: #1f77b4; stroke: #1f77b4\"/>\n     <use xlink:href=\"#md26ef96ec2\" x=\"135.77465\" y=\"73.113629\" style=\"fill: #1f77b4; stroke: #1f77b4\"/>\n     <use xlink:href=\"#md26ef96ec2\" x=\"127.021191\" y=\"51.16197\" style=\"fill: #1f77b4; stroke: #1f77b4\"/>\n     <use xlink:href=\"#md26ef96ec2\" x=\"141.862747\" y=\"73.755574\" style=\"fill: #1f77b4; stroke: #1f77b4\"/>\n     <use xlink:href=\"#md26ef96ec2\" x=\"145.561526\" y=\"91.178656\" style=\"fill: #1f77b4; stroke: #1f77b4\"/>\n     <use xlink:href=\"#md26ef96ec2\" x=\"133.221518\" y=\"68.157355\" style=\"fill: #1f77b4; stroke: #1f77b4\"/>\n     <use xlink:href=\"#md26ef96ec2\" x=\"87.731421\" y=\"49.498235\" style=\"fill: #1f77b4; stroke: #1f77b4\"/>\n     <use xlink:href=\"#md26ef96ec2\" x=\"124.38895\" y=\"56.93421\" style=\"fill: #1f77b4; stroke: #1f77b4\"/>\n     <use xlink:href=\"#md26ef96ec2\" x=\"159.982778\" y=\"81.34391\" style=\"fill: #1f77b4; stroke: #1f77b4\"/>\n     <use xlink:href=\"#md26ef96ec2\" x=\"188.484908\" y=\"97.289343\" style=\"fill: #1f77b4; stroke: #1f77b4\"/>\n     <use xlink:href=\"#md26ef96ec2\" x=\"106.929685\" y=\"38.616224\" style=\"fill: #1f77b4; stroke: #1f77b4\"/>\n     <use xlink:href=\"#md26ef96ec2\" x=\"141.300778\" y=\"75.41991\" style=\"fill: #1f77b4; stroke: #1f77b4\"/>\n     <use xlink:href=\"#md26ef96ec2\" x=\"154.39119\" y=\"80.580653\" style=\"fill: #1f77b4; stroke: #1f77b4\"/>\n     <use xlink:href=\"#md26ef96ec2\" x=\"81.220331\" y=\"37.999518\" style=\"fill: #1f77b4; stroke: #1f77b4\"/>\n     <use xlink:href=\"#md26ef96ec2\" x=\"128.442515\" y=\"54.056366\" style=\"fill: #1f77b4; stroke: #1f77b4\"/>\n     <use xlink:href=\"#md26ef96ec2\" x=\"125.415276\" y=\"73.863496\" style=\"fill: #1f77b4; stroke: #1f77b4\"/>\n     <use xlink:href=\"#md26ef96ec2\" x=\"164.590297\" y=\"88.787053\" style=\"fill: #1f77b4; stroke: #1f77b4\"/>\n     <use xlink:href=\"#md26ef96ec2\" x=\"151.23419\" y=\"82.845228\" style=\"fill: #1f77b4; stroke: #1f77b4\"/>\n     <use xlink:href=\"#md26ef96ec2\" x=\"131.12124\" y=\"67.196819\" style=\"fill: #1f77b4; stroke: #1f77b4\"/>\n     <use xlink:href=\"#md26ef96ec2\" x=\"159.534725\" y=\"95.613384\" style=\"fill: #1f77b4; stroke: #1f77b4\"/>\n     <use xlink:href=\"#md26ef96ec2\" x=\"136.950445\" y=\"88.736696\" style=\"fill: #1f77b4; stroke: #1f77b4\"/>\n     <use xlink:href=\"#md26ef96ec2\" x=\"127.161759\" y=\"81.721512\" style=\"fill: #1f77b4; stroke: #1f77b4\"/>\n     <use xlink:href=\"#md26ef96ec2\" x=\"85.918591\" y=\"45.30135\" style=\"fill: #1f77b4; stroke: #1f77b4\"/>\n     <use xlink:href=\"#md26ef96ec2\" x=\"122.089942\" y=\"69.636355\" style=\"fill: #1f77b4; stroke: #1f77b4\"/>\n     <use xlink:href=\"#md26ef96ec2\" x=\"134.210121\" y=\"74.298346\" style=\"fill: #1f77b4; stroke: #1f77b4\"/>\n     <use xlink:href=\"#md26ef96ec2\" x=\"142.197612\" y=\"70.29162\" style=\"fill: #1f77b4; stroke: #1f77b4\"/>\n     <use xlink:href=\"#md26ef96ec2\" x=\"89.378967\" y=\"29.394372\" style=\"fill: #1f77b4; stroke: #1f77b4\"/>\n     <use xlink:href=\"#md26ef96ec2\" x=\"146.981523\" y=\"96.848341\" style=\"fill: #1f77b4; stroke: #1f77b4\"/>\n     <use xlink:href=\"#md26ef96ec2\" x=\"118.371076\" y=\"77.689236\" style=\"fill: #1f77b4; stroke: #1f77b4\"/>\n     <use xlink:href=\"#md26ef96ec2\" x=\"144.724977\" y=\"76.312122\" style=\"fill: #1f77b4; stroke: #1f77b4\"/>\n     <use xlink:href=\"#md26ef96ec2\" x=\"123.344145\" y=\"55.022113\" style=\"fill: #1f77b4; stroke: #1f77b4\"/>\n     <use xlink:href=\"#md26ef96ec2\" x=\"116.292861\" y=\"68.184093\" style=\"fill: #1f77b4; stroke: #1f77b4\"/>\n     <use xlink:href=\"#md26ef96ec2\" x=\"95.794395\" y=\"40.095379\" style=\"fill: #1f77b4; stroke: #1f77b4\"/>\n     <use xlink:href=\"#md26ef96ec2\" x=\"103.236212\" y=\"51.983298\" style=\"fill: #1f77b4; stroke: #1f77b4\"/>\n     <use xlink:href=\"#md26ef96ec2\" x=\"116.714566\" y=\"58.928517\" style=\"fill: #1f77b4; stroke: #1f77b4\"/>\n     <use xlink:href=\"#md26ef96ec2\" x=\"154.420217\" y=\"109.170515\" style=\"fill: #1f77b4; stroke: #1f77b4\"/>\n     <use xlink:href=\"#md26ef96ec2\" x=\"137.209349\" y=\"79.493915\" style=\"fill: #1f77b4; stroke: #1f77b4\"/>\n     <use xlink:href=\"#md26ef96ec2\" x=\"86.685889\" y=\"54.322095\" style=\"fill: #1f77b4; stroke: #1f77b4\"/>\n     <use xlink:href=\"#md26ef96ec2\" x=\"117.053846\" y=\"68.586756\" style=\"fill: #1f77b4; stroke: #1f77b4\"/>\n     <use xlink:href=\"#md26ef96ec2\" x=\"132.613709\" y=\"72.406417\" style=\"fill: #1f77b4; stroke: #1f77b4\"/>\n     <use xlink:href=\"#md26ef96ec2\" x=\"141.990859\" y=\"94.41658\" style=\"fill: #1f77b4; stroke: #1f77b4\"/>\n     <use xlink:href=\"#md26ef96ec2\" x=\"192.273811\" y=\"114.656138\" style=\"fill: #1f77b4; stroke: #1f77b4\"/>\n     <use xlink:href=\"#md26ef96ec2\" x=\"164.169984\" y=\"82.320921\" style=\"fill: #1f77b4; stroke: #1f77b4\"/>\n     <use xlink:href=\"#md26ef96ec2\" x=\"130.75857\" y=\"75.224207\" style=\"fill: #1f77b4; stroke: #1f77b4\"/>\n     <use xlink:href=\"#md26ef96ec2\" x=\"119.98409\" y=\"44.540571\" style=\"fill: #1f77b4; stroke: #1f77b4\"/>\n     <use xlink:href=\"#md26ef96ec2\" x=\"132.300583\" y=\"57.981044\" style=\"fill: #1f77b4; stroke: #1f77b4\"/>\n     <use xlink:href=\"#md26ef96ec2\" x=\"83.034845\" y=\"34.85686\" style=\"fill: #1f77b4; stroke: #1f77b4\"/>\n     <use xlink:href=\"#md26ef96ec2\" x=\"176.04017\" y=\"106.306536\" style=\"fill: #1f77b4; stroke: #1f77b4\"/>\n     <use xlink:href=\"#md26ef96ec2\" x=\"154.725021\" y=\"71.138009\" style=\"fill: #1f77b4; stroke: #1f77b4\"/>\n     <use xlink:href=\"#md26ef96ec2\" x=\"184.690423\" y=\"125.729951\" style=\"fill: #1f77b4; stroke: #1f77b4\"/>\n     <use xlink:href=\"#md26ef96ec2\" x=\"133.802073\" y=\"79.599992\" style=\"fill: #1f77b4; stroke: #1f77b4\"/>\n     <use xlink:href=\"#md26ef96ec2\" x=\"158.60238\" y=\"99.419751\" style=\"fill: #1f77b4; stroke: #1f77b4\"/>\n     <use xlink:href=\"#md26ef96ec2\" x=\"156.2865\" y=\"87.438474\" style=\"fill: #1f77b4; stroke: #1f77b4\"/>\n     <use xlink:href=\"#md26ef96ec2\" x=\"136.167644\" y=\"84.189003\" style=\"fill: #1f77b4; stroke: #1f77b4\"/>\n     <use xlink:href=\"#md26ef96ec2\" x=\"99.10213\" y=\"45.879356\" style=\"fill: #1f77b4; stroke: #1f77b4\"/>\n     <use xlink:href=\"#md26ef96ec2\" x=\"169.70391\" y=\"93.441357\" style=\"fill: #1f77b4; stroke: #1f77b4\"/>\n     <use xlink:href=\"#md26ef96ec2\" x=\"114.259012\" y=\"55.443034\" style=\"fill: #1f77b4; stroke: #1f77b4\"/>\n     <use xlink:href=\"#md26ef96ec2\" x=\"165.580629\" y=\"102.334063\" style=\"fill: #1f77b4; stroke: #1f77b4\"/>\n     <use xlink:href=\"#md26ef96ec2\" x=\"142.495413\" y=\"85.153269\" style=\"fill: #1f77b4; stroke: #1f77b4\"/>\n     <use xlink:href=\"#md26ef96ec2\" x=\"135.81524\" y=\"78.624376\" style=\"fill: #1f77b4; stroke: #1f77b4\"/>\n     <use xlink:href=\"#md26ef96ec2\" x=\"105.482897\" y=\"69.583891\" style=\"fill: #1f77b4; stroke: #1f77b4\"/>\n     <use xlink:href=\"#md26ef96ec2\" x=\"118.94777\" y=\"52.591193\" style=\"fill: #1f77b4; stroke: #1f77b4\"/>\n     <use xlink:href=\"#md26ef96ec2\" x=\"120.020001\" y=\"60.093412\" style=\"fill: #1f77b4; stroke: #1f77b4\"/>\n     <use xlink:href=\"#md26ef96ec2\" x=\"134.138178\" y=\"87.837792\" style=\"fill: #1f77b4; stroke: #1f77b4\"/>\n     <use xlink:href=\"#md26ef96ec2\" x=\"145.178233\" y=\"59.521973\" style=\"fill: #1f77b4; stroke: #1f77b4\"/>\n     <use xlink:href=\"#md26ef96ec2\" x=\"101.052062\" y=\"48.507613\" style=\"fill: #1f77b4; stroke: #1f77b4\"/>\n     <use xlink:href=\"#md26ef96ec2\" x=\"117.750867\" y=\"72.074916\" style=\"fill: #1f77b4; stroke: #1f77b4\"/>\n     <use xlink:href=\"#md26ef96ec2\" x=\"118.560984\" y=\"79.710498\" style=\"fill: #1f77b4; stroke: #1f77b4\"/>\n     <use xlink:href=\"#md26ef96ec2\" x=\"100.650134\" y=\"36.475839\" style=\"fill: #1f77b4; stroke: #1f77b4\"/>\n     <use xlink:href=\"#md26ef96ec2\" x=\"95.889552\" y=\"38.30998\" style=\"fill: #1f77b4; stroke: #1f77b4\"/>\n     <use xlink:href=\"#md26ef96ec2\" x=\"109.912805\" y=\"24.79718\" style=\"fill: #1f77b4; stroke: #1f77b4\"/>\n     <use xlink:href=\"#md26ef96ec2\" x=\"127.202684\" y=\"50.738648\" style=\"fill: #1f77b4; stroke: #1f77b4\"/>\n     <use xlink:href=\"#md26ef96ec2\" x=\"82.297827\" y=\"36.409995\" style=\"fill: #1f77b4; stroke: #1f77b4\"/>\n     <use xlink:href=\"#md26ef96ec2\" x=\"119.229968\" y=\"69.177122\" style=\"fill: #1f77b4; stroke: #1f77b4\"/>\n     <use xlink:href=\"#md26ef96ec2\" x=\"117.129522\" y=\"76.89617\" style=\"fill: #1f77b4; stroke: #1f77b4\"/>\n     <use xlink:href=\"#md26ef96ec2\" x=\"134.597966\" y=\"72.669366\" style=\"fill: #1f77b4; stroke: #1f77b4\"/>\n     <use xlink:href=\"#md26ef96ec2\" x=\"138.107537\" y=\"71.338139\" style=\"fill: #1f77b4; stroke: #1f77b4\"/>\n     <use xlink:href=\"#md26ef96ec2\" x=\"115.892659\" y=\"63.838294\" style=\"fill: #1f77b4; stroke: #1f77b4\"/>\n     <use xlink:href=\"#md26ef96ec2\" x=\"152.472471\" y=\"72.570343\" style=\"fill: #1f77b4; stroke: #1f77b4\"/>\n     <use xlink:href=\"#md26ef96ec2\" x=\"108.298887\" y=\"54.714437\" style=\"fill: #1f77b4; stroke: #1f77b4\"/>\n     <use xlink:href=\"#md26ef96ec2\" x=\"156.96231\" y=\"80.339693\" style=\"fill: #1f77b4; stroke: #1f77b4\"/>\n     <use xlink:href=\"#md26ef96ec2\" x=\"142.329194\" y=\"91.856339\" style=\"fill: #1f77b4; stroke: #1f77b4\"/>\n     <use xlink:href=\"#md26ef96ec2\" x=\"164.605824\" y=\"93.151789\" style=\"fill: #1f77b4; stroke: #1f77b4\"/>\n     <use xlink:href=\"#md26ef96ec2\" x=\"158.291288\" y=\"78.351761\" style=\"fill: #1f77b4; stroke: #1f77b4\"/>\n     <use xlink:href=\"#md26ef96ec2\" x=\"141.734801\" y=\"89.398213\" style=\"fill: #1f77b4; stroke: #1f77b4\"/>\n     <use xlink:href=\"#md26ef96ec2\" x=\"92.375095\" y=\"51.188863\" style=\"fill: #1f77b4; stroke: #1f77b4\"/>\n     <use xlink:href=\"#md26ef96ec2\" x=\"62.732247\" y=\"36.185525\" style=\"fill: #1f77b4; stroke: #1f77b4\"/>\n     <use xlink:href=\"#md26ef96ec2\" x=\"142.684337\" y=\"74.459354\" style=\"fill: #1f77b4; stroke: #1f77b4\"/>\n     <use xlink:href=\"#md26ef96ec2\" x=\"112.338806\" y=\"73.039017\" style=\"fill: #1f77b4; stroke: #1f77b4\"/>\n     <use xlink:href=\"#md26ef96ec2\" x=\"134.616868\" y=\"61.684057\" style=\"fill: #1f77b4; stroke: #1f77b4\"/>\n     <use xlink:href=\"#md26ef96ec2\" x=\"164.771914\" y=\"84.87216\" style=\"fill: #1f77b4; stroke: #1f77b4\"/>\n     <use xlink:href=\"#md26ef96ec2\" x=\"128.523274\" y=\"81.932299\" style=\"fill: #1f77b4; stroke: #1f77b4\"/>\n     <use xlink:href=\"#md26ef96ec2\" x=\"128.558305\" y=\"84.451628\" style=\"fill: #1f77b4; stroke: #1f77b4\"/>\n     <use xlink:href=\"#md26ef96ec2\" x=\"135.872301\" y=\"78.929927\" style=\"fill: #1f77b4; stroke: #1f77b4\"/>\n     <use xlink:href=\"#md26ef96ec2\" x=\"120.963839\" y=\"55.995526\" style=\"fill: #1f77b4; stroke: #1f77b4\"/>\n     <use xlink:href=\"#md26ef96ec2\" x=\"173.232668\" y=\"97.398396\" style=\"fill: #1f77b4; stroke: #1f77b4\"/>\n     <use xlink:href=\"#md26ef96ec2\" x=\"141.997335\" y=\"86.044867\" style=\"fill: #1f77b4; stroke: #1f77b4\"/>\n     <use xlink:href=\"#md26ef96ec2\" x=\"151.431245\" y=\"82.269658\" style=\"fill: #1f77b4; stroke: #1f77b4\"/>\n     <use xlink:href=\"#md26ef96ec2\" x=\"159.360232\" y=\"79.34146\" style=\"fill: #1f77b4; stroke: #1f77b4\"/>\n     <use xlink:href=\"#md26ef96ec2\" x=\"141.361673\" y=\"77.136599\" style=\"fill: #1f77b4; stroke: #1f77b4\"/>\n     <use xlink:href=\"#md26ef96ec2\" x=\"92.201943\" y=\"39.262125\" style=\"fill: #1f77b4; stroke: #1f77b4\"/>\n     <use xlink:href=\"#md26ef96ec2\" x=\"128.961597\" y=\"64.693189\" style=\"fill: #1f77b4; stroke: #1f77b4\"/>\n     <use xlink:href=\"#md26ef96ec2\" x=\"117.554712\" y=\"61.020157\" style=\"fill: #1f77b4; stroke: #1f77b4\"/>\n     <use xlink:href=\"#md26ef96ec2\" x=\"123.205496\" y=\"64.287122\" style=\"fill: #1f77b4; stroke: #1f77b4\"/>\n     <use xlink:href=\"#md26ef96ec2\" x=\"154.369588\" y=\"89.47297\" style=\"fill: #1f77b4; stroke: #1f77b4\"/>\n     <use xlink:href=\"#md26ef96ec2\" x=\"117.139129\" y=\"62.834317\" style=\"fill: #1f77b4; stroke: #1f77b4\"/>\n     <use xlink:href=\"#md26ef96ec2\" x=\"109.924418\" y=\"45.029005\" style=\"fill: #1f77b4; stroke: #1f77b4\"/>\n     <use xlink:href=\"#md26ef96ec2\" x=\"161.241744\" y=\"100.76768\" style=\"fill: #1f77b4; stroke: #1f77b4\"/>\n     <use xlink:href=\"#md26ef96ec2\" x=\"141.869441\" y=\"84.853913\" style=\"fill: #1f77b4; stroke: #1f77b4\"/>\n     <use xlink:href=\"#md26ef96ec2\" x=\"121.708979\" y=\"56.934753\" style=\"fill: #1f77b4; stroke: #1f77b4\"/>\n     <use xlink:href=\"#md26ef96ec2\" x=\"172.6218\" y=\"85.223695\" style=\"fill: #1f77b4; stroke: #1f77b4\"/>\n     <use xlink:href=\"#md26ef96ec2\" x=\"165.174539\" y=\"87.802182\" style=\"fill: #1f77b4; stroke: #1f77b4\"/>\n     <use xlink:href=\"#md26ef96ec2\" x=\"129.53145\" y=\"65.265861\" style=\"fill: #1f77b4; stroke: #1f77b4\"/>\n     <use xlink:href=\"#md26ef96ec2\" x=\"176.66856\" y=\"97.029221\" style=\"fill: #1f77b4; stroke: #1f77b4\"/>\n     <use xlink:href=\"#md26ef96ec2\" x=\"101.347932\" y=\"51.788029\" style=\"fill: #1f77b4; stroke: #1f77b4\"/>\n     <use xlink:href=\"#md26ef96ec2\" x=\"150.736426\" y=\"84.517665\" style=\"fill: #1f77b4; stroke: #1f77b4\"/>\n     <use xlink:href=\"#md26ef96ec2\" x=\"91.979283\" y=\"51.523448\" style=\"fill: #1f77b4; stroke: #1f77b4\"/>\n     <use xlink:href=\"#md26ef96ec2\" x=\"104.621726\" y=\"56.576491\" style=\"fill: #1f77b4; stroke: #1f77b4\"/>\n     <use xlink:href=\"#md26ef96ec2\" x=\"129.210916\" y=\"82.564604\" style=\"fill: #1f77b4; stroke: #1f77b4\"/>\n     <use xlink:href=\"#md26ef96ec2\" x=\"129.928402\" y=\"55.326525\" style=\"fill: #1f77b4; stroke: #1f77b4\"/>\n     <use xlink:href=\"#md26ef96ec2\" x=\"109.23786\" y=\"61.706911\" style=\"fill: #1f77b4; stroke: #1f77b4\"/>\n     <use xlink:href=\"#md26ef96ec2\" x=\"114.633549\" y=\"60.092133\" style=\"fill: #1f77b4; stroke: #1f77b4\"/>\n     <use xlink:href=\"#md26ef96ec2\" x=\"126.258501\" y=\"57.062416\" style=\"fill: #1f77b4; stroke: #1f77b4\"/>\n     <use xlink:href=\"#md26ef96ec2\" x=\"112.818868\" y=\"64.159345\" style=\"fill: #1f77b4; stroke: #1f77b4\"/>\n     <use xlink:href=\"#md26ef96ec2\" x=\"153.224927\" y=\"62.271359\" style=\"fill: #1f77b4; stroke: #1f77b4\"/>\n     <use xlink:href=\"#md26ef96ec2\" x=\"129.984208\" y=\"64.06828\" style=\"fill: #1f77b4; stroke: #1f77b4\"/>\n     <use xlink:href=\"#md26ef96ec2\" x=\"143.708564\" y=\"72.182536\" style=\"fill: #1f77b4; stroke: #1f77b4\"/>\n     <use xlink:href=\"#md26ef96ec2\" x=\"83.843847\" y=\"36.871659\" style=\"fill: #1f77b4; stroke: #1f77b4\"/>\n     <use xlink:href=\"#md26ef96ec2\" x=\"153.713595\" y=\"97.500432\" style=\"fill: #1f77b4; stroke: #1f77b4\"/>\n     <use xlink:href=\"#md26ef96ec2\" x=\"173.647539\" y=\"115.430704\" style=\"fill: #1f77b4; stroke: #1f77b4\"/>\n     <use xlink:href=\"#md26ef96ec2\" x=\"113.676884\" y=\"55.912188\" style=\"fill: #1f77b4; stroke: #1f77b4\"/>\n     <use xlink:href=\"#md26ef96ec2\" x=\"101.444925\" y=\"47.699004\" style=\"fill: #1f77b4; stroke: #1f77b4\"/>\n     <use xlink:href=\"#md26ef96ec2\" x=\"117.734333\" y=\"41.344524\" style=\"fill: #1f77b4; stroke: #1f77b4\"/>\n     <use xlink:href=\"#md26ef96ec2\" x=\"127.876622\" y=\"60.463675\" style=\"fill: #1f77b4; stroke: #1f77b4\"/>\n     <use xlink:href=\"#md26ef96ec2\" x=\"111.828081\" y=\"73.674245\" style=\"fill: #1f77b4; stroke: #1f77b4\"/>\n     <use xlink:href=\"#md26ef96ec2\" x=\"139.641644\" y=\"71.605621\" style=\"fill: #1f77b4; stroke: #1f77b4\"/>\n     <use xlink:href=\"#md26ef96ec2\" x=\"221.678018\" y=\"136.922727\" style=\"fill: #1f77b4; stroke: #1f77b4\"/>\n     <use xlink:href=\"#md26ef96ec2\" x=\"132.497923\" y=\"67.304288\" style=\"fill: #1f77b4; stroke: #1f77b4\"/>\n     <use xlink:href=\"#md26ef96ec2\" x=\"120.600202\" y=\"65.988632\" style=\"fill: #1f77b4; stroke: #1f77b4\"/>\n     <use xlink:href=\"#md26ef96ec2\" x=\"113.384905\" y=\"72.926007\" style=\"fill: #1f77b4; stroke: #1f77b4\"/>\n     <use xlink:href=\"#md26ef96ec2\" x=\"123.252802\" y=\"56.309834\" style=\"fill: #1f77b4; stroke: #1f77b4\"/>\n     <use xlink:href=\"#md26ef96ec2\" x=\"122.033797\" y=\"70.632228\" style=\"fill: #1f77b4; stroke: #1f77b4\"/>\n     <use xlink:href=\"#md26ef96ec2\" x=\"111.631517\" y=\"59.518013\" style=\"fill: #1f77b4; stroke: #1f77b4\"/>\n     <use xlink:href=\"#md26ef96ec2\" x=\"156.707094\" y=\"84.703513\" style=\"fill: #1f77b4; stroke: #1f77b4\"/>\n     <use xlink:href=\"#md26ef96ec2\" x=\"150.003296\" y=\"72.952247\" style=\"fill: #1f77b4; stroke: #1f77b4\"/>\n     <use xlink:href=\"#md26ef96ec2\" x=\"157.477121\" y=\"92.371147\" style=\"fill: #1f77b4; stroke: #1f77b4\"/>\n     <use xlink:href=\"#md26ef96ec2\" x=\"78.014456\" y=\"23.214566\" style=\"fill: #1f77b4; stroke: #1f77b4\"/>\n     <use xlink:href=\"#md26ef96ec2\" x=\"114.456767\" y=\"47.286187\" style=\"fill: #1f77b4; stroke: #1f77b4\"/>\n     <use xlink:href=\"#md26ef96ec2\" x=\"110.756068\" y=\"52.235993\" style=\"fill: #1f77b4; stroke: #1f77b4\"/>\n     <use xlink:href=\"#md26ef96ec2\" x=\"115.780558\" y=\"65.212748\" style=\"fill: #1f77b4; stroke: #1f77b4\"/>\n     <use xlink:href=\"#md26ef96ec2\" x=\"142.908341\" y=\"93.568942\" style=\"fill: #1f77b4; stroke: #1f77b4\"/>\n     <use xlink:href=\"#md26ef96ec2\" x=\"91.293863\" y=\"56.017304\" style=\"fill: #1f77b4; stroke: #1f77b4\"/>\n     <use xlink:href=\"#md26ef96ec2\" x=\"118.950471\" y=\"69.174352\" style=\"fill: #1f77b4; stroke: #1f77b4\"/>\n     <use xlink:href=\"#md26ef96ec2\" x=\"94.85157\" y=\"46.530351\" style=\"fill: #1f77b4; stroke: #1f77b4\"/>\n     <use xlink:href=\"#md26ef96ec2\" x=\"132.687662\" y=\"69.506326\" style=\"fill: #1f77b4; stroke: #1f77b4\"/>\n     <use xlink:href=\"#md26ef96ec2\" x=\"102.383669\" y=\"47.367491\" style=\"fill: #1f77b4; stroke: #1f77b4\"/>\n     <use xlink:href=\"#md26ef96ec2\" x=\"100.15566\" y=\"50.91392\" style=\"fill: #1f77b4; stroke: #1f77b4\"/>\n     <use xlink:href=\"#md26ef96ec2\" x=\"149.430422\" y=\"83.624074\" style=\"fill: #1f77b4; stroke: #1f77b4\"/>\n     <use xlink:href=\"#md26ef96ec2\" x=\"155.210718\" y=\"69.507446\" style=\"fill: #1f77b4; stroke: #1f77b4\"/>\n     <use xlink:href=\"#md26ef96ec2\" x=\"141.492157\" y=\"92.836971\" style=\"fill: #1f77b4; stroke: #1f77b4\"/>\n     <use xlink:href=\"#md26ef96ec2\" x=\"125.836789\" y=\"68.487591\" style=\"fill: #1f77b4; stroke: #1f77b4\"/>\n     <use xlink:href=\"#md26ef96ec2\" x=\"162.838873\" y=\"91.24205\" style=\"fill: #1f77b4; stroke: #1f77b4\"/>\n     <use xlink:href=\"#md26ef96ec2\" x=\"110.582414\" y=\"47.275502\" style=\"fill: #1f77b4; stroke: #1f77b4\"/>\n     <use xlink:href=\"#md26ef96ec2\" x=\"154.78877\" y=\"90.371877\" style=\"fill: #1f77b4; stroke: #1f77b4\"/>\n     <use xlink:href=\"#md26ef96ec2\" x=\"101.985606\" y=\"60.675987\" style=\"fill: #1f77b4; stroke: #1f77b4\"/>\n     <use xlink:href=\"#md26ef96ec2\" x=\"161.249557\" y=\"95.616667\" style=\"fill: #1f77b4; stroke: #1f77b4\"/>\n     <use xlink:href=\"#md26ef96ec2\" x=\"127.790974\" y=\"61.173498\" style=\"fill: #1f77b4; stroke: #1f77b4\"/>\n     <use xlink:href=\"#md26ef96ec2\" x=\"107.75316\" y=\"55.755502\" style=\"fill: #1f77b4; stroke: #1f77b4\"/>\n     <use xlink:href=\"#md26ef96ec2\" x=\"83.075173\" y=\"55.464297\" style=\"fill: #1f77b4; stroke: #1f77b4\"/>\n     <use xlink:href=\"#md26ef96ec2\" x=\"112.459054\" y=\"56.854742\" style=\"fill: #1f77b4; stroke: #1f77b4\"/>\n     <use xlink:href=\"#md26ef96ec2\" x=\"55.882357\" y=\"23.800452\" style=\"fill: #1f77b4; stroke: #1f77b4\"/>\n     <use xlink:href=\"#md26ef96ec2\" x=\"106.72799\" y=\"58.081643\" style=\"fill: #1f77b4; stroke: #1f77b4\"/>\n     <use xlink:href=\"#md26ef96ec2\" x=\"110.264167\" y=\"46.730792\" style=\"fill: #1f77b4; stroke: #1f77b4\"/>\n     <use xlink:href=\"#md26ef96ec2\" x=\"167.469508\" y=\"88.771218\" style=\"fill: #1f77b4; stroke: #1f77b4\"/>\n     <use xlink:href=\"#md26ef96ec2\" x=\"117.117542\" y=\"67.677144\" style=\"fill: #1f77b4; stroke: #1f77b4\"/>\n     <use xlink:href=\"#md26ef96ec2\" x=\"130.501579\" y=\"64.552784\" style=\"fill: #1f77b4; stroke: #1f77b4\"/>\n     <use xlink:href=\"#md26ef96ec2\" x=\"174.109818\" y=\"110.556763\" style=\"fill: #1f77b4; stroke: #1f77b4\"/>\n     <use xlink:href=\"#md26ef96ec2\" x=\"125.985473\" y=\"85.5322\" style=\"fill: #1f77b4; stroke: #1f77b4\"/>\n     <use xlink:href=\"#md26ef96ec2\" x=\"141.880712\" y=\"72.099119\" style=\"fill: #1f77b4; stroke: #1f77b4\"/>\n     <use xlink:href=\"#md26ef96ec2\" x=\"158.859687\" y=\"92.157906\" style=\"fill: #1f77b4; stroke: #1f77b4\"/>\n     <use xlink:href=\"#md26ef96ec2\" x=\"134.367867\" y=\"71.694346\" style=\"fill: #1f77b4; stroke: #1f77b4\"/>\n     <use xlink:href=\"#md26ef96ec2\" x=\"133.961982\" y=\"77.51585\" style=\"fill: #1f77b4; stroke: #1f77b4\"/>\n     <use xlink:href=\"#md26ef96ec2\" x=\"171.746315\" y=\"86.27802\" style=\"fill: #1f77b4; stroke: #1f77b4\"/>\n     <use xlink:href=\"#md26ef96ec2\" x=\"121.404174\" y=\"47.208596\" style=\"fill: #1f77b4; stroke: #1f77b4\"/>\n     <use xlink:href=\"#md26ef96ec2\" x=\"168.144231\" y=\"95.181024\" style=\"fill: #1f77b4; stroke: #1f77b4\"/>\n     <use xlink:href=\"#md26ef96ec2\" x=\"143.965935\" y=\"70.893296\" style=\"fill: #1f77b4; stroke: #1f77b4\"/>\n     <use xlink:href=\"#md26ef96ec2\" x=\"88.788771\" y=\"61.406585\" style=\"fill: #1f77b4; stroke: #1f77b4\"/>\n     <use xlink:href=\"#md26ef96ec2\" x=\"156.538019\" y=\"91.144824\" style=\"fill: #1f77b4; stroke: #1f77b4\"/>\n     <use xlink:href=\"#md26ef96ec2\" x=\"136.948402\" y=\"71.826002\" style=\"fill: #1f77b4; stroke: #1f77b4\"/>\n     <use xlink:href=\"#md26ef96ec2\" x=\"81.519152\" y=\"32.380817\" style=\"fill: #1f77b4; stroke: #1f77b4\"/>\n     <use xlink:href=\"#md26ef96ec2\" x=\"161.166141\" y=\"95.03549\" style=\"fill: #1f77b4; stroke: #1f77b4\"/>\n     <use xlink:href=\"#md26ef96ec2\" x=\"136.502727\" y=\"49.940672\" style=\"fill: #1f77b4; stroke: #1f77b4\"/>\n     <use xlink:href=\"#md26ef96ec2\" x=\"114.546503\" y=\"77.495532\" style=\"fill: #1f77b4; stroke: #1f77b4\"/>\n     <use xlink:href=\"#md26ef96ec2\" x=\"146.032932\" y=\"88.180438\" style=\"fill: #1f77b4; stroke: #1f77b4\"/>\n     <use xlink:href=\"#md26ef96ec2\" x=\"159.659838\" y=\"95.022208\" style=\"fill: #1f77b4; stroke: #1f77b4\"/>\n     <use xlink:href=\"#md26ef96ec2\" x=\"76.654339\" y=\"47.561524\" style=\"fill: #1f77b4; stroke: #1f77b4\"/>\n     <use xlink:href=\"#md26ef96ec2\" x=\"153.836357\" y=\"101.716707\" style=\"fill: #1f77b4; stroke: #1f77b4\"/>\n     <use xlink:href=\"#md26ef96ec2\" x=\"109.18314\" y=\"49.627332\" style=\"fill: #1f77b4; stroke: #1f77b4\"/>\n     <use xlink:href=\"#md26ef96ec2\" x=\"90.962428\" y=\"44.627712\" style=\"fill: #1f77b4; stroke: #1f77b4\"/>\n     <use xlink:href=\"#md26ef96ec2\" x=\"164.595112\" y=\"97.680188\" style=\"fill: #1f77b4; stroke: #1f77b4\"/>\n     <use xlink:href=\"#md26ef96ec2\" x=\"139.092894\" y=\"79.242475\" style=\"fill: #1f77b4; stroke: #1f77b4\"/>\n     <use xlink:href=\"#md26ef96ec2\" x=\"119.456403\" y=\"64.725984\" style=\"fill: #1f77b4; stroke: #1f77b4\"/>\n     <use xlink:href=\"#md26ef96ec2\" x=\"125.326063\" y=\"65.078108\" style=\"fill: #1f77b4; stroke: #1f77b4\"/>\n     <use xlink:href=\"#md26ef96ec2\" x=\"95.156221\" y=\"55.228437\" style=\"fill: #1f77b4; stroke: #1f77b4\"/>\n     <use xlink:href=\"#md26ef96ec2\" x=\"122.647692\" y=\"67.626785\" style=\"fill: #1f77b4; stroke: #1f77b4\"/>\n     <use xlink:href=\"#md26ef96ec2\" x=\"114.114514\" y=\"64.621016\" style=\"fill: #1f77b4; stroke: #1f77b4\"/>\n     <use xlink:href=\"#md26ef96ec2\" x=\"148.66705\" y=\"93.970872\" style=\"fill: #1f77b4; stroke: #1f77b4\"/>\n     <use xlink:href=\"#md26ef96ec2\" x=\"117.407048\" y=\"74.651006\" style=\"fill: #1f77b4; stroke: #1f77b4\"/>\n     <use xlink:href=\"#md26ef96ec2\" x=\"163.029996\" y=\"77.67878\" style=\"fill: #1f77b4; stroke: #1f77b4\"/>\n     <use xlink:href=\"#md26ef96ec2\" x=\"111.397519\" y=\"43.829651\" style=\"fill: #1f77b4; stroke: #1f77b4\"/>\n     <use xlink:href=\"#md26ef96ec2\" x=\"130.012477\" y=\"83.148\" style=\"fill: #1f77b4; stroke: #1f77b4\"/>\n     <use xlink:href=\"#md26ef96ec2\" x=\"127.84147\" y=\"81.078299\" style=\"fill: #1f77b4; stroke: #1f77b4\"/>\n     <use xlink:href=\"#md26ef96ec2\" x=\"111.953145\" y=\"66.26113\" style=\"fill: #1f77b4; stroke: #1f77b4\"/>\n     <use xlink:href=\"#md26ef96ec2\" x=\"108.818202\" y=\"54.884893\" style=\"fill: #1f77b4; stroke: #1f77b4\"/>\n     <use xlink:href=\"#md26ef96ec2\" x=\"90.34915\" y=\"45.047397\" style=\"fill: #1f77b4; stroke: #1f77b4\"/>\n     <use xlink:href=\"#md26ef96ec2\" x=\"106.563138\" y=\"57.94273\" style=\"fill: #1f77b4; stroke: #1f77b4\"/>\n     <use xlink:href=\"#md26ef96ec2\" x=\"79.226012\" y=\"58.597991\" style=\"fill: #1f77b4; stroke: #1f77b4\"/>\n     <use xlink:href=\"#md26ef96ec2\" x=\"135.172916\" y=\"69.663258\" style=\"fill: #1f77b4; stroke: #1f77b4\"/>\n     <use xlink:href=\"#md26ef96ec2\" x=\"116.361229\" y=\"65.402732\" style=\"fill: #1f77b4; stroke: #1f77b4\"/>\n     <use xlink:href=\"#md26ef96ec2\" x=\"136.318119\" y=\"73.327122\" style=\"fill: #1f77b4; stroke: #1f77b4\"/>\n     <use xlink:href=\"#md26ef96ec2\" x=\"133.496813\" y=\"61.654243\" style=\"fill: #1f77b4; stroke: #1f77b4\"/>\n     <use xlink:href=\"#md26ef96ec2\" x=\"115.663804\" y=\"72.142438\" style=\"fill: #1f77b4; stroke: #1f77b4\"/>\n     <use xlink:href=\"#md26ef96ec2\" x=\"141.682673\" y=\"81.319608\" style=\"fill: #1f77b4; stroke: #1f77b4\"/>\n     <use xlink:href=\"#md26ef96ec2\" x=\"145.583564\" y=\"82.189897\" style=\"fill: #1f77b4; stroke: #1f77b4\"/>\n     <use xlink:href=\"#md26ef96ec2\" x=\"154.123232\" y=\"97.446296\" style=\"fill: #1f77b4; stroke: #1f77b4\"/>\n     <use xlink:href=\"#md26ef96ec2\" x=\"107.963595\" y=\"56.078535\" style=\"fill: #1f77b4; stroke: #1f77b4\"/>\n     <use xlink:href=\"#md26ef96ec2\" x=\"123.236385\" y=\"77.441967\" style=\"fill: #1f77b4; stroke: #1f77b4\"/>\n     <use xlink:href=\"#md26ef96ec2\" x=\"61.091964\" y=\"23.210644\" style=\"fill: #1f77b4; stroke: #1f77b4\"/>\n     <use xlink:href=\"#md26ef96ec2\" x=\"123.29818\" y=\"71.070163\" style=\"fill: #1f77b4; stroke: #1f77b4\"/>\n     <use xlink:href=\"#md26ef96ec2\" x=\"130.821384\" y=\"43.928399\" style=\"fill: #1f77b4; stroke: #1f77b4\"/>\n     <use xlink:href=\"#md26ef96ec2\" x=\"156.579558\" y=\"87.009775\" style=\"fill: #1f77b4; stroke: #1f77b4\"/>\n     <use xlink:href=\"#md26ef96ec2\" x=\"117.329971\" y=\"55.32541\" style=\"fill: #1f77b4; stroke: #1f77b4\"/>\n     <use xlink:href=\"#md26ef96ec2\" x=\"172.380374\" y=\"89.967474\" style=\"fill: #1f77b4; stroke: #1f77b4\"/>\n     <use xlink:href=\"#md26ef96ec2\" x=\"193.07177\" y=\"97.224473\" style=\"fill: #1f77b4; stroke: #1f77b4\"/>\n     <use xlink:href=\"#md26ef96ec2\" x=\"121.635425\" y=\"53.576142\" style=\"fill: #1f77b4; stroke: #1f77b4\"/>\n     <use xlink:href=\"#md26ef96ec2\" x=\"111.310345\" y=\"53.323461\" style=\"fill: #1f77b4; stroke: #1f77b4\"/>\n     <use xlink:href=\"#md26ef96ec2\" x=\"120.463004\" y=\"74.620816\" style=\"fill: #1f77b4; stroke: #1f77b4\"/>\n     <use xlink:href=\"#md26ef96ec2\" x=\"119.424455\" y=\"54.93834\" style=\"fill: #1f77b4; stroke: #1f77b4\"/>\n     <use xlink:href=\"#md26ef96ec2\" x=\"122.816718\" y=\"65.038578\" style=\"fill: #1f77b4; stroke: #1f77b4\"/>\n     <use xlink:href=\"#md26ef96ec2\" x=\"172.463781\" y=\"110.320881\" style=\"fill: #1f77b4; stroke: #1f77b4\"/>\n     <use xlink:href=\"#md26ef96ec2\" x=\"139.809493\" y=\"79.343948\" style=\"fill: #1f77b4; stroke: #1f77b4\"/>\n     <use xlink:href=\"#md26ef96ec2\" x=\"125.757075\" y=\"71.091327\" style=\"fill: #1f77b4; stroke: #1f77b4\"/>\n     <use xlink:href=\"#md26ef96ec2\" x=\"149.304372\" y=\"78.325284\" style=\"fill: #1f77b4; stroke: #1f77b4\"/>\n     <use xlink:href=\"#md26ef96ec2\" x=\"132.429601\" y=\"66.040208\" style=\"fill: #1f77b4; stroke: #1f77b4\"/>\n     <use xlink:href=\"#md26ef96ec2\" x=\"136.738523\" y=\"71.848614\" style=\"fill: #1f77b4; stroke: #1f77b4\"/>\n     <use xlink:href=\"#md26ef96ec2\" x=\"121.58864\" y=\"67.463316\" style=\"fill: #1f77b4; stroke: #1f77b4\"/>\n     <use xlink:href=\"#md26ef96ec2\" x=\"145.309734\" y=\"61.342871\" style=\"fill: #1f77b4; stroke: #1f77b4\"/>\n     <use xlink:href=\"#md26ef96ec2\" x=\"95.375662\" y=\"55.424279\" style=\"fill: #1f77b4; stroke: #1f77b4\"/>\n     <use xlink:href=\"#md26ef96ec2\" x=\"162.348027\" y=\"76.243569\" style=\"fill: #1f77b4; stroke: #1f77b4\"/>\n     <use xlink:href=\"#md26ef96ec2\" x=\"108.334153\" y=\"61.627607\" style=\"fill: #1f77b4; stroke: #1f77b4\"/>\n     <use xlink:href=\"#md26ef96ec2\" x=\"168.677836\" y=\"94.554006\" style=\"fill: #1f77b4; stroke: #1f77b4\"/>\n     <use xlink:href=\"#md26ef96ec2\" x=\"112.968114\" y=\"63.741056\" style=\"fill: #1f77b4; stroke: #1f77b4\"/>\n     <use xlink:href=\"#md26ef96ec2\" x=\"82.42469\" y=\"32.908976\" style=\"fill: #1f77b4; stroke: #1f77b4\"/>\n     <use xlink:href=\"#md26ef96ec2\" x=\"142.33276\" y=\"98.364558\" style=\"fill: #1f77b4; stroke: #1f77b4\"/>\n     <use xlink:href=\"#md26ef96ec2\" x=\"92.429182\" y=\"43.232574\" style=\"fill: #1f77b4; stroke: #1f77b4\"/>\n     <use xlink:href=\"#md26ef96ec2\" x=\"115.685935\" y=\"62.315714\" style=\"fill: #1f77b4; stroke: #1f77b4\"/>\n     <use xlink:href=\"#md26ef96ec2\" x=\"110.454308\" y=\"69.261132\" style=\"fill: #1f77b4; stroke: #1f77b4\"/>\n     <use xlink:href=\"#md26ef96ec2\" x=\"153.76175\" y=\"64.915632\" style=\"fill: #1f77b4; stroke: #1f77b4\"/>\n     <use xlink:href=\"#md26ef96ec2\" x=\"126.079253\" y=\"81.455976\" style=\"fill: #1f77b4; stroke: #1f77b4\"/>\n     <use xlink:href=\"#md26ef96ec2\" x=\"139.80353\" y=\"65.258234\" style=\"fill: #1f77b4; stroke: #1f77b4\"/>\n     <use xlink:href=\"#md26ef96ec2\" x=\"132.507885\" y=\"74.539095\" style=\"fill: #1f77b4; stroke: #1f77b4\"/>\n     <use xlink:href=\"#md26ef96ec2\" x=\"120.709413\" y=\"78.163109\" style=\"fill: #1f77b4; stroke: #1f77b4\"/>\n     <use xlink:href=\"#md26ef96ec2\" x=\"135.74953\" y=\"83.684967\" style=\"fill: #1f77b4; stroke: #1f77b4\"/>\n     <use xlink:href=\"#md26ef96ec2\" x=\"101.792865\" y=\"37.355422\" style=\"fill: #1f77b4; stroke: #1f77b4\"/>\n     <use xlink:href=\"#md26ef96ec2\" x=\"143.967419\" y=\"77.583223\" style=\"fill: #1f77b4; stroke: #1f77b4\"/>\n     <use xlink:href=\"#md26ef96ec2\" x=\"157.576638\" y=\"87.49175\" style=\"fill: #1f77b4; stroke: #1f77b4\"/>\n     <use xlink:href=\"#md26ef96ec2\" x=\"86.253717\" y=\"41.217684\" style=\"fill: #1f77b4; stroke: #1f77b4\"/>\n     <use xlink:href=\"#md26ef96ec2\" x=\"123.815199\" y=\"85.504897\" style=\"fill: #1f77b4; stroke: #1f77b4\"/>\n     <use xlink:href=\"#md26ef96ec2\" x=\"95.104491\" y=\"66.51253\" style=\"fill: #1f77b4; stroke: #1f77b4\"/>\n     <use xlink:href=\"#md26ef96ec2\" x=\"118.260764\" y=\"74.928661\" style=\"fill: #1f77b4; stroke: #1f77b4\"/>\n     <use xlink:href=\"#md26ef96ec2\" x=\"126.350177\" y=\"72.263691\" style=\"fill: #1f77b4; stroke: #1f77b4\"/>\n     <use xlink:href=\"#md26ef96ec2\" x=\"138.217929\" y=\"63.596519\" style=\"fill: #1f77b4; stroke: #1f77b4\"/>\n     <use xlink:href=\"#md26ef96ec2\" x=\"121.761078\" y=\"59.784416\" style=\"fill: #1f77b4; stroke: #1f77b4\"/>\n     <use xlink:href=\"#md26ef96ec2\" x=\"175.911306\" y=\"101.433592\" style=\"fill: #1f77b4; stroke: #1f77b4\"/>\n     <use xlink:href=\"#md26ef96ec2\" x=\"102.472324\" y=\"41.261961\" style=\"fill: #1f77b4; stroke: #1f77b4\"/>\n     <use xlink:href=\"#md26ef96ec2\" x=\"131.119572\" y=\"82.867505\" style=\"fill: #1f77b4; stroke: #1f77b4\"/>\n     <use xlink:href=\"#md26ef96ec2\" x=\"94.612112\" y=\"42.184212\" style=\"fill: #1f77b4; stroke: #1f77b4\"/>\n     <use xlink:href=\"#md26ef96ec2\" x=\"113.823687\" y=\"58.346134\" style=\"fill: #1f77b4; stroke: #1f77b4\"/>\n     <use xlink:href=\"#md26ef96ec2\" x=\"101.555662\" y=\"65.246085\" style=\"fill: #1f77b4; stroke: #1f77b4\"/>\n     <use xlink:href=\"#md26ef96ec2\" x=\"131.114098\" y=\"64.580786\" style=\"fill: #1f77b4; stroke: #1f77b4\"/>\n     <use xlink:href=\"#md26ef96ec2\" x=\"130.537148\" y=\"52.487169\" style=\"fill: #1f77b4; stroke: #1f77b4\"/>\n     <use xlink:href=\"#md26ef96ec2\" x=\"151.254957\" y=\"87.577933\" style=\"fill: #1f77b4; stroke: #1f77b4\"/>\n     <use xlink:href=\"#md26ef96ec2\" x=\"147.981955\" y=\"80.947702\" style=\"fill: #1f77b4; stroke: #1f77b4\"/>\n     <use xlink:href=\"#md26ef96ec2\" x=\"116.289995\" y=\"61.269338\" style=\"fill: #1f77b4; stroke: #1f77b4\"/>\n     <use xlink:href=\"#md26ef96ec2\" x=\"75.266466\" y=\"47.70646\" style=\"fill: #1f77b4; stroke: #1f77b4\"/>\n     <use xlink:href=\"#md26ef96ec2\" x=\"44.18196\" y=\"17.077241\" style=\"fill: #1f77b4; stroke: #1f77b4\"/>\n     <use xlink:href=\"#md26ef96ec2\" x=\"151.464388\" y=\"74.959747\" style=\"fill: #1f77b4; stroke: #1f77b4\"/>\n     <use xlink:href=\"#md26ef96ec2\" x=\"95.746802\" y=\"35.633254\" style=\"fill: #1f77b4; stroke: #1f77b4\"/>\n     <use xlink:href=\"#md26ef96ec2\" x=\"126.094403\" y=\"60.425481\" style=\"fill: #1f77b4; stroke: #1f77b4\"/>\n     <use xlink:href=\"#md26ef96ec2\" x=\"120.672575\" y=\"46.291078\" style=\"fill: #1f77b4; stroke: #1f77b4\"/>\n     <use xlink:href=\"#md26ef96ec2\" x=\"74.313479\" y=\"29.292223\" style=\"fill: #1f77b4; stroke: #1f77b4\"/>\n     <use xlink:href=\"#md26ef96ec2\" x=\"129.137626\" y=\"78.359412\" style=\"fill: #1f77b4; stroke: #1f77b4\"/>\n     <use xlink:href=\"#md26ef96ec2\" x=\"156.239969\" y=\"75.197481\" style=\"fill: #1f77b4; stroke: #1f77b4\"/>\n     <use xlink:href=\"#md26ef96ec2\" x=\"162.463225\" y=\"91.432418\" style=\"fill: #1f77b4; stroke: #1f77b4\"/>\n     <use xlink:href=\"#md26ef96ec2\" x=\"145.983683\" y=\"80.866427\" style=\"fill: #1f77b4; stroke: #1f77b4\"/>\n     <use xlink:href=\"#md26ef96ec2\" x=\"117.750691\" y=\"69.068008\" style=\"fill: #1f77b4; stroke: #1f77b4\"/>\n     <use xlink:href=\"#md26ef96ec2\" x=\"130.868663\" y=\"70.825544\" style=\"fill: #1f77b4; stroke: #1f77b4\"/>\n     <use xlink:href=\"#md26ef96ec2\" x=\"86.275065\" y=\"59.014005\" style=\"fill: #1f77b4; stroke: #1f77b4\"/>\n     <use xlink:href=\"#md26ef96ec2\" x=\"128.593297\" y=\"70.761693\" style=\"fill: #1f77b4; stroke: #1f77b4\"/>\n     <use xlink:href=\"#md26ef96ec2\" x=\"110.239186\" y=\"40.854161\" style=\"fill: #1f77b4; stroke: #1f77b4\"/>\n     <use xlink:href=\"#md26ef96ec2\" x=\"154.524556\" y=\"79.165731\" style=\"fill: #1f77b4; stroke: #1f77b4\"/>\n     <use xlink:href=\"#md26ef96ec2\" x=\"119.940158\" y=\"64.036917\" style=\"fill: #1f77b4; stroke: #1f77b4\"/>\n     <use xlink:href=\"#md26ef96ec2\" x=\"183.870779\" y=\"105.757477\" style=\"fill: #1f77b4; stroke: #1f77b4\"/>\n     <use xlink:href=\"#md26ef96ec2\" x=\"132.810411\" y=\"70.162542\" style=\"fill: #1f77b4; stroke: #1f77b4\"/>\n     <use xlink:href=\"#md26ef96ec2\" x=\"121.1023\" y=\"66.509866\" style=\"fill: #1f77b4; stroke: #1f77b4\"/>\n     <use xlink:href=\"#md26ef96ec2\" x=\"129.182713\" y=\"62.848393\" style=\"fill: #1f77b4; stroke: #1f77b4\"/>\n     <use xlink:href=\"#md26ef96ec2\" x=\"123.641473\" y=\"41.720875\" style=\"fill: #1f77b4; stroke: #1f77b4\"/>\n     <use xlink:href=\"#md26ef96ec2\" x=\"128.236876\" y=\"61.433759\" style=\"fill: #1f77b4; stroke: #1f77b4\"/>\n     <use xlink:href=\"#md26ef96ec2\" x=\"142.204959\" y=\"98.047064\" style=\"fill: #1f77b4; stroke: #1f77b4\"/>\n     <use xlink:href=\"#md26ef96ec2\" x=\"166.683768\" y=\"85.810999\" style=\"fill: #1f77b4; stroke: #1f77b4\"/>\n     <use xlink:href=\"#md26ef96ec2\" x=\"138.955114\" y=\"63.728777\" style=\"fill: #1f77b4; stroke: #1f77b4\"/>\n     <use xlink:href=\"#md26ef96ec2\" x=\"88.597965\" y=\"47.652355\" style=\"fill: #1f77b4; stroke: #1f77b4\"/>\n     <use xlink:href=\"#md26ef96ec2\" x=\"92.136109\" y=\"50.154219\" style=\"fill: #1f77b4; stroke: #1f77b4\"/>\n     <use xlink:href=\"#md26ef96ec2\" x=\"122.407309\" y=\"55.660111\" style=\"fill: #1f77b4; stroke: #1f77b4\"/>\n     <use xlink:href=\"#md26ef96ec2\" x=\"138.180194\" y=\"84.834904\" style=\"fill: #1f77b4; stroke: #1f77b4\"/>\n     <use xlink:href=\"#md26ef96ec2\" x=\"97.643255\" y=\"45.87553\" style=\"fill: #1f77b4; stroke: #1f77b4\"/>\n     <use xlink:href=\"#md26ef96ec2\" x=\"151.106913\" y=\"69.680316\" style=\"fill: #1f77b4; stroke: #1f77b4\"/>\n     <use xlink:href=\"#md26ef96ec2\" x=\"146.008027\" y=\"73.119447\" style=\"fill: #1f77b4; stroke: #1f77b4\"/>\n     <use xlink:href=\"#md26ef96ec2\" x=\"126.756376\" y=\"59.982634\" style=\"fill: #1f77b4; stroke: #1f77b4\"/>\n     <use xlink:href=\"#md26ef96ec2\" x=\"118.17677\" y=\"57.533944\" style=\"fill: #1f77b4; stroke: #1f77b4\"/>\n     <use xlink:href=\"#md26ef96ec2\" x=\"119.116873\" y=\"74.54963\" style=\"fill: #1f77b4; stroke: #1f77b4\"/>\n     <use xlink:href=\"#md26ef96ec2\" x=\"82.84587\" y=\"30.442624\" style=\"fill: #1f77b4; stroke: #1f77b4\"/>\n     <use xlink:href=\"#md26ef96ec2\" x=\"139.128312\" y=\"69.885852\" style=\"fill: #1f77b4; stroke: #1f77b4\"/>\n     <use xlink:href=\"#md26ef96ec2\" x=\"130.028038\" y=\"65.322639\" style=\"fill: #1f77b4; stroke: #1f77b4\"/>\n     <use xlink:href=\"#md26ef96ec2\" x=\"158.346354\" y=\"98.624058\" style=\"fill: #1f77b4; stroke: #1f77b4\"/>\n     <use xlink:href=\"#md26ef96ec2\" x=\"116.78685\" y=\"55.516229\" style=\"fill: #1f77b4; stroke: #1f77b4\"/>\n     <use xlink:href=\"#md26ef96ec2\" x=\"108.933092\" y=\"50.991414\" style=\"fill: #1f77b4; stroke: #1f77b4\"/>\n     <use xlink:href=\"#md26ef96ec2\" x=\"145.730757\" y=\"79.661176\" style=\"fill: #1f77b4; stroke: #1f77b4\"/>\n     <use xlink:href=\"#md26ef96ec2\" x=\"90.688209\" y=\"54.102938\" style=\"fill: #1f77b4; stroke: #1f77b4\"/>\n     <use xlink:href=\"#md26ef96ec2\" x=\"66.77703\" y=\"33.273388\" style=\"fill: #1f77b4; stroke: #1f77b4\"/>\n     <use xlink:href=\"#md26ef96ec2\" x=\"140.687462\" y=\"83.351879\" style=\"fill: #1f77b4; stroke: #1f77b4\"/>\n     <use xlink:href=\"#md26ef96ec2\" x=\"135.235492\" y=\"74.059547\" style=\"fill: #1f77b4; stroke: #1f77b4\"/>\n     <use xlink:href=\"#md26ef96ec2\" x=\"168.998646\" y=\"84.58095\" style=\"fill: #1f77b4; stroke: #1f77b4\"/>\n     <use xlink:href=\"#md26ef96ec2\" x=\"124.20749\" y=\"62.722739\" style=\"fill: #1f77b4; stroke: #1f77b4\"/>\n     <use xlink:href=\"#md26ef96ec2\" x=\"119.080494\" y=\"56.694144\" style=\"fill: #1f77b4; stroke: #1f77b4\"/>\n     <use xlink:href=\"#md26ef96ec2\" x=\"161.959179\" y=\"93.6558\" style=\"fill: #1f77b4; stroke: #1f77b4\"/>\n     <use xlink:href=\"#md26ef96ec2\" x=\"149.99031\" y=\"73.504281\" style=\"fill: #1f77b4; stroke: #1f77b4\"/>\n     <use xlink:href=\"#md26ef96ec2\" x=\"122.656338\" y=\"73.679794\" style=\"fill: #1f77b4; stroke: #1f77b4\"/>\n     <use xlink:href=\"#md26ef96ec2\" x=\"135.974545\" y=\"75.662573\" style=\"fill: #1f77b4; stroke: #1f77b4\"/>\n     <use xlink:href=\"#md26ef96ec2\" x=\"165.668881\" y=\"79.808092\" style=\"fill: #1f77b4; stroke: #1f77b4\"/>\n     <use xlink:href=\"#md26ef96ec2\" x=\"99.485531\" y=\"37.146431\" style=\"fill: #1f77b4; stroke: #1f77b4\"/>\n     <use xlink:href=\"#md26ef96ec2\" x=\"148.744683\" y=\"87.018472\" style=\"fill: #1f77b4; stroke: #1f77b4\"/>\n     <use xlink:href=\"#md26ef96ec2\" x=\"102.804177\" y=\"42.678789\" style=\"fill: #1f77b4; stroke: #1f77b4\"/>\n     <use xlink:href=\"#md26ef96ec2\" x=\"71.913053\" y=\"38.776875\" style=\"fill: #1f77b4; stroke: #1f77b4\"/>\n     <use xlink:href=\"#md26ef96ec2\" x=\"136.790366\" y=\"78.159907\" style=\"fill: #1f77b4; stroke: #1f77b4\"/>\n     <use xlink:href=\"#md26ef96ec2\" x=\"135.452312\" y=\"68.067309\" style=\"fill: #1f77b4; stroke: #1f77b4\"/>\n     <use xlink:href=\"#md26ef96ec2\" x=\"131.53787\" y=\"76.542629\" style=\"fill: #1f77b4; stroke: #1f77b4\"/>\n     <use xlink:href=\"#md26ef96ec2\" x=\"93.059029\" y=\"58.710682\" style=\"fill: #1f77b4; stroke: #1f77b4\"/>\n     <use xlink:href=\"#md26ef96ec2\" x=\"80.852161\" y=\"45.987197\" style=\"fill: #1f77b4; stroke: #1f77b4\"/>\n     <use xlink:href=\"#md26ef96ec2\" x=\"116.536103\" y=\"68.131675\" style=\"fill: #1f77b4; stroke: #1f77b4\"/>\n     <use xlink:href=\"#md26ef96ec2\" x=\"118.241634\" y=\"67.068323\" style=\"fill: #1f77b4; stroke: #1f77b4\"/>\n     <use xlink:href=\"#md26ef96ec2\" x=\"155.648954\" y=\"82.570319\" style=\"fill: #1f77b4; stroke: #1f77b4\"/>\n     <use xlink:href=\"#md26ef96ec2\" x=\"152.084562\" y=\"84.583215\" style=\"fill: #1f77b4; stroke: #1f77b4\"/>\n     <use xlink:href=\"#md26ef96ec2\" x=\"136.7732\" y=\"85.483363\" style=\"fill: #1f77b4; stroke: #1f77b4\"/>\n     <use xlink:href=\"#md26ef96ec2\" x=\"130.478644\" y=\"77.631217\" style=\"fill: #1f77b4; stroke: #1f77b4\"/>\n     <use xlink:href=\"#md26ef96ec2\" x=\"92.215957\" y=\"44.854882\" style=\"fill: #1f77b4; stroke: #1f77b4\"/>\n     <use xlink:href=\"#md26ef96ec2\" x=\"119.494164\" y=\"58.804849\" style=\"fill: #1f77b4; stroke: #1f77b4\"/>\n     <use xlink:href=\"#md26ef96ec2\" x=\"139.44874\" y=\"64.420021\" style=\"fill: #1f77b4; stroke: #1f77b4\"/>\n     <use xlink:href=\"#md26ef96ec2\" x=\"132.885029\" y=\"82.853285\" style=\"fill: #1f77b4; stroke: #1f77b4\"/>\n     <use xlink:href=\"#md26ef96ec2\" x=\"112.687843\" y=\"53.430084\" style=\"fill: #1f77b4; stroke: #1f77b4\"/>\n     <use xlink:href=\"#md26ef96ec2\" x=\"88.460343\" y=\"57.771936\" style=\"fill: #1f77b4; stroke: #1f77b4\"/>\n     <use xlink:href=\"#md26ef96ec2\" x=\"163.334037\" y=\"91.604751\" style=\"fill: #1f77b4; stroke: #1f77b4\"/>\n     <use xlink:href=\"#md26ef96ec2\" x=\"173.306521\" y=\"110.674756\" style=\"fill: #1f77b4; stroke: #1f77b4\"/>\n     <use xlink:href=\"#md26ef96ec2\" x=\"112.633352\" y=\"64.182248\" style=\"fill: #1f77b4; stroke: #1f77b4\"/>\n     <use xlink:href=\"#md26ef96ec2\" x=\"119.069763\" y=\"69.203952\" style=\"fill: #1f77b4; stroke: #1f77b4\"/>\n     <use xlink:href=\"#md26ef96ec2\" x=\"107.165774\" y=\"54.645604\" style=\"fill: #1f77b4; stroke: #1f77b4\"/>\n     <use xlink:href=\"#md26ef96ec2\" x=\"145.569333\" y=\"84.772145\" style=\"fill: #1f77b4; stroke: #1f77b4\"/>\n     <use xlink:href=\"#md26ef96ec2\" x=\"104.381432\" y=\"47.668727\" style=\"fill: #1f77b4; stroke: #1f77b4\"/>\n     <use xlink:href=\"#md26ef96ec2\" x=\"125.485897\" y=\"73.138703\" style=\"fill: #1f77b4; stroke: #1f77b4\"/>\n     <use xlink:href=\"#md26ef96ec2\" x=\"70.238413\" y=\"42.232777\" style=\"fill: #1f77b4; stroke: #1f77b4\"/>\n     <use xlink:href=\"#md26ef96ec2\" x=\"135.691679\" y=\"81.480474\" style=\"fill: #1f77b4; stroke: #1f77b4\"/>\n     <use xlink:href=\"#md26ef96ec2\" x=\"168.284719\" y=\"89.731618\" style=\"fill: #1f77b4; stroke: #1f77b4\"/>\n     <use xlink:href=\"#md26ef96ec2\" x=\"95.309126\" y=\"53.229864\" style=\"fill: #1f77b4; stroke: #1f77b4\"/>\n     <use xlink:href=\"#md26ef96ec2\" x=\"142.297682\" y=\"70.103356\" style=\"fill: #1f77b4; stroke: #1f77b4\"/>\n     <use xlink:href=\"#md26ef96ec2\" x=\"135.204935\" y=\"66.030453\" style=\"fill: #1f77b4; stroke: #1f77b4\"/>\n     <use xlink:href=\"#md26ef96ec2\" x=\"134.612148\" y=\"84.575472\" style=\"fill: #1f77b4; stroke: #1f77b4\"/>\n     <use xlink:href=\"#md26ef96ec2\" x=\"130.832131\" y=\"85.138178\" style=\"fill: #1f77b4; stroke: #1f77b4\"/>\n     <use xlink:href=\"#md26ef96ec2\" x=\"171.185551\" y=\"102.681594\" style=\"fill: #1f77b4; stroke: #1f77b4\"/>\n     <use xlink:href=\"#md26ef96ec2\" x=\"120.010423\" y=\"53.723955\" style=\"fill: #1f77b4; stroke: #1f77b4\"/>\n     <use xlink:href=\"#md26ef96ec2\" x=\"119.502916\" y=\"64.944564\" style=\"fill: #1f77b4; stroke: #1f77b4\"/>\n     <use xlink:href=\"#md26ef96ec2\" x=\"118.372212\" y=\"63.002769\" style=\"fill: #1f77b4; stroke: #1f77b4\"/>\n     <use xlink:href=\"#md26ef96ec2\" x=\"120.611089\" y=\"61.315574\" style=\"fill: #1f77b4; stroke: #1f77b4\"/>\n     <use xlink:href=\"#md26ef96ec2\" x=\"144.043014\" y=\"85.062672\" style=\"fill: #1f77b4; stroke: #1f77b4\"/>\n     <use xlink:href=\"#md26ef96ec2\" x=\"115.310999\" y=\"73.303924\" style=\"fill: #1f77b4; stroke: #1f77b4\"/>\n     <use xlink:href=\"#md26ef96ec2\" x=\"112.460928\" y=\"57.910483\" style=\"fill: #1f77b4; stroke: #1f77b4\"/>\n     <use xlink:href=\"#md26ef96ec2\" x=\"138.840572\" y=\"60.44471\" style=\"fill: #1f77b4; stroke: #1f77b4\"/>\n     <use xlink:href=\"#md26ef96ec2\" x=\"125.160123\" y=\"71.928785\" style=\"fill: #1f77b4; stroke: #1f77b4\"/>\n     <use xlink:href=\"#md26ef96ec2\" x=\"115.602935\" y=\"62.94043\" style=\"fill: #1f77b4; stroke: #1f77b4\"/>\n     <use xlink:href=\"#md26ef96ec2\" x=\"145.252288\" y=\"74.729061\" style=\"fill: #1f77b4; stroke: #1f77b4\"/>\n     <use xlink:href=\"#md26ef96ec2\" x=\"117.009152\" y=\"59.151968\" style=\"fill: #1f77b4; stroke: #1f77b4\"/>\n     <use xlink:href=\"#md26ef96ec2\" x=\"110.338623\" y=\"68.150991\" style=\"fill: #1f77b4; stroke: #1f77b4\"/>\n     <use xlink:href=\"#md26ef96ec2\" x=\"119.111278\" y=\"71.829489\" style=\"fill: #1f77b4; stroke: #1f77b4\"/>\n     <use xlink:href=\"#md26ef96ec2\" x=\"126.419642\" y=\"75.794825\" style=\"fill: #1f77b4; stroke: #1f77b4\"/>\n     <use xlink:href=\"#md26ef96ec2\" x=\"82.790906\" y=\"21.233392\" style=\"fill: #1f77b4; stroke: #1f77b4\"/>\n     <use xlink:href=\"#md26ef96ec2\" x=\"109.599163\" y=\"53.854457\" style=\"fill: #1f77b4; stroke: #1f77b4\"/>\n     <use xlink:href=\"#md26ef96ec2\" x=\"119.773027\" y=\"48.786763\" style=\"fill: #1f77b4; stroke: #1f77b4\"/>\n     <use xlink:href=\"#md26ef96ec2\" x=\"128.239115\" y=\"72.82153\" style=\"fill: #1f77b4; stroke: #1f77b4\"/>\n     <use xlink:href=\"#md26ef96ec2\" x=\"166.587795\" y=\"82.440835\" style=\"fill: #1f77b4; stroke: #1f77b4\"/>\n     <use xlink:href=\"#md26ef96ec2\" x=\"144.517819\" y=\"77.896304\" style=\"fill: #1f77b4; stroke: #1f77b4\"/>\n     <use xlink:href=\"#md26ef96ec2\" x=\"176.967654\" y=\"103.399127\" style=\"fill: #1f77b4; stroke: #1f77b4\"/>\n     <use xlink:href=\"#md26ef96ec2\" x=\"143.922747\" y=\"97.209351\" style=\"fill: #1f77b4; stroke: #1f77b4\"/>\n     <use xlink:href=\"#md26ef96ec2\" x=\"133.407721\" y=\"80.002366\" style=\"fill: #1f77b4; stroke: #1f77b4\"/>\n     <use xlink:href=\"#md26ef96ec2\" x=\"96.653072\" y=\"63.957287\" style=\"fill: #1f77b4; stroke: #1f77b4\"/>\n     <use xlink:href=\"#md26ef96ec2\" x=\"152.406697\" y=\"85.091273\" style=\"fill: #1f77b4; stroke: #1f77b4\"/>\n     <use xlink:href=\"#md26ef96ec2\" x=\"90.032279\" y=\"50.200428\" style=\"fill: #1f77b4; stroke: #1f77b4\"/>\n     <use xlink:href=\"#md26ef96ec2\" x=\"83.361347\" y=\"35.007619\" style=\"fill: #1f77b4; stroke: #1f77b4\"/>\n     <use xlink:href=\"#md26ef96ec2\" x=\"221.727415\" y=\"127.726697\" style=\"fill: #1f77b4; stroke: #1f77b4\"/>\n     <use xlink:href=\"#md26ef96ec2\" x=\"131.593745\" y=\"83.837503\" style=\"fill: #1f77b4; stroke: #1f77b4\"/>\n     <use xlink:href=\"#md26ef96ec2\" x=\"147.954786\" y=\"80.860169\" style=\"fill: #1f77b4; stroke: #1f77b4\"/>\n     <use xlink:href=\"#md26ef96ec2\" x=\"97.496641\" y=\"60.460676\" style=\"fill: #1f77b4; stroke: #1f77b4\"/>\n     <use xlink:href=\"#md26ef96ec2\" x=\"115.683514\" y=\"55.229755\" style=\"fill: #1f77b4; stroke: #1f77b4\"/>\n     <use xlink:href=\"#md26ef96ec2\" x=\"135.98356\" y=\"65.147356\" style=\"fill: #1f77b4; stroke: #1f77b4\"/>\n     <use xlink:href=\"#md26ef96ec2\" x=\"146.898295\" y=\"95.379835\" style=\"fill: #1f77b4; stroke: #1f77b4\"/>\n     <use xlink:href=\"#md26ef96ec2\" x=\"97.494057\" y=\"38.891935\" style=\"fill: #1f77b4; stroke: #1f77b4\"/>\n     <use xlink:href=\"#md26ef96ec2\" x=\"123.076584\" y=\"75.548086\" style=\"fill: #1f77b4; stroke: #1f77b4\"/>\n     <use xlink:href=\"#md26ef96ec2\" x=\"139.085055\" y=\"78.07075\" style=\"fill: #1f77b4; stroke: #1f77b4\"/>\n     <use xlink:href=\"#md26ef96ec2\" x=\"112.415792\" y=\"66.262722\" style=\"fill: #1f77b4; stroke: #1f77b4\"/>\n     <use xlink:href=\"#md26ef96ec2\" x=\"150.588776\" y=\"101.23507\" style=\"fill: #1f77b4; stroke: #1f77b4\"/>\n     <use xlink:href=\"#md26ef96ec2\" x=\"148.655585\" y=\"74.506131\" style=\"fill: #1f77b4; stroke: #1f77b4\"/>\n     <use xlink:href=\"#md26ef96ec2\" x=\"128.159198\" y=\"71.266631\" style=\"fill: #1f77b4; stroke: #1f77b4\"/>\n     <use xlink:href=\"#md26ef96ec2\" x=\"144.494094\" y=\"72.181835\" style=\"fill: #1f77b4; stroke: #1f77b4\"/>\n     <use xlink:href=\"#md26ef96ec2\" x=\"118.110772\" y=\"63.458251\" style=\"fill: #1f77b4; stroke: #1f77b4\"/>\n     <use xlink:href=\"#md26ef96ec2\" x=\"89.49601\" y=\"38.866273\" style=\"fill: #1f77b4; stroke: #1f77b4\"/>\n     <use xlink:href=\"#md26ef96ec2\" x=\"145.529253\" y=\"70.601897\" style=\"fill: #1f77b4; stroke: #1f77b4\"/>\n     <use xlink:href=\"#md26ef96ec2\" x=\"111.876792\" y=\"61.620701\" style=\"fill: #1f77b4; stroke: #1f77b4\"/>\n     <use xlink:href=\"#md26ef96ec2\" x=\"117.448426\" y=\"70.020161\" style=\"fill: #1f77b4; stroke: #1f77b4\"/>\n     <use xlink:href=\"#md26ef96ec2\" x=\"118.482357\" y=\"56.000398\" style=\"fill: #1f77b4; stroke: #1f77b4\"/>\n     <use xlink:href=\"#md26ef96ec2\" x=\"94.363345\" y=\"61.122868\" style=\"fill: #1f77b4; stroke: #1f77b4\"/>\n     <use xlink:href=\"#md26ef96ec2\" x=\"146.732792\" y=\"76.08881\" style=\"fill: #1f77b4; stroke: #1f77b4\"/>\n     <use xlink:href=\"#md26ef96ec2\" x=\"86.74927\" y=\"42.091941\" style=\"fill: #1f77b4; stroke: #1f77b4\"/>\n     <use xlink:href=\"#md26ef96ec2\" x=\"158.073633\" y=\"97.022607\" style=\"fill: #1f77b4; stroke: #1f77b4\"/>\n     <use xlink:href=\"#md26ef96ec2\" x=\"140.613705\" y=\"54.998255\" style=\"fill: #1f77b4; stroke: #1f77b4\"/>\n     <use xlink:href=\"#md26ef96ec2\" x=\"154.787343\" y=\"83.296693\" style=\"fill: #1f77b4; stroke: #1f77b4\"/>\n     <use xlink:href=\"#md26ef96ec2\" x=\"119.908381\" y=\"67.499765\" style=\"fill: #1f77b4; stroke: #1f77b4\"/>\n     <use xlink:href=\"#md26ef96ec2\" x=\"181.624352\" y=\"118.613478\" style=\"fill: #1f77b4; stroke: #1f77b4\"/>\n     <use xlink:href=\"#md26ef96ec2\" x=\"103.223132\" y=\"43.068069\" style=\"fill: #1f77b4; stroke: #1f77b4\"/>\n     <use xlink:href=\"#md26ef96ec2\" x=\"107.969685\" y=\"67.121612\" style=\"fill: #1f77b4; stroke: #1f77b4\"/>\n     <use xlink:href=\"#md26ef96ec2\" x=\"96.133392\" y=\"57.766536\" style=\"fill: #1f77b4; stroke: #1f77b4\"/>\n     <use xlink:href=\"#md26ef96ec2\" x=\"117.533108\" y=\"71.340065\" style=\"fill: #1f77b4; stroke: #1f77b4\"/>\n     <use xlink:href=\"#md26ef96ec2\" x=\"129.447455\" y=\"70.583022\" style=\"fill: #1f77b4; stroke: #1f77b4\"/>\n     <use xlink:href=\"#md26ef96ec2\" x=\"49.79556\" y=\"24.929684\" style=\"fill: #1f77b4; stroke: #1f77b4\"/>\n     <use xlink:href=\"#md26ef96ec2\" x=\"103.005101\" y=\"56.415076\" style=\"fill: #1f77b4; stroke: #1f77b4\"/>\n     <use xlink:href=\"#md26ef96ec2\" x=\"105.907727\" y=\"45.881308\" style=\"fill: #1f77b4; stroke: #1f77b4\"/>\n     <use xlink:href=\"#md26ef96ec2\" x=\"121.906274\" y=\"65.461945\" style=\"fill: #1f77b4; stroke: #1f77b4\"/>\n     <use xlink:href=\"#md26ef96ec2\" x=\"143.137104\" y=\"86.281665\" style=\"fill: #1f77b4; stroke: #1f77b4\"/>\n     <use xlink:href=\"#md26ef96ec2\" x=\"139.801776\" y=\"82.730525\" style=\"fill: #1f77b4; stroke: #1f77b4\"/>\n     <use xlink:href=\"#md26ef96ec2\" x=\"160.306178\" y=\"92.615835\" style=\"fill: #1f77b4; stroke: #1f77b4\"/>\n     <use xlink:href=\"#md26ef96ec2\" x=\"138.015593\" y=\"73.484105\" style=\"fill: #1f77b4; stroke: #1f77b4\"/>\n     <use xlink:href=\"#md26ef96ec2\" x=\"99.310605\" y=\"72.936348\" style=\"fill: #1f77b4; stroke: #1f77b4\"/>\n     <use xlink:href=\"#md26ef96ec2\" x=\"132.769776\" y=\"76.824778\" style=\"fill: #1f77b4; stroke: #1f77b4\"/>\n     <use xlink:href=\"#md26ef96ec2\" x=\"124.385901\" y=\"67.151376\" style=\"fill: #1f77b4; stroke: #1f77b4\"/>\n     <use xlink:href=\"#md26ef96ec2\" x=\"89.293005\" y=\"63.3399\" style=\"fill: #1f77b4; stroke: #1f77b4\"/>\n     <use xlink:href=\"#md26ef96ec2\" x=\"96.08882\" y=\"41.863886\" style=\"fill: #1f77b4; stroke: #1f77b4\"/>\n     <use xlink:href=\"#md26ef96ec2\" x=\"82.965653\" y=\"22.664516\" style=\"fill: #1f77b4; stroke: #1f77b4\"/>\n     <use xlink:href=\"#md26ef96ec2\" x=\"139.225051\" y=\"75.454638\" style=\"fill: #1f77b4; stroke: #1f77b4\"/>\n     <use xlink:href=\"#md26ef96ec2\" x=\"172.105326\" y=\"100.668951\" style=\"fill: #1f77b4; stroke: #1f77b4\"/>\n     <use xlink:href=\"#md26ef96ec2\" x=\"132.011218\" y=\"62.884226\" style=\"fill: #1f77b4; stroke: #1f77b4\"/>\n     <use xlink:href=\"#md26ef96ec2\" x=\"61.311662\" y=\"21.440983\" style=\"fill: #1f77b4; stroke: #1f77b4\"/>\n     <use xlink:href=\"#md26ef96ec2\" x=\"99.995239\" y=\"49.159772\" style=\"fill: #1f77b4; stroke: #1f77b4\"/>\n     <use xlink:href=\"#md26ef96ec2\" x=\"152.613094\" y=\"87.356983\" style=\"fill: #1f77b4; stroke: #1f77b4\"/>\n     <use xlink:href=\"#md26ef96ec2\" x=\"103.149732\" y=\"60.534754\" style=\"fill: #1f77b4; stroke: #1f77b4\"/>\n     <use xlink:href=\"#md26ef96ec2\" x=\"77.977233\" y=\"47.446514\" style=\"fill: #1f77b4; stroke: #1f77b4\"/>\n     <use xlink:href=\"#md26ef96ec2\" x=\"145.919119\" y=\"67.719394\" style=\"fill: #1f77b4; stroke: #1f77b4\"/>\n     <use xlink:href=\"#md26ef96ec2\" x=\"89.076636\" y=\"45.636457\" style=\"fill: #1f77b4; stroke: #1f77b4\"/>\n     <use xlink:href=\"#md26ef96ec2\" x=\"128.635471\" y=\"70.245412\" style=\"fill: #1f77b4; stroke: #1f77b4\"/>\n     <use xlink:href=\"#md26ef96ec2\" x=\"105.037971\" y=\"59.166552\" style=\"fill: #1f77b4; stroke: #1f77b4\"/>\n     <use xlink:href=\"#md26ef96ec2\" x=\"149.146151\" y=\"76.597199\" style=\"fill: #1f77b4; stroke: #1f77b4\"/>\n     <use xlink:href=\"#md26ef96ec2\" x=\"154.182583\" y=\"90.113629\" style=\"fill: #1f77b4; stroke: #1f77b4\"/>\n     <use xlink:href=\"#md26ef96ec2\" x=\"115.989394\" y=\"58.826224\" style=\"fill: #1f77b4; stroke: #1f77b4\"/>\n     <use xlink:href=\"#md26ef96ec2\" x=\"130.494136\" y=\"70.808\" style=\"fill: #1f77b4; stroke: #1f77b4\"/>\n     <use xlink:href=\"#md26ef96ec2\" x=\"112.148283\" y=\"47.492151\" style=\"fill: #1f77b4; stroke: #1f77b4\"/>\n     <use xlink:href=\"#md26ef96ec2\" x=\"121.159328\" y=\"70.37813\" style=\"fill: #1f77b4; stroke: #1f77b4\"/>\n     <use xlink:href=\"#md26ef96ec2\" x=\"136.519457\" y=\"74.254687\" style=\"fill: #1f77b4; stroke: #1f77b4\"/>\n     <use xlink:href=\"#md26ef96ec2\" x=\"112.255817\" y=\"65.703934\" style=\"fill: #1f77b4; stroke: #1f77b4\"/>\n     <use xlink:href=\"#md26ef96ec2\" x=\"131.818703\" y=\"73.586486\" style=\"fill: #1f77b4; stroke: #1f77b4\"/>\n     <use xlink:href=\"#md26ef96ec2\" x=\"94.738113\" y=\"47.979786\" style=\"fill: #1f77b4; stroke: #1f77b4\"/>\n     <use xlink:href=\"#md26ef96ec2\" x=\"154.220297\" y=\"67.905271\" style=\"fill: #1f77b4; stroke: #1f77b4\"/>\n     <use xlink:href=\"#md26ef96ec2\" x=\"135.043248\" y=\"88.733408\" style=\"fill: #1f77b4; stroke: #1f77b4\"/>\n     <use xlink:href=\"#md26ef96ec2\" x=\"104.929686\" y=\"61.530734\" style=\"fill: #1f77b4; stroke: #1f77b4\"/>\n     <use xlink:href=\"#md26ef96ec2\" x=\"145.028901\" y=\"76.429125\" style=\"fill: #1f77b4; stroke: #1f77b4\"/>\n     <use xlink:href=\"#md26ef96ec2\" x=\"173.790447\" y=\"102.857185\" style=\"fill: #1f77b4; stroke: #1f77b4\"/>\n     <use xlink:href=\"#md26ef96ec2\" x=\"135.471135\" y=\"68.695778\" style=\"fill: #1f77b4; stroke: #1f77b4\"/>\n     <use xlink:href=\"#md26ef96ec2\" x=\"147.312388\" y=\"79.48458\" style=\"fill: #1f77b4; stroke: #1f77b4\"/>\n     <use xlink:href=\"#md26ef96ec2\" x=\"148.098516\" y=\"82.707809\" style=\"fill: #1f77b4; stroke: #1f77b4\"/>\n     <use xlink:href=\"#md26ef96ec2\" x=\"143.586322\" y=\"86.910149\" style=\"fill: #1f77b4; stroke: #1f77b4\"/>\n     <use xlink:href=\"#md26ef96ec2\" x=\"155.928459\" y=\"68.938191\" style=\"fill: #1f77b4; stroke: #1f77b4\"/>\n     <use xlink:href=\"#md26ef96ec2\" x=\"106.726917\" y=\"53.225183\" style=\"fill: #1f77b4; stroke: #1f77b4\"/>\n     <use xlink:href=\"#md26ef96ec2\" x=\"157.426734\" y=\"87.415221\" style=\"fill: #1f77b4; stroke: #1f77b4\"/>\n     <use xlink:href=\"#md26ef96ec2\" x=\"139.720632\" y=\"86.309898\" style=\"fill: #1f77b4; stroke: #1f77b4\"/>\n     <use xlink:href=\"#md26ef96ec2\" x=\"97.149879\" y=\"42.922536\" style=\"fill: #1f77b4; stroke: #1f77b4\"/>\n     <use xlink:href=\"#md26ef96ec2\" x=\"92.436489\" y=\"42.829434\" style=\"fill: #1f77b4; stroke: #1f77b4\"/>\n     <use xlink:href=\"#md26ef96ec2\" x=\"122.057267\" y=\"76.420744\" style=\"fill: #1f77b4; stroke: #1f77b4\"/>\n     <use xlink:href=\"#md26ef96ec2\" x=\"127.95346\" y=\"75.879183\" style=\"fill: #1f77b4; stroke: #1f77b4\"/>\n     <use xlink:href=\"#md26ef96ec2\" x=\"80.493919\" y=\"25.669531\" style=\"fill: #1f77b4; stroke: #1f77b4\"/>\n     <use xlink:href=\"#md26ef96ec2\" x=\"132.905684\" y=\"61.627357\" style=\"fill: #1f77b4; stroke: #1f77b4\"/>\n     <use xlink:href=\"#md26ef96ec2\" x=\"134.983802\" y=\"77.181373\" style=\"fill: #1f77b4; stroke: #1f77b4\"/>\n     <use xlink:href=\"#md26ef96ec2\" x=\"110.321162\" y=\"48.732772\" style=\"fill: #1f77b4; stroke: #1f77b4\"/>\n     <use xlink:href=\"#md26ef96ec2\" x=\"118.169377\" y=\"57.419625\" style=\"fill: #1f77b4; stroke: #1f77b4\"/>\n     <use xlink:href=\"#md26ef96ec2\" x=\"92.428165\" y=\"40.626626\" style=\"fill: #1f77b4; stroke: #1f77b4\"/>\n     <use xlink:href=\"#md26ef96ec2\" x=\"165.620253\" y=\"92.358387\" style=\"fill: #1f77b4; stroke: #1f77b4\"/>\n     <use xlink:href=\"#md26ef96ec2\" x=\"133.486891\" y=\"68.836133\" style=\"fill: #1f77b4; stroke: #1f77b4\"/>\n     <use xlink:href=\"#md26ef96ec2\" x=\"156.654042\" y=\"89.154237\" style=\"fill: #1f77b4; stroke: #1f77b4\"/>\n     <use xlink:href=\"#md26ef96ec2\" x=\"113.872213\" y=\"39.227548\" style=\"fill: #1f77b4; stroke: #1f77b4\"/>\n     <use xlink:href=\"#md26ef96ec2\" x=\"134.297586\" y=\"54.222659\" style=\"fill: #1f77b4; stroke: #1f77b4\"/>\n     <use xlink:href=\"#md26ef96ec2\" x=\"139.697374\" y=\"70.240914\" style=\"fill: #1f77b4; stroke: #1f77b4\"/>\n     <use xlink:href=\"#md26ef96ec2\" x=\"112.284457\" y=\"56.403823\" style=\"fill: #1f77b4; stroke: #1f77b4\"/>\n     <use xlink:href=\"#md26ef96ec2\" x=\"137.067334\" y=\"73.800671\" style=\"fill: #1f77b4; stroke: #1f77b4\"/>\n     <use xlink:href=\"#md26ef96ec2\" x=\"105.031544\" y=\"53.231798\" style=\"fill: #1f77b4; stroke: #1f77b4\"/>\n     <use xlink:href=\"#md26ef96ec2\" x=\"154.186846\" y=\"94.084049\" style=\"fill: #1f77b4; stroke: #1f77b4\"/>\n     <use xlink:href=\"#md26ef96ec2\" x=\"138.581273\" y=\"71.521794\" style=\"fill: #1f77b4; stroke: #1f77b4\"/>\n     <use xlink:href=\"#md26ef96ec2\" x=\"170.953998\" y=\"94.764613\" style=\"fill: #1f77b4; stroke: #1f77b4\"/>\n     <use xlink:href=\"#md26ef96ec2\" x=\"143.878068\" y=\"80.199731\" style=\"fill: #1f77b4; stroke: #1f77b4\"/>\n     <use xlink:href=\"#md26ef96ec2\" x=\"145.008555\" y=\"68.131757\" style=\"fill: #1f77b4; stroke: #1f77b4\"/>\n     <use xlink:href=\"#md26ef96ec2\" x=\"96.556759\" y=\"65.246368\" style=\"fill: #1f77b4; stroke: #1f77b4\"/>\n     <use xlink:href=\"#md26ef96ec2\" x=\"172.717462\" y=\"99.184268\" style=\"fill: #1f77b4; stroke: #1f77b4\"/>\n     <use xlink:href=\"#md26ef96ec2\" x=\"159.280888\" y=\"91.767011\" style=\"fill: #1f77b4; stroke: #1f77b4\"/>\n     <use xlink:href=\"#md26ef96ec2\" x=\"109.04079\" y=\"58.634363\" style=\"fill: #1f77b4; stroke: #1f77b4\"/>\n     <use xlink:href=\"#md26ef96ec2\" x=\"109.433937\" y=\"66.547517\" style=\"fill: #1f77b4; stroke: #1f77b4\"/>\n     <use xlink:href=\"#md26ef96ec2\" x=\"128.484433\" y=\"62.338418\" style=\"fill: #1f77b4; stroke: #1f77b4\"/>\n     <use xlink:href=\"#md26ef96ec2\" x=\"165.987765\" y=\"100.59542\" style=\"fill: #1f77b4; stroke: #1f77b4\"/>\n     <use xlink:href=\"#md26ef96ec2\" x=\"111.185899\" y=\"77.813289\" style=\"fill: #1f77b4; stroke: #1f77b4\"/>\n     <use xlink:href=\"#md26ef96ec2\" x=\"153.976331\" y=\"98.798468\" style=\"fill: #1f77b4; stroke: #1f77b4\"/>\n     <use xlink:href=\"#md26ef96ec2\" x=\"113.719415\" y=\"46.206632\" style=\"fill: #1f77b4; stroke: #1f77b4\"/>\n     <use xlink:href=\"#md26ef96ec2\" x=\"132.346518\" y=\"81.276825\" style=\"fill: #1f77b4; stroke: #1f77b4\"/>\n     <use xlink:href=\"#md26ef96ec2\" x=\"151.436155\" y=\"89.083055\" style=\"fill: #1f77b4; stroke: #1f77b4\"/>\n     <use xlink:href=\"#md26ef96ec2\" x=\"101.793071\" y=\"42.029043\" style=\"fill: #1f77b4; stroke: #1f77b4\"/>\n     <use xlink:href=\"#md26ef96ec2\" x=\"114.967607\" y=\"62.548728\" style=\"fill: #1f77b4; stroke: #1f77b4\"/>\n     <use xlink:href=\"#md26ef96ec2\" x=\"127.280043\" y=\"75.742896\" style=\"fill: #1f77b4; stroke: #1f77b4\"/>\n     <use xlink:href=\"#md26ef96ec2\" x=\"148.46247\" y=\"101.538008\" style=\"fill: #1f77b4; stroke: #1f77b4\"/>\n     <use xlink:href=\"#md26ef96ec2\" x=\"132.436667\" y=\"68.387599\" style=\"fill: #1f77b4; stroke: #1f77b4\"/>\n     <use xlink:href=\"#md26ef96ec2\" x=\"201.2109\" y=\"104.385142\" style=\"fill: #1f77b4; stroke: #1f77b4\"/>\n     <use xlink:href=\"#md26ef96ec2\" x=\"110.970418\" y=\"62.683003\" style=\"fill: #1f77b4; stroke: #1f77b4\"/>\n     <use xlink:href=\"#md26ef96ec2\" x=\"121.743563\" y=\"79.880729\" style=\"fill: #1f77b4; stroke: #1f77b4\"/>\n     <use xlink:href=\"#md26ef96ec2\" x=\"131.808615\" y=\"71.634457\" style=\"fill: #1f77b4; stroke: #1f77b4\"/>\n     <use xlink:href=\"#md26ef96ec2\" x=\"153.913099\" y=\"76.162676\" style=\"fill: #1f77b4; stroke: #1f77b4\"/>\n     <use xlink:href=\"#md26ef96ec2\" x=\"102.147302\" y=\"66.342365\" style=\"fill: #1f77b4; stroke: #1f77b4\"/>\n     <use xlink:href=\"#md26ef96ec2\" x=\"167.545807\" y=\"79.050476\" style=\"fill: #1f77b4; stroke: #1f77b4\"/>\n     <use xlink:href=\"#md26ef96ec2\" x=\"109.253537\" y=\"52.962261\" style=\"fill: #1f77b4; stroke: #1f77b4\"/>\n     <use xlink:href=\"#md26ef96ec2\" x=\"114.05151\" y=\"62.202676\" style=\"fill: #1f77b4; stroke: #1f77b4\"/>\n     <use xlink:href=\"#md26ef96ec2\" x=\"161.412051\" y=\"79.36542\" style=\"fill: #1f77b4; stroke: #1f77b4\"/>\n     <use xlink:href=\"#md26ef96ec2\" x=\"136.180814\" y=\"79.973317\" style=\"fill: #1f77b4; stroke: #1f77b4\"/>\n     <use xlink:href=\"#md26ef96ec2\" x=\"113.973097\" y=\"62.814349\" style=\"fill: #1f77b4; stroke: #1f77b4\"/>\n     <use xlink:href=\"#md26ef96ec2\" x=\"117.022792\" y=\"58.281038\" style=\"fill: #1f77b4; stroke: #1f77b4\"/>\n     <use xlink:href=\"#md26ef96ec2\" x=\"119.714319\" y=\"62.747383\" style=\"fill: #1f77b4; stroke: #1f77b4\"/>\n     <use xlink:href=\"#md26ef96ec2\" x=\"107.951065\" y=\"44.470741\" style=\"fill: #1f77b4; stroke: #1f77b4\"/>\n     <use xlink:href=\"#md26ef96ec2\" x=\"125.404163\" y=\"75.7589\" style=\"fill: #1f77b4; stroke: #1f77b4\"/>\n     <use xlink:href=\"#md26ef96ec2\" x=\"147.249616\" y=\"77.43581\" style=\"fill: #1f77b4; stroke: #1f77b4\"/>\n     <use xlink:href=\"#md26ef96ec2\" x=\"163.364096\" y=\"88.786061\" style=\"fill: #1f77b4; stroke: #1f77b4\"/>\n     <use xlink:href=\"#md26ef96ec2\" x=\"123.033123\" y=\"61.584621\" style=\"fill: #1f77b4; stroke: #1f77b4\"/>\n     <use xlink:href=\"#md26ef96ec2\" x=\"74.89354\" y=\"37.446349\" style=\"fill: #1f77b4; stroke: #1f77b4\"/>\n     <use xlink:href=\"#md26ef96ec2\" x=\"120.590412\" y=\"64.332227\" style=\"fill: #1f77b4; stroke: #1f77b4\"/>\n     <use xlink:href=\"#md26ef96ec2\" x=\"143.792581\" y=\"77.30154\" style=\"fill: #1f77b4; stroke: #1f77b4\"/>\n     <use xlink:href=\"#md26ef96ec2\" x=\"123.781014\" y=\"46.612873\" style=\"fill: #1f77b4; stroke: #1f77b4\"/>\n     <use xlink:href=\"#md26ef96ec2\" x=\"117.834509\" y=\"51.184186\" style=\"fill: #1f77b4; stroke: #1f77b4\"/>\n     <use xlink:href=\"#md26ef96ec2\" x=\"129.654463\" y=\"72.257316\" style=\"fill: #1f77b4; stroke: #1f77b4\"/>\n     <use xlink:href=\"#md26ef96ec2\" x=\"165.329412\" y=\"91.737998\" style=\"fill: #1f77b4; stroke: #1f77b4\"/>\n     <use xlink:href=\"#md26ef96ec2\" x=\"147.814703\" y=\"79.096712\" style=\"fill: #1f77b4; stroke: #1f77b4\"/>\n     <use xlink:href=\"#md26ef96ec2\" x=\"116.00901\" y=\"83.806822\" style=\"fill: #1f77b4; stroke: #1f77b4\"/>\n     <use xlink:href=\"#md26ef96ec2\" x=\"130.315307\" y=\"84.358577\" style=\"fill: #1f77b4; stroke: #1f77b4\"/>\n     <use xlink:href=\"#md26ef96ec2\" x=\"152.308883\" y=\"94.577568\" style=\"fill: #1f77b4; stroke: #1f77b4\"/>\n     <use xlink:href=\"#md26ef96ec2\" x=\"120.265751\" y=\"53.216636\" style=\"fill: #1f77b4; stroke: #1f77b4\"/>\n     <use xlink:href=\"#md26ef96ec2\" x=\"143.65776\" y=\"66.283743\" style=\"fill: #1f77b4; stroke: #1f77b4\"/>\n     <use xlink:href=\"#md26ef96ec2\" x=\"139.036027\" y=\"69.141261\" style=\"fill: #1f77b4; stroke: #1f77b4\"/>\n     <use xlink:href=\"#md26ef96ec2\" x=\"106.899111\" y=\"61.36776\" style=\"fill: #1f77b4; stroke: #1f77b4\"/>\n     <use xlink:href=\"#md26ef96ec2\" x=\"122.4004\" y=\"59.904064\" style=\"fill: #1f77b4; stroke: #1f77b4\"/>\n     <use xlink:href=\"#md26ef96ec2\" x=\"161.914616\" y=\"76.700018\" style=\"fill: #1f77b4; stroke: #1f77b4\"/>\n     <use xlink:href=\"#md26ef96ec2\" x=\"107.04686\" y=\"60.302796\" style=\"fill: #1f77b4; stroke: #1f77b4\"/>\n     <use xlink:href=\"#md26ef96ec2\" x=\"170.103589\" y=\"88.581246\" style=\"fill: #1f77b4; stroke: #1f77b4\"/>\n     <use xlink:href=\"#md26ef96ec2\" x=\"102.809464\" y=\"51.079043\" style=\"fill: #1f77b4; stroke: #1f77b4\"/>\n     <use xlink:href=\"#md26ef96ec2\" x=\"140.854387\" y=\"74.963394\" style=\"fill: #1f77b4; stroke: #1f77b4\"/>\n     <use xlink:href=\"#md26ef96ec2\" x=\"138.592728\" y=\"73.585928\" style=\"fill: #1f77b4; stroke: #1f77b4\"/>\n     <use xlink:href=\"#md26ef96ec2\" x=\"149.105941\" y=\"74.370702\" style=\"fill: #1f77b4; stroke: #1f77b4\"/>\n     <use xlink:href=\"#md26ef96ec2\" x=\"108.180537\" y=\"60.63453\" style=\"fill: #1f77b4; stroke: #1f77b4\"/>\n     <use xlink:href=\"#md26ef96ec2\" x=\"85.84664\" y=\"41.99271\" style=\"fill: #1f77b4; stroke: #1f77b4\"/>\n     <use xlink:href=\"#md26ef96ec2\" x=\"121.563249\" y=\"54.119396\" style=\"fill: #1f77b4; stroke: #1f77b4\"/>\n     <use xlink:href=\"#md26ef96ec2\" x=\"131.954601\" y=\"73.092956\" style=\"fill: #1f77b4; stroke: #1f77b4\"/>\n     <use xlink:href=\"#md26ef96ec2\" x=\"139.982621\" y=\"69.480574\" style=\"fill: #1f77b4; stroke: #1f77b4\"/>\n     <use xlink:href=\"#md26ef96ec2\" x=\"133.822752\" y=\"87.374777\" style=\"fill: #1f77b4; stroke: #1f77b4\"/>\n     <use xlink:href=\"#md26ef96ec2\" x=\"128.410197\" y=\"62.779528\" style=\"fill: #1f77b4; stroke: #1f77b4\"/>\n     <use xlink:href=\"#md26ef96ec2\" x=\"100.636033\" y=\"64.281903\" style=\"fill: #1f77b4; stroke: #1f77b4\"/>\n     <use xlink:href=\"#md26ef96ec2\" x=\"122.219713\" y=\"65.239386\" style=\"fill: #1f77b4; stroke: #1f77b4\"/>\n     <use xlink:href=\"#md26ef96ec2\" x=\"108.03792\" y=\"50.809146\" style=\"fill: #1f77b4; stroke: #1f77b4\"/>\n     <use xlink:href=\"#md26ef96ec2\" x=\"143.04868\" y=\"87.224793\" style=\"fill: #1f77b4; stroke: #1f77b4\"/>\n     <use xlink:href=\"#md26ef96ec2\" x=\"159.897818\" y=\"90.460304\" style=\"fill: #1f77b4; stroke: #1f77b4\"/>\n     <use xlink:href=\"#md26ef96ec2\" x=\"86.093765\" y=\"48.046542\" style=\"fill: #1f77b4; stroke: #1f77b4\"/>\n     <use xlink:href=\"#md26ef96ec2\" x=\"115.426192\" y=\"64.955288\" style=\"fill: #1f77b4; stroke: #1f77b4\"/>\n     <use xlink:href=\"#md26ef96ec2\" x=\"145.849992\" y=\"93.864425\" style=\"fill: #1f77b4; stroke: #1f77b4\"/>\n     <use xlink:href=\"#md26ef96ec2\" x=\"117.486617\" y=\"51.639388\" style=\"fill: #1f77b4; stroke: #1f77b4\"/>\n     <use xlink:href=\"#md26ef96ec2\" x=\"135.620787\" y=\"74.360531\" style=\"fill: #1f77b4; stroke: #1f77b4\"/>\n     <use xlink:href=\"#md26ef96ec2\" x=\"105.504121\" y=\"55.978987\" style=\"fill: #1f77b4; stroke: #1f77b4\"/>\n     <use xlink:href=\"#md26ef96ec2\" x=\"140.175999\" y=\"71.056926\" style=\"fill: #1f77b4; stroke: #1f77b4\"/>\n     <use xlink:href=\"#md26ef96ec2\" x=\"98.498743\" y=\"43.052158\" style=\"fill: #1f77b4; stroke: #1f77b4\"/>\n     <use xlink:href=\"#md26ef96ec2\" x=\"135.630923\" y=\"71.707286\" style=\"fill: #1f77b4; stroke: #1f77b4\"/>\n     <use xlink:href=\"#md26ef96ec2\" x=\"164.785853\" y=\"86.466006\" style=\"fill: #1f77b4; stroke: #1f77b4\"/>\n     <use xlink:href=\"#md26ef96ec2\" x=\"129.524166\" y=\"47.769695\" style=\"fill: #1f77b4; stroke: #1f77b4\"/>\n     <use xlink:href=\"#md26ef96ec2\" x=\"160.519487\" y=\"113.806312\" style=\"fill: #1f77b4; stroke: #1f77b4\"/>\n     <use xlink:href=\"#md26ef96ec2\" x=\"109.962013\" y=\"49.613751\" style=\"fill: #1f77b4; stroke: #1f77b4\"/>\n     <use xlink:href=\"#md26ef96ec2\" x=\"105.586165\" y=\"38.218424\" style=\"fill: #1f77b4; stroke: #1f77b4\"/>\n     <use xlink:href=\"#md26ef96ec2\" x=\"121.670837\" y=\"52.536605\" style=\"fill: #1f77b4; stroke: #1f77b4\"/>\n     <use xlink:href=\"#md26ef96ec2\" x=\"158.214076\" y=\"98.11925\" style=\"fill: #1f77b4; stroke: #1f77b4\"/>\n     <use xlink:href=\"#md26ef96ec2\" x=\"146.379813\" y=\"72.895962\" style=\"fill: #1f77b4; stroke: #1f77b4\"/>\n     <use xlink:href=\"#md26ef96ec2\" x=\"112.201336\" y=\"53.737456\" style=\"fill: #1f77b4; stroke: #1f77b4\"/>\n     <use xlink:href=\"#md26ef96ec2\" x=\"140.125604\" y=\"70.847809\" style=\"fill: #1f77b4; stroke: #1f77b4\"/>\n     <use xlink:href=\"#md26ef96ec2\" x=\"183.749653\" y=\"86.445145\" style=\"fill: #1f77b4; stroke: #1f77b4\"/>\n     <use xlink:href=\"#md26ef96ec2\" x=\"137.032997\" y=\"80.108835\" style=\"fill: #1f77b4; stroke: #1f77b4\"/>\n     <use xlink:href=\"#md26ef96ec2\" x=\"152.013684\" y=\"75.414615\" style=\"fill: #1f77b4; stroke: #1f77b4\"/>\n     <use xlink:href=\"#md26ef96ec2\" x=\"115.457999\" y=\"56.48584\" style=\"fill: #1f77b4; stroke: #1f77b4\"/>\n     <use xlink:href=\"#md26ef96ec2\" x=\"110.463147\" y=\"56.846417\" style=\"fill: #1f77b4; stroke: #1f77b4\"/>\n     <use xlink:href=\"#md26ef96ec2\" x=\"104.288226\" y=\"40.136077\" style=\"fill: #1f77b4; stroke: #1f77b4\"/>\n     <use xlink:href=\"#md26ef96ec2\" x=\"140.633121\" y=\"77.489788\" style=\"fill: #1f77b4; stroke: #1f77b4\"/>\n     <use xlink:href=\"#md26ef96ec2\" x=\"99.38412\" y=\"56.067451\" style=\"fill: #1f77b4; stroke: #1f77b4\"/>\n     <use xlink:href=\"#md26ef96ec2\" x=\"148.332578\" y=\"80.482121\" style=\"fill: #1f77b4; stroke: #1f77b4\"/>\n     <use xlink:href=\"#md26ef96ec2\" x=\"71.501223\" y=\"17.325248\" style=\"fill: #1f77b4; stroke: #1f77b4\"/>\n     <use xlink:href=\"#md26ef96ec2\" x=\"109.523329\" y=\"62.183492\" style=\"fill: #1f77b4; stroke: #1f77b4\"/>\n     <use xlink:href=\"#md26ef96ec2\" x=\"125.009794\" y=\"66.444962\" style=\"fill: #1f77b4; stroke: #1f77b4\"/>\n     <use xlink:href=\"#md26ef96ec2\" x=\"143.456353\" y=\"87.687625\" style=\"fill: #1f77b4; stroke: #1f77b4\"/>\n     <use xlink:href=\"#md26ef96ec2\" x=\"133.75032\" y=\"79.267076\" style=\"fill: #1f77b4; stroke: #1f77b4\"/>\n     <use xlink:href=\"#md26ef96ec2\" x=\"122.35353\" y=\"68.551807\" style=\"fill: #1f77b4; stroke: #1f77b4\"/>\n     <use xlink:href=\"#md26ef96ec2\" x=\"160.007123\" y=\"92.274307\" style=\"fill: #1f77b4; stroke: #1f77b4\"/>\n     <use xlink:href=\"#md26ef96ec2\" x=\"113.533723\" y=\"66.934486\" style=\"fill: #1f77b4; stroke: #1f77b4\"/>\n     <use xlink:href=\"#md26ef96ec2\" x=\"113.598603\" y=\"57.905514\" style=\"fill: #1f77b4; stroke: #1f77b4\"/>\n     <use xlink:href=\"#md26ef96ec2\" x=\"159.188423\" y=\"92.720139\" style=\"fill: #1f77b4; stroke: #1f77b4\"/>\n     <use xlink:href=\"#md26ef96ec2\" x=\"163.554229\" y=\"93.681388\" style=\"fill: #1f77b4; stroke: #1f77b4\"/>\n     <use xlink:href=\"#md26ef96ec2\" x=\"123.429137\" y=\"66.960165\" style=\"fill: #1f77b4; stroke: #1f77b4\"/>\n     <use xlink:href=\"#md26ef96ec2\" x=\"140.364335\" y=\"68.850829\" style=\"fill: #1f77b4; stroke: #1f77b4\"/>\n     <use xlink:href=\"#md26ef96ec2\" x=\"138.311147\" y=\"68.577468\" style=\"fill: #1f77b4; stroke: #1f77b4\"/>\n     <use xlink:href=\"#md26ef96ec2\" x=\"142.181491\" y=\"75.12029\" style=\"fill: #1f77b4; stroke: #1f77b4\"/>\n     <use xlink:href=\"#md26ef96ec2\" x=\"105.969965\" y=\"59.687639\" style=\"fill: #1f77b4; stroke: #1f77b4\"/>\n     <use xlink:href=\"#md26ef96ec2\" x=\"123.018659\" y=\"47.27137\" style=\"fill: #1f77b4; stroke: #1f77b4\"/>\n     <use xlink:href=\"#md26ef96ec2\" x=\"116.367195\" y=\"74.208017\" style=\"fill: #1f77b4; stroke: #1f77b4\"/>\n     <use xlink:href=\"#md26ef96ec2\" x=\"97.1951\" y=\"32.610714\" style=\"fill: #1f77b4; stroke: #1f77b4\"/>\n     <use xlink:href=\"#md26ef96ec2\" x=\"102.149375\" y=\"54.529176\" style=\"fill: #1f77b4; stroke: #1f77b4\"/>\n     <use xlink:href=\"#md26ef96ec2\" x=\"138.818014\" y=\"68.296925\" style=\"fill: #1f77b4; stroke: #1f77b4\"/>\n     <use xlink:href=\"#md26ef96ec2\" x=\"115.237746\" y=\"64.833786\" style=\"fill: #1f77b4; stroke: #1f77b4\"/>\n     <use xlink:href=\"#md26ef96ec2\" x=\"136.035984\" y=\"85.991083\" style=\"fill: #1f77b4; stroke: #1f77b4\"/>\n     <use xlink:href=\"#md26ef96ec2\" x=\"94.336885\" y=\"44.147305\" style=\"fill: #1f77b4; stroke: #1f77b4\"/>\n     <use xlink:href=\"#md26ef96ec2\" x=\"138.438914\" y=\"61.753161\" style=\"fill: #1f77b4; stroke: #1f77b4\"/>\n     <use xlink:href=\"#md26ef96ec2\" x=\"146.285375\" y=\"98.774059\" style=\"fill: #1f77b4; stroke: #1f77b4\"/>\n     <use xlink:href=\"#md26ef96ec2\" x=\"139.935975\" y=\"66.34854\" style=\"fill: #1f77b4; stroke: #1f77b4\"/>\n     <use xlink:href=\"#md26ef96ec2\" x=\"140.628084\" y=\"68.914782\" style=\"fill: #1f77b4; stroke: #1f77b4\"/>\n     <use xlink:href=\"#md26ef96ec2\" x=\"130.893936\" y=\"69.705027\" style=\"fill: #1f77b4; stroke: #1f77b4\"/>\n     <use xlink:href=\"#md26ef96ec2\" x=\"104.383015\" y=\"56.531543\" style=\"fill: #1f77b4; stroke: #1f77b4\"/>\n     <use xlink:href=\"#md26ef96ec2\" x=\"113.152273\" y=\"71.029808\" style=\"fill: #1f77b4; stroke: #1f77b4\"/>\n     <use xlink:href=\"#md26ef96ec2\" x=\"108.184898\" y=\"46.694933\" style=\"fill: #1f77b4; stroke: #1f77b4\"/>\n     <use xlink:href=\"#md26ef96ec2\" x=\"149.671206\" y=\"72.836406\" style=\"fill: #1f77b4; stroke: #1f77b4\"/>\n     <use xlink:href=\"#md26ef96ec2\" x=\"124.242672\" y=\"66.166469\" style=\"fill: #1f77b4; stroke: #1f77b4\"/>\n     <use xlink:href=\"#md26ef96ec2\" x=\"97.700049\" y=\"46.266712\" style=\"fill: #1f77b4; stroke: #1f77b4\"/>\n     <use xlink:href=\"#md26ef96ec2\" x=\"138.640351\" y=\"91.314688\" style=\"fill: #1f77b4; stroke: #1f77b4\"/>\n     <use xlink:href=\"#md26ef96ec2\" x=\"142.038787\" y=\"70.559888\" style=\"fill: #1f77b4; stroke: #1f77b4\"/>\n     <use xlink:href=\"#md26ef96ec2\" x=\"133.336768\" y=\"70.829481\" style=\"fill: #1f77b4; stroke: #1f77b4\"/>\n     <use xlink:href=\"#md26ef96ec2\" x=\"130.629133\" y=\"71.957032\" style=\"fill: #1f77b4; stroke: #1f77b4\"/>\n     <use xlink:href=\"#md26ef96ec2\" x=\"79.088225\" y=\"31.59034\" style=\"fill: #1f77b4; stroke: #1f77b4\"/>\n     <use xlink:href=\"#md26ef96ec2\" x=\"164.16638\" y=\"87.52778\" style=\"fill: #1f77b4; stroke: #1f77b4\"/>\n     <use xlink:href=\"#md26ef96ec2\" x=\"129.684497\" y=\"64.583545\" style=\"fill: #1f77b4; stroke: #1f77b4\"/>\n     <use xlink:href=\"#md26ef96ec2\" x=\"147.024288\" y=\"84.231992\" style=\"fill: #1f77b4; stroke: #1f77b4\"/>\n     <use xlink:href=\"#md26ef96ec2\" x=\"153.815284\" y=\"97.59588\" style=\"fill: #1f77b4; stroke: #1f77b4\"/>\n     <use xlink:href=\"#md26ef96ec2\" x=\"107.620322\" y=\"63.249145\" style=\"fill: #1f77b4; stroke: #1f77b4\"/>\n     <use xlink:href=\"#md26ef96ec2\" x=\"128.001362\" y=\"68.374921\" style=\"fill: #1f77b4; stroke: #1f77b4\"/>\n     <use xlink:href=\"#md26ef96ec2\" x=\"126.740634\" y=\"86.408008\" style=\"fill: #1f77b4; stroke: #1f77b4\"/>\n     <use xlink:href=\"#md26ef96ec2\" x=\"122.855998\" y=\"71.022634\" style=\"fill: #1f77b4; stroke: #1f77b4\"/>\n     <use xlink:href=\"#md26ef96ec2\" x=\"103.120082\" y=\"47.162106\" style=\"fill: #1f77b4; stroke: #1f77b4\"/>\n     <use xlink:href=\"#md26ef96ec2\" x=\"104.74583\" y=\"65.10939\" style=\"fill: #1f77b4; stroke: #1f77b4\"/>\n     <use xlink:href=\"#md26ef96ec2\" x=\"96.705694\" y=\"52.508952\" style=\"fill: #1f77b4; stroke: #1f77b4\"/>\n     <use xlink:href=\"#md26ef96ec2\" x=\"137.405043\" y=\"86.153284\" style=\"fill: #1f77b4; stroke: #1f77b4\"/>\n     <use xlink:href=\"#md26ef96ec2\" x=\"169.261612\" y=\"107.526199\" style=\"fill: #1f77b4; stroke: #1f77b4\"/>\n     <use xlink:href=\"#md26ef96ec2\" x=\"134.763279\" y=\"77.108904\" style=\"fill: #1f77b4; stroke: #1f77b4\"/>\n     <use xlink:href=\"#md26ef96ec2\" x=\"157.86138\" y=\"82.600173\" style=\"fill: #1f77b4; stroke: #1f77b4\"/>\n     <use xlink:href=\"#md26ef96ec2\" x=\"113.800861\" y=\"79.557594\" style=\"fill: #1f77b4; stroke: #1f77b4\"/>\n     <use xlink:href=\"#md26ef96ec2\" x=\"113.113984\" y=\"58.668688\" style=\"fill: #1f77b4; stroke: #1f77b4\"/>\n     <use xlink:href=\"#md26ef96ec2\" x=\"153.747016\" y=\"98.548415\" style=\"fill: #1f77b4; stroke: #1f77b4\"/>\n     <use xlink:href=\"#md26ef96ec2\" x=\"95.676042\" y=\"48.943871\" style=\"fill: #1f77b4; stroke: #1f77b4\"/>\n     <use xlink:href=\"#md26ef96ec2\" x=\"137.400333\" y=\"73.855934\" style=\"fill: #1f77b4; stroke: #1f77b4\"/>\n     <use xlink:href=\"#md26ef96ec2\" x=\"120.359033\" y=\"67.268272\" style=\"fill: #1f77b4; stroke: #1f77b4\"/>\n     <use xlink:href=\"#md26ef96ec2\" x=\"118.00607\" y=\"69.71087\" style=\"fill: #1f77b4; stroke: #1f77b4\"/>\n     <use xlink:href=\"#md26ef96ec2\" x=\"104.569675\" y=\"59.370949\" style=\"fill: #1f77b4; stroke: #1f77b4\"/>\n     <use xlink:href=\"#md26ef96ec2\" x=\"127.932528\" y=\"66.608819\" style=\"fill: #1f77b4; stroke: #1f77b4\"/>\n     <use xlink:href=\"#md26ef96ec2\" x=\"103.322741\" y=\"47.610344\" style=\"fill: #1f77b4; stroke: #1f77b4\"/>\n     <use xlink:href=\"#md26ef96ec2\" x=\"144.433631\" y=\"93.644523\" style=\"fill: #1f77b4; stroke: #1f77b4\"/>\n     <use xlink:href=\"#md26ef96ec2\" x=\"146.982796\" y=\"83.327512\" style=\"fill: #1f77b4; stroke: #1f77b4\"/>\n     <use xlink:href=\"#md26ef96ec2\" x=\"104.5601\" y=\"66.686785\" style=\"fill: #1f77b4; stroke: #1f77b4\"/>\n     <use xlink:href=\"#md26ef96ec2\" x=\"135.987531\" y=\"72.576568\" style=\"fill: #1f77b4; stroke: #1f77b4\"/>\n     <use xlink:href=\"#md26ef96ec2\" x=\"148.765353\" y=\"95.923321\" style=\"fill: #1f77b4; stroke: #1f77b4\"/>\n     <use xlink:href=\"#md26ef96ec2\" x=\"140.202927\" y=\"64.539828\" style=\"fill: #1f77b4; stroke: #1f77b4\"/>\n     <use xlink:href=\"#md26ef96ec2\" x=\"141.751863\" y=\"80.634797\" style=\"fill: #1f77b4; stroke: #1f77b4\"/>\n     <use xlink:href=\"#md26ef96ec2\" x=\"144.097243\" y=\"90.274942\" style=\"fill: #1f77b4; stroke: #1f77b4\"/>\n     <use xlink:href=\"#md26ef96ec2\" x=\"161.377733\" y=\"86.949387\" style=\"fill: #1f77b4; stroke: #1f77b4\"/>\n     <use xlink:href=\"#md26ef96ec2\" x=\"111.76755\" y=\"63.489996\" style=\"fill: #1f77b4; stroke: #1f77b4\"/>\n     <use xlink:href=\"#md26ef96ec2\" x=\"132.31581\" y=\"63.022942\" style=\"fill: #1f77b4; stroke: #1f77b4\"/>\n     <use xlink:href=\"#md26ef96ec2\" x=\"91.944849\" y=\"65.679807\" style=\"fill: #1f77b4; stroke: #1f77b4\"/>\n     <use xlink:href=\"#md26ef96ec2\" x=\"150.79813\" y=\"87.772417\" style=\"fill: #1f77b4; stroke: #1f77b4\"/>\n     <use xlink:href=\"#md26ef96ec2\" x=\"115.05565\" y=\"54.872884\" style=\"fill: #1f77b4; stroke: #1f77b4\"/>\n     <use xlink:href=\"#md26ef96ec2\" x=\"145.980319\" y=\"85.09054\" style=\"fill: #1f77b4; stroke: #1f77b4\"/>\n     <use xlink:href=\"#md26ef96ec2\" x=\"138.678719\" y=\"72.4146\" style=\"fill: #1f77b4; stroke: #1f77b4\"/>\n     <use xlink:href=\"#md26ef96ec2\" x=\"122.552348\" y=\"48.904012\" style=\"fill: #1f77b4; stroke: #1f77b4\"/>\n     <use xlink:href=\"#md26ef96ec2\" x=\"167.278321\" y=\"80.567607\" style=\"fill: #1f77b4; stroke: #1f77b4\"/>\n     <use xlink:href=\"#md26ef96ec2\" x=\"142.357736\" y=\"74.780646\" style=\"fill: #1f77b4; stroke: #1f77b4\"/>\n     <use xlink:href=\"#md26ef96ec2\" x=\"71.950114\" y=\"13.377273\" style=\"fill: #1f77b4; stroke: #1f77b4\"/>\n     <use xlink:href=\"#md26ef96ec2\" x=\"145.449942\" y=\"66.654362\" style=\"fill: #1f77b4; stroke: #1f77b4\"/>\n     <use xlink:href=\"#md26ef96ec2\" x=\"117.292845\" y=\"69.820208\" style=\"fill: #1f77b4; stroke: #1f77b4\"/>\n     <use xlink:href=\"#md26ef96ec2\" x=\"134.680869\" y=\"71.429417\" style=\"fill: #1f77b4; stroke: #1f77b4\"/>\n     <use xlink:href=\"#md26ef96ec2\" x=\"155.012012\" y=\"83.895509\" style=\"fill: #1f77b4; stroke: #1f77b4\"/>\n     <use xlink:href=\"#md26ef96ec2\" x=\"119.691608\" y=\"75.114552\" style=\"fill: #1f77b4; stroke: #1f77b4\"/>\n     <use xlink:href=\"#md26ef96ec2\" x=\"142.375538\" y=\"91.61094\" style=\"fill: #1f77b4; stroke: #1f77b4\"/>\n     <use xlink:href=\"#md26ef96ec2\" x=\"174.936262\" y=\"100.251637\" style=\"fill: #1f77b4; stroke: #1f77b4\"/>\n     <use xlink:href=\"#md26ef96ec2\" x=\"59.028994\" y=\"16.142932\" style=\"fill: #1f77b4; stroke: #1f77b4\"/>\n     <use xlink:href=\"#md26ef96ec2\" x=\"118.304845\" y=\"61.377387\" style=\"fill: #1f77b4; stroke: #1f77b4\"/>\n     <use xlink:href=\"#md26ef96ec2\" x=\"114.146086\" y=\"49.12202\" style=\"fill: #1f77b4; stroke: #1f77b4\"/>\n     <use xlink:href=\"#md26ef96ec2\" x=\"117.278027\" y=\"65.421163\" style=\"fill: #1f77b4; stroke: #1f77b4\"/>\n     <use xlink:href=\"#md26ef96ec2\" x=\"147.151749\" y=\"91.196774\" style=\"fill: #1f77b4; stroke: #1f77b4\"/>\n     <use xlink:href=\"#md26ef96ec2\" x=\"97.21544\" y=\"53.809641\" style=\"fill: #1f77b4; stroke: #1f77b4\"/>\n     <use xlink:href=\"#md26ef96ec2\" x=\"143.015299\" y=\"68.82631\" style=\"fill: #1f77b4; stroke: #1f77b4\"/>\n     <use xlink:href=\"#md26ef96ec2\" x=\"153.636039\" y=\"97.673056\" style=\"fill: #1f77b4; stroke: #1f77b4\"/>\n     <use xlink:href=\"#md26ef96ec2\" x=\"121.284685\" y=\"67.950356\" style=\"fill: #1f77b4; stroke: #1f77b4\"/>\n     <use xlink:href=\"#md26ef96ec2\" x=\"119.338143\" y=\"74.980664\" style=\"fill: #1f77b4; stroke: #1f77b4\"/>\n     <use xlink:href=\"#md26ef96ec2\" x=\"141.863647\" y=\"66.720167\" style=\"fill: #1f77b4; stroke: #1f77b4\"/>\n     <use xlink:href=\"#md26ef96ec2\" x=\"121.608228\" y=\"67.278962\" style=\"fill: #1f77b4; stroke: #1f77b4\"/>\n     <use xlink:href=\"#md26ef96ec2\" x=\"96.942421\" y=\"53.272009\" style=\"fill: #1f77b4; stroke: #1f77b4\"/>\n     <use xlink:href=\"#md26ef96ec2\" x=\"107.96317\" y=\"35.902932\" style=\"fill: #1f77b4; stroke: #1f77b4\"/>\n     <use xlink:href=\"#md26ef96ec2\" x=\"89.442054\" y=\"37.519061\" style=\"fill: #1f77b4; stroke: #1f77b4\"/>\n     <use xlink:href=\"#md26ef96ec2\" x=\"100.243524\" y=\"67.815342\" style=\"fill: #1f77b4; stroke: #1f77b4\"/>\n     <use xlink:href=\"#md26ef96ec2\" x=\"137.285132\" y=\"76.769697\" style=\"fill: #1f77b4; stroke: #1f77b4\"/>\n     <use xlink:href=\"#md26ef96ec2\" x=\"84.459414\" y=\"34.73194\" style=\"fill: #1f77b4; stroke: #1f77b4\"/>\n     <use xlink:href=\"#md26ef96ec2\" x=\"137.85292\" y=\"83.737467\" style=\"fill: #1f77b4; stroke: #1f77b4\"/>\n     <use xlink:href=\"#md26ef96ec2\" x=\"114.976925\" y=\"70.467363\" style=\"fill: #1f77b4; stroke: #1f77b4\"/>\n     <use xlink:href=\"#md26ef96ec2\" x=\"123.706404\" y=\"75.156541\" style=\"fill: #1f77b4; stroke: #1f77b4\"/>\n     <use xlink:href=\"#md26ef96ec2\" x=\"118.719749\" y=\"59.548768\" style=\"fill: #1f77b4; stroke: #1f77b4\"/>\n     <use xlink:href=\"#md26ef96ec2\" x=\"134.282423\" y=\"87.64927\" style=\"fill: #1f77b4; stroke: #1f77b4\"/>\n     <use xlink:href=\"#md26ef96ec2\" x=\"90.586733\" y=\"43.948752\" style=\"fill: #1f77b4; stroke: #1f77b4\"/>\n     <use xlink:href=\"#md26ef96ec2\" x=\"130.026313\" y=\"76.238091\" style=\"fill: #1f77b4; stroke: #1f77b4\"/>\n     <use xlink:href=\"#md26ef96ec2\" x=\"138.765613\" y=\"62.130803\" style=\"fill: #1f77b4; stroke: #1f77b4\"/>\n     <use xlink:href=\"#md26ef96ec2\" x=\"124.003263\" y=\"54.30791\" style=\"fill: #1f77b4; stroke: #1f77b4\"/>\n     <use xlink:href=\"#md26ef96ec2\" x=\"92.093494\" y=\"39.755365\" style=\"fill: #1f77b4; stroke: #1f77b4\"/>\n     <use xlink:href=\"#md26ef96ec2\" x=\"164.776882\" y=\"78.434112\" style=\"fill: #1f77b4; stroke: #1f77b4\"/>\n     <use xlink:href=\"#md26ef96ec2\" x=\"158.127933\" y=\"72.971257\" style=\"fill: #1f77b4; stroke: #1f77b4\"/>\n     <use xlink:href=\"#md26ef96ec2\" x=\"128.131148\" y=\"59.54955\" style=\"fill: #1f77b4; stroke: #1f77b4\"/>\n     <use xlink:href=\"#md26ef96ec2\" x=\"131.45506\" y=\"76.440768\" style=\"fill: #1f77b4; stroke: #1f77b4\"/>\n     <use xlink:href=\"#md26ef96ec2\" x=\"110.725817\" y=\"61.461938\" style=\"fill: #1f77b4; stroke: #1f77b4\"/>\n     <use xlink:href=\"#md26ef96ec2\" x=\"138.194918\" y=\"72.382237\" style=\"fill: #1f77b4; stroke: #1f77b4\"/>\n     <use xlink:href=\"#md26ef96ec2\" x=\"116.068495\" y=\"61.763858\" style=\"fill: #1f77b4; stroke: #1f77b4\"/>\n     <use xlink:href=\"#md26ef96ec2\" x=\"105.087574\" y=\"52.534299\" style=\"fill: #1f77b4; stroke: #1f77b4\"/>\n     <use xlink:href=\"#md26ef96ec2\" x=\"157.46101\" y=\"75.810523\" style=\"fill: #1f77b4; stroke: #1f77b4\"/>\n     <use xlink:href=\"#md26ef96ec2\" x=\"129.95109\" y=\"63.720611\" style=\"fill: #1f77b4; stroke: #1f77b4\"/>\n     <use xlink:href=\"#md26ef96ec2\" x=\"105.733057\" y=\"54.569185\" style=\"fill: #1f77b4; stroke: #1f77b4\"/>\n     <use xlink:href=\"#md26ef96ec2\" x=\"147.932211\" y=\"78.697643\" style=\"fill: #1f77b4; stroke: #1f77b4\"/>\n     <use xlink:href=\"#md26ef96ec2\" x=\"101.438263\" y=\"49.093558\" style=\"fill: #1f77b4; stroke: #1f77b4\"/>\n     <use xlink:href=\"#md26ef96ec2\" x=\"112.855397\" y=\"59.922773\" style=\"fill: #1f77b4; stroke: #1f77b4\"/>\n     <use xlink:href=\"#md26ef96ec2\" x=\"102.667322\" y=\"42.866794\" style=\"fill: #1f77b4; stroke: #1f77b4\"/>\n     <use xlink:href=\"#md26ef96ec2\" x=\"136.462371\" y=\"76.760347\" style=\"fill: #1f77b4; stroke: #1f77b4\"/>\n     <use xlink:href=\"#md26ef96ec2\" x=\"141.804439\" y=\"84.597262\" style=\"fill: #1f77b4; stroke: #1f77b4\"/>\n     <use xlink:href=\"#md26ef96ec2\" x=\"123.143134\" y=\"78.879506\" style=\"fill: #1f77b4; stroke: #1f77b4\"/>\n     <use xlink:href=\"#md26ef96ec2\" x=\"99.710431\" y=\"53.915822\" style=\"fill: #1f77b4; stroke: #1f77b4\"/>\n     <use xlink:href=\"#md26ef96ec2\" x=\"159.618541\" y=\"87.25201\" style=\"fill: #1f77b4; stroke: #1f77b4\"/>\n     <use xlink:href=\"#md26ef96ec2\" x=\"153.674087\" y=\"85.753184\" style=\"fill: #1f77b4; stroke: #1f77b4\"/>\n     <use xlink:href=\"#md26ef96ec2\" x=\"133.055254\" y=\"69.605649\" style=\"fill: #1f77b4; stroke: #1f77b4\"/>\n     <use xlink:href=\"#md26ef96ec2\" x=\"124.402996\" y=\"60.187891\" style=\"fill: #1f77b4; stroke: #1f77b4\"/>\n     <use xlink:href=\"#md26ef96ec2\" x=\"118.630798\" y=\"55.983687\" style=\"fill: #1f77b4; stroke: #1f77b4\"/>\n     <use xlink:href=\"#md26ef96ec2\" x=\"124.936652\" y=\"71.157127\" style=\"fill: #1f77b4; stroke: #1f77b4\"/>\n     <use xlink:href=\"#md26ef96ec2\" x=\"174.77815\" y=\"99.959334\" style=\"fill: #1f77b4; stroke: #1f77b4\"/>\n     <use xlink:href=\"#md26ef96ec2\" x=\"97.698679\" y=\"64.337292\" style=\"fill: #1f77b4; stroke: #1f77b4\"/>\n     <use xlink:href=\"#md26ef96ec2\" x=\"139.867834\" y=\"81.054019\" style=\"fill: #1f77b4; stroke: #1f77b4\"/>\n     <use xlink:href=\"#md26ef96ec2\" x=\"124.851538\" y=\"45.830285\" style=\"fill: #1f77b4; stroke: #1f77b4\"/>\n     <use xlink:href=\"#md26ef96ec2\" x=\"134.349545\" y=\"62.925052\" style=\"fill: #1f77b4; stroke: #1f77b4\"/>\n     <use xlink:href=\"#md26ef96ec2\" x=\"115.193924\" y=\"65.465174\" style=\"fill: #1f77b4; stroke: #1f77b4\"/>\n     <use xlink:href=\"#md26ef96ec2\" x=\"157.122106\" y=\"81.468884\" style=\"fill: #1f77b4; stroke: #1f77b4\"/>\n     <use xlink:href=\"#md26ef96ec2\" x=\"102.743658\" y=\"55.604312\" style=\"fill: #1f77b4; stroke: #1f77b4\"/>\n     <use xlink:href=\"#md26ef96ec2\" x=\"147.202536\" y=\"78.120467\" style=\"fill: #1f77b4; stroke: #1f77b4\"/>\n     <use xlink:href=\"#md26ef96ec2\" x=\"125.18782\" y=\"56.987882\" style=\"fill: #1f77b4; stroke: #1f77b4\"/>\n     <use xlink:href=\"#md26ef96ec2\" x=\"103.602697\" y=\"52.59247\" style=\"fill: #1f77b4; stroke: #1f77b4\"/>\n     <use xlink:href=\"#md26ef96ec2\" x=\"140.637872\" y=\"80.252251\" style=\"fill: #1f77b4; stroke: #1f77b4\"/>\n     <use xlink:href=\"#md26ef96ec2\" x=\"171.875422\" y=\"100.118583\" style=\"fill: #1f77b4; stroke: #1f77b4\"/>\n     <use xlink:href=\"#md26ef96ec2\" x=\"96.634853\" y=\"51.456313\" style=\"fill: #1f77b4; stroke: #1f77b4\"/>\n     <use xlink:href=\"#md26ef96ec2\" x=\"156.973987\" y=\"86.354085\" style=\"fill: #1f77b4; stroke: #1f77b4\"/>\n     <use xlink:href=\"#md26ef96ec2\" x=\"160.394275\" y=\"106.529165\" style=\"fill: #1f77b4; stroke: #1f77b4\"/>\n     <use xlink:href=\"#md26ef96ec2\" x=\"107.67923\" y=\"55.033667\" style=\"fill: #1f77b4; stroke: #1f77b4\"/>\n     <use xlink:href=\"#md26ef96ec2\" x=\"143.651514\" y=\"55.917989\" style=\"fill: #1f77b4; stroke: #1f77b4\"/>\n     <use xlink:href=\"#md26ef96ec2\" x=\"109.305346\" y=\"64.331682\" style=\"fill: #1f77b4; stroke: #1f77b4\"/>\n     <use xlink:href=\"#md26ef96ec2\" x=\"147.326055\" y=\"72.606249\" style=\"fill: #1f77b4; stroke: #1f77b4\"/>\n     <use xlink:href=\"#md26ef96ec2\" x=\"127.980286\" y=\"54.727585\" style=\"fill: #1f77b4; stroke: #1f77b4\"/>\n     <use xlink:href=\"#md26ef96ec2\" x=\"104.733737\" y=\"63.128644\" style=\"fill: #1f77b4; stroke: #1f77b4\"/>\n     <use xlink:href=\"#md26ef96ec2\" x=\"105.459842\" y=\"57.886029\" style=\"fill: #1f77b4; stroke: #1f77b4\"/>\n     <use xlink:href=\"#md26ef96ec2\" x=\"151.606998\" y=\"79.530079\" style=\"fill: #1f77b4; stroke: #1f77b4\"/>\n     <use xlink:href=\"#md26ef96ec2\" x=\"91.631825\" y=\"42.167074\" style=\"fill: #1f77b4; stroke: #1f77b4\"/>\n     <use xlink:href=\"#md26ef96ec2\" x=\"69.773998\" y=\"30.801144\" style=\"fill: #1f77b4; stroke: #1f77b4\"/>\n     <use xlink:href=\"#md26ef96ec2\" x=\"138.80523\" y=\"69.083403\" style=\"fill: #1f77b4; stroke: #1f77b4\"/>\n     <use xlink:href=\"#md26ef96ec2\" x=\"151.163655\" y=\"88.751112\" style=\"fill: #1f77b4; stroke: #1f77b4\"/>\n     <use xlink:href=\"#md26ef96ec2\" x=\"117.156037\" y=\"69.595384\" style=\"fill: #1f77b4; stroke: #1f77b4\"/>\n     <use xlink:href=\"#md26ef96ec2\" x=\"175.323256\" y=\"92.231374\" style=\"fill: #1f77b4; stroke: #1f77b4\"/>\n     <use xlink:href=\"#md26ef96ec2\" x=\"184.64513\" y=\"106.299414\" style=\"fill: #1f77b4; stroke: #1f77b4\"/>\n     <use xlink:href=\"#md26ef96ec2\" x=\"120.596261\" y=\"52.72896\" style=\"fill: #1f77b4; stroke: #1f77b4\"/>\n     <use xlink:href=\"#md26ef96ec2\" x=\"110.423681\" y=\"58.880733\" style=\"fill: #1f77b4; stroke: #1f77b4\"/>\n     <use xlink:href=\"#md26ef96ec2\" x=\"126.013911\" y=\"47.170881\" style=\"fill: #1f77b4; stroke: #1f77b4\"/>\n     <use xlink:href=\"#md26ef96ec2\" x=\"115.475754\" y=\"55.556655\" style=\"fill: #1f77b4; stroke: #1f77b4\"/>\n    </g>\n   </g>\n   <g id=\"matplotlib.axis_1\">\n    <g id=\"xtick_1\">\n     <g id=\"line2d_1\">\n      <defs>\n       <path id=\"mf0d828b560\" d=\"M 0 0 \nL 0 3.5 \n\" style=\"stroke: #000000; stroke-width: 0.8\"/>\n      </defs>\n      <g>\n       <use xlink:href=\"#mf0d828b560\" x=\"77.118508\" y=\"143.1\" style=\"stroke: #000000; stroke-width: 0.8\"/>\n      </g>\n     </g>\n     <g id=\"text_1\">\n      <!-- −2 -->\n      <g transform=\"translate(69.747415 157.698438)scale(0.1 -0.1)\">\n       <defs>\n        <path id=\"DejaVuSans-2212\" d=\"M 678 2272 \nL 4684 2272 \nL 4684 1741 \nL 678 1741 \nL 678 2272 \nz\n\" transform=\"scale(0.015625)\"/>\n        <path id=\"DejaVuSans-32\" d=\"M 1228 531 \nL 3431 531 \nL 3431 0 \nL 469 0 \nL 469 531 \nQ 828 903 1448 1529 \nQ 2069 2156 2228 2338 \nQ 2531 2678 2651 2914 \nQ 2772 3150 2772 3378 \nQ 2772 3750 2511 3984 \nQ 2250 4219 1831 4219 \nQ 1534 4219 1204 4116 \nQ 875 4013 500 3803 \nL 500 4441 \nQ 881 4594 1212 4672 \nQ 1544 4750 1819 4750 \nQ 2544 4750 2975 4387 \nQ 3406 4025 3406 3419 \nQ 3406 3131 3298 2873 \nQ 3191 2616 2906 2266 \nQ 2828 2175 2409 1742 \nQ 1991 1309 1228 531 \nz\n\" transform=\"scale(0.015625)\"/>\n       </defs>\n       <use xlink:href=\"#DejaVuSans-2212\"/>\n       <use xlink:href=\"#DejaVuSans-32\" x=\"83.789062\"/>\n      </g>\n     </g>\n    </g>\n    <g id=\"xtick_2\">\n     <g id=\"line2d_2\">\n      <g>\n       <use xlink:href=\"#mf0d828b560\" x=\"127.302648\" y=\"143.1\" style=\"stroke: #000000; stroke-width: 0.8\"/>\n      </g>\n     </g>\n     <g id=\"text_2\">\n      <!-- 0 -->\n      <g transform=\"translate(124.121398 157.698438)scale(0.1 -0.1)\">\n       <defs>\n        <path id=\"DejaVuSans-30\" d=\"M 2034 4250 \nQ 1547 4250 1301 3770 \nQ 1056 3291 1056 2328 \nQ 1056 1369 1301 889 \nQ 1547 409 2034 409 \nQ 2525 409 2770 889 \nQ 3016 1369 3016 2328 \nQ 3016 3291 2770 3770 \nQ 2525 4250 2034 4250 \nz\nM 2034 4750 \nQ 2819 4750 3233 4129 \nQ 3647 3509 3647 2328 \nQ 3647 1150 3233 529 \nQ 2819 -91 2034 -91 \nQ 1250 -91 836 529 \nQ 422 1150 422 2328 \nQ 422 3509 836 4129 \nQ 1250 4750 2034 4750 \nz\n\" transform=\"scale(0.015625)\"/>\n       </defs>\n       <use xlink:href=\"#DejaVuSans-30\"/>\n      </g>\n     </g>\n    </g>\n    <g id=\"xtick_3\">\n     <g id=\"line2d_3\">\n      <g>\n       <use xlink:href=\"#mf0d828b560\" x=\"177.486787\" y=\"143.1\" style=\"stroke: #000000; stroke-width: 0.8\"/>\n      </g>\n     </g>\n     <g id=\"text_3\">\n      <!-- 2 -->\n      <g transform=\"translate(174.305537 157.698438)scale(0.1 -0.1)\">\n       <use xlink:href=\"#DejaVuSans-32\"/>\n      </g>\n     </g>\n    </g>\n    <g id=\"xtick_4\">\n     <g id=\"line2d_4\">\n      <g>\n       <use xlink:href=\"#mf0d828b560\" x=\"227.670927\" y=\"143.1\" style=\"stroke: #000000; stroke-width: 0.8\"/>\n      </g>\n     </g>\n     <g id=\"text_4\">\n      <!-- 4 -->\n      <g transform=\"translate(224.489677 157.698438)scale(0.1 -0.1)\">\n       <defs>\n        <path id=\"DejaVuSans-34\" d=\"M 2419 4116 \nL 825 1625 \nL 2419 1625 \nL 2419 4116 \nz\nM 2253 4666 \nL 3047 4666 \nL 3047 1625 \nL 3713 1625 \nL 3713 1100 \nL 3047 1100 \nL 3047 0 \nL 2419 0 \nL 2419 1100 \nL 313 1100 \nL 313 1709 \nL 2253 4666 \nz\n\" transform=\"scale(0.015625)\"/>\n       </defs>\n       <use xlink:href=\"#DejaVuSans-34\"/>\n      </g>\n     </g>\n    </g>\n   </g>\n   <g id=\"matplotlib.axis_2\">\n    <g id=\"ytick_1\">\n     <g id=\"line2d_5\">\n      <defs>\n       <path id=\"m5d796e1168\" d=\"M 0 0 \nL -3.5 0 \n\" style=\"stroke: #000000; stroke-width: 0.8\"/>\n      </defs>\n      <g>\n       <use xlink:href=\"#m5d796e1168\" x=\"35.304688\" y=\"135.896438\" style=\"stroke: #000000; stroke-width: 0.8\"/>\n      </g>\n     </g>\n     <g id=\"text_5\">\n      <!-- −10 -->\n      <g transform=\"translate(7.2 139.695657)scale(0.1 -0.1)\">\n       <defs>\n        <path id=\"DejaVuSans-31\" d=\"M 794 531 \nL 1825 531 \nL 1825 4091 \nL 703 3866 \nL 703 4441 \nL 1819 4666 \nL 2450 4666 \nL 2450 531 \nL 3481 531 \nL 3481 0 \nL 794 0 \nL 794 531 \nz\n\" transform=\"scale(0.015625)\"/>\n       </defs>\n       <use xlink:href=\"#DejaVuSans-2212\"/>\n       <use xlink:href=\"#DejaVuSans-31\" x=\"83.789062\"/>\n       <use xlink:href=\"#DejaVuSans-30\" x=\"147.412109\"/>\n      </g>\n     </g>\n    </g>\n    <g id=\"ytick_2\">\n     <g id=\"line2d_6\">\n      <g>\n       <use xlink:href=\"#m5d796e1168\" x=\"35.304688\" y=\"111.986531\" style=\"stroke: #000000; stroke-width: 0.8\"/>\n      </g>\n     </g>\n     <g id=\"text_6\">\n      <!-- −5 -->\n      <g transform=\"translate(13.5625 115.78575)scale(0.1 -0.1)\">\n       <defs>\n        <path id=\"DejaVuSans-35\" d=\"M 691 4666 \nL 3169 4666 \nL 3169 4134 \nL 1269 4134 \nL 1269 2991 \nQ 1406 3038 1543 3061 \nQ 1681 3084 1819 3084 \nQ 2600 3084 3056 2656 \nQ 3513 2228 3513 1497 \nQ 3513 744 3044 326 \nQ 2575 -91 1722 -91 \nQ 1428 -91 1123 -41 \nQ 819 9 494 109 \nL 494 744 \nQ 775 591 1075 516 \nQ 1375 441 1709 441 \nQ 2250 441 2565 725 \nQ 2881 1009 2881 1497 \nQ 2881 1984 2565 2268 \nQ 2250 2553 1709 2553 \nQ 1456 2553 1204 2497 \nQ 953 2441 691 2322 \nL 691 4666 \nz\n\" transform=\"scale(0.015625)\"/>\n       </defs>\n       <use xlink:href=\"#DejaVuSans-2212\"/>\n       <use xlink:href=\"#DejaVuSans-35\" x=\"83.789062\"/>\n      </g>\n     </g>\n    </g>\n    <g id=\"ytick_3\">\n     <g id=\"line2d_7\">\n      <g>\n       <use xlink:href=\"#m5d796e1168\" x=\"35.304688\" y=\"88.076624\" style=\"stroke: #000000; stroke-width: 0.8\"/>\n      </g>\n     </g>\n     <g id=\"text_7\">\n      <!-- 0 -->\n      <g transform=\"translate(21.942187 91.875843)scale(0.1 -0.1)\">\n       <use xlink:href=\"#DejaVuSans-30\"/>\n      </g>\n     </g>\n    </g>\n    <g id=\"ytick_4\">\n     <g id=\"line2d_8\">\n      <g>\n       <use xlink:href=\"#m5d796e1168\" x=\"35.304688\" y=\"64.166717\" style=\"stroke: #000000; stroke-width: 0.8\"/>\n      </g>\n     </g>\n     <g id=\"text_8\">\n      <!-- 5 -->\n      <g transform=\"translate(21.942187 67.965936)scale(0.1 -0.1)\">\n       <use xlink:href=\"#DejaVuSans-35\"/>\n      </g>\n     </g>\n    </g>\n    <g id=\"ytick_5\">\n     <g id=\"line2d_9\">\n      <g>\n       <use xlink:href=\"#m5d796e1168\" x=\"35.304688\" y=\"40.25681\" style=\"stroke: #000000; stroke-width: 0.8\"/>\n      </g>\n     </g>\n     <g id=\"text_9\">\n      <!-- 10 -->\n      <g transform=\"translate(15.579687 44.056029)scale(0.1 -0.1)\">\n       <use xlink:href=\"#DejaVuSans-31\"/>\n       <use xlink:href=\"#DejaVuSans-30\" x=\"63.623047\"/>\n      </g>\n     </g>\n    </g>\n    <g id=\"ytick_6\">\n     <g id=\"line2d_10\">\n      <g>\n       <use xlink:href=\"#m5d796e1168\" x=\"35.304688\" y=\"16.346903\" style=\"stroke: #000000; stroke-width: 0.8\"/>\n      </g>\n     </g>\n     <g id=\"text_10\">\n      <!-- 15 -->\n      <g transform=\"translate(15.579687 20.146122)scale(0.1 -0.1)\">\n       <use xlink:href=\"#DejaVuSans-31\"/>\n       <use xlink:href=\"#DejaVuSans-35\" x=\"63.623047\"/>\n      </g>\n     </g>\n    </g>\n   </g>\n   <g id=\"patch_3\">\n    <path d=\"M 35.304688 143.1 \nL 35.304688 7.2 \n\" style=\"fill: none; stroke: #000000; stroke-width: 0.8; stroke-linejoin: miter; stroke-linecap: square\"/>\n   </g>\n   <g id=\"patch_4\">\n    <path d=\"M 230.604688 143.1 \nL 230.604688 7.2 \n\" style=\"fill: none; stroke: #000000; stroke-width: 0.8; stroke-linejoin: miter; stroke-linecap: square\"/>\n   </g>\n   <g id=\"patch_5\">\n    <path d=\"M 35.304688 143.1 \nL 230.604688 143.1 \n\" style=\"fill: none; stroke: #000000; stroke-width: 0.8; stroke-linejoin: miter; stroke-linecap: square\"/>\n   </g>\n   <g id=\"patch_6\">\n    <path d=\"M 35.304688 7.2 \nL 230.604688 7.2 \n\" style=\"fill: none; stroke: #000000; stroke-width: 0.8; stroke-linejoin: miter; stroke-linecap: square\"/>\n   </g>\n  </g>\n </g>\n <defs>\n  <clipPath id=\"p49fdc99534\">\n   <rect x=\"35.304688\" y=\"7.2\" width=\"195.3\" height=\"135.9\"/>\n  </clipPath>\n </defs>\n</svg>\n"
          },
          "metadata": {
            "needs_background": "light"
          }
        }
      ],
      "source": [
        "d2l.set_figsize()\n",
        "# The semicolon is for displaying the plot only\n",
        "d2l.plt.scatter(features[:, (1)].numpy(), labels.numpy(), 1);"
      ]
    },
    {
      "cell_type": "markdown",
      "id": "36253bc0-ba53-410c-86bb-7a2eb11f9592",
      "metadata": {
        "origin_pos": 5,
        "tags": [],
        "id": "36253bc0-ba53-410c-86bb-7a2eb11f9592"
      },
      "source": [
        "### Reading the Dataset\n",
        "\n",
        "In the following code [**call upon the existing API in a framework to read data.**]\n",
        "We pass in `features` and `labels` as arguments and specify `batch_size`\n",
        "when instantiating a data iterator object.\n",
        "Besides, the boolean value `is_train`\n",
        "indicates whether or not\n",
        "we want the data iterator object to shuffle the data\n",
        "on each epoch (pass through the dataset).\n"
      ]
    },
    {
      "cell_type": "markdown",
      "id": "c28419fa-707f-4a30-8d28-f18ab5d73c31",
      "metadata": {
        "id": "c28419fa-707f-4a30-8d28-f18ab5d73c31"
      },
      "source": [
        "1. **Use the tf function from_tensor_slices to generate a tf dataset object with batch_size as input**\n",
        "2. **Use is_train flag to determine whether to shuffle the dataset or not**"
      ]
    },
    {
      "cell_type": "code",
      "execution_count": null,
      "id": "53aaab37-4b35-4ff3-9d72-292d260838a9",
      "metadata": {
        "origin_pos": 8,
        "tab": [
          "tensorflow"
        ],
        "id": "53aaab37-4b35-4ff3-9d72-292d260838a9"
      },
      "outputs": [],
      "source": [
        "def load_array(data_arrays, batch_size, is_train=True):\n",
        "    \"\"\"Construct a TensorFlow data iterator.\"\"\"\n",
        "    dataset = tf.data.Dataset.from_tensor_slices(data_arrays)\n",
        "    dataset = dataset.batch(batch_size)\n",
        "    dataset = dataset.shuffle(buffer_size= 1000,reshuffle_each_iteration= is_train)\n",
        "\n",
        "    return dataset"
      ]
    },
    {
      "cell_type": "code",
      "execution_count": null,
      "id": "1421cf52-54d8-4341-816c-a5d095bfb8c3",
      "metadata": {
        "origin_pos": 9,
        "tab": [
          "tensorflow"
        ],
        "id": "1421cf52-54d8-4341-816c-a5d095bfb8c3"
      },
      "outputs": [],
      "source": [
        "batch_size = 10\n",
        "dataset = load_array((features, labels), batch_size)"
      ]
    },
    {
      "cell_type": "markdown",
      "id": "d6e0c589-effb-40ba-8149-3309692fed48",
      "metadata": {
        "origin_pos": 10,
        "id": "d6e0c589-effb-40ba-8149-3309692fed48"
      },
      "source": [
        "3. **Use `iter` to construct a Python iterator and use `next` to obtain the first item from the iterator.**\n"
      ]
    },
    {
      "cell_type": "code",
      "execution_count": null,
      "id": "2144c8a5-c59c-4886-af3b-8f4353e8f7c6",
      "metadata": {
        "origin_pos": 11,
        "tab": [
          "tensorflow"
        ],
        "id": "2144c8a5-c59c-4886-af3b-8f4353e8f7c6"
      },
      "outputs": [],
      "source": [
        "iterator = iter(dataset)\n",
        "next_ele = iterator.get_next()"
      ]
    },
    {
      "cell_type": "code",
      "source": [
        "next_ele"
      ],
      "metadata": {
        "colab": {
          "base_uri": "https://localhost:8080/"
        },
        "id": "zLkw8IXmENyC",
        "outputId": "2f6e67de-bec8-44cf-a653-86c5d1411fea"
      },
      "id": "zLkw8IXmENyC",
      "execution_count": null,
      "outputs": [
        {
          "output_type": "execute_result",
          "data": {
            "text/plain": [
              "(<tf.Tensor: shape=(10, 2), dtype=float32, numpy=\n",
              " array([[ 0.03794198,  0.82413715],\n",
              "        [-0.04631992, -0.43888977],\n",
              "        [-1.399656  , -2.0738099 ],\n",
              "        [-0.30536675, -3.3126278 ],\n",
              "        [ 0.91071934,  0.96292335],\n",
              "        [ 1.2447798 , -1.2576023 ],\n",
              "        [ 0.72162193, -0.04815247],\n",
              "        [ 1.8128164 , -0.2642298 ],\n",
              "        [ 0.45446354, -2.1117895 ],\n",
              "        [-0.9649484 ,  0.07312981]], dtype=float32)>,\n",
              " <tf.Tensor: shape=(10, 1), dtype=float32, numpy=\n",
              " array([[ 1.4907883],\n",
              "        [ 5.605895 ],\n",
              "        [ 8.442142 ],\n",
              "        [14.847273 ],\n",
              "        [ 2.7429795],\n",
              "        [10.96687  ],\n",
              "        [ 5.782361 ],\n",
              "        [ 8.738124 ],\n",
              "        [12.292896 ],\n",
              "        [ 2.0320473]], dtype=float32)>)"
            ]
          },
          "metadata": {},
          "execution_count": 42
        }
      ]
    },
    {
      "cell_type": "markdown",
      "id": "24da4a06-3978-49c2-bcf4-cb4c1ae64f49",
      "metadata": {
        "origin_pos": 15,
        "id": "24da4a06-3978-49c2-bcf4-cb4c1ae64f49"
      },
      "source": [
        "4. **Explain what the output shape in the prvious tensors means:**\n"
      ]
    },
    {
      "cell_type": "markdown",
      "id": "c7eda004-0643-4132-b737-c1f2fc2049d9",
      "metadata": {
        "origin_pos": 16,
        "tab": [
          "tensorflow"
        ],
        "id": "c7eda004-0643-4132-b737-c1f2fc2049d9"
      },
      "source": [
        "**Answer:**\n",
        "the first tensor is the 2 features of the first batch of 10 examples. and the second one is their labels"
      ]
    },
    {
      "cell_type": "markdown",
      "id": "5c83f595-3746-435e-a824-9b4011a5aa40",
      "metadata": {
        "id": "5c83f595-3746-435e-a824-9b4011a5aa40"
      },
      "source": [
        "5. **How many TOTAL batches can be generated by **ENTIRE** data_iter ?** --> batches in data"
      ]
    },
    {
      "cell_type": "markdown",
      "id": "88eb5391-71a5-45ef-8af3-8f6a33b7793c",
      "metadata": {
        "origin_pos": 16,
        "tab": [
          "tensorflow"
        ],
        "id": "88eb5391-71a5-45ef-8af3-8f6a33b7793c"
      },
      "source": [
        "**Answer:**\n",
        "batches = examples / batch_size = 1000/10 = 100 batch"
      ]
    },
    {
      "cell_type": "markdown",
      "id": "71628cba-f449-4139-a02a-f4b9e6b53545",
      "metadata": {
        "origin_pos": 17,
        "tags": [],
        "id": "71628cba-f449-4139-a02a-f4b9e6b53545"
      },
      "source": [
        "### Initializing Model Parameters\n",
        "\n",
        "6. **Initialize weights by sampling random numbers from a normal distribution with mean 0 and a standard deviation of 0.01, and setting the bias to 0.**\n",
        "\n",
        "Note: For the shapes of the weights and bias, look at the generating a dataset part\n"
      ]
    },
    {
      "cell_type": "code",
      "execution_count": null,
      "id": "db96e147-7256-4a1e-8c8a-6b89df19f117",
      "metadata": {
        "origin_pos": 20,
        "tab": [
          "tensorflow"
        ],
        "id": "db96e147-7256-4a1e-8c8a-6b89df19f117"
      },
      "outputs": [],
      "source": [
        "## YOUR CODE HERE ##\n",
        "def init_params ():\n",
        "    w = tf.Variable(tf.random.normal([2, 1], mean= 0, stddev= 0.01))   # w size (features * examples)\n",
        "    b = tf.Variable(tf.zeros([1,1]), dtype= tf.float32)  # b size = (1 * num_of_outputs)\n",
        "    return w, b"
      ]
    },
    {
      "cell_type": "markdown",
      "id": "09bbcd34-e487-4751-b8ff-a0f932350562",
      "metadata": {
        "origin_pos": 21,
        "id": "09bbcd34-e487-4751-b8ff-a0f932350562"
      },
      "source": [
        "### Defining the Model\n",
        "\n",
        "7. [**define our model, relating its inputs and parameters to its outputs.**]"
      ]
    },
    {
      "cell_type": "code",
      "execution_count": null,
      "id": "a892f99c-9846-4b4c-bf89-dd552ca2fd26",
      "metadata": {
        "origin_pos": 22,
        "tab": [
          "tensorflow"
        ],
        "id": "a892f99c-9846-4b4c-bf89-dd552ca2fd26"
      },
      "outputs": [],
      "source": [
        "def linreg(X, w, b):\n",
        "    \"\"\"The linear regression model.\"\"\"\n",
        "    model = tf.add(tf.matmul(X, w), b)   # y_pred\n",
        "    return model"
      ]
    },
    {
      "cell_type": "markdown",
      "id": "78acdc39-21c6-4125-b0de-b7a14a9c93eb",
      "metadata": {
        "origin_pos": 23,
        "id": "78acdc39-21c6-4125-b0de-b7a14a9c93eb"
      },
      "source": [
        "### Defining the Loss Function\n",
        "\n",
        "8. (**define the loss function**): the squared loss function\n",
        "as described in Loss Function definition above.\n",
        "\n",
        "Note: In the implementation, you need to transform the true value `y`\n",
        "into the predicted value's shape `y_hat`.\n",
        "The result returned by the following function\n",
        "will also have the same shape as `y_hat`.\n"
      ]
    },
    {
      "cell_type": "code",
      "execution_count": null,
      "id": "37e04bc2-0d67-4204-b0bf-b99ff8a1d0d3",
      "metadata": {
        "origin_pos": 24,
        "tab": [
          "tensorflow"
        ],
        "id": "37e04bc2-0d67-4204-b0bf-b99ff8a1d0d3"
      },
      "outputs": [],
      "source": [
        "def squared_loss(y_hat, y_true):\n",
        "    \"\"\"Squared loss.\"\"\"\n",
        "    tf.reshape(y_true, tf.shape(y_hat))\n",
        "    squared_loss = (1/10) * tf.reduce_sum(0.5 * tf.pow(y_hat - y_true, 2))\n",
        "    return squared_loss"
      ]
    },
    {
      "cell_type": "markdown",
      "id": "212f6a87-1c81-4aa1-aebe-41334d719398",
      "metadata": {
        "origin_pos": 25,
        "id": "212f6a87-1c81-4aa1-aebe-41334d719398"
      },
      "source": [
        "### Defining the Optimization Algorithm\n",
        "\n",
        "At each step, using one minibatch randomly drawn from our dataset,\n",
        "we will estimate the gradient of the loss with respect to our parameters.\n",
        "Next, we will update our parameters\n",
        "in the direction that may reduce the loss.\n",
        "\n",
        "9. **Filll in the missing function below to apply the minibatch stochastic gradient descent update, given a set of parameters, a learning rate, and a batch size.**\n",
        "\n",
        "Note: use assign_sub\n"
      ]
    },
    {
      "cell_type": "code",
      "source": [
        "x = tf.Variable([1,2,4])\n",
        "# x = x.assign_sub([3,4,1])\n",
        "tf.compat.v1.assign_sub(\n",
        "    x, [3,3,2]\n",
        ")\n",
        "print(x)"
      ],
      "metadata": {
        "colab": {
          "base_uri": "https://localhost:8080/"
        },
        "id": "p2q4nXWuboA1",
        "outputId": "fc4e64fb-683f-472f-8d7d-0fd7e85bfec4"
      },
      "id": "p2q4nXWuboA1",
      "execution_count": null,
      "outputs": [
        {
          "output_type": "stream",
          "name": "stdout",
          "text": [
            "<tf.Variable 'Variable:0' shape=(3,) dtype=int32, numpy=array([-2, -1,  2], dtype=int32)>\n"
          ]
        }
      ]
    },
    {
      "cell_type": "code",
      "execution_count": null,
      "id": "ddfe9ccd-271e-4fc3-ab9a-3720d6bf4b23",
      "metadata": {
        "origin_pos": 28,
        "tab": [
          "tensorflow"
        ],
        "id": "ddfe9ccd-271e-4fc3-ab9a-3720d6bf4b23"
      },
      "outputs": [],
      "source": [
        "def sgd(params, grads, lr, batch_size):\n",
        "    \"\"\"Minibatch stochastic gradient descent. Update parameters\"\"\"\n",
        "    for p in range(params):\n",
        "        tf.compat.v1.assign_sub(params[p], (lr * grads[p] / batch_size))"
      ]
    },
    {
      "cell_type": "markdown",
      "id": "9016fa58-4d4b-44b1-91a1-6f1e8995c9f7",
      "metadata": {
        "origin_pos": 29,
        "id": "9016fa58-4d4b-44b1-91a1-6f1e8995c9f7"
      },
      "source": [
        "### Training\n",
        "\n",
        "10. **Implement the following loop**\n",
        "\n",
        "* For each epoch :\n",
        "    * Initialize parameters $(\\mathbf{w}, b)$\n",
        "    * Repeat until done\n",
        "        * Compute gradient $\\mathbf{g} \\leftarrow \\partial_{(\\mathbf{w},b)} \\frac{1}{|\\mathcal{B}|} \\sum_{i \\in \\mathcal{B}} l(\\mathbf{x}^{(i)}, y^{(i)}, \\mathbf{w}, b)$\n",
        "        * Update parameters $(\\mathbf{w}, b) \\leftarrow (\\mathbf{w}, b) - \\eta \\mathbf{g}$\n",
        "    * Print the loss at the end of each epoch\n",
        "\n",
        "In each *epoch*,\n",
        "we will iterate through the entire dataset\n",
        "(using the `data_iter` function) once\n",
        "passing through every example in the training dataset\n",
        ".\n",
        "\n",
        "\n",
        "Set the number of epochs `num_epochs` and the learning rate `lr` to 3 and 0.03, respectively."
      ]
    },
    {
      "cell_type": "code",
      "execution_count": null,
      "id": "7f2d2d6e-1661-4737-b135-887221607b48",
      "metadata": {
        "origin_pos": 33,
        "tab": [
          "tensorflow"
        ],
        "id": "7f2d2d6e-1661-4737-b135-887221607b48"
      },
      "outputs": [],
      "source": [
        "params = init_params()   # write them here to use it print loss AFTER each epoch. w, b change with each batch\n",
        "w = params[0]\n",
        "b = params[1]\n",
        "\n",
        "def training(dataset):        # shuffled and batched dataset\n",
        "    iterator = iter(dataset)\n",
        "    lr = 0.03\n",
        "    num_epochs = 3\n",
        "    next_batch = iterator.next()\n",
        "    w = params[0]\n",
        "    b = params[1]\n",
        "\n",
        "    for ep in range (num_epochs):\n",
        "        while True:    #repeat for each batch\n",
        "            try:\n",
        "              x_train = next_batch[0]\n",
        "              y_train = next_batch[1]\n",
        "\n",
        "              with tf.GradientTape() as tape:\n",
        "                  y_pred = tf.add(tf.matmul(x_train, w), b)\n",
        "                  loss = squared_loss(y_pred, y_train)    # loss is function in w, b\n",
        "              dl_dw = tape.gradient(loss, w)\n",
        "              dl_db = tape.gradient(loss, b)\n",
        "\n",
        "              grads = tf.Variable([dl_dw, dl_db])\n",
        "              sgd(params, grads, lr, 10)\n",
        "              w = params[0]\n",
        "              b = params[1]\n",
        "              next_batch = iterator.next()\n",
        "            except tf.errors.OutOfRangeError:\n",
        "              break   # finished all batches\n",
        "        #print this epoch loss\n",
        "        epoch_y_pred = linreg(x_train, w, b)\n",
        "        epoch_loss = squared_loss(epoch_y_pred, y_train)\n",
        "        print(\"epoch \" + ep+ \" : \"+ epoch_loss)"
      ]
    },
    {
      "cell_type": "markdown",
      "id": "393f4953-35dc-46c1-b495-96172232bc3f",
      "metadata": {
        "origin_pos": 34,
        "id": "393f4953-35dc-46c1-b495-96172232bc3f"
      },
      "source": [
        "In this case, because we synthesized the dataset ourselves,\n",
        "we know precisely what the true parameters are.\n",
        "\n",
        "11. [**evaluate our success in training by comparing the true parameters with those that we learned**] through our training loop. They should turn out to be very close to each other.\n"
      ]
    },
    {
      "cell_type": "code",
      "execution_count": null,
      "id": "c99daff3-745a-43fd-898e-bbf1e3804c78",
      "metadata": {
        "origin_pos": 35,
        "tab": [
          "tensorflow"
        ],
        "id": "c99daff3-745a-43fd-898e-bbf1e3804c78",
        "colab": {
          "base_uri": "https://localhost:8080/",
          "height": 380
        },
        "outputId": "52f6d601-a221-4dbd-bba8-066182a73d41"
      },
      "outputs": [
        {
          "output_type": "error",
          "ename": "RuntimeError",
          "evalue": "ignored",
          "traceback": [
            "\u001b[0;31m---------------------------------------------------------------------------\u001b[0m",
            "\u001b[0;31mRuntimeError\u001b[0m                              Traceback (most recent call last)",
            "\u001b[0;32m<ipython-input-111-071f7d44e2c2>\u001b[0m in \u001b[0;36m<module>\u001b[0;34m\u001b[0m\n\u001b[1;32m      1\u001b[0m \u001b[0;31m## YOUR CODE HERE ##\u001b[0m\u001b[0;34m\u001b[0m\u001b[0;34m\u001b[0m\u001b[0;34m\u001b[0m\u001b[0m\n\u001b[0;32m----> 2\u001b[0;31m \u001b[0mtraining\u001b[0m\u001b[0;34m(\u001b[0m\u001b[0mdataset\u001b[0m\u001b[0;34m)\u001b[0m\u001b[0;34m\u001b[0m\u001b[0;34m\u001b[0m\u001b[0m\n\u001b[0m\u001b[1;32m      3\u001b[0m \u001b[0mprint\u001b[0m\u001b[0;34m(\u001b[0m\u001b[0;34mf'error in estimating w: {w-[[2], [-3.4]]}'\u001b[0m\u001b[0;34m)\u001b[0m\u001b[0;34m\u001b[0m\u001b[0;34m\u001b[0m\u001b[0m\n\u001b[1;32m      4\u001b[0m \u001b[0mprint\u001b[0m\u001b[0;34m(\u001b[0m\u001b[0;34mf'error in estimating b: {b - 4.2}'\u001b[0m\u001b[0;34m)\u001b[0m\u001b[0;34m\u001b[0m\u001b[0;34m\u001b[0m\u001b[0m\n",
            "\u001b[0;32m<ipython-input-110-9d659cffeff7>\u001b[0m in \u001b[0;36mtraining\u001b[0;34m(dataset)\u001b[0m\n\u001b[1;32m     21\u001b[0m                   \u001b[0mloss\u001b[0m \u001b[0;34m=\u001b[0m \u001b[0msquared_loss\u001b[0m\u001b[0;34m(\u001b[0m\u001b[0my_pred\u001b[0m\u001b[0;34m,\u001b[0m \u001b[0my_train\u001b[0m\u001b[0;34m)\u001b[0m    \u001b[0;31m# loss is function in w, b\u001b[0m\u001b[0;34m\u001b[0m\u001b[0;34m\u001b[0m\u001b[0m\n\u001b[1;32m     22\u001b[0m               \u001b[0mdl_dw\u001b[0m \u001b[0;34m=\u001b[0m \u001b[0mtape\u001b[0m\u001b[0;34m.\u001b[0m\u001b[0mgradient\u001b[0m\u001b[0;34m(\u001b[0m\u001b[0mloss\u001b[0m\u001b[0;34m,\u001b[0m \u001b[0mw\u001b[0m\u001b[0;34m)\u001b[0m\u001b[0;34m\u001b[0m\u001b[0;34m\u001b[0m\u001b[0m\n\u001b[0;32m---> 23\u001b[0;31m               \u001b[0mdl_db\u001b[0m \u001b[0;34m=\u001b[0m \u001b[0mtape\u001b[0m\u001b[0;34m.\u001b[0m\u001b[0mgradient\u001b[0m\u001b[0;34m(\u001b[0m\u001b[0mloss\u001b[0m\u001b[0;34m,\u001b[0m \u001b[0mb\u001b[0m\u001b[0;34m)\u001b[0m\u001b[0;34m\u001b[0m\u001b[0;34m\u001b[0m\u001b[0m\n\u001b[0m\u001b[1;32m     24\u001b[0m \u001b[0;34m\u001b[0m\u001b[0m\n\u001b[1;32m     25\u001b[0m               \u001b[0mgrads\u001b[0m \u001b[0;34m=\u001b[0m \u001b[0mtf\u001b[0m\u001b[0;34m.\u001b[0m\u001b[0mVariable\u001b[0m\u001b[0;34m(\u001b[0m\u001b[0;34m[\u001b[0m\u001b[0mdl_dw\u001b[0m\u001b[0;34m,\u001b[0m \u001b[0mdl_db\u001b[0m\u001b[0;34m]\u001b[0m\u001b[0;34m)\u001b[0m\u001b[0;34m\u001b[0m\u001b[0;34m\u001b[0m\u001b[0m\n",
            "\u001b[0;32m/usr/local/lib/python3.7/dist-packages/tensorflow/python/eager/backprop.py\u001b[0m in \u001b[0;36mgradient\u001b[0;34m(self, target, sources, output_gradients, unconnected_gradients)\u001b[0m\n\u001b[1;32m   1038\u001b[0m     \"\"\"\n\u001b[1;32m   1039\u001b[0m     \u001b[0;32mif\u001b[0m \u001b[0mself\u001b[0m\u001b[0;34m.\u001b[0m\u001b[0m_tape\u001b[0m \u001b[0;32mis\u001b[0m \u001b[0;32mNone\u001b[0m\u001b[0;34m:\u001b[0m\u001b[0;34m\u001b[0m\u001b[0;34m\u001b[0m\u001b[0m\n\u001b[0;32m-> 1040\u001b[0;31m       raise RuntimeError(\"A non-persistent GradientTape can only be used to \"\n\u001b[0m\u001b[1;32m   1041\u001b[0m                          \"compute one set of gradients (or jacobians)\")\n\u001b[1;32m   1042\u001b[0m     \u001b[0;32mif\u001b[0m \u001b[0mself\u001b[0m\u001b[0;34m.\u001b[0m\u001b[0m_recording\u001b[0m\u001b[0;34m:\u001b[0m\u001b[0;34m\u001b[0m\u001b[0;34m\u001b[0m\u001b[0m\n",
            "\u001b[0;31mRuntimeError\u001b[0m: A non-persistent GradientTape can only be used to compute one set of gradients (or jacobians)"
          ]
        }
      ],
      "source": [
        "## YOUR CODE HERE ##\n",
        "training(dataset)\n",
        "print(f'error in estimating w: {w-[[2], [-3.4]]}')\n",
        "print(f'error in estimating b: {b - 4.2}')"
      ]
    },
    {
      "cell_type": "markdown",
      "id": "3f7b518a-c2ac-4f0e-941b-98d300ed9963",
      "metadata": {
        "id": "3f7b518a-c2ac-4f0e-941b-98d300ed9963"
      },
      "source": [
        "## Part 2  Diabetes Dataset"
      ]
    },
    {
      "cell_type": "markdown",
      "id": "06b07d9c-b52e-4f52-8e70-f7a4bebd63bb",
      "metadata": {
        "id": "06b07d9c-b52e-4f52-8e70-f7a4bebd63bb"
      },
      "source": [
        "In this section, we will use SKLEARN's Diabetes dataset"
      ]
    },
    {
      "cell_type": "markdown",
      "id": "e0cef42e-4494-4f16-b2d2-7cfe68c51e3d",
      "metadata": {
        "id": "e0cef42e-4494-4f16-b2d2-7cfe68c51e3d"
      },
      "source": [
        "### Loading the Dataset"
      ]
    },
    {
      "cell_type": "markdown",
      "id": "2aea7770-afb6-45f2-93b1-b9c72df36bc0",
      "metadata": {
        "id": "2aea7770-afb6-45f2-93b1-b9c72df36bc0"
      },
      "source": [
        "1. **Load the Diabetes dataset from sklearn**"
      ]
    },
    {
      "cell_type": "code",
      "execution_count": null,
      "id": "f07dc3b6-c48e-4a37-8f73-3500f344e717",
      "metadata": {
        "id": "f07dc3b6-c48e-4a37-8f73-3500f344e717"
      },
      "outputs": [],
      "source": [
        "from sklearn.datasets import load_diabetes\n",
        "## YOUR CODE HERE ##\n",
        "dataset = load_diabetes()"
      ]
    },
    {
      "cell_type": "markdown",
      "id": "aa95939c-f94a-4383-9e4b-18c86af1cebf",
      "metadata": {
        "id": "aa95939c-f94a-4383-9e4b-18c86af1cebf"
      },
      "source": [
        "2. **Look at the keys of diabetes_dataset dictionary**"
      ]
    },
    {
      "cell_type": "code",
      "execution_count": null,
      "id": "1c92cb43-cb3d-47f1-8535-c4439f585412",
      "metadata": {
        "id": "1c92cb43-cb3d-47f1-8535-c4439f585412",
        "colab": {
          "base_uri": "https://localhost:8080/"
        },
        "outputId": "5b20934d-ad0b-4299-9d43-451b5e3f9bbc"
      },
      "outputs": [
        {
          "output_type": "stream",
          "name": "stdout",
          "text": [
            "[[ 0.03807591  0.05068012  0.06169621 ... -0.00259226  0.01990842\n",
            "  -0.01764613]\n",
            " [-0.00188202 -0.04464164 -0.05147406 ... -0.03949338 -0.06832974\n",
            "  -0.09220405]\n",
            " [ 0.08529891  0.05068012  0.04445121 ... -0.00259226  0.00286377\n",
            "  -0.02593034]\n",
            " ...\n",
            " [ 0.04170844  0.05068012 -0.01590626 ... -0.01107952 -0.04687948\n",
            "   0.01549073]\n",
            " [-0.04547248 -0.04464164  0.03906215 ...  0.02655962  0.04452837\n",
            "  -0.02593034]\n",
            " [-0.04547248 -0.04464164 -0.0730303  ... -0.03949338 -0.00421986\n",
            "   0.00306441]]\n"
          ]
        }
      ],
      "source": [
        "## YOUR CODE HERE ##\n",
        "dataset[\"feature_names\"]\n",
        "print(dataset[\"data\"])"
      ]
    },
    {
      "cell_type": "markdown",
      "id": "484a2460-7023-4468-9399-3a40d00ba55c",
      "metadata": {
        "id": "484a2460-7023-4468-9399-3a40d00ba55c"
      },
      "source": [
        "3. **Use the key DESCR to understand the dataset**"
      ]
    },
    {
      "cell_type": "code",
      "execution_count": null,
      "id": "87437737-e0d0-4e18-a841-ab214ed2261b",
      "metadata": {
        "id": "87437737-e0d0-4e18-a841-ab214ed2261b",
        "colab": {
          "base_uri": "https://localhost:8080/"
        },
        "outputId": "0840db75-48f2-4584-d2f1-c41ce64043b1"
      },
      "outputs": [
        {
          "output_type": "stream",
          "name": "stdout",
          "text": [
            ".. _diabetes_dataset:\n",
            "\n",
            "Diabetes dataset\n",
            "----------------\n",
            "\n",
            "Ten baseline variables, age, sex, body mass index, average blood\n",
            "pressure, and six blood serum measurements were obtained for each of n =\n",
            "442 diabetes patients, as well as the response of interest, a\n",
            "quantitative measure of disease progression one year after baseline.\n",
            "\n",
            "**Data Set Characteristics:**\n",
            "\n",
            "  :Number of Instances: 442\n",
            "\n",
            "  :Number of Attributes: First 10 columns are numeric predictive values\n",
            "\n",
            "  :Target: Column 11 is a quantitative measure of disease progression one year after baseline\n",
            "\n",
            "  :Attribute Information:\n",
            "      - age     age in years\n",
            "      - sex\n",
            "      - bmi     body mass index\n",
            "      - bp      average blood pressure\n",
            "      - s1      tc, total serum cholesterol\n",
            "      - s2      ldl, low-density lipoproteins\n",
            "      - s3      hdl, high-density lipoproteins\n",
            "      - s4      tch, total cholesterol / HDL\n",
            "      - s5      ltg, possibly log of serum triglycerides level\n",
            "      - s6      glu, blood sugar level\n",
            "\n",
            "Note: Each of these 10 feature variables have been mean centered and scaled by the standard deviation times `n_samples` (i.e. the sum of squares of each column totals 1).\n",
            "\n",
            "Source URL:\n",
            "https://www4.stat.ncsu.edu/~boos/var.select/diabetes.html\n",
            "\n",
            "For more information see:\n",
            "Bradley Efron, Trevor Hastie, Iain Johnstone and Robert Tibshirani (2004) \"Least Angle Regression,\" Annals of Statistics (with discussion), 407-499.\n",
            "(https://web.stanford.edu/~hastie/Papers/LARS/LeastAngle_2002.pdf)\n"
          ]
        }
      ],
      "source": [
        "## YOUR CODE HERE ##\n",
        "print(dataset[\"DESCR\"])"
      ]
    },
    {
      "cell_type": "markdown",
      "id": "6472180c-ebb8-44f9-8bab-c507e256ef39",
      "metadata": {
        "id": "6472180c-ebb8-44f9-8bab-c507e256ef39"
      },
      "source": [
        "4. **Save the data and target variables in numpy arrays and print their shapes**"
      ]
    },
    {
      "cell_type": "code",
      "execution_count": null,
      "id": "8fc2a160-b33f-44c5-83a7-08beb821a64a",
      "metadata": {
        "id": "8fc2a160-b33f-44c5-83a7-08beb821a64a",
        "colab": {
          "base_uri": "https://localhost:8080/"
        },
        "outputId": "ff85fa67-ae49-44f2-c881-813db2785436"
      },
      "outputs": [
        {
          "output_type": "stream",
          "name": "stdout",
          "text": [
            "The shape of data is: (442, 10)\n",
            "The shape of targets is: (442,)\n",
            "I have f = 10 features!\n",
            "I have m = 442 examples!\n"
          ]
        }
      ],
      "source": [
        "### START CODE HERE ### (≈ 2 lines of code)\n",
        "data = np.array(dataset[\"data\"])\n",
        "targets = np.array(dataset[\"target\"])\n",
        "### END CODE HERE ###\n",
        "\n",
        "print ('The shape of data is: ' + str(data.shape))\n",
        "print ('The shape of targets is: ' + str(targets.shape))\n",
        "print ('I have f = %d features!' % (data.shape[1]))\n",
        "print ('I have m = %d examples!' % (data.shape[0]))"
      ]
    },
    {
      "cell_type": "markdown",
      "id": "52f4ad51-a6a3-4cfc-9c64-6e7a44545d66",
      "metadata": {
        "id": "52f4ad51-a6a3-4cfc-9c64-6e7a44545d66"
      },
      "source": [
        "5. **What are the ranges of each column in features and the target column?**\n",
        "    - *Hint* you might find it helpful to convert to pandas dataframe and use \".describe\""
      ]
    },
    {
      "cell_type": "code",
      "execution_count": null,
      "id": "1e4d03cc-c705-4e4e-81f7-6d49a6e86fbd",
      "metadata": {
        "id": "1e4d03cc-c705-4e4e-81f7-6d49a6e86fbd",
        "colab": {
          "base_uri": "https://localhost:8080/"
        },
        "outputId": "19d8d3f7-3fb4-4d61-9e44-edb41652060b"
      },
      "outputs": [
        {
          "output_type": "stream",
          "name": "stdout",
          "text": [
            "range data:                    0             1             2             3             4  \\\n",
            "count  4.420000e+02  4.420000e+02  4.420000e+02  4.420000e+02  4.420000e+02   \n",
            "mean  -3.639623e-16  1.309912e-16 -8.013951e-16  1.289818e-16 -9.042540e-17   \n",
            "std    4.761905e-02  4.761905e-02  4.761905e-02  4.761905e-02  4.761905e-02   \n",
            "min   -1.072256e-01 -4.464164e-02 -9.027530e-02 -1.123996e-01 -1.267807e-01   \n",
            "25%   -3.729927e-02 -4.464164e-02 -3.422907e-02 -3.665645e-02 -3.424784e-02   \n",
            "50%    5.383060e-03 -4.464164e-02 -7.283766e-03 -5.670611e-03 -4.320866e-03   \n",
            "75%    3.807591e-02  5.068012e-02  3.124802e-02  3.564384e-02  2.835801e-02   \n",
            "max    1.107267e-01  5.068012e-02  1.705552e-01  1.320442e-01  1.539137e-01   \n",
            "\n",
            "                  5             6             7             8             9  \n",
            "count  4.420000e+02  4.420000e+02  4.420000e+02  4.420000e+02  4.420000e+02  \n",
            "mean   1.301121e-16 -4.563971e-16  3.863174e-16 -3.848103e-16 -3.398488e-16  \n",
            "std    4.761905e-02  4.761905e-02  4.761905e-02  4.761905e-02  4.761905e-02  \n",
            "min   -1.156131e-01 -1.023071e-01 -7.639450e-02 -1.260974e-01 -1.377672e-01  \n",
            "25%   -3.035840e-02 -3.511716e-02 -3.949338e-02 -3.324879e-02 -3.317903e-02  \n",
            "50%   -3.819065e-03 -6.584468e-03 -2.592262e-03 -1.947634e-03 -1.077698e-03  \n",
            "75%    2.984439e-02  2.931150e-02  3.430886e-02  3.243323e-02  2.791705e-02  \n",
            "max    1.987880e-01  1.811791e-01  1.852344e-01  1.335990e-01  1.356118e-01  \n",
            "\n",
            " --------------\n",
            " range targets:                  0\n",
            "count  442.000000\n",
            "mean   152.133484\n",
            "std     77.093005\n",
            "min     25.000000\n",
            "25%     87.000000\n",
            "50%    140.500000\n",
            "75%    211.500000\n",
            "max    346.000000\n"
          ]
        }
      ],
      "source": [
        "### START CODE HERE ###\n",
        "data = pd.DataFrame(data)\n",
        "targets = pd.DataFrame(targets)\n",
        "print(\"range data: \", data.describe())\n",
        "print(\"\\n --------------\\n range targets: \", targets.describe())\n",
        "### END CODE HERE ###"
      ]
    },
    {
      "cell_type": "markdown",
      "id": "742f762c-fe10-42be-a3d6-7cbb4df68c0d",
      "metadata": {
        "id": "742f762c-fe10-42be-a3d6-7cbb4df68c0d"
      },
      "source": [
        "### Preparing the data"
      ]
    },
    {
      "cell_type": "markdown",
      "id": "4c879c44-aec4-4c29-aa2a-76a1d48171e6",
      "metadata": {
        "id": "4c879c44-aec4-4c29-aa2a-76a1d48171e6"
      },
      "source": [
        "6. **Split the data into train and test set using sklearn train_test_split.** Have the test set as 10% of data"
      ]
    },
    {
      "cell_type": "code",
      "execution_count": null,
      "id": "ced08578-8d2c-4e2b-ae34-4f6fa8f4326d",
      "metadata": {
        "id": "ced08578-8d2c-4e2b-ae34-4f6fa8f4326d",
        "colab": {
          "base_uri": "https://localhost:8080/"
        },
        "outputId": "b50447aa-38aa-4c8e-c87f-0d46e109c3a4"
      },
      "outputs": [
        {
          "output_type": "stream",
          "name": "stdout",
          "text": [
            "Shape of training data is (397, 10)\n",
            "Shape of training targets is (397, 1)\n",
            "Shape of test data is (45, 10)\n",
            "Shape of test targets is (45, 1)\n"
          ]
        }
      ],
      "source": [
        "np.random.seed(0)\n",
        "from sklearn.model_selection import train_test_split\n",
        "### START CODE HERE ###\n",
        "x_train, x_test, y_train, y_test = train_test_split(data, targets, test_size= 0.1)\n",
        "### END CODE HERE ###\n",
        "\n",
        "print(\"Shape of training data is\", x_train.shape)\n",
        "print(\"Shape of training targets is\", y_train.shape)\n",
        "print(\"Shape of test data is\", x_test.shape)\n",
        "print(\"Shape of test targets is\", y_test.shape)"
      ]
    },
    {
      "cell_type": "markdown",
      "id": "e18cbdeb-252c-450b-b85a-d35d5989f928",
      "metadata": {
        "id": "e18cbdeb-252c-450b-b85a-d35d5989f928"
      },
      "source": [
        "- *feature-wise normalization*: for each feature in the input data (a column in the input data matrix), we subtract the mean of the feature and divide by the standard deviation, so that the feature is centered around 0 and has a unit standard deviation. This is easily done in NumPy.\n",
        "- **Question:** Shold we normalize features? WHY?\n",
        "    - ANSWER:\n",
        "    Yes, as this improves the performance and training stability of the model and often reduces training time as all the features'd be on the same scale"
      ]
    },
    {
      "cell_type": "markdown",
      "id": "e679d2b1-eded-4768-8954-c6cdfde3e207",
      "metadata": {
        "id": "e679d2b1-eded-4768-8954-c6cdfde3e207"
      },
      "source": [
        "7. **normalize the targets using standard normalization**\n",
        "\n",
        "Hint: Avoid leak between train and test data !!"
      ]
    },
    {
      "cell_type": "code",
      "execution_count": null,
      "id": "f18246d4-dbd8-403a-9db9-a72360eaaebb",
      "metadata": {
        "id": "f18246d4-dbd8-403a-9db9-a72360eaaebb"
      },
      "outputs": [],
      "source": [
        "### START CODE HERE ### (≈ 6 lines of code)\n",
        "x_train = (x_train - x_train.mean())/ x_train.std()\n",
        "x_test = (x_test - x_test.mean())/ x_test.std()\n",
        "y_train = (y_train - y_train.mean())/ y_train.std()\n",
        "y_test = (y_test - y_test.mean())/ y_test.std()\n",
        "\n",
        "### END CODE HERE ###"
      ]
    },
    {
      "cell_type": "markdown",
      "id": "130ed50b-010c-488f-b1d0-aa2919fdf01d",
      "metadata": {
        "id": "130ed50b-010c-488f-b1d0-aa2919fdf01d"
      },
      "source": [
        "### Building your model"
      ]
    },
    {
      "cell_type": "markdown",
      "id": "9dca53c6-d8c6-4a93-876e-080cb537e98a",
      "metadata": {
        "id": "9dca53c6-d8c6-4a93-876e-080cb537e98a"
      },
      "source": [
        "7. **Use tf.keras.Sequential to build a model with:**\n",
        "    - 6 hidden layers each having 128 neurons and relu activation.\n",
        "    - 1 output layer\n",
        "    - use input_shape argument to specify input size in 1st layer\n",
        "- **Question:** How many neurons should be in output layer? What should be the activation?\n",
        "    - ANSWER: 1  , sigmoid as we wanna output between 0 and 1 equivelant to 2-element softmax"
      ]
    },
    {
      "cell_type": "code",
      "execution_count": null,
      "id": "cc9bc68e-d3a4-42c6-b1e1-42c2c97fa651",
      "metadata": {
        "id": "cc9bc68e-d3a4-42c6-b1e1-42c2c97fa651"
      },
      "outputs": [],
      "source": [
        "def build_model(input_shape):\n",
        "    model = tf.keras.models.Sequential([\n",
        "                                    tf.keras.layers.Dense(128, activation=tf.nn.relu, input_shape= input_shape),\n",
        "                                    tf.keras.layers.Dense(128, activation=tf.nn.relu),\n",
        "                                    tf.keras.layers.Dense(128, activation=tf.nn.relu),\n",
        "                                    tf.keras.layers.Dense(128, activation=tf.nn.relu),\n",
        "                                    tf.keras.layers.Dense(128, activation=tf.nn.relu),\n",
        "                                    tf.keras.layers.Dense(128, activation=tf.nn.relu),\n",
        "                                    tf.keras.layers.Dense(1, activation=tf.nn.sigmoid)])\n",
        "    return model"
      ]
    },
    {
      "cell_type": "code",
      "execution_count": null,
      "id": "cfe03837-d15a-4879-b9db-0477d01baa23",
      "metadata": {
        "id": "cfe03837-d15a-4879-b9db-0477d01baa23",
        "colab": {
          "base_uri": "https://localhost:8080/"
        },
        "outputId": "1decca82-fadf-4787-e2bd-7983eaf9e7a0"
      },
      "outputs": [
        {
          "output_type": "stream",
          "name": "stdout",
          "text": [
            "Model: \"sequential_1\"\n",
            "_________________________________________________________________\n",
            " Layer (type)                Output Shape              Param #   \n",
            "=================================================================\n",
            " dense_7 (Dense)             (None, 128)               1408      \n",
            "                                                                 \n",
            " dense_8 (Dense)             (None, 128)               16512     \n",
            "                                                                 \n",
            " dense_9 (Dense)             (None, 128)               16512     \n",
            "                                                                 \n",
            " dense_10 (Dense)            (None, 128)               16512     \n",
            "                                                                 \n",
            " dense_11 (Dense)            (None, 128)               16512     \n",
            "                                                                 \n",
            " dense_12 (Dense)            (None, 128)               16512     \n",
            "                                                                 \n",
            " dense_13 (Dense)            (None, 1)                 129       \n",
            "                                                                 \n",
            "=================================================================\n",
            "Total params: 84,097\n",
            "Trainable params: 84,097\n",
            "Non-trainable params: 0\n",
            "_________________________________________________________________\n",
            "None\n"
          ]
        }
      ],
      "source": [
        "# Print the model summary\n",
        "input_shape=(x_train.shape[-1],)\n",
        "model = build_model(input_shape)\n",
        "print(model.summary())"
      ]
    },
    {
      "cell_type": "markdown",
      "id": "114f2e34-fa34-4312-bbe8-c929d350c89f",
      "metadata": {
        "id": "114f2e34-fa34-4312-bbe8-c929d350c89f"
      },
      "source": [
        "8. **Compile the model using optimizer=Adam, loss=mean squared loss, metrics=mean absoluute error:**"
      ]
    },
    {
      "cell_type": "code",
      "execution_count": null,
      "id": "8a438445-aac4-4913-8012-6d7095b09ed1",
      "metadata": {
        "id": "8a438445-aac4-4913-8012-6d7095b09ed1"
      },
      "outputs": [],
      "source": [
        "### START CODE HERE ###\n",
        "model.compile(optimizer = tf.optimizers.Adam(),\n",
        "              loss = 'mean_squared_error',\n",
        "              metrics=['mean_absolute_error'])"
      ]
    },
    {
      "cell_type": "markdown",
      "id": "f9eb30a2-e09f-4298-8210-998eb79eb7a9",
      "metadata": {
        "id": "f9eb30a2-e09f-4298-8210-998eb79eb7a9"
      },
      "source": [
        "Note that we compile the model with the mse loss function—mean squared error, the\n",
        "square of the difference between the predictions and the targets. We’re also monitoring a new metric during training: mean absolute error (MAE). It’s the\n",
        "absolute value of the difference between the predictions and the targets."
      ]
    },
    {
      "cell_type": "markdown",
      "id": "36507d6f-cd6d-47fa-b74c-fd7e14c9d9ba",
      "metadata": {
        "id": "36507d6f-cd6d-47fa-b74c-fd7e14c9d9ba"
      },
      "source": [
        "9. **FIT the model using for 100 epochs, 64 batch size and a validation split of 0.15**"
      ]
    },
    {
      "cell_type": "code",
      "execution_count": null,
      "id": "1f63ab80-1353-4997-aba5-4e6299bee5d7",
      "metadata": {
        "tags": [],
        "id": "1f63ab80-1353-4997-aba5-4e6299bee5d7",
        "colab": {
          "base_uri": "https://localhost:8080/"
        },
        "outputId": "cffe98fc-a16c-4bab-80a9-60b465c7f429"
      },
      "outputs": [
        {
          "output_type": "stream",
          "name": "stdout",
          "text": [
            "Epoch 1/100\n",
            "6/6 [==============================] - 1s 28ms/step - loss: 1.2037 - mean_absolute_error: 0.9581 - val_loss: 1.2104 - val_mean_absolute_error: 0.9770\n",
            "Epoch 2/100\n",
            "6/6 [==============================] - 0s 6ms/step - loss: 1.0039 - mean_absolute_error: 0.8735 - val_loss: 0.9841 - val_mean_absolute_error: 0.8795\n",
            "Epoch 3/100\n",
            "6/6 [==============================] - 0s 6ms/step - loss: 0.7812 - mean_absolute_error: 0.7666 - val_loss: 0.8256 - val_mean_absolute_error: 0.8061\n",
            "Epoch 4/100\n",
            "6/6 [==============================] - 0s 7ms/step - loss: 0.6851 - mean_absolute_error: 0.7143 - val_loss: 0.7988 - val_mean_absolute_error: 0.7923\n",
            "Epoch 5/100\n",
            "6/6 [==============================] - 0s 7ms/step - loss: 0.6640 - mean_absolute_error: 0.6990 - val_loss: 0.7981 - val_mean_absolute_error: 0.7931\n",
            "Epoch 6/100\n",
            "6/6 [==============================] - 0s 6ms/step - loss: 0.6461 - mean_absolute_error: 0.6864 - val_loss: 0.7994 - val_mean_absolute_error: 0.7826\n",
            "Epoch 7/100\n",
            "6/6 [==============================] - 0s 5ms/step - loss: 0.6355 - mean_absolute_error: 0.6808 - val_loss: 0.8124 - val_mean_absolute_error: 0.7787\n",
            "Epoch 8/100\n",
            "6/6 [==============================] - 0s 6ms/step - loss: 0.6393 - mean_absolute_error: 0.6851 - val_loss: 0.8228 - val_mean_absolute_error: 0.7896\n",
            "Epoch 9/100\n",
            "6/6 [==============================] - 0s 5ms/step - loss: 0.6354 - mean_absolute_error: 0.6820 - val_loss: 0.8115 - val_mean_absolute_error: 0.7831\n",
            "Epoch 10/100\n",
            "6/6 [==============================] - 0s 5ms/step - loss: 0.6260 - mean_absolute_error: 0.6748 - val_loss: 0.8190 - val_mean_absolute_error: 0.7867\n",
            "Epoch 11/100\n",
            "6/6 [==============================] - 0s 6ms/step - loss: 0.6209 - mean_absolute_error: 0.6722 - val_loss: 0.8061 - val_mean_absolute_error: 0.7819\n",
            "Epoch 12/100\n",
            "6/6 [==============================] - 0s 9ms/step - loss: 0.6252 - mean_absolute_error: 0.6747 - val_loss: 0.8078 - val_mean_absolute_error: 0.7825\n",
            "Epoch 13/100\n",
            "6/6 [==============================] - 0s 6ms/step - loss: 0.6184 - mean_absolute_error: 0.6688 - val_loss: 0.8103 - val_mean_absolute_error: 0.7895\n",
            "Epoch 14/100\n",
            "6/6 [==============================] - 0s 6ms/step - loss: 0.6116 - mean_absolute_error: 0.6644 - val_loss: 0.8031 - val_mean_absolute_error: 0.7776\n",
            "Epoch 15/100\n",
            "6/6 [==============================] - 0s 8ms/step - loss: 0.6128 - mean_absolute_error: 0.6666 - val_loss: 0.7974 - val_mean_absolute_error: 0.7745\n",
            "Epoch 16/100\n",
            "6/6 [==============================] - 0s 5ms/step - loss: 0.6078 - mean_absolute_error: 0.6618 - val_loss: 0.8038 - val_mean_absolute_error: 0.7728\n",
            "Epoch 17/100\n",
            "6/6 [==============================] - 0s 7ms/step - loss: 0.6043 - mean_absolute_error: 0.6578 - val_loss: 0.8001 - val_mean_absolute_error: 0.7720\n",
            "Epoch 18/100\n",
            "6/6 [==============================] - 0s 7ms/step - loss: 0.6067 - mean_absolute_error: 0.6622 - val_loss: 0.7936 - val_mean_absolute_error: 0.7706\n",
            "Epoch 19/100\n",
            "6/6 [==============================] - 0s 7ms/step - loss: 0.6106 - mean_absolute_error: 0.6621 - val_loss: 0.7805 - val_mean_absolute_error: 0.7688\n",
            "Epoch 20/100\n",
            "6/6 [==============================] - 0s 6ms/step - loss: 0.6007 - mean_absolute_error: 0.6556 - val_loss: 0.7710 - val_mean_absolute_error: 0.7612\n",
            "Epoch 21/100\n",
            "6/6 [==============================] - 0s 6ms/step - loss: 0.6035 - mean_absolute_error: 0.6588 - val_loss: 0.7623 - val_mean_absolute_error: 0.7559\n",
            "Epoch 22/100\n",
            "6/6 [==============================] - 0s 6ms/step - loss: 0.6018 - mean_absolute_error: 0.6567 - val_loss: 0.7741 - val_mean_absolute_error: 0.7614\n",
            "Epoch 23/100\n",
            "6/6 [==============================] - 0s 6ms/step - loss: 0.5984 - mean_absolute_error: 0.6538 - val_loss: 0.7859 - val_mean_absolute_error: 0.7616\n",
            "Epoch 24/100\n",
            "6/6 [==============================] - 0s 7ms/step - loss: 0.5969 - mean_absolute_error: 0.6518 - val_loss: 0.7771 - val_mean_absolute_error: 0.7596\n",
            "Epoch 25/100\n",
            "6/6 [==============================] - 0s 6ms/step - loss: 0.5962 - mean_absolute_error: 0.6508 - val_loss: 0.7782 - val_mean_absolute_error: 0.7602\n",
            "Epoch 26/100\n",
            "6/6 [==============================] - 0s 7ms/step - loss: 0.5961 - mean_absolute_error: 0.6505 - val_loss: 0.7827 - val_mean_absolute_error: 0.7609\n",
            "Epoch 27/100\n",
            "6/6 [==============================] - 0s 7ms/step - loss: 0.5954 - mean_absolute_error: 0.6483 - val_loss: 0.7809 - val_mean_absolute_error: 0.7620\n",
            "Epoch 28/100\n",
            "6/6 [==============================] - 0s 7ms/step - loss: 0.5955 - mean_absolute_error: 0.6487 - val_loss: 0.7838 - val_mean_absolute_error: 0.7619\n",
            "Epoch 29/100\n",
            "6/6 [==============================] - 0s 7ms/step - loss: 0.5957 - mean_absolute_error: 0.6493 - val_loss: 0.7819 - val_mean_absolute_error: 0.7627\n",
            "Epoch 30/100\n",
            "6/6 [==============================] - 0s 6ms/step - loss: 0.5955 - mean_absolute_error: 0.6486 - val_loss: 0.7788 - val_mean_absolute_error: 0.7633\n",
            "Epoch 31/100\n",
            "6/6 [==============================] - 0s 6ms/step - loss: 0.5954 - mean_absolute_error: 0.6484 - val_loss: 0.7817 - val_mean_absolute_error: 0.7614\n",
            "Epoch 32/100\n",
            "6/6 [==============================] - 0s 7ms/step - loss: 0.5951 - mean_absolute_error: 0.6475 - val_loss: 0.7810 - val_mean_absolute_error: 0.7605\n",
            "Epoch 33/100\n",
            "6/6 [==============================] - 0s 7ms/step - loss: 0.5955 - mean_absolute_error: 0.6486 - val_loss: 0.7808 - val_mean_absolute_error: 0.7609\n",
            "Epoch 34/100\n",
            "6/6 [==============================] - 0s 6ms/step - loss: 0.5952 - mean_absolute_error: 0.6479 - val_loss: 0.7770 - val_mean_absolute_error: 0.7598\n",
            "Epoch 35/100\n",
            "6/6 [==============================] - 0s 6ms/step - loss: 0.5951 - mean_absolute_error: 0.6483 - val_loss: 0.7794 - val_mean_absolute_error: 0.7605\n",
            "Epoch 36/100\n",
            "6/6 [==============================] - 0s 7ms/step - loss: 0.5950 - mean_absolute_error: 0.6477 - val_loss: 0.7791 - val_mean_absolute_error: 0.7602\n",
            "Epoch 37/100\n",
            "6/6 [==============================] - 0s 6ms/step - loss: 0.5952 - mean_absolute_error: 0.6488 - val_loss: 0.7740 - val_mean_absolute_error: 0.7580\n",
            "Epoch 38/100\n",
            "6/6 [==============================] - 0s 6ms/step - loss: 0.5952 - mean_absolute_error: 0.6486 - val_loss: 0.7747 - val_mean_absolute_error: 0.7586\n",
            "Epoch 39/100\n",
            "6/6 [==============================] - 0s 7ms/step - loss: 0.5952 - mean_absolute_error: 0.6487 - val_loss: 0.7687 - val_mean_absolute_error: 0.7558\n",
            "Epoch 40/100\n",
            "6/6 [==============================] - 0s 6ms/step - loss: 0.5950 - mean_absolute_error: 0.6486 - val_loss: 0.7714 - val_mean_absolute_error: 0.7575\n",
            "Epoch 41/100\n",
            "6/6 [==============================] - 0s 6ms/step - loss: 0.5946 - mean_absolute_error: 0.6488 - val_loss: 0.7718 - val_mean_absolute_error: 0.7579\n",
            "Epoch 42/100\n",
            "6/6 [==============================] - 0s 6ms/step - loss: 0.5940 - mean_absolute_error: 0.6476 - val_loss: 0.7739 - val_mean_absolute_error: 0.7574\n",
            "Epoch 43/100\n",
            "6/6 [==============================] - 0s 8ms/step - loss: 0.5924 - mean_absolute_error: 0.6462 - val_loss: 0.7769 - val_mean_absolute_error: 0.7582\n",
            "Epoch 44/100\n",
            "6/6 [==============================] - 0s 6ms/step - loss: 0.5938 - mean_absolute_error: 0.6496 - val_loss: 0.7721 - val_mean_absolute_error: 0.7563\n",
            "Epoch 45/100\n",
            "6/6 [==============================] - 0s 6ms/step - loss: 0.5923 - mean_absolute_error: 0.6466 - val_loss: 0.7730 - val_mean_absolute_error: 0.7543\n",
            "Epoch 46/100\n",
            "6/6 [==============================] - 0s 6ms/step - loss: 0.5925 - mean_absolute_error: 0.6474 - val_loss: 0.7658 - val_mean_absolute_error: 0.7538\n",
            "Epoch 47/100\n",
            "6/6 [==============================] - 0s 10ms/step - loss: 0.5930 - mean_absolute_error: 0.6482 - val_loss: 0.7637 - val_mean_absolute_error: 0.7542\n",
            "Epoch 48/100\n",
            "6/6 [==============================] - 0s 6ms/step - loss: 0.5951 - mean_absolute_error: 0.6516 - val_loss: 0.7643 - val_mean_absolute_error: 0.7513\n",
            "Epoch 49/100\n",
            "6/6 [==============================] - 0s 6ms/step - loss: 0.6064 - mean_absolute_error: 0.6614 - val_loss: 0.7530 - val_mean_absolute_error: 0.7459\n",
            "Epoch 50/100\n",
            "6/6 [==============================] - 0s 8ms/step - loss: 0.6058 - mean_absolute_error: 0.6591 - val_loss: 0.7599 - val_mean_absolute_error: 0.7474\n",
            "Epoch 51/100\n",
            "6/6 [==============================] - 0s 10ms/step - loss: 0.5975 - mean_absolute_error: 0.6530 - val_loss: 0.8109 - val_mean_absolute_error: 0.7838\n",
            "Epoch 52/100\n",
            "6/6 [==============================] - 0s 6ms/step - loss: 0.5991 - mean_absolute_error: 0.6534 - val_loss: 0.7841 - val_mean_absolute_error: 0.7695\n",
            "Epoch 53/100\n",
            "6/6 [==============================] - 0s 9ms/step - loss: 0.5912 - mean_absolute_error: 0.6489 - val_loss: 0.7837 - val_mean_absolute_error: 0.7701\n",
            "Epoch 54/100\n",
            "6/6 [==============================] - 0s 6ms/step - loss: 0.5894 - mean_absolute_error: 0.6468 - val_loss: 0.7888 - val_mean_absolute_error: 0.7721\n",
            "Epoch 55/100\n",
            "6/6 [==============================] - 0s 6ms/step - loss: 0.5898 - mean_absolute_error: 0.6473 - val_loss: 0.7817 - val_mean_absolute_error: 0.7682\n",
            "Epoch 56/100\n",
            "6/6 [==============================] - 0s 6ms/step - loss: 0.5884 - mean_absolute_error: 0.6457 - val_loss: 0.7599 - val_mean_absolute_error: 0.7526\n",
            "Epoch 57/100\n",
            "6/6 [==============================] - 0s 6ms/step - loss: 0.6096 - mean_absolute_error: 0.6588 - val_loss: 0.7803 - val_mean_absolute_error: 0.7673\n",
            "Epoch 58/100\n",
            "6/6 [==============================] - 0s 7ms/step - loss: 0.6050 - mean_absolute_error: 0.6556 - val_loss: 0.7911 - val_mean_absolute_error: 0.7675\n",
            "Epoch 59/100\n",
            "6/6 [==============================] - 0s 7ms/step - loss: 0.5929 - mean_absolute_error: 0.6499 - val_loss: 0.7507 - val_mean_absolute_error: 0.7456\n",
            "Epoch 60/100\n",
            "6/6 [==============================] - 0s 10ms/step - loss: 0.5879 - mean_absolute_error: 0.6456 - val_loss: 0.7602 - val_mean_absolute_error: 0.7560\n",
            "Epoch 61/100\n",
            "6/6 [==============================] - 0s 6ms/step - loss: 0.5868 - mean_absolute_error: 0.6436 - val_loss: 0.7460 - val_mean_absolute_error: 0.7393\n",
            "Epoch 62/100\n",
            "6/6 [==============================] - 0s 6ms/step - loss: 0.5863 - mean_absolute_error: 0.6432 - val_loss: 0.7468 - val_mean_absolute_error: 0.7380\n",
            "Epoch 63/100\n",
            "6/6 [==============================] - 0s 6ms/step - loss: 0.5847 - mean_absolute_error: 0.6408 - val_loss: 0.7537 - val_mean_absolute_error: 0.7472\n",
            "Epoch 64/100\n",
            "6/6 [==============================] - 0s 6ms/step - loss: 0.5849 - mean_absolute_error: 0.6411 - val_loss: 0.7503 - val_mean_absolute_error: 0.7435\n",
            "Epoch 65/100\n",
            "6/6 [==============================] - 0s 5ms/step - loss: 0.5844 - mean_absolute_error: 0.6396 - val_loss: 0.7516 - val_mean_absolute_error: 0.7465\n",
            "Epoch 66/100\n",
            "6/6 [==============================] - 0s 6ms/step - loss: 0.5844 - mean_absolute_error: 0.6394 - val_loss: 0.7554 - val_mean_absolute_error: 0.7467\n",
            "Epoch 67/100\n",
            "6/6 [==============================] - 0s 6ms/step - loss: 0.5845 - mean_absolute_error: 0.6397 - val_loss: 0.7540 - val_mean_absolute_error: 0.7452\n",
            "Epoch 68/100\n",
            "6/6 [==============================] - 0s 6ms/step - loss: 0.5843 - mean_absolute_error: 0.6393 - val_loss: 0.7560 - val_mean_absolute_error: 0.7462\n",
            "Epoch 69/100\n",
            "6/6 [==============================] - 0s 6ms/step - loss: 0.5841 - mean_absolute_error: 0.6385 - val_loss: 0.7620 - val_mean_absolute_error: 0.7541\n",
            "Epoch 70/100\n",
            "6/6 [==============================] - 0s 8ms/step - loss: 0.5839 - mean_absolute_error: 0.6384 - val_loss: 0.7625 - val_mean_absolute_error: 0.7550\n",
            "Epoch 71/100\n",
            "6/6 [==============================] - 0s 6ms/step - loss: 0.5879 - mean_absolute_error: 0.6433 - val_loss: 0.7519 - val_mean_absolute_error: 0.7421\n",
            "Epoch 72/100\n",
            "6/6 [==============================] - 0s 7ms/step - loss: 0.5877 - mean_absolute_error: 0.6457 - val_loss: 0.7779 - val_mean_absolute_error: 0.7667\n",
            "Epoch 73/100\n",
            "6/6 [==============================] - 0s 7ms/step - loss: 0.5894 - mean_absolute_error: 0.6478 - val_loss: 0.7640 - val_mean_absolute_error: 0.7606\n",
            "Epoch 74/100\n",
            "6/6 [==============================] - 0s 7ms/step - loss: 0.5865 - mean_absolute_error: 0.6431 - val_loss: 0.7823 - val_mean_absolute_error: 0.7663\n",
            "Epoch 75/100\n",
            "6/6 [==============================] - 0s 6ms/step - loss: 0.5879 - mean_absolute_error: 0.6458 - val_loss: 0.7600 - val_mean_absolute_error: 0.7550\n",
            "Epoch 76/100\n",
            "6/6 [==============================] - 0s 8ms/step - loss: 0.5859 - mean_absolute_error: 0.6421 - val_loss: 0.7531 - val_mean_absolute_error: 0.7515\n",
            "Epoch 77/100\n",
            "6/6 [==============================] - 0s 6ms/step - loss: 0.5858 - mean_absolute_error: 0.6421 - val_loss: 0.7549 - val_mean_absolute_error: 0.7525\n",
            "Epoch 78/100\n",
            "6/6 [==============================] - 0s 5ms/step - loss: 0.5857 - mean_absolute_error: 0.6418 - val_loss: 0.7564 - val_mean_absolute_error: 0.7526\n",
            "Epoch 79/100\n",
            "6/6 [==============================] - 0s 6ms/step - loss: 0.5854 - mean_absolute_error: 0.6414 - val_loss: 0.7506 - val_mean_absolute_error: 0.7492\n",
            "Epoch 80/100\n",
            "6/6 [==============================] - 0s 5ms/step - loss: 0.5851 - mean_absolute_error: 0.6410 - val_loss: 0.7499 - val_mean_absolute_error: 0.7484\n",
            "Epoch 81/100\n",
            "6/6 [==============================] - 0s 6ms/step - loss: 0.5849 - mean_absolute_error: 0.6404 - val_loss: 0.7506 - val_mean_absolute_error: 0.7483\n",
            "Epoch 82/100\n",
            "6/6 [==============================] - 0s 6ms/step - loss: 0.5847 - mean_absolute_error: 0.6396 - val_loss: 0.7514 - val_mean_absolute_error: 0.7480\n",
            "Epoch 83/100\n",
            "6/6 [==============================] - 0s 6ms/step - loss: 0.5847 - mean_absolute_error: 0.6399 - val_loss: 0.7494 - val_mean_absolute_error: 0.7472\n",
            "Epoch 84/100\n",
            "6/6 [==============================] - 0s 5ms/step - loss: 0.5846 - mean_absolute_error: 0.6390 - val_loss: 0.7505 - val_mean_absolute_error: 0.7475\n",
            "Epoch 85/100\n",
            "6/6 [==============================] - 0s 6ms/step - loss: 0.5843 - mean_absolute_error: 0.6394 - val_loss: 0.7517 - val_mean_absolute_error: 0.7496\n",
            "Epoch 86/100\n",
            "6/6 [==============================] - 0s 6ms/step - loss: 0.5826 - mean_absolute_error: 0.6365 - val_loss: 0.7490 - val_mean_absolute_error: 0.7463\n",
            "Epoch 87/100\n",
            "6/6 [==============================] - 0s 6ms/step - loss: 0.5825 - mean_absolute_error: 0.6365 - val_loss: 0.7504 - val_mean_absolute_error: 0.7492\n",
            "Epoch 88/100\n",
            "6/6 [==============================] - 0s 7ms/step - loss: 0.5826 - mean_absolute_error: 0.6364 - val_loss: 0.7469 - val_mean_absolute_error: 0.7451\n",
            "Epoch 89/100\n",
            "6/6 [==============================] - 0s 6ms/step - loss: 0.5836 - mean_absolute_error: 0.6398 - val_loss: 0.7466 - val_mean_absolute_error: 0.7458\n",
            "Epoch 90/100\n",
            "6/6 [==============================] - 0s 6ms/step - loss: 0.5835 - mean_absolute_error: 0.6391 - val_loss: 0.7548 - val_mean_absolute_error: 0.7490\n",
            "Epoch 91/100\n",
            "6/6 [==============================] - 0s 6ms/step - loss: 0.5841 - mean_absolute_error: 0.6407 - val_loss: 0.7564 - val_mean_absolute_error: 0.7506\n",
            "Epoch 92/100\n",
            "6/6 [==============================] - 0s 6ms/step - loss: 0.5836 - mean_absolute_error: 0.6393 - val_loss: 0.7498 - val_mean_absolute_error: 0.7464\n",
            "Epoch 93/100\n",
            "6/6 [==============================] - 0s 6ms/step - loss: 0.5839 - mean_absolute_error: 0.6405 - val_loss: 0.7559 - val_mean_absolute_error: 0.7505\n",
            "Epoch 94/100\n",
            "6/6 [==============================] - 0s 6ms/step - loss: 0.5833 - mean_absolute_error: 0.6378 - val_loss: 0.7578 - val_mean_absolute_error: 0.7473\n",
            "Epoch 95/100\n",
            "6/6 [==============================] - 0s 6ms/step - loss: 0.5831 - mean_absolute_error: 0.6379 - val_loss: 0.7517 - val_mean_absolute_error: 0.7426\n",
            "Epoch 96/100\n",
            "6/6 [==============================] - 0s 6ms/step - loss: 0.5832 - mean_absolute_error: 0.6383 - val_loss: 0.7542 - val_mean_absolute_error: 0.7438\n",
            "Epoch 97/100\n",
            "6/6 [==============================] - 0s 6ms/step - loss: 0.5831 - mean_absolute_error: 0.6377 - val_loss: 0.7498 - val_mean_absolute_error: 0.7438\n",
            "Epoch 98/100\n",
            "6/6 [==============================] - 0s 8ms/step - loss: 0.5831 - mean_absolute_error: 0.6380 - val_loss: 0.7477 - val_mean_absolute_error: 0.7446\n",
            "Epoch 99/100\n",
            "6/6 [==============================] - 0s 7ms/step - loss: 0.5833 - mean_absolute_error: 0.6389 - val_loss: 0.7458 - val_mean_absolute_error: 0.7431\n",
            "Epoch 100/100\n",
            "6/6 [==============================] - 0s 5ms/step - loss: 0.5836 - mean_absolute_error: 0.6396 - val_loss: 0.7486 - val_mean_absolute_error: 0.7401\n"
          ]
        }
      ],
      "source": [
        "### START CODE HERE ###\n",
        "history = model.fit(x_train, y_train, epochs=100, batch_size= 64, validation_split= 0.15)"
      ]
    },
    {
      "cell_type": "code",
      "execution_count": null,
      "id": "e2000d08-a40d-4bc8-ac8c-87c30111c670",
      "metadata": {
        "id": "e2000d08-a40d-4bc8-ac8c-87c30111c670",
        "colab": {
          "base_uri": "https://localhost:8080/"
        },
        "outputId": "3aa4fb81-375d-4462-c773-a5f8fb27ac14"
      },
      "outputs": [
        {
          "output_type": "stream",
          "name": "stdout",
          "text": [
            "2/2 - 0s - loss: 0.8071 - mean_absolute_error: 0.7539 - 13ms/epoch - 6ms/step\n"
          ]
        },
        {
          "output_type": "execute_result",
          "data": {
            "text/plain": [
              "[0.8070799112319946, 0.7538813352584839]"
            ]
          },
          "metadata": {},
          "execution_count": 23
        }
      ],
      "source": [
        "# Evaluate the model on the test set\n",
        "model.evaluate(x_test, y_test, verbose=2)"
      ]
    },
    {
      "cell_type": "code",
      "execution_count": null,
      "id": "a171c786-ce1f-4004-b096-75b5562bdf15",
      "metadata": {
        "id": "a171c786-ce1f-4004-b096-75b5562bdf15"
      },
      "outputs": [],
      "source": [
        "import matplotlib.pyplot as plt\n",
        "%matplotlib inline"
      ]
    },
    {
      "cell_type": "code",
      "execution_count": null,
      "id": "3a0de6a8-b049-4221-972e-689b166c71aa",
      "metadata": {
        "id": "3a0de6a8-b049-4221-972e-689b166c71aa",
        "colab": {
          "base_uri": "https://localhost:8080/",
          "height": 295
        },
        "outputId": "59f7d310-eaa6-4b36-a477-3be099c0c974"
      },
      "outputs": [
        {
          "output_type": "display_data",
          "data": {
            "text/plain": [
              "<Figure size 432x288 with 1 Axes>"
            ],
            "image/png": "[encoded data removed]"
          },
          "metadata": {
            "needs_background": "light"
          }
        }
      ],
      "source": [
        "# Plot the training and validation loss\n",
        "plt.plot(history.history['loss'])\n",
        "plt.plot(history.history['val_loss'])\n",
        "plt.title('Loss vs. epochs')\n",
        "plt.ylabel('Loss')\n",
        "plt.xlabel('Epoch')\n",
        "plt.legend(['Training', 'Validation'], loc='upper right')\n",
        "plt.show()"
      ]
    },
    {
      "cell_type": "markdown",
      "id": "5fea592c-3cd2-4fb6-b32b-d9da751763fd",
      "metadata": {
        "id": "5fea592c-3cd2-4fb6-b32b-d9da751763fd"
      },
      "source": [
        "9. **Diagnose the learning curve:**\n",
        "    - Why is the validation loss much higher than training loss?\n",
        "    - What's this phenomenon called?\n",
        "    - Mention 3 methods to reduce this."
      ]
    },
    {
      "cell_type": "markdown",
      "id": "b8fd101e-f9d1-49bc-9101-1157932be789",
      "metadata": {
        "id": "b8fd101e-f9d1-49bc-9101-1157932be789"
      },
      "source": [
        "- **answer**:\n",
        "    - Because the model is well trained on training data but doesn't generalize to new validation data\n",
        "    - this is called overfitting\n",
        "    - regularization, early stopping, providing more data for training"
      ]
    },
    {
      "cell_type": "markdown",
      "id": "f186ab89-4e72-4379-b458-843fbba8f1ef",
      "metadata": {
        "id": "f186ab89-4e72-4379-b458-843fbba8f1ef"
      },
      "source": [
        "10. **Use one of the methods you mentioned and retrain the model then plot the learning curves**"
      ]
    },
    {
      "cell_type": "code",
      "execution_count": null,
      "id": "aa69dd9f-6304-4115-a547-8f02caa613bf",
      "metadata": {
        "id": "aa69dd9f-6304-4115-a547-8f02caa613bf",
        "colab": {
          "base_uri": "https://localhost:8080/",
          "height": 1000
        },
        "outputId": "f2a48d7b-ee74-4e32-ad59-83eb66ea24e2"
      },
      "outputs": [
        {
          "output_type": "stream",
          "name": "stdout",
          "text": [
            "Epoch 1/100\n",
            "6/6 [==============================] - 1s 31ms/step - loss: 13.4204 - mean_absolute_error: 0.9434 - val_loss: 12.8139 - val_mean_absolute_error: 0.9588\n",
            "Epoch 2/100\n",
            "6/6 [==============================] - 0s 6ms/step - loss: 12.2954 - mean_absolute_error: 0.8602 - val_loss: 11.8023 - val_mean_absolute_error: 0.9041\n",
            "Epoch 3/100\n",
            "6/6 [==============================] - 0s 6ms/step - loss: 11.3023 - mean_absolute_error: 0.8112 - val_loss: 10.8590 - val_mean_absolute_error: 0.8779\n",
            "Epoch 4/100\n",
            "6/6 [==============================] - 0s 6ms/step - loss: 10.3697 - mean_absolute_error: 0.7812 - val_loss: 9.9654 - val_mean_absolute_error: 0.8580\n",
            "Epoch 5/100\n",
            "6/6 [==============================] - 0s 6ms/step - loss: 9.5058 - mean_absolute_error: 0.7644 - val_loss: 9.1311 - val_mean_absolute_error: 0.8435\n",
            "Epoch 6/100\n",
            "6/6 [==============================] - 0s 6ms/step - loss: 8.6791 - mean_absolute_error: 0.7413 - val_loss: 8.3321 - val_mean_absolute_error: 0.8310\n",
            "Epoch 7/100\n",
            "6/6 [==============================] - 0s 7ms/step - loss: 7.8935 - mean_absolute_error: 0.7175 - val_loss: 7.5765 - val_mean_absolute_error: 0.8126\n",
            "Epoch 8/100\n",
            "6/6 [==============================] - 0s 6ms/step - loss: 7.1632 - mean_absolute_error: 0.7027 - val_loss: 6.8879 - val_mean_absolute_error: 0.8018\n",
            "Epoch 9/100\n",
            "6/6 [==============================] - 0s 7ms/step - loss: 6.4968 - mean_absolute_error: 0.6975 - val_loss: 6.2168 - val_mean_absolute_error: 0.7850\n",
            "Epoch 10/100\n",
            "6/6 [==============================] - 0s 7ms/step - loss: 5.8594 - mean_absolute_error: 0.6873 - val_loss: 5.6519 - val_mean_absolute_error: 0.7926\n",
            "Epoch 11/100\n",
            "6/6 [==============================] - 0s 6ms/step - loss: 5.2792 - mean_absolute_error: 0.6879 - val_loss: 5.0800 - val_mean_absolute_error: 0.7755\n",
            "Epoch 12/100\n",
            "6/6 [==============================] - 0s 6ms/step - loss: 4.7383 - mean_absolute_error: 0.6855 - val_loss: 4.5938 - val_mean_absolute_error: 0.7905\n",
            "Epoch 13/100\n",
            "6/6 [==============================] - 0s 6ms/step - loss: 4.2504 - mean_absolute_error: 0.6881 - val_loss: 4.0959 - val_mean_absolute_error: 0.7812\n",
            "Epoch 14/100\n",
            "6/6 [==============================] - 0s 6ms/step - loss: 3.7687 - mean_absolute_error: 0.6786 - val_loss: 3.6453 - val_mean_absolute_error: 0.7691\n",
            "Epoch 15/100\n",
            "6/6 [==============================] - 0s 6ms/step - loss: 3.3318 - mean_absolute_error: 0.6711 - val_loss: 3.2370 - val_mean_absolute_error: 0.7663\n",
            "Epoch 16/100\n",
            "6/6 [==============================] - 0s 6ms/step - loss: 2.9456 - mean_absolute_error: 0.6745 - val_loss: 2.8783 - val_mean_absolute_error: 0.7717\n",
            "Epoch 17/100\n",
            "6/6 [==============================] - 0s 7ms/step - loss: 2.6255 - mean_absolute_error: 0.6929 - val_loss: 2.6033 - val_mean_absolute_error: 0.7850\n",
            "Epoch 18/100\n",
            "6/6 [==============================] - 0s 6ms/step - loss: 2.3120 - mean_absolute_error: 0.6877 - val_loss: 2.2693 - val_mean_absolute_error: 0.7602\n",
            "Epoch 19/100\n",
            "6/6 [==============================] - 0s 7ms/step - loss: 2.0351 - mean_absolute_error: 0.6795 - val_loss: 2.0242 - val_mean_absolute_error: 0.7582\n",
            "Epoch 20/100\n",
            "6/6 [==============================] - 0s 6ms/step - loss: 1.7923 - mean_absolute_error: 0.6782 - val_loss: 1.7699 - val_mean_absolute_error: 0.7498\n",
            "Epoch 21/100\n",
            "6/6 [==============================] - 0s 6ms/step - loss: 1.5752 - mean_absolute_error: 0.6752 - val_loss: 1.6302 - val_mean_absolute_error: 0.7790\n",
            "Epoch 22/100\n",
            "6/6 [==============================] - 0s 9ms/step - loss: 1.3921 - mean_absolute_error: 0.6755 - val_loss: 1.4350 - val_mean_absolute_error: 0.7636\n",
            "Epoch 23/100\n",
            "6/6 [==============================] - 0s 6ms/step - loss: 1.2488 - mean_absolute_error: 0.6750 - val_loss: 1.3098 - val_mean_absolute_error: 0.7677\n",
            "Epoch 24/100\n",
            "6/6 [==============================] - 0s 6ms/step - loss: 1.1376 - mean_absolute_error: 0.6819 - val_loss: 1.1951 - val_mean_absolute_error: 0.7623\n",
            "Epoch 25/100\n",
            "6/6 [==============================] - 0s 6ms/step - loss: 1.0496 - mean_absolute_error: 0.6786 - val_loss: 1.1680 - val_mean_absolute_error: 0.7775\n",
            "Epoch 26/100\n",
            "6/6 [==============================] - 0s 10ms/step - loss: 0.9917 - mean_absolute_error: 0.6862 - val_loss: 1.1349 - val_mean_absolute_error: 0.7816\n",
            "Epoch 27/100\n",
            "6/6 [==============================] - 0s 6ms/step - loss: 0.9387 - mean_absolute_error: 0.6783 - val_loss: 1.0691 - val_mean_absolute_error: 0.7694\n",
            "Epoch 28/100\n",
            "6/6 [==============================] - 0s 6ms/step - loss: 0.9241 - mean_absolute_error: 0.6861 - val_loss: 1.0416 - val_mean_absolute_error: 0.7730\n",
            "Epoch 29/100\n",
            "6/6 [==============================] - 0s 8ms/step - loss: 0.9609 - mean_absolute_error: 0.7203 - val_loss: 1.0434 - val_mean_absolute_error: 0.7718\n",
            "Epoch 30/100\n",
            "6/6 [==============================] - 0s 6ms/step - loss: 0.9111 - mean_absolute_error: 0.6904 - val_loss: 1.0872 - val_mean_absolute_error: 0.8000\n",
            "Epoch 31/100\n",
            "6/6 [==============================] - 0s 6ms/step - loss: 0.8670 - mean_absolute_error: 0.6824 - val_loss: 1.0180 - val_mean_absolute_error: 0.7859\n",
            "Epoch 32/100\n",
            "6/6 [==============================] - 0s 7ms/step - loss: 0.8276 - mean_absolute_error: 0.6809 - val_loss: 1.0038 - val_mean_absolute_error: 0.7852\n",
            "Epoch 33/100\n",
            "6/6 [==============================] - 0s 10ms/step - loss: 0.7985 - mean_absolute_error: 0.6775 - val_loss: 0.9321 - val_mean_absolute_error: 0.7653\n",
            "Epoch 34/100\n",
            "6/6 [==============================] - 0s 6ms/step - loss: 0.7970 - mean_absolute_error: 0.6847 - val_loss: 0.9288 - val_mean_absolute_error: 0.7752\n",
            "Epoch 35/100\n",
            "6/6 [==============================] - 0s 7ms/step - loss: 0.7810 - mean_absolute_error: 0.6842 - val_loss: 0.9679 - val_mean_absolute_error: 0.7908\n",
            "Epoch 36/100\n",
            "6/6 [==============================] - 0s 5ms/step - loss: 0.7805 - mean_absolute_error: 0.6865 - val_loss: 0.9052 - val_mean_absolute_error: 0.7643\n",
            "Epoch 37/100\n",
            "6/6 [==============================] - 0s 6ms/step - loss: 0.7558 - mean_absolute_error: 0.6744 - val_loss: 0.9289 - val_mean_absolute_error: 0.7846\n",
            "Epoch 38/100\n",
            "6/6 [==============================] - 0s 6ms/step - loss: 0.7694 - mean_absolute_error: 0.6832 - val_loss: 0.9554 - val_mean_absolute_error: 0.7920\n",
            "Epoch 39/100\n",
            "6/6 [==============================] - 0s 6ms/step - loss: 0.7729 - mean_absolute_error: 0.6853 - val_loss: 0.9373 - val_mean_absolute_error: 0.7800\n",
            "Epoch 40/100\n",
            "6/6 [==============================] - 0s 5ms/step - loss: 0.7430 - mean_absolute_error: 0.6726 - val_loss: 0.9251 - val_mean_absolute_error: 0.7894\n",
            "Epoch 41/100\n",
            "6/6 [==============================] - 0s 6ms/step - loss: 0.7409 - mean_absolute_error: 0.6723 - val_loss: 0.9202 - val_mean_absolute_error: 0.7816\n",
            "Epoch 42/100\n",
            "6/6 [==============================] - 0s 5ms/step - loss: 0.7279 - mean_absolute_error: 0.6683 - val_loss: 0.9404 - val_mean_absolute_error: 0.7936\n",
            "Epoch 43/100\n",
            "6/6 [==============================] - 0s 5ms/step - loss: 0.7334 - mean_absolute_error: 0.6729 - val_loss: 0.9250 - val_mean_absolute_error: 0.7858\n",
            "Epoch 44/100\n",
            "6/6 [==============================] - 0s 7ms/step - loss: 0.7383 - mean_absolute_error: 0.6781 - val_loss: 0.9137 - val_mean_absolute_error: 0.7753\n",
            "Epoch 45/100\n",
            "6/6 [==============================] - 0s 5ms/step - loss: 0.7322 - mean_absolute_error: 0.6757 - val_loss: 0.8908 - val_mean_absolute_error: 0.7661\n",
            "Epoch 46/100\n",
            "6/6 [==============================] - 0s 6ms/step - loss: 0.7216 - mean_absolute_error: 0.6683 - val_loss: 0.8906 - val_mean_absolute_error: 0.7679\n",
            "Epoch 47/100\n",
            "6/6 [==============================] - 0s 6ms/step - loss: 0.7554 - mean_absolute_error: 0.6880 - val_loss: 0.9069 - val_mean_absolute_error: 0.7731\n",
            "Epoch 48/100\n",
            "6/6 [==============================] - 0s 5ms/step - loss: 0.7287 - mean_absolute_error: 0.6739 - val_loss: 0.8925 - val_mean_absolute_error: 0.7809\n",
            "Epoch 49/100\n",
            "6/6 [==============================] - 0s 6ms/step - loss: 0.7270 - mean_absolute_error: 0.6742 - val_loss: 0.9247 - val_mean_absolute_error: 0.7938\n",
            "Epoch 50/100\n",
            "6/6 [==============================] - 0s 6ms/step - loss: 0.7135 - mean_absolute_error: 0.6669 - val_loss: 0.9264 - val_mean_absolute_error: 0.7903\n",
            "Epoch 51/100\n",
            "6/6 [==============================] - 0s 6ms/step - loss: 0.7191 - mean_absolute_error: 0.6719 - val_loss: 0.9299 - val_mean_absolute_error: 0.7934\n",
            "Epoch 52/100\n",
            "6/6 [==============================] - 0s 7ms/step - loss: 0.7269 - mean_absolute_error: 0.6776 - val_loss: 0.9362 - val_mean_absolute_error: 0.7907\n",
            "Epoch 53/100\n",
            "6/6 [==============================] - 0s 6ms/step - loss: 0.7170 - mean_absolute_error: 0.6705 - val_loss: 0.9149 - val_mean_absolute_error: 0.7871\n",
            "Epoch 54/100\n",
            "6/6 [==============================] - 0s 6ms/step - loss: 0.7135 - mean_absolute_error: 0.6738 - val_loss: 0.9030 - val_mean_absolute_error: 0.7821\n",
            "Epoch 55/100\n",
            "6/6 [==============================] - 0s 6ms/step - loss: 0.7182 - mean_absolute_error: 0.6770 - val_loss: 0.9041 - val_mean_absolute_error: 0.7836\n",
            "Epoch 56/100\n",
            "6/6 [==============================] - 0s 8ms/step - loss: 0.7323 - mean_absolute_error: 0.6795 - val_loss: 0.9056 - val_mean_absolute_error: 0.7945\n",
            "Epoch 57/100\n",
            "6/6 [==============================] - 0s 7ms/step - loss: 0.7141 - mean_absolute_error: 0.6730 - val_loss: 0.9138 - val_mean_absolute_error: 0.7881\n",
            "Epoch 58/100\n",
            "6/6 [==============================] - 0s 6ms/step - loss: 0.7029 - mean_absolute_error: 0.6688 - val_loss: 0.9124 - val_mean_absolute_error: 0.7930\n",
            "Epoch 59/100\n",
            "6/6 [==============================] - 0s 6ms/step - loss: 0.6995 - mean_absolute_error: 0.6715 - val_loss: 0.8997 - val_mean_absolute_error: 0.7876\n",
            "Epoch 60/100\n",
            "6/6 [==============================] - 0s 6ms/step - loss: 0.7105 - mean_absolute_error: 0.6782 - val_loss: 0.8764 - val_mean_absolute_error: 0.7767\n",
            "Epoch 61/100\n",
            "6/6 [==============================] - 0s 6ms/step - loss: 0.7065 - mean_absolute_error: 0.6744 - val_loss: 0.9040 - val_mean_absolute_error: 0.7880\n",
            "Epoch 62/100\n",
            "6/6 [==============================] - 0s 7ms/step - loss: 0.7190 - mean_absolute_error: 0.6791 - val_loss: 0.8789 - val_mean_absolute_error: 0.7724\n",
            "Epoch 63/100\n",
            "6/6 [==============================] - 0s 7ms/step - loss: 0.6850 - mean_absolute_error: 0.6583 - val_loss: 0.8893 - val_mean_absolute_error: 0.7714\n",
            "Epoch 64/100\n",
            "6/6 [==============================] - 0s 7ms/step - loss: 0.6814 - mean_absolute_error: 0.6584 - val_loss: 0.8806 - val_mean_absolute_error: 0.7757\n",
            "Epoch 65/100\n",
            "6/6 [==============================] - 0s 7ms/step - loss: 0.6772 - mean_absolute_error: 0.6578 - val_loss: 0.8680 - val_mean_absolute_error: 0.7675\n",
            "Epoch 66/100\n",
            "6/6 [==============================] - 0s 6ms/step - loss: 0.6858 - mean_absolute_error: 0.6621 - val_loss: 0.8898 - val_mean_absolute_error: 0.7777\n",
            "Epoch 67/100\n",
            "6/6 [==============================] - 0s 6ms/step - loss: 0.6909 - mean_absolute_error: 0.6658 - val_loss: 0.8842 - val_mean_absolute_error: 0.7807\n",
            "Epoch 68/100\n",
            "6/6 [==============================] - 0s 6ms/step - loss: 0.7005 - mean_absolute_error: 0.6701 - val_loss: 0.8620 - val_mean_absolute_error: 0.7638\n",
            "Epoch 69/100\n",
            "6/6 [==============================] - 0s 6ms/step - loss: 0.7000 - mean_absolute_error: 0.6704 - val_loss: 0.8928 - val_mean_absolute_error: 0.7825\n",
            "Epoch 70/100\n",
            "6/6 [==============================] - 0s 6ms/step - loss: 0.7225 - mean_absolute_error: 0.6841 - val_loss: 0.9035 - val_mean_absolute_error: 0.7761\n",
            "Epoch 71/100\n",
            "6/6 [==============================] - 0s 11ms/step - loss: 0.7269 - mean_absolute_error: 0.6844 - val_loss: 0.8881 - val_mean_absolute_error: 0.7851\n",
            "Epoch 72/100\n",
            "6/6 [==============================] - 0s 10ms/step - loss: 0.7143 - mean_absolute_error: 0.6740 - val_loss: 0.8806 - val_mean_absolute_error: 0.7820\n",
            "Epoch 73/100\n",
            "6/6 [==============================] - 0s 7ms/step - loss: 0.7045 - mean_absolute_error: 0.6654 - val_loss: 0.8867 - val_mean_absolute_error: 0.7871\n",
            "Epoch 74/100\n",
            "6/6 [==============================] - 0s 6ms/step - loss: 0.6996 - mean_absolute_error: 0.6667 - val_loss: 0.8798 - val_mean_absolute_error: 0.7839\n",
            "Epoch 75/100\n",
            "6/6 [==============================] - 0s 6ms/step - loss: 0.6974 - mean_absolute_error: 0.6723 - val_loss: 0.8860 - val_mean_absolute_error: 0.7806\n",
            "Epoch 76/100\n",
            "6/6 [==============================] - 0s 7ms/step - loss: 0.6937 - mean_absolute_error: 0.6705 - val_loss: 0.8333 - val_mean_absolute_error: 0.7625\n",
            "Epoch 77/100\n",
            "6/6 [==============================] - 0s 7ms/step - loss: 0.6850 - mean_absolute_error: 0.6633 - val_loss: 0.8891 - val_mean_absolute_error: 0.7849\n",
            "Epoch 78/100\n",
            "6/6 [==============================] - 0s 8ms/step - loss: 0.6710 - mean_absolute_error: 0.6543 - val_loss: 0.9047 - val_mean_absolute_error: 0.7944\n",
            "Epoch 79/100\n",
            "6/6 [==============================] - 0s 6ms/step - loss: 0.6683 - mean_absolute_error: 0.6545 - val_loss: 0.8856 - val_mean_absolute_error: 0.7867\n",
            "Epoch 80/100\n",
            "6/6 [==============================] - 0s 7ms/step - loss: 0.6667 - mean_absolute_error: 0.6575 - val_loss: 0.8885 - val_mean_absolute_error: 0.7862\n",
            "Epoch 81/100\n",
            "6/6 [==============================] - 0s 6ms/step - loss: 0.6547 - mean_absolute_error: 0.6497 - val_loss: 0.8718 - val_mean_absolute_error: 0.7769\n",
            "Epoch 82/100\n",
            "6/6 [==============================] - 0s 6ms/step - loss: 0.6517 - mean_absolute_error: 0.6486 - val_loss: 0.8551 - val_mean_absolute_error: 0.7688\n",
            "Epoch 83/100\n",
            "6/6 [==============================] - 0s 6ms/step - loss: 0.6467 - mean_absolute_error: 0.6466 - val_loss: 0.8504 - val_mean_absolute_error: 0.7708\n",
            "Epoch 84/100\n",
            "6/6 [==============================] - 0s 6ms/step - loss: 0.6419 - mean_absolute_error: 0.6446 - val_loss: 0.8575 - val_mean_absolute_error: 0.7722\n",
            "Epoch 85/100\n",
            "6/6 [==============================] - 0s 6ms/step - loss: 0.6387 - mean_absolute_error: 0.6441 - val_loss: 0.8427 - val_mean_absolute_error: 0.7705\n",
            "Epoch 86/100\n",
            "6/6 [==============================] - 0s 6ms/step - loss: 0.6396 - mean_absolute_error: 0.6425 - val_loss: 0.8793 - val_mean_absolute_error: 0.7864\n",
            "Epoch 87/100\n",
            "6/6 [==============================] - 0s 7ms/step - loss: 0.6530 - mean_absolute_error: 0.6523 - val_loss: 0.8626 - val_mean_absolute_error: 0.7756\n",
            "Epoch 88/100\n",
            "6/6 [==============================] - 0s 7ms/step - loss: 0.6428 - mean_absolute_error: 0.6472 - val_loss: 0.8617 - val_mean_absolute_error: 0.7783\n",
            "Epoch 89/100\n",
            "6/6 [==============================] - 0s 7ms/step - loss: 0.6374 - mean_absolute_error: 0.6394 - val_loss: 0.8669 - val_mean_absolute_error: 0.7805\n",
            "Epoch 90/100\n",
            "6/6 [==============================] - 0s 7ms/step - loss: 0.6555 - mean_absolute_error: 0.6579 - val_loss: 0.8566 - val_mean_absolute_error: 0.7737\n",
            "Epoch 91/100\n",
            "6/6 [==============================] - 0s 7ms/step - loss: 0.6589 - mean_absolute_error: 0.6565 - val_loss: 0.8542 - val_mean_absolute_error: 0.7724\n",
            "Epoch 92/100\n",
            "6/6 [==============================] - 0s 6ms/step - loss: 0.6526 - mean_absolute_error: 0.6500 - val_loss: 0.8479 - val_mean_absolute_error: 0.7765\n",
            "Epoch 93/100\n",
            "6/6 [==============================] - 0s 7ms/step - loss: 0.6598 - mean_absolute_error: 0.6555 - val_loss: 0.8506 - val_mean_absolute_error: 0.7645\n",
            "Epoch 94/100\n",
            "6/6 [==============================] - 0s 7ms/step - loss: 0.6573 - mean_absolute_error: 0.6495 - val_loss: 0.8724 - val_mean_absolute_error: 0.7774\n",
            "Epoch 95/100\n",
            "6/6 [==============================] - 0s 7ms/step - loss: 0.6774 - mean_absolute_error: 0.6636 - val_loss: 0.8427 - val_mean_absolute_error: 0.7647\n",
            "Epoch 96/100\n",
            "6/6 [==============================] - 0s 7ms/step - loss: 0.7310 - mean_absolute_error: 0.6897 - val_loss: 0.9066 - val_mean_absolute_error: 0.7818\n",
            "Epoch 97/100\n",
            "6/6 [==============================] - 0s 7ms/step - loss: 0.7252 - mean_absolute_error: 0.6782 - val_loss: 0.9143 - val_mean_absolute_error: 0.7866\n",
            "Epoch 98/100\n",
            "6/6 [==============================] - 0s 7ms/step - loss: 0.6932 - mean_absolute_error: 0.6607 - val_loss: 0.9428 - val_mean_absolute_error: 0.7972\n",
            "Epoch 99/100\n",
            "6/6 [==============================] - 0s 6ms/step - loss: 0.6990 - mean_absolute_error: 0.6673 - val_loss: 0.9076 - val_mean_absolute_error: 0.7824\n",
            "Epoch 100/100\n",
            "6/6 [==============================] - 0s 8ms/step - loss: 0.6914 - mean_absolute_error: 0.6658 - val_loss: 0.8938 - val_mean_absolute_error: 0.7761\n",
            "2/2 - 0s - loss: 0.8937 - mean_absolute_error: 0.7506 - 13ms/epoch - 7ms/step\n"
          ]
        },
        {
          "output_type": "display_data",
          "data": {
            "text/plain": [
              "<Figure size 432x288 with 1 Axes>"
            ],
            "image/png": "[encoded data removed]"
          },
          "metadata": {
            "needs_background": "light"
          }
        }
      ],
      "source": [
        "#using regularizer l1 in second layer\n",
        "model = model = tf.keras.models.Sequential([\n",
        "                                    tf.keras.layers.Dense(128, activation=tf.nn.relu, input_shape= input_shape),\n",
        "                                    tf.keras.layers.Dense(128, activation=tf.nn.relu, kernel_regularizer= 'l1'),\n",
        "                                    tf.keras.layers.Dense(128, activation=tf.nn.relu),\n",
        "                                    tf.keras.layers.Dense(128, activation=tf.nn.relu),\n",
        "                                    tf.keras.layers.Dense(128, activation=tf.nn.relu),\n",
        "                                    tf.keras.layers.Dense(128, activation=tf.nn.relu),\n",
        "                                    tf.keras.layers.Dense(1, activation=tf.nn.sigmoid)])\n",
        "\n",
        "model.compile(optimizer = tf.optimizers.Adam(),\n",
        "              loss = 'mean_squared_error',\n",
        "              metrics=['mean_absolute_error'])\n",
        "\n",
        "history = model.fit(x_train, y_train, epochs= 100, batch_size= 64, validation_split= 0.15)\n",
        "model.evaluate(x_test, y_test, verbose=2)\n",
        "\n",
        "# Plot the training and validation loss\n",
        "plt.plot(history.history['loss'])\n",
        "plt.plot(history.history['val_loss'])\n",
        "plt.title('Loss vs. epochs')\n",
        "plt.ylabel('Loss')\n",
        "plt.xlabel('Epoch')\n",
        "plt.legend(['Training', 'Validation'], loc='upper right')\n",
        "plt.show()"
      ]
    },
    {
      "cell_type": "markdown",
      "id": "39417149-9f72-4fde-945e-7ea7a649b01f",
      "metadata": {
        "id": "39417149-9f72-4fde-945e-7ea7a649b01f"
      },
      "source": [
        "# Part 3 Batches and Epochs"
      ]
    },
    {
      "cell_type": "markdown",
      "id": "6b167f30-1712-4875-8643-985d6bff5894",
      "metadata": {
        "id": "6b167f30-1712-4875-8643-985d6bff5894"
      },
      "source": [
        "In this part of the assignment we will create a synthetic data to play with.\n",
        "The data will have 2 features and 3 target classes --> multiclass classification problem"
      ]
    },
    {
      "cell_type": "code",
      "execution_count": null,
      "id": "5478a898-76b8-4764-9194-54920d6889f8",
      "metadata": {
        "id": "5478a898-76b8-4764-9194-54920d6889f8"
      },
      "outputs": [],
      "source": [
        "# prepare train and test dataset\n",
        "def prepare_data():\n",
        "    #  generate classification dataset with 3 centers (labels/classes)\n",
        "    X, y = make_blobs(n_samples=1000, centers=3, n_features=2, cluster_std=2, random_state=2)\n",
        "\n",
        "    # plot data\n",
        "    for class_value in range(3):\n",
        "        # select indices of points with the class label\n",
        "        row_ix = np.where(y == class_value)\n",
        "        # scatter plot for points with a different color\n",
        "        plt.scatter(X[row_ix, 0], X[row_ix, 1])\n",
        "    # show plot\n",
        "    plt.show()\n",
        "\n",
        "    # one hot encode output variable to convert from integers to binary class\n",
        "    y = to_categorical(y)\n",
        "\n",
        "    # split into train and test\n",
        "    n_train = 500\n",
        "    X_train, X_test = X[:n_train, :], X[n_train:, :]\n",
        "    y_train, y_test = y[:n_train], y[n_train:]\n",
        "    return X_train, y_train, X_test, y_test\n"
      ]
    },
    {
      "cell_type": "code",
      "execution_count": null,
      "id": "32e2cf07-c958-46c3-a453-f1bead3502b0",
      "metadata": {
        "id": "32e2cf07-c958-46c3-a453-f1bead3502b0",
        "colab": {
          "base_uri": "https://localhost:8080/",
          "height": 265
        },
        "outputId": "d99d20a3-871a-4547-c86e-ea28f98fed12"
      },
      "outputs": [
        {
          "output_type": "display_data",
          "data": {
            "text/plain": [
              "<Figure size 432x288 with 1 Axes>"
            ],
            "image/png": "[encoded data removed]"
          },
          "metadata": {
            "needs_background": "light"
          }
        }
      ],
      "source": [
        "# prepare dataset\n",
        "X_train, y_train, X_test, y_test = prepare_data()\n"
      ]
    },
    {
      "cell_type": "markdown",
      "id": "780221cc-5e13-4fd9-a940-38d43232c17b",
      "metadata": {
        "id": "780221cc-5e13-4fd9-a940-38d43232c17b"
      },
      "source": [
        "- **Create a model with:**\n",
        "    -  1 hidden dense layer (50 neurons), activation relu, , kernel_initializer he_uniform\n",
        "    - 1 output layer\n",
        "    - compile the model with SGD (learning rate 0.01 and momentum 0.9) optimizer and categorical crossentropy and accuracy inside build function"
      ]
    },
    {
      "cell_type": "code",
      "execution_count": null,
      "id": "72840561-d883-4b04-85c0-aa3c25d88767",
      "metadata": {
        "id": "72840561-d883-4b04-85c0-aa3c25d88767"
      },
      "outputs": [],
      "source": [
        "from pyparsing import Opt\n",
        "\n",
        "def build_model(input_shape):\n",
        "    model = tf.keras.models.Sequential([\n",
        "                                    tf.keras.layers.Dense(50, activation=tf.nn.relu, input_shape= input_shape, kernel_initializer='he_uniform'),\n",
        "                                    tf.keras.layers.Dense(3, activation=tf.nn.softmax)])\n",
        "\n",
        "    opt = tf.keras.optimizers.SGD(learning_rate=0.01, momentum= 0.9)\n",
        "    model.compile(optimizer = opt,\n",
        "                  loss = 'mean_squared_error',\n",
        "                  metrics=['categorical_crossentropy', 'accuracy'])\n",
        "    return model"
      ]
    },
    {
      "cell_type": "code",
      "source": [
        "# better learning rate:\n",
        "def build_better_model(input_shape, learning_rate):\n",
        "    model = tf.keras.models.Sequential([\n",
        "                                    tf.keras.layers.Dense(50, activation=tf.nn.relu, input_shape= input_shape, kernel_initializer='he_uniform'),\n",
        "                                    tf.keras.layers.Dense(3, activation=tf.nn.softmax)])\n",
        "\n",
        "    opt = tf.keras.optimizers.SGD(learning_rate= learning_rate, momentum= 0.9)\n",
        "    model.compile(optimizer = opt,\n",
        "                  loss = 'mean_squared_error',\n",
        "                  metrics=['categorical_crossentropy', 'accuracy'])\n",
        "    return model"
      ],
      "metadata": {
        "id": "_RN0eePCwra9"
      },
      "id": "_RN0eePCwra9",
      "execution_count": null,
      "outputs": []
    },
    {
      "cell_type": "markdown",
      "id": "9f77f064-219f-4130-95d6-6f55c500d8aa",
      "metadata": {
        "id": "9f77f064-219f-4130-95d6-6f55c500d8aa"
      },
      "source": [
        "- Create a function to fit and build the model with different batch sizes"
      ]
    },
    {
      "cell_type": "markdown",
      "id": "36e5cb37-cf36-4f8f-9d2f-2adbeeea41bb",
      "metadata": {
        "id": "36e5cb37-cf36-4f8f-9d2f-2adbeeea41bb"
      },
      "source": [
        "Use epochs = 125"
      ]
    },
    {
      "cell_type": "code",
      "execution_count": null,
      "id": "8b6d1185-925a-4a4e-9815-29a3ca1a62cf",
      "metadata": {
        "id": "8b6d1185-925a-4a4e-9815-29a3ca1a62cf"
      },
      "outputs": [],
      "source": [
        "# fit a model and plot learning curve\n",
        "def fit_model(x_train, y_train, x_test, y_test, n_batch):\n",
        "    model = build_model((x_train.shape[-1],))\n",
        "    history = model.fit(x_train, y_train, batch_size= n_batch, epochs= 125, validation_split= 0.15)\n",
        "    model.evaluate(x_test, y_test, verbose=2)\n",
        "\n",
        "    # Plot the training and validation loss\n",
        "    plt.plot(history.history['loss'])\n",
        "    plt.plot(history.history['val_loss'])\n",
        "    plt.title('Loss vs. epochs')\n",
        "    plt.ylabel('Loss')\n",
        "    plt.xlabel('Epoch')\n",
        "    plt.legend(['Training', 'Validation'], loc='upper right')\n",
        "    plt.show()\n",
        "    return history"
      ]
    },
    {
      "cell_type": "code",
      "source": [
        "# fit better model and plot learning curve\n",
        "def fit_better_model(x_train, y_train, x_test, y_test, n_batch, lr):\n",
        "    model = build_better_model((x_train.shape[-1],), lr)\n",
        "    history = model.fit(x_train, y_train, batch_size= n_batch, epochs= 125, validation_split= 0.15)\n",
        "    model.evaluate(x_test, y_test, verbose=2)\n",
        "\n",
        "    # Plot the training and validation loss\n",
        "    plt.plot(history.history['loss'])\n",
        "    plt.plot(history.history['val_loss'])\n",
        "    plt.title('Loss vs. epochs')\n",
        "    plt.ylabel('Loss')\n",
        "    plt.xlabel('Epoch')\n",
        "    plt.legend(['Training', 'Validation'], loc='upper right')\n",
        "    plt.show()\n",
        "    return history"
      ],
      "metadata": {
        "id": "rXVmu3O5w7FV"
      },
      "id": "rXVmu3O5w7FV",
      "execution_count": null,
      "outputs": []
    },
    {
      "cell_type": "markdown",
      "id": "b2539b4f-8829-4df1-9a45-a9c438a37baf",
      "metadata": {
        "id": "b2539b4f-8829-4df1-9a45-a9c438a37baf"
      },
      "source": [
        "### Hyperparameter Tuning"
      ]
    },
    {
      "cell_type": "markdown",
      "id": "fb875222-fd78-4ed5-a33f-a9c085bd5534",
      "metadata": {
        "jp-MarkdownHeadingCollapsed": true,
        "tags": [],
        "id": "fb875222-fd78-4ed5-a33f-a9c085bd5534"
      },
      "source": [
        "#### Batch size"
      ]
    },
    {
      "cell_type": "markdown",
      "id": "3c2c8424-0b59-45be-8bc3-0f310fb8ed30",
      "metadata": {
        "id": "3c2c8424-0b59-45be-8bc3-0f310fb8ed30"
      },
      "source": [
        "##### Size =  1"
      ]
    },
    {
      "cell_type": "markdown",
      "id": "77369330-70e7-41eb-a8ff-40eae827ea7d",
      "metadata": {
        "id": "77369330-70e7-41eb-a8ff-40eae827ea7d"
      },
      "source": [
        "10. **train for 1 batch size**"
      ]
    },
    {
      "cell_type": "code",
      "execution_count": null,
      "id": "a44f1126-7897-4cd8-bdce-b804948df69d",
      "metadata": {
        "id": "a44f1126-7897-4cd8-bdce-b804948df69d",
        "colab": {
          "base_uri": "https://localhost:8080/",
          "height": 1000
        },
        "outputId": "fae1eed5-aa94-45eb-e8c6-2880c36e70d9"
      },
      "outputs": [
        {
          "output_type": "stream",
          "name": "stdout",
          "text": [
            "Epoch 1/125\n",
            "425/425 [==============================] - 1s 1ms/step - loss: 0.4380 - categorical_crossentropy: 14.8764 - accuracy: 0.3388 - val_loss: 0.5037 - val_categorical_crossentropy: 15.8232 - val_accuracy: 0.2400\n",
            "Epoch 2/125\n",
            "425/425 [==============================] - 1s 1ms/step - loss: 0.3893 - categorical_crossentropy: 10.8740 - accuracy: 0.3859 - val_loss: 0.3411 - val_categorical_crossentropy: 11.5802 - val_accuracy: 0.4800\n",
            "Epoch 3/125\n",
            "425/425 [==============================] - 0s 1ms/step - loss: 0.3469 - categorical_crossentropy: 11.2239 - accuracy: 0.4612 - val_loss: 0.3490 - val_categorical_crossentropy: 13.5535 - val_accuracy: 0.4800\n",
            "Epoch 4/125\n",
            "425/425 [==============================] - 1s 1ms/step - loss: 0.3436 - categorical_crossentropy: 10.9714 - accuracy: 0.4682 - val_loss: 0.5066 - val_categorical_crossentropy: 25.6698 - val_accuracy: 0.2400\n",
            "Epoch 5/125\n",
            "425/425 [==============================] - 0s 1ms/step - loss: 0.4402 - categorical_crossentropy: 21.1148 - accuracy: 0.3388 - val_loss: 0.5065 - val_categorical_crossentropy: 23.6030 - val_accuracy: 0.2400\n",
            "Epoch 6/125\n",
            "425/425 [==============================] - 0s 1ms/step - loss: 0.4399 - categorical_crossentropy: 19.3191 - accuracy: 0.3388 - val_loss: 0.5047 - val_categorical_crossentropy: 19.3784 - val_accuracy: 0.2400\n",
            "Epoch 7/125\n",
            "425/425 [==============================] - 1s 1ms/step - loss: 0.3950 - categorical_crossentropy: 13.8228 - accuracy: 0.3929 - val_loss: 0.2720 - val_categorical_crossentropy: 8.0009 - val_accuracy: 0.5733\n",
            "Epoch 8/125\n",
            "425/425 [==============================] - 1s 1ms/step - loss: 0.3214 - categorical_crossentropy: 10.1690 - accuracy: 0.5012 - val_loss: 0.2763 - val_categorical_crossentropy: 10.0343 - val_accuracy: 0.5867\n",
            "Epoch 9/125\n",
            "425/425 [==============================] - 0s 1ms/step - loss: 0.2926 - categorical_crossentropy: 9.3533 - accuracy: 0.5506 - val_loss: 0.2756 - val_categorical_crossentropy: 9.3354 - val_accuracy: 0.5733\n",
            "Epoch 10/125\n",
            "425/425 [==============================] - 1s 1ms/step - loss: 0.2891 - categorical_crossentropy: 8.5435 - accuracy: 0.5482 - val_loss: 0.2716 - val_categorical_crossentropy: 8.4951 - val_accuracy: 0.5733\n",
            "Epoch 11/125\n",
            "425/425 [==============================] - 1s 1ms/step - loss: 0.2616 - categorical_crossentropy: 7.0662 - accuracy: 0.5788 - val_loss: 0.2760 - val_categorical_crossentropy: 9.2943 - val_accuracy: 0.5733\n",
            "Epoch 12/125\n",
            "425/425 [==============================] - 0s 1ms/step - loss: 0.2153 - categorical_crossentropy: 4.5471 - accuracy: 0.6447 - val_loss: 0.1969 - val_categorical_crossentropy: 2.6738 - val_accuracy: 0.6800\n",
            "Epoch 13/125\n",
            "425/425 [==============================] - 1s 1ms/step - loss: 0.1900 - categorical_crossentropy: 3.2904 - accuracy: 0.6918 - val_loss: 0.2040 - val_categorical_crossentropy: 3.0481 - val_accuracy: 0.6800\n",
            "Epoch 14/125\n",
            "425/425 [==============================] - 1s 1ms/step - loss: 0.1873 - categorical_crossentropy: 2.4020 - accuracy: 0.6847 - val_loss: 0.1344 - val_categorical_crossentropy: 1.7852 - val_accuracy: 0.7733\n",
            "Epoch 15/125\n",
            "425/425 [==============================] - 0s 1ms/step - loss: 0.1503 - categorical_crossentropy: 1.4102 - accuracy: 0.7388 - val_loss: 0.0984 - val_categorical_crossentropy: 0.7662 - val_accuracy: 0.8133\n",
            "Epoch 16/125\n",
            "425/425 [==============================] - 0s 1ms/step - loss: 0.1120 - categorical_crossentropy: 0.7621 - accuracy: 0.7835 - val_loss: 0.1025 - val_categorical_crossentropy: 0.7218 - val_accuracy: 0.7733\n",
            "Epoch 17/125\n",
            "425/425 [==============================] - 0s 1ms/step - loss: 0.1174 - categorical_crossentropy: 0.7678 - accuracy: 0.7576 - val_loss: 0.1245 - val_categorical_crossentropy: 0.9858 - val_accuracy: 0.7200\n",
            "Epoch 18/125\n",
            "425/425 [==============================] - 1s 1ms/step - loss: 0.1119 - categorical_crossentropy: 0.7392 - accuracy: 0.7741 - val_loss: 0.0997 - val_categorical_crossentropy: 0.6950 - val_accuracy: 0.7867\n",
            "Epoch 19/125\n",
            "425/425 [==============================] - 0s 1ms/step - loss: 0.1225 - categorical_crossentropy: 0.8147 - accuracy: 0.7506 - val_loss: 0.0873 - val_categorical_crossentropy: 0.6361 - val_accuracy: 0.7867\n",
            "Epoch 20/125\n",
            "425/425 [==============================] - 1s 1ms/step - loss: 0.1056 - categorical_crossentropy: 0.6530 - accuracy: 0.7953 - val_loss: 0.1058 - val_categorical_crossentropy: 0.7602 - val_accuracy: 0.7733\n",
            "Epoch 21/125\n",
            "425/425 [==============================] - 0s 1ms/step - loss: 0.1078 - categorical_crossentropy: 0.6416 - accuracy: 0.7788 - val_loss: 0.1286 - val_categorical_crossentropy: 0.7802 - val_accuracy: 0.6667\n",
            "Epoch 22/125\n",
            "425/425 [==============================] - 1s 1ms/step - loss: 0.0981 - categorical_crossentropy: 0.5438 - accuracy: 0.8000 - val_loss: 0.0875 - val_categorical_crossentropy: 0.6197 - val_accuracy: 0.8400\n",
            "Epoch 23/125\n",
            "425/425 [==============================] - 0s 1ms/step - loss: 0.1012 - categorical_crossentropy: 0.5735 - accuracy: 0.7906 - val_loss: 0.0848 - val_categorical_crossentropy: 0.5860 - val_accuracy: 0.8000\n",
            "Epoch 24/125\n",
            "425/425 [==============================] - 1s 1ms/step - loss: 0.1014 - categorical_crossentropy: 0.5886 - accuracy: 0.8047 - val_loss: 0.0979 - val_categorical_crossentropy: 0.6481 - val_accuracy: 0.8000\n",
            "Epoch 25/125\n",
            "425/425 [==============================] - 1s 1ms/step - loss: 0.0981 - categorical_crossentropy: 0.5526 - accuracy: 0.8047 - val_loss: 0.0889 - val_categorical_crossentropy: 0.6130 - val_accuracy: 0.8267\n",
            "Epoch 26/125\n",
            "425/425 [==============================] - 1s 1ms/step - loss: 0.0988 - categorical_crossentropy: 0.5575 - accuracy: 0.7976 - val_loss: 0.1093 - val_categorical_crossentropy: 0.6627 - val_accuracy: 0.7200\n",
            "Epoch 27/125\n",
            "425/425 [==============================] - 0s 1ms/step - loss: 0.1033 - categorical_crossentropy: 0.5762 - accuracy: 0.7929 - val_loss: 0.0975 - val_categorical_crossentropy: 0.6207 - val_accuracy: 0.7200\n",
            "Epoch 28/125\n",
            "425/425 [==============================] - 0s 1ms/step - loss: 0.0994 - categorical_crossentropy: 0.5471 - accuracy: 0.7929 - val_loss: 0.0960 - val_categorical_crossentropy: 0.6285 - val_accuracy: 0.7733\n",
            "Epoch 29/125\n",
            "425/425 [==============================] - 0s 1ms/step - loss: 0.0952 - categorical_crossentropy: 0.5221 - accuracy: 0.8141 - val_loss: 0.0924 - val_categorical_crossentropy: 0.6149 - val_accuracy: 0.8400\n",
            "Epoch 30/125\n",
            "425/425 [==============================] - 1s 1ms/step - loss: 0.0988 - categorical_crossentropy: 0.5714 - accuracy: 0.7976 - val_loss: 0.1056 - val_categorical_crossentropy: 0.6144 - val_accuracy: 0.8000\n",
            "Epoch 31/125\n",
            "425/425 [==============================] - 0s 1ms/step - loss: 0.1044 - categorical_crossentropy: 0.5718 - accuracy: 0.7976 - val_loss: 0.0900 - val_categorical_crossentropy: 0.5499 - val_accuracy: 0.8133\n",
            "Epoch 32/125\n",
            "425/425 [==============================] - 0s 1ms/step - loss: 0.0926 - categorical_crossentropy: 0.4953 - accuracy: 0.8212 - val_loss: 0.0899 - val_categorical_crossentropy: 0.5563 - val_accuracy: 0.8133\n",
            "Epoch 33/125\n",
            "425/425 [==============================] - 1s 1ms/step - loss: 0.0919 - categorical_crossentropy: 0.4899 - accuracy: 0.8212 - val_loss: 0.0882 - val_categorical_crossentropy: 0.5276 - val_accuracy: 0.8267\n",
            "Epoch 34/125\n",
            "425/425 [==============================] - 0s 1ms/step - loss: 0.0922 - categorical_crossentropy: 0.4804 - accuracy: 0.8000 - val_loss: 0.0967 - val_categorical_crossentropy: 0.6453 - val_accuracy: 0.8267\n",
            "Epoch 35/125\n",
            "425/425 [==============================] - 0s 1ms/step - loss: 0.0957 - categorical_crossentropy: 0.4880 - accuracy: 0.8071 - val_loss: 0.0953 - val_categorical_crossentropy: 0.5614 - val_accuracy: 0.7867\n",
            "Epoch 36/125\n",
            "425/425 [==============================] - 1s 1ms/step - loss: 0.0939 - categorical_crossentropy: 0.5099 - accuracy: 0.8259 - val_loss: 0.1006 - val_categorical_crossentropy: 0.6465 - val_accuracy: 0.8000\n",
            "Epoch 37/125\n",
            "425/425 [==============================] - 0s 1ms/step - loss: 0.0935 - categorical_crossentropy: 0.4856 - accuracy: 0.8071 - val_loss: 0.1033 - val_categorical_crossentropy: 0.5746 - val_accuracy: 0.7333\n",
            "Epoch 38/125\n",
            "425/425 [==============================] - 1s 1ms/step - loss: 0.0999 - categorical_crossentropy: 0.5526 - accuracy: 0.8047 - val_loss: 0.0879 - val_categorical_crossentropy: 0.5353 - val_accuracy: 0.7867\n",
            "Epoch 39/125\n",
            "425/425 [==============================] - 0s 1ms/step - loss: 0.0926 - categorical_crossentropy: 0.5080 - accuracy: 0.8235 - val_loss: 0.1006 - val_categorical_crossentropy: 0.5754 - val_accuracy: 0.8000\n",
            "Epoch 40/125\n",
            "425/425 [==============================] - 1s 1ms/step - loss: 0.0958 - categorical_crossentropy: 0.5376 - accuracy: 0.8118 - val_loss: 0.1076 - val_categorical_crossentropy: 0.6798 - val_accuracy: 0.7733\n",
            "Epoch 41/125\n",
            "425/425 [==============================] - 1s 1ms/step - loss: 0.0931 - categorical_crossentropy: 0.5194 - accuracy: 0.8188 - val_loss: 0.1012 - val_categorical_crossentropy: 0.6007 - val_accuracy: 0.7867\n",
            "Epoch 42/125\n",
            "425/425 [==============================] - 1s 1ms/step - loss: 0.0946 - categorical_crossentropy: 0.5208 - accuracy: 0.8165 - val_loss: 0.0894 - val_categorical_crossentropy: 0.5622 - val_accuracy: 0.8400\n",
            "Epoch 43/125\n",
            "425/425 [==============================] - 0s 1ms/step - loss: 0.0908 - categorical_crossentropy: 0.4929 - accuracy: 0.8188 - val_loss: 0.0976 - val_categorical_crossentropy: 0.6352 - val_accuracy: 0.8133\n",
            "Epoch 44/125\n",
            "425/425 [==============================] - 0s 1ms/step - loss: 0.0958 - categorical_crossentropy: 0.5142 - accuracy: 0.8118 - val_loss: 0.0978 - val_categorical_crossentropy: 0.6258 - val_accuracy: 0.8267\n",
            "Epoch 45/125\n",
            "425/425 [==============================] - 1s 1ms/step - loss: 0.0996 - categorical_crossentropy: 0.5661 - accuracy: 0.8024 - val_loss: 0.0903 - val_categorical_crossentropy: 0.5701 - val_accuracy: 0.8133\n",
            "Epoch 46/125\n",
            "425/425 [==============================] - 0s 1ms/step - loss: 0.0964 - categorical_crossentropy: 0.5023 - accuracy: 0.8047 - val_loss: 0.0878 - val_categorical_crossentropy: 0.5103 - val_accuracy: 0.7733\n",
            "Epoch 47/125\n",
            "425/425 [==============================] - 0s 1ms/step - loss: 0.0926 - categorical_crossentropy: 0.4832 - accuracy: 0.8188 - val_loss: 0.1008 - val_categorical_crossentropy: 0.6541 - val_accuracy: 0.7867\n",
            "Epoch 48/125\n",
            "425/425 [==============================] - 0s 1ms/step - loss: 0.0956 - categorical_crossentropy: 0.5116 - accuracy: 0.8000 - val_loss: 0.1083 - val_categorical_crossentropy: 0.5687 - val_accuracy: 0.7733\n",
            "Epoch 49/125\n",
            "425/425 [==============================] - 0s 1ms/step - loss: 0.0860 - categorical_crossentropy: 0.4508 - accuracy: 0.8353 - val_loss: 0.1070 - val_categorical_crossentropy: 0.5564 - val_accuracy: 0.7467\n",
            "Epoch 50/125\n",
            "425/425 [==============================] - 0s 1ms/step - loss: 0.0929 - categorical_crossentropy: 0.4749 - accuracy: 0.8141 - val_loss: 0.0905 - val_categorical_crossentropy: 0.5050 - val_accuracy: 0.8267\n",
            "Epoch 51/125\n",
            "425/425 [==============================] - 1s 1ms/step - loss: 0.0896 - categorical_crossentropy: 0.4658 - accuracy: 0.8141 - val_loss: 0.0983 - val_categorical_crossentropy: 0.5368 - val_accuracy: 0.7867\n",
            "Epoch 52/125\n",
            "425/425 [==============================] - 1s 1ms/step - loss: 0.0959 - categorical_crossentropy: 0.5092 - accuracy: 0.7976 - val_loss: 0.1017 - val_categorical_crossentropy: 0.5360 - val_accuracy: 0.7733\n",
            "Epoch 53/125\n",
            "425/425 [==============================] - 1s 1ms/step - loss: 0.0914 - categorical_crossentropy: 0.4816 - accuracy: 0.8188 - val_loss: 0.0872 - val_categorical_crossentropy: 0.4964 - val_accuracy: 0.8133\n",
            "Epoch 54/125\n",
            "425/425 [==============================] - 1s 1ms/step - loss: 0.0881 - categorical_crossentropy: 0.4598 - accuracy: 0.8188 - val_loss: 0.0930 - val_categorical_crossentropy: 0.5561 - val_accuracy: 0.8000\n",
            "Epoch 55/125\n",
            "425/425 [==============================] - 0s 1ms/step - loss: 0.0908 - categorical_crossentropy: 0.4768 - accuracy: 0.8212 - val_loss: 0.0993 - val_categorical_crossentropy: 0.5261 - val_accuracy: 0.8133\n",
            "Epoch 56/125\n",
            "425/425 [==============================] - 1s 1ms/step - loss: 0.0925 - categorical_crossentropy: 0.5048 - accuracy: 0.8118 - val_loss: 0.0857 - val_categorical_crossentropy: 0.4597 - val_accuracy: 0.8133\n",
            "Epoch 57/125\n",
            "425/425 [==============================] - 0s 1ms/step - loss: 0.0903 - categorical_crossentropy: 0.4691 - accuracy: 0.8188 - val_loss: 0.0967 - val_categorical_crossentropy: 0.5577 - val_accuracy: 0.8133\n",
            "Epoch 58/125\n",
            "425/425 [==============================] - 1s 1ms/step - loss: 0.0945 - categorical_crossentropy: 0.4942 - accuracy: 0.8047 - val_loss: 0.0871 - val_categorical_crossentropy: 0.5022 - val_accuracy: 0.8400\n",
            "Epoch 59/125\n",
            "425/425 [==============================] - 1s 1ms/step - loss: 0.0888 - categorical_crossentropy: 0.5048 - accuracy: 0.8235 - val_loss: 0.1031 - val_categorical_crossentropy: 0.5776 - val_accuracy: 0.7867\n",
            "Epoch 60/125\n",
            "425/425 [==============================] - 1s 1ms/step - loss: 0.0901 - categorical_crossentropy: 0.4725 - accuracy: 0.8282 - val_loss: 0.0921 - val_categorical_crossentropy: 0.5743 - val_accuracy: 0.8533\n",
            "Epoch 61/125\n",
            "425/425 [==============================] - 0s 1ms/step - loss: 0.0940 - categorical_crossentropy: 0.4896 - accuracy: 0.8188 - val_loss: 0.0849 - val_categorical_crossentropy: 0.4715 - val_accuracy: 0.8133\n",
            "Epoch 62/125\n",
            "425/425 [==============================] - 1s 1ms/step - loss: 0.0863 - categorical_crossentropy: 0.4531 - accuracy: 0.8376 - val_loss: 0.1029 - val_categorical_crossentropy: 0.6302 - val_accuracy: 0.7867\n",
            "Epoch 63/125\n",
            "425/425 [==============================] - 0s 1ms/step - loss: 0.0936 - categorical_crossentropy: 0.4770 - accuracy: 0.7976 - val_loss: 0.0911 - val_categorical_crossentropy: 0.5179 - val_accuracy: 0.8133\n",
            "Epoch 64/125\n",
            "425/425 [==============================] - 1s 1ms/step - loss: 0.0864 - categorical_crossentropy: 0.4605 - accuracy: 0.8424 - val_loss: 0.0872 - val_categorical_crossentropy: 0.5144 - val_accuracy: 0.8400\n",
            "Epoch 65/125\n",
            "425/425 [==============================] - 0s 1ms/step - loss: 0.0915 - categorical_crossentropy: 0.4944 - accuracy: 0.8212 - val_loss: 0.0922 - val_categorical_crossentropy: 0.5104 - val_accuracy: 0.7867\n",
            "Epoch 66/125\n",
            "425/425 [==============================] - 1s 1ms/step - loss: 0.0911 - categorical_crossentropy: 0.4734 - accuracy: 0.8094 - val_loss: 0.0905 - val_categorical_crossentropy: 0.5546 - val_accuracy: 0.8267\n",
            "Epoch 67/125\n",
            "425/425 [==============================] - 1s 1ms/step - loss: 0.0911 - categorical_crossentropy: 0.5089 - accuracy: 0.8212 - val_loss: 0.0961 - val_categorical_crossentropy: 0.5012 - val_accuracy: 0.7867\n",
            "Epoch 68/125\n",
            "425/425 [==============================] - 1s 1ms/step - loss: 0.0935 - categorical_crossentropy: 0.4961 - accuracy: 0.8165 - val_loss: 0.1073 - val_categorical_crossentropy: 0.5300 - val_accuracy: 0.7867\n",
            "Epoch 69/125\n",
            "425/425 [==============================] - 0s 1ms/step - loss: 0.0928 - categorical_crossentropy: 0.5324 - accuracy: 0.8235 - val_loss: 0.0938 - val_categorical_crossentropy: 0.5943 - val_accuracy: 0.7867\n",
            "Epoch 70/125\n",
            "425/425 [==============================] - 1s 1ms/step - loss: 0.0931 - categorical_crossentropy: 0.5404 - accuracy: 0.8118 - val_loss: 0.1058 - val_categorical_crossentropy: 0.5574 - val_accuracy: 0.8000\n",
            "Epoch 71/125\n",
            "425/425 [==============================] - 0s 1ms/step - loss: 0.0916 - categorical_crossentropy: 0.5189 - accuracy: 0.8306 - val_loss: 0.0917 - val_categorical_crossentropy: 0.5219 - val_accuracy: 0.7733\n",
            "Epoch 72/125\n",
            "425/425 [==============================] - 1s 1ms/step - loss: 0.0889 - categorical_crossentropy: 0.4945 - accuracy: 0.8259 - val_loss: 0.0928 - val_categorical_crossentropy: 0.4890 - val_accuracy: 0.8133\n",
            "Epoch 73/125\n",
            "425/425 [==============================] - 0s 1ms/step - loss: 0.0937 - categorical_crossentropy: 0.5148 - accuracy: 0.8094 - val_loss: 0.0952 - val_categorical_crossentropy: 0.5346 - val_accuracy: 0.8000\n",
            "Epoch 74/125\n",
            "425/425 [==============================] - 0s 1ms/step - loss: 0.0888 - categorical_crossentropy: 0.4854 - accuracy: 0.8282 - val_loss: 0.1121 - val_categorical_crossentropy: 0.5893 - val_accuracy: 0.7600\n",
            "Epoch 75/125\n",
            "425/425 [==============================] - 1s 1ms/step - loss: 0.0916 - categorical_crossentropy: 0.5337 - accuracy: 0.8188 - val_loss: 0.1033 - val_categorical_crossentropy: 0.5402 - val_accuracy: 0.7600\n",
            "Epoch 76/125\n",
            "425/425 [==============================] - 1s 1ms/step - loss: 0.0975 - categorical_crossentropy: 0.5268 - accuracy: 0.8047 - val_loss: 0.0922 - val_categorical_crossentropy: 0.4949 - val_accuracy: 0.8000\n",
            "Epoch 77/125\n",
            "425/425 [==============================] - 1s 1ms/step - loss: 0.0890 - categorical_crossentropy: 0.4698 - accuracy: 0.8212 - val_loss: 0.0996 - val_categorical_crossentropy: 0.5412 - val_accuracy: 0.7733\n",
            "Epoch 78/125\n",
            "425/425 [==============================] - 0s 1ms/step - loss: 0.0864 - categorical_crossentropy: 0.4964 - accuracy: 0.8329 - val_loss: 0.0965 - val_categorical_crossentropy: 0.5562 - val_accuracy: 0.8133\n",
            "Epoch 79/125\n",
            "425/425 [==============================] - 1s 1ms/step - loss: 0.0895 - categorical_crossentropy: 0.4944 - accuracy: 0.8282 - val_loss: 0.0986 - val_categorical_crossentropy: 0.6029 - val_accuracy: 0.8000\n",
            "Epoch 80/125\n",
            "425/425 [==============================] - 0s 1ms/step - loss: 0.0887 - categorical_crossentropy: 0.4688 - accuracy: 0.8118 - val_loss: 0.1127 - val_categorical_crossentropy: 0.5615 - val_accuracy: 0.7467\n",
            "Epoch 81/125\n",
            "425/425 [==============================] - 1s 1ms/step - loss: 0.0859 - categorical_crossentropy: 0.4830 - accuracy: 0.8306 - val_loss: 0.1152 - val_categorical_crossentropy: 0.6059 - val_accuracy: 0.7467\n",
            "Epoch 82/125\n",
            "425/425 [==============================] - 1s 1ms/step - loss: 0.0889 - categorical_crossentropy: 0.4713 - accuracy: 0.8259 - val_loss: 0.0956 - val_categorical_crossentropy: 0.6501 - val_accuracy: 0.8400\n",
            "Epoch 83/125\n",
            "425/425 [==============================] - 0s 1ms/step - loss: 0.0930 - categorical_crossentropy: 0.5201 - accuracy: 0.8188 - val_loss: 0.0920 - val_categorical_crossentropy: 0.5147 - val_accuracy: 0.8133\n",
            "Epoch 84/125\n",
            "425/425 [==============================] - 1s 1ms/step - loss: 0.0898 - categorical_crossentropy: 0.5071 - accuracy: 0.8259 - val_loss: 0.0971 - val_categorical_crossentropy: 0.5643 - val_accuracy: 0.8000\n",
            "Epoch 85/125\n",
            "425/425 [==============================] - 1s 1ms/step - loss: 0.0950 - categorical_crossentropy: 0.5293 - accuracy: 0.8165 - val_loss: 0.1171 - val_categorical_crossentropy: 0.6418 - val_accuracy: 0.7467\n",
            "Epoch 86/125\n",
            "425/425 [==============================] - 1s 1ms/step - loss: 0.0842 - categorical_crossentropy: 0.4583 - accuracy: 0.8282 - val_loss: 0.1270 - val_categorical_crossentropy: 0.6565 - val_accuracy: 0.7333\n",
            "Epoch 87/125\n",
            "425/425 [==============================] - 0s 1ms/step - loss: 0.0966 - categorical_crossentropy: 0.5403 - accuracy: 0.8024 - val_loss: 0.1021 - val_categorical_crossentropy: 0.6724 - val_accuracy: 0.8133\n",
            "Epoch 88/125\n",
            "425/425 [==============================] - 1s 1ms/step - loss: 0.0917 - categorical_crossentropy: 0.5088 - accuracy: 0.8306 - val_loss: 0.0913 - val_categorical_crossentropy: 0.5358 - val_accuracy: 0.7867\n",
            "Epoch 89/125\n",
            "425/425 [==============================] - 1s 1ms/step - loss: 0.0965 - categorical_crossentropy: 0.5136 - accuracy: 0.8000 - val_loss: 0.0909 - val_categorical_crossentropy: 0.5506 - val_accuracy: 0.8133\n",
            "Epoch 90/125\n",
            "425/425 [==============================] - 1s 1ms/step - loss: 0.0944 - categorical_crossentropy: 0.5285 - accuracy: 0.8024 - val_loss: 0.1137 - val_categorical_crossentropy: 0.6195 - val_accuracy: 0.7600\n",
            "Epoch 91/125\n",
            "425/425 [==============================] - 0s 1ms/step - loss: 0.0904 - categorical_crossentropy: 0.4918 - accuracy: 0.8235 - val_loss: 0.0899 - val_categorical_crossentropy: 0.5225 - val_accuracy: 0.7867\n",
            "Epoch 92/125\n",
            "425/425 [==============================] - 0s 1ms/step - loss: 0.0888 - categorical_crossentropy: 0.4973 - accuracy: 0.8282 - val_loss: 0.0886 - val_categorical_crossentropy: 0.4928 - val_accuracy: 0.8133\n",
            "Epoch 93/125\n",
            "425/425 [==============================] - 1s 1ms/step - loss: 0.0889 - categorical_crossentropy: 0.4847 - accuracy: 0.8165 - val_loss: 0.0899 - val_categorical_crossentropy: 0.5123 - val_accuracy: 0.8133\n",
            "Epoch 94/125\n",
            "425/425 [==============================] - 1s 1ms/step - loss: 0.0856 - categorical_crossentropy: 0.5077 - accuracy: 0.8447 - val_loss: 0.0910 - val_categorical_crossentropy: 0.5595 - val_accuracy: 0.8133\n",
            "Epoch 95/125\n",
            "425/425 [==============================] - 0s 1ms/step - loss: 0.0912 - categorical_crossentropy: 0.5174 - accuracy: 0.8212 - val_loss: 0.0939 - val_categorical_crossentropy: 0.7076 - val_accuracy: 0.8133\n",
            "Epoch 96/125\n",
            "425/425 [==============================] - 1s 1ms/step - loss: 0.0908 - categorical_crossentropy: 0.4984 - accuracy: 0.8188 - val_loss: 0.0935 - val_categorical_crossentropy: 0.5877 - val_accuracy: 0.8267\n",
            "Epoch 97/125\n",
            "425/425 [==============================] - 1s 1ms/step - loss: 0.0915 - categorical_crossentropy: 0.5071 - accuracy: 0.8165 - val_loss: 0.0943 - val_categorical_crossentropy: 0.5540 - val_accuracy: 0.8267\n",
            "Epoch 98/125\n",
            "425/425 [==============================] - 1s 1ms/step - loss: 0.1001 - categorical_crossentropy: 0.5294 - accuracy: 0.7953 - val_loss: 0.0963 - val_categorical_crossentropy: 0.5414 - val_accuracy: 0.8000\n",
            "Epoch 99/125\n",
            "425/425 [==============================] - 1s 1ms/step - loss: 0.0854 - categorical_crossentropy: 0.4774 - accuracy: 0.8353 - val_loss: 0.0923 - val_categorical_crossentropy: 0.5954 - val_accuracy: 0.8267\n",
            "Epoch 100/125\n",
            "425/425 [==============================] - 1s 1ms/step - loss: 0.0838 - categorical_crossentropy: 0.4610 - accuracy: 0.8353 - val_loss: 0.1015 - val_categorical_crossentropy: 0.5457 - val_accuracy: 0.8000\n",
            "Epoch 101/125\n",
            "425/425 [==============================] - 0s 1ms/step - loss: 0.0908 - categorical_crossentropy: 0.5027 - accuracy: 0.8165 - val_loss: 0.1006 - val_categorical_crossentropy: 0.5969 - val_accuracy: 0.8000\n",
            "Epoch 102/125\n",
            "425/425 [==============================] - 0s 1ms/step - loss: 0.0923 - categorical_crossentropy: 0.5000 - accuracy: 0.8259 - val_loss: 0.0943 - val_categorical_crossentropy: 0.5474 - val_accuracy: 0.8133\n",
            "Epoch 103/125\n",
            "425/425 [==============================] - 0s 1ms/step - loss: 0.0879 - categorical_crossentropy: 0.4870 - accuracy: 0.8306 - val_loss: 0.1062 - val_categorical_crossentropy: 0.5931 - val_accuracy: 0.7733\n",
            "Epoch 104/125\n",
            "425/425 [==============================] - 1s 1ms/step - loss: 0.0884 - categorical_crossentropy: 0.5001 - accuracy: 0.8165 - val_loss: 0.0999 - val_categorical_crossentropy: 0.5626 - val_accuracy: 0.8000\n",
            "Epoch 105/125\n",
            "425/425 [==============================] - 0s 1ms/step - loss: 0.0869 - categorical_crossentropy: 0.4962 - accuracy: 0.8306 - val_loss: 0.0928 - val_categorical_crossentropy: 0.5498 - val_accuracy: 0.8267\n",
            "Epoch 106/125\n",
            "425/425 [==============================] - 1s 1ms/step - loss: 0.0914 - categorical_crossentropy: 0.5205 - accuracy: 0.8353 - val_loss: 0.0932 - val_categorical_crossentropy: 0.5604 - val_accuracy: 0.8000\n",
            "Epoch 107/125\n",
            "425/425 [==============================] - 0s 1ms/step - loss: 0.0877 - categorical_crossentropy: 0.4768 - accuracy: 0.8259 - val_loss: 0.0926 - val_categorical_crossentropy: 0.5787 - val_accuracy: 0.7867\n",
            "Epoch 108/125\n",
            "425/425 [==============================] - 1s 1ms/step - loss: 0.0906 - categorical_crossentropy: 0.5068 - accuracy: 0.8282 - val_loss: 0.0879 - val_categorical_crossentropy: 0.6267 - val_accuracy: 0.8267\n",
            "Epoch 109/125\n",
            "425/425 [==============================] - 1s 1ms/step - loss: 0.0946 - categorical_crossentropy: 0.5758 - accuracy: 0.8212 - val_loss: 0.0921 - val_categorical_crossentropy: 0.5776 - val_accuracy: 0.8000\n",
            "Epoch 110/125\n",
            "425/425 [==============================] - 1s 1ms/step - loss: 0.0882 - categorical_crossentropy: 0.4851 - accuracy: 0.8306 - val_loss: 0.0903 - val_categorical_crossentropy: 0.5774 - val_accuracy: 0.8000\n",
            "Epoch 111/125\n",
            "425/425 [==============================] - 1s 1ms/step - loss: 0.0860 - categorical_crossentropy: 0.4927 - accuracy: 0.8188 - val_loss: 0.0934 - val_categorical_crossentropy: 0.5756 - val_accuracy: 0.8133\n",
            "Epoch 112/125\n",
            "425/425 [==============================] - 1s 1ms/step - loss: 0.0912 - categorical_crossentropy: 0.5186 - accuracy: 0.8212 - val_loss: 0.0924 - val_categorical_crossentropy: 0.6354 - val_accuracy: 0.8133\n",
            "Epoch 113/125\n",
            "425/425 [==============================] - 1s 1ms/step - loss: 0.0907 - categorical_crossentropy: 0.5334 - accuracy: 0.8235 - val_loss: 0.0892 - val_categorical_crossentropy: 0.5728 - val_accuracy: 0.8133\n",
            "Epoch 114/125\n",
            "425/425 [==============================] - 1s 1ms/step - loss: 0.0865 - categorical_crossentropy: 0.4833 - accuracy: 0.8141 - val_loss: 0.0892 - val_categorical_crossentropy: 0.5797 - val_accuracy: 0.8000\n",
            "Epoch 115/125\n",
            "425/425 [==============================] - 1s 1ms/step - loss: 0.0854 - categorical_crossentropy: 0.4757 - accuracy: 0.8376 - val_loss: 0.1119 - val_categorical_crossentropy: 0.6200 - val_accuracy: 0.8133\n",
            "Epoch 116/125\n",
            "425/425 [==============================] - 1s 1ms/step - loss: 0.0865 - categorical_crossentropy: 0.5060 - accuracy: 0.8376 - val_loss: 0.0975 - val_categorical_crossentropy: 0.5864 - val_accuracy: 0.7867\n",
            "Epoch 117/125\n",
            "425/425 [==============================] - 1s 1ms/step - loss: 0.0855 - categorical_crossentropy: 0.4726 - accuracy: 0.8424 - val_loss: 0.0917 - val_categorical_crossentropy: 0.5659 - val_accuracy: 0.8267\n",
            "Epoch 118/125\n",
            "425/425 [==============================] - 1s 1ms/step - loss: 0.0891 - categorical_crossentropy: 0.4963 - accuracy: 0.8235 - val_loss: 0.1005 - val_categorical_crossentropy: 0.5672 - val_accuracy: 0.8000\n",
            "Epoch 119/125\n",
            "425/425 [==============================] - 1s 1ms/step - loss: 0.0881 - categorical_crossentropy: 0.5025 - accuracy: 0.8376 - val_loss: 0.1112 - val_categorical_crossentropy: 0.6694 - val_accuracy: 0.7600\n",
            "Epoch 120/125\n",
            "425/425 [==============================] - 1s 1ms/step - loss: 0.0874 - categorical_crossentropy: 0.5050 - accuracy: 0.8353 - val_loss: 0.0870 - val_categorical_crossentropy: 0.5552 - val_accuracy: 0.8267\n",
            "Epoch 121/125\n",
            "425/425 [==============================] - 0s 1ms/step - loss: 0.0860 - categorical_crossentropy: 0.5003 - accuracy: 0.8424 - val_loss: 0.1133 - val_categorical_crossentropy: 0.6146 - val_accuracy: 0.7467\n",
            "Epoch 122/125\n",
            "425/425 [==============================] - 1s 1ms/step - loss: 0.0891 - categorical_crossentropy: 0.4816 - accuracy: 0.8235 - val_loss: 0.1126 - val_categorical_crossentropy: 0.6385 - val_accuracy: 0.7600\n",
            "Epoch 123/125\n",
            "425/425 [==============================] - 0s 1ms/step - loss: 0.0843 - categorical_crossentropy: 0.4664 - accuracy: 0.8188 - val_loss: 0.1264 - val_categorical_crossentropy: 0.6919 - val_accuracy: 0.7200\n",
            "Epoch 124/125\n",
            "425/425 [==============================] - 1s 1ms/step - loss: 0.0900 - categorical_crossentropy: 0.4944 - accuracy: 0.8188 - val_loss: 0.0915 - val_categorical_crossentropy: 0.5310 - val_accuracy: 0.8267\n",
            "Epoch 125/125\n",
            "425/425 [==============================] - 0s 1ms/step - loss: 0.0922 - categorical_crossentropy: 0.5184 - accuracy: 0.8165 - val_loss: 0.0947 - val_categorical_crossentropy: 0.5790 - val_accuracy: 0.8133\n",
            "16/16 - 0s - loss: 0.0903 - categorical_crossentropy: 0.5943 - accuracy: 0.8280 - 128ms/epoch - 8ms/step\n"
          ]
        },
        {
          "output_type": "display_data",
          "data": {
            "text/plain": [
              "<Figure size 432x288 with 1 Axes>"
            ],
            "image/png": "[encoded data removed]"
          },
          "metadata": {
            "needs_background": "light"
          }
        },
        {
          "output_type": "execute_result",
          "data": {
            "text/plain": [
              "<keras.callbacks.History at 0x7fdce8db5710>"
            ]
          },
          "metadata": {},
          "execution_count": 50
        }
      ],
      "source": [
        "### START CODE HERE ###\n",
        "fit_model(X_train, y_train, X_test, y_test, 1)\n",
        "###### END CODE HERE"
      ]
    },
    {
      "cell_type": "code",
      "execution_count": null,
      "id": "022e2c92-7a62-49f9-aae2-790c5eae36e4",
      "metadata": {
        "tags": [],
        "id": "022e2c92-7a62-49f9-aae2-790c5eae36e4"
      },
      "outputs": [],
      "source": [
        "plt.figure(figsize=(10,5))\n",
        "plt.plot(history.history['loss'])\n",
        "plt.plot(history.history['val_loss'])\n",
        "plt.title('Loss vs. epochs, batch=' +str(batch_size))\n",
        "plt.ylabel('Loss')\n",
        "plt.xlabel('Epoch')\n",
        "plt.legend(['Training', 'Validation'], loc='upper right')\n",
        "plt.show()"
      ]
    },
    {
      "cell_type": "markdown",
      "id": "058a1cdc-e6ec-4fca-b87f-29a161f9986d",
      "metadata": {
        "id": "058a1cdc-e6ec-4fca-b87f-29a161f9986d"
      },
      "source": [
        "- **Diagnose this curve w.r.t learning rate**:\n",
        "    - ANSWER: the learning rate is quite high, so at first epochs the validation loss was very high\n",
        "- Change learning rate to make this curve better"
      ]
    },
    {
      "cell_type": "code",
      "execution_count": null,
      "id": "74b641cb-d7b1-4806-a4f9-216006e06e77",
      "metadata": {
        "id": "74b641cb-d7b1-4806-a4f9-216006e06e77",
        "colab": {
          "base_uri": "https://localhost:8080/",
          "height": 1000
        },
        "outputId": "829227bf-5753-4dee-b283-d7ec340925e3"
      },
      "outputs": [
        {
          "output_type": "stream",
          "name": "stdout",
          "text": [
            "Epoch 1/125\n",
            "425/425 [==============================] - 2s 4ms/step - loss: 0.3327 - categorical_crossentropy: 9.8524 - accuracy: 0.4494 - val_loss: 0.3481 - val_categorical_crossentropy: 16.1053 - val_accuracy: 0.4533\n",
            "Epoch 2/125\n",
            "425/425 [==============================] - 1s 1ms/step - loss: 0.3231 - categorical_crossentropy: 13.4591 - accuracy: 0.4918 - val_loss: 0.3434 - val_categorical_crossentropy: 18.6050 - val_accuracy: 0.4800\n",
            "Epoch 3/125\n",
            "425/425 [==============================] - 0s 1ms/step - loss: 0.3173 - categorical_crossentropy: 13.8079 - accuracy: 0.5059 - val_loss: 0.3447 - val_categorical_crossentropy: 16.9749 - val_accuracy: 0.4667\n",
            "Epoch 4/125\n",
            "425/425 [==============================] - 1s 1ms/step - loss: 0.3122 - categorical_crossentropy: 14.0512 - accuracy: 0.5129 - val_loss: 0.3391 - val_categorical_crossentropy: 20.6590 - val_accuracy: 0.4800\n",
            "Epoch 5/125\n",
            "425/425 [==============================] - 0s 1ms/step - loss: 0.3191 - categorical_crossentropy: 14.0291 - accuracy: 0.5035 - val_loss: 0.3558 - val_categorical_crossentropy: 15.0602 - val_accuracy: 0.4400\n",
            "Epoch 6/125\n",
            "425/425 [==============================] - 1s 1ms/step - loss: 0.3231 - categorical_crossentropy: 15.0299 - accuracy: 0.5059 - val_loss: 0.3394 - val_categorical_crossentropy: 21.2654 - val_accuracy: 0.4933\n",
            "Epoch 7/125\n",
            "425/425 [==============================] - 1s 1ms/step - loss: 0.3202 - categorical_crossentropy: 15.4846 - accuracy: 0.5059 - val_loss: 0.3359 - val_categorical_crossentropy: 19.0766 - val_accuracy: 0.4933\n",
            "Epoch 8/125\n",
            "425/425 [==============================] - 1s 1ms/step - loss: 0.3107 - categorical_crossentropy: 13.6498 - accuracy: 0.5247 - val_loss: 0.3477 - val_categorical_crossentropy: 15.2752 - val_accuracy: 0.4533\n",
            "Epoch 9/125\n",
            "425/425 [==============================] - 1s 1ms/step - loss: 0.3090 - categorical_crossentropy: 12.2691 - accuracy: 0.5200 - val_loss: 0.3926 - val_categorical_crossentropy: 12.8545 - val_accuracy: 0.3867\n",
            "Epoch 10/125\n",
            "425/425 [==============================] - 1s 1ms/step - loss: 0.3283 - categorical_crossentropy: 11.8602 - accuracy: 0.4824 - val_loss: 0.3340 - val_categorical_crossentropy: 15.9974 - val_accuracy: 0.4800\n",
            "Epoch 11/125\n",
            "425/425 [==============================] - 1s 1ms/step - loss: 0.3068 - categorical_crossentropy: 11.8040 - accuracy: 0.5153 - val_loss: 0.3438 - val_categorical_crossentropy: 15.2875 - val_accuracy: 0.4667\n",
            "Epoch 12/125\n",
            "425/425 [==============================] - 1s 1ms/step - loss: 0.3092 - categorical_crossentropy: 12.1524 - accuracy: 0.5176 - val_loss: 0.3399 - val_categorical_crossentropy: 15.9189 - val_accuracy: 0.4800\n",
            "Epoch 13/125\n",
            "425/425 [==============================] - 0s 1ms/step - loss: 0.3009 - categorical_crossentropy: 12.1737 - accuracy: 0.5294 - val_loss: 0.3415 - val_categorical_crossentropy: 13.2574 - val_accuracy: 0.4533\n",
            "Epoch 14/125\n",
            "425/425 [==============================] - 1s 1ms/step - loss: 0.3060 - categorical_crossentropy: 10.6684 - accuracy: 0.5176 - val_loss: 0.3327 - val_categorical_crossentropy: 14.6719 - val_accuracy: 0.4933\n",
            "Epoch 15/125\n",
            "425/425 [==============================] - 0s 1ms/step - loss: 0.3013 - categorical_crossentropy: 11.0988 - accuracy: 0.5294 - val_loss: 0.3346 - val_categorical_crossentropy: 12.9730 - val_accuracy: 0.4533\n",
            "Epoch 16/125\n",
            "425/425 [==============================] - 1s 1ms/step - loss: 0.3019 - categorical_crossentropy: 9.7446 - accuracy: 0.5200 - val_loss: 0.3384 - val_categorical_crossentropy: 11.9831 - val_accuracy: 0.4667\n",
            "Epoch 17/125\n",
            "425/425 [==============================] - 1s 1ms/step - loss: 0.3023 - categorical_crossentropy: 9.1887 - accuracy: 0.5294 - val_loss: 0.3382 - val_categorical_crossentropy: 9.8221 - val_accuracy: 0.4667\n",
            "Epoch 18/125\n",
            "425/425 [==============================] - 1s 1ms/step - loss: 0.2950 - categorical_crossentropy: 7.9827 - accuracy: 0.5365 - val_loss: 0.3378 - val_categorical_crossentropy: 8.8386 - val_accuracy: 0.4667\n",
            "Epoch 19/125\n",
            "425/425 [==============================] - 0s 1ms/step - loss: 0.2951 - categorical_crossentropy: 7.2463 - accuracy: 0.5294 - val_loss: 0.3293 - val_categorical_crossentropy: 7.6939 - val_accuracy: 0.4667\n",
            "Epoch 20/125\n",
            "425/425 [==============================] - 0s 1ms/step - loss: 0.2948 - categorical_crossentropy: 5.7911 - accuracy: 0.5247 - val_loss: 0.3291 - val_categorical_crossentropy: 6.9772 - val_accuracy: 0.4667\n",
            "Epoch 21/125\n",
            "425/425 [==============================] - 0s 1ms/step - loss: 0.2655 - categorical_crossentropy: 4.2036 - accuracy: 0.5435 - val_loss: 0.1415 - val_categorical_crossentropy: 1.4611 - val_accuracy: 0.7467\n",
            "Epoch 22/125\n",
            "425/425 [==============================] - 1s 1ms/step - loss: 0.1760 - categorical_crossentropy: 1.7097 - accuracy: 0.6776 - val_loss: 0.1465 - val_categorical_crossentropy: 1.5426 - val_accuracy: 0.7467\n",
            "Epoch 23/125\n",
            "425/425 [==============================] - 1s 1ms/step - loss: 0.1583 - categorical_crossentropy: 1.2948 - accuracy: 0.6941 - val_loss: 0.1354 - val_categorical_crossentropy: 0.9371 - val_accuracy: 0.7333\n",
            "Epoch 24/125\n",
            "425/425 [==============================] - 0s 1ms/step - loss: 0.1361 - categorical_crossentropy: 0.8757 - accuracy: 0.7224 - val_loss: 0.1058 - val_categorical_crossentropy: 0.5973 - val_accuracy: 0.7733\n",
            "Epoch 25/125\n",
            "425/425 [==============================] - 0s 1ms/step - loss: 0.1191 - categorical_crossentropy: 0.6314 - accuracy: 0.7482 - val_loss: 0.1074 - val_categorical_crossentropy: 0.5807 - val_accuracy: 0.7467\n",
            "Epoch 26/125\n",
            "425/425 [==============================] - 0s 1ms/step - loss: 0.1169 - categorical_crossentropy: 0.6219 - accuracy: 0.7506 - val_loss: 0.0990 - val_categorical_crossentropy: 0.5409 - val_accuracy: 0.8000\n",
            "Epoch 27/125\n",
            "425/425 [==============================] - 0s 1ms/step - loss: 0.1053 - categorical_crossentropy: 0.5532 - accuracy: 0.7718 - val_loss: 0.0998 - val_categorical_crossentropy: 0.5490 - val_accuracy: 0.7867\n",
            "Epoch 28/125\n",
            "425/425 [==============================] - 0s 1ms/step - loss: 0.1105 - categorical_crossentropy: 0.5965 - accuracy: 0.7741 - val_loss: 0.1326 - val_categorical_crossentropy: 0.6715 - val_accuracy: 0.7467\n",
            "Epoch 29/125\n",
            "425/425 [==============================] - 0s 1ms/step - loss: 0.1056 - categorical_crossentropy: 0.5536 - accuracy: 0.7882 - val_loss: 0.0927 - val_categorical_crossentropy: 0.5058 - val_accuracy: 0.7733\n",
            "Epoch 30/125\n",
            "425/425 [==============================] - 1s 1ms/step - loss: 0.1052 - categorical_crossentropy: 0.5710 - accuracy: 0.7812 - val_loss: 0.1068 - val_categorical_crossentropy: 0.6037 - val_accuracy: 0.7733\n",
            "Epoch 31/125\n",
            "425/425 [==============================] - 0s 1ms/step - loss: 0.1056 - categorical_crossentropy: 0.5718 - accuracy: 0.7859 - val_loss: 0.0873 - val_categorical_crossentropy: 0.4812 - val_accuracy: 0.8400\n",
            "Epoch 32/125\n",
            "425/425 [==============================] - 0s 1ms/step - loss: 0.1048 - categorical_crossentropy: 0.5293 - accuracy: 0.7906 - val_loss: 0.0971 - val_categorical_crossentropy: 0.4984 - val_accuracy: 0.7867\n",
            "Epoch 33/125\n",
            "425/425 [==============================] - 1s 1ms/step - loss: 0.1054 - categorical_crossentropy: 0.5444 - accuracy: 0.7859 - val_loss: 0.0968 - val_categorical_crossentropy: 0.5253 - val_accuracy: 0.8000\n",
            "Epoch 34/125\n",
            "425/425 [==============================] - 1s 1ms/step - loss: 0.0972 - categorical_crossentropy: 0.5071 - accuracy: 0.8071 - val_loss: 0.0893 - val_categorical_crossentropy: 0.4978 - val_accuracy: 0.7733\n",
            "Epoch 35/125\n",
            "425/425 [==============================] - 0s 1ms/step - loss: 0.0964 - categorical_crossentropy: 0.5100 - accuracy: 0.8071 - val_loss: 0.0890 - val_categorical_crossentropy: 0.5025 - val_accuracy: 0.8400\n",
            "Epoch 36/125\n",
            "425/425 [==============================] - 0s 1ms/step - loss: 0.0937 - categorical_crossentropy: 0.4921 - accuracy: 0.8165 - val_loss: 0.1045 - val_categorical_crossentropy: 0.5487 - val_accuracy: 0.7733\n",
            "Epoch 37/125\n",
            "425/425 [==============================] - 0s 1ms/step - loss: 0.0933 - categorical_crossentropy: 0.4807 - accuracy: 0.8047 - val_loss: 0.0986 - val_categorical_crossentropy: 0.5030 - val_accuracy: 0.7733\n",
            "Epoch 38/125\n",
            "425/425 [==============================] - 1s 1ms/step - loss: 0.0967 - categorical_crossentropy: 0.5066 - accuracy: 0.8047 - val_loss: 0.0951 - val_categorical_crossentropy: 0.5038 - val_accuracy: 0.8133\n",
            "Epoch 39/125\n",
            "425/425 [==============================] - 0s 1ms/step - loss: 0.0943 - categorical_crossentropy: 0.4736 - accuracy: 0.8047 - val_loss: 0.0897 - val_categorical_crossentropy: 0.4585 - val_accuracy: 0.8000\n",
            "Epoch 40/125\n",
            "425/425 [==============================] - 0s 1ms/step - loss: 0.0919 - categorical_crossentropy: 0.4414 - accuracy: 0.8094 - val_loss: 0.1327 - val_categorical_crossentropy: 0.6394 - val_accuracy: 0.6533\n",
            "Epoch 41/125\n",
            "425/425 [==============================] - 0s 1ms/step - loss: 0.0950 - categorical_crossentropy: 0.4962 - accuracy: 0.8094 - val_loss: 0.1048 - val_categorical_crossentropy: 0.5193 - val_accuracy: 0.7467\n",
            "Epoch 42/125\n",
            "425/425 [==============================] - 1s 1ms/step - loss: 0.0927 - categorical_crossentropy: 0.4580 - accuracy: 0.8141 - val_loss: 0.0986 - val_categorical_crossentropy: 0.4966 - val_accuracy: 0.7733\n",
            "Epoch 43/125\n",
            "425/425 [==============================] - 0s 1ms/step - loss: 0.0933 - categorical_crossentropy: 0.4635 - accuracy: 0.7976 - val_loss: 0.0912 - val_categorical_crossentropy: 0.4623 - val_accuracy: 0.7867\n",
            "Epoch 44/125\n",
            "425/425 [==============================] - 0s 1ms/step - loss: 0.0944 - categorical_crossentropy: 0.4714 - accuracy: 0.8071 - val_loss: 0.0956 - val_categorical_crossentropy: 0.4774 - val_accuracy: 0.7867\n",
            "Epoch 45/125\n",
            "425/425 [==============================] - 0s 1ms/step - loss: 0.0902 - categorical_crossentropy: 0.4478 - accuracy: 0.8165 - val_loss: 0.0895 - val_categorical_crossentropy: 0.4732 - val_accuracy: 0.8000\n",
            "Epoch 46/125\n",
            "425/425 [==============================] - 1s 1ms/step - loss: 0.0927 - categorical_crossentropy: 0.4617 - accuracy: 0.8071 - val_loss: 0.1028 - val_categorical_crossentropy: 0.5963 - val_accuracy: 0.7867\n",
            "Epoch 47/125\n",
            "425/425 [==============================] - 0s 1ms/step - loss: 0.0938 - categorical_crossentropy: 0.5161 - accuracy: 0.8094 - val_loss: 0.0895 - val_categorical_crossentropy: 0.4955 - val_accuracy: 0.7600\n",
            "Epoch 48/125\n",
            "425/425 [==============================] - 1s 1ms/step - loss: 0.0915 - categorical_crossentropy: 0.4845 - accuracy: 0.8235 - val_loss: 0.0883 - val_categorical_crossentropy: 0.4521 - val_accuracy: 0.8400\n",
            "Epoch 49/125\n",
            "425/425 [==============================] - 0s 1ms/step - loss: 0.0925 - categorical_crossentropy: 0.4575 - accuracy: 0.8118 - val_loss: 0.0865 - val_categorical_crossentropy: 0.4521 - val_accuracy: 0.8133\n",
            "Epoch 50/125\n",
            "425/425 [==============================] - 1s 1ms/step - loss: 0.0944 - categorical_crossentropy: 0.4717 - accuracy: 0.8118 - val_loss: 0.0963 - val_categorical_crossentropy: 0.5022 - val_accuracy: 0.7867\n",
            "Epoch 51/125\n",
            "425/425 [==============================] - 0s 1ms/step - loss: 0.0896 - categorical_crossentropy: 0.4488 - accuracy: 0.8306 - val_loss: 0.0989 - val_categorical_crossentropy: 0.4991 - val_accuracy: 0.7867\n",
            "Epoch 52/125\n",
            "425/425 [==============================] - 1s 1ms/step - loss: 0.0872 - categorical_crossentropy: 0.4330 - accuracy: 0.8282 - val_loss: 0.1013 - val_categorical_crossentropy: 0.5128 - val_accuracy: 0.8267\n",
            "Epoch 53/125\n",
            "425/425 [==============================] - 1s 1ms/step - loss: 0.0943 - categorical_crossentropy: 0.4616 - accuracy: 0.8047 - val_loss: 0.0890 - val_categorical_crossentropy: 0.4428 - val_accuracy: 0.7867\n",
            "Epoch 54/125\n",
            "425/425 [==============================] - 1s 1ms/step - loss: 0.0880 - categorical_crossentropy: 0.4365 - accuracy: 0.8376 - val_loss: 0.0922 - val_categorical_crossentropy: 0.4596 - val_accuracy: 0.8000\n",
            "Epoch 55/125\n",
            "425/425 [==============================] - 0s 1ms/step - loss: 0.0877 - categorical_crossentropy: 0.4448 - accuracy: 0.8329 - val_loss: 0.1082 - val_categorical_crossentropy: 0.5043 - val_accuracy: 0.7333\n",
            "Epoch 56/125\n",
            "425/425 [==============================] - 0s 1ms/step - loss: 0.0891 - categorical_crossentropy: 0.4351 - accuracy: 0.8188 - val_loss: 0.0864 - val_categorical_crossentropy: 0.4185 - val_accuracy: 0.7867\n",
            "Epoch 57/125\n",
            "425/425 [==============================] - 0s 1ms/step - loss: 0.0853 - categorical_crossentropy: 0.4166 - accuracy: 0.8306 - val_loss: 0.1084 - val_categorical_crossentropy: 0.5123 - val_accuracy: 0.7333\n",
            "Epoch 58/125\n",
            "425/425 [==============================] - 0s 1ms/step - loss: 0.0881 - categorical_crossentropy: 0.4403 - accuracy: 0.8306 - val_loss: 0.0875 - val_categorical_crossentropy: 0.4581 - val_accuracy: 0.8533\n",
            "Epoch 59/125\n",
            "425/425 [==============================] - 1s 1ms/step - loss: 0.0899 - categorical_crossentropy: 0.4383 - accuracy: 0.8118 - val_loss: 0.1039 - val_categorical_crossentropy: 0.4805 - val_accuracy: 0.7733\n",
            "Epoch 60/125\n",
            "425/425 [==============================] - 1s 1ms/step - loss: 0.0900 - categorical_crossentropy: 0.4501 - accuracy: 0.8165 - val_loss: 0.1055 - val_categorical_crossentropy: 0.4946 - val_accuracy: 0.7067\n",
            "Epoch 61/125\n",
            "425/425 [==============================] - 1s 1ms/step - loss: 0.0871 - categorical_crossentropy: 0.4366 - accuracy: 0.8329 - val_loss: 0.0860 - val_categorical_crossentropy: 0.4173 - val_accuracy: 0.8000\n",
            "Epoch 62/125\n",
            "425/425 [==============================] - 1s 1ms/step - loss: 0.0878 - categorical_crossentropy: 0.4342 - accuracy: 0.8118 - val_loss: 0.0851 - val_categorical_crossentropy: 0.4397 - val_accuracy: 0.8000\n",
            "Epoch 63/125\n",
            "425/425 [==============================] - 1s 1ms/step - loss: 0.0881 - categorical_crossentropy: 0.4328 - accuracy: 0.8094 - val_loss: 0.0895 - val_categorical_crossentropy: 0.4482 - val_accuracy: 0.7733\n",
            "Epoch 64/125\n",
            "425/425 [==============================] - 1s 1ms/step - loss: 0.0891 - categorical_crossentropy: 0.4399 - accuracy: 0.8306 - val_loss: 0.0920 - val_categorical_crossentropy: 0.4379 - val_accuracy: 0.8133\n",
            "Epoch 65/125\n",
            "425/425 [==============================] - 0s 1ms/step - loss: 0.0866 - categorical_crossentropy: 0.4266 - accuracy: 0.8235 - val_loss: 0.1019 - val_categorical_crossentropy: 0.5512 - val_accuracy: 0.7733\n",
            "Epoch 66/125\n",
            "425/425 [==============================] - 1s 1ms/step - loss: 0.0899 - categorical_crossentropy: 0.4395 - accuracy: 0.8047 - val_loss: 0.0920 - val_categorical_crossentropy: 0.4499 - val_accuracy: 0.7867\n",
            "Epoch 67/125\n",
            "425/425 [==============================] - 1s 1ms/step - loss: 0.0884 - categorical_crossentropy: 0.4367 - accuracy: 0.8212 - val_loss: 0.0941 - val_categorical_crossentropy: 0.4460 - val_accuracy: 0.8000\n",
            "Epoch 68/125\n",
            "425/425 [==============================] - 1s 1ms/step - loss: 0.0873 - categorical_crossentropy: 0.4241 - accuracy: 0.8212 - val_loss: 0.0881 - val_categorical_crossentropy: 0.4433 - val_accuracy: 0.8133\n",
            "Epoch 69/125\n",
            "425/425 [==============================] - 1s 1ms/step - loss: 0.0875 - categorical_crossentropy: 0.4318 - accuracy: 0.8141 - val_loss: 0.0883 - val_categorical_crossentropy: 0.4485 - val_accuracy: 0.8000\n",
            "Epoch 70/125\n",
            "425/425 [==============================] - 1s 1ms/step - loss: 0.0942 - categorical_crossentropy: 0.4686 - accuracy: 0.8047 - val_loss: 0.0901 - val_categorical_crossentropy: 0.4698 - val_accuracy: 0.8400\n",
            "Epoch 71/125\n",
            "425/425 [==============================] - 0s 1ms/step - loss: 0.0888 - categorical_crossentropy: 0.4381 - accuracy: 0.8118 - val_loss: 0.0909 - val_categorical_crossentropy: 0.4354 - val_accuracy: 0.8267\n",
            "Epoch 72/125\n",
            "425/425 [==============================] - 1s 1ms/step - loss: 0.0896 - categorical_crossentropy: 0.4382 - accuracy: 0.8212 - val_loss: 0.0943 - val_categorical_crossentropy: 0.4413 - val_accuracy: 0.8267\n",
            "Epoch 73/125\n",
            "425/425 [==============================] - 0s 1ms/step - loss: 0.0871 - categorical_crossentropy: 0.4259 - accuracy: 0.8259 - val_loss: 0.0908 - val_categorical_crossentropy: 0.4437 - val_accuracy: 0.7867\n",
            "Epoch 74/125\n",
            "425/425 [==============================] - 1s 1ms/step - loss: 0.0883 - categorical_crossentropy: 0.4294 - accuracy: 0.8188 - val_loss: 0.0966 - val_categorical_crossentropy: 0.4542 - val_accuracy: 0.7733\n",
            "Epoch 75/125\n",
            "425/425 [==============================] - 0s 1ms/step - loss: 0.0876 - categorical_crossentropy: 0.4234 - accuracy: 0.8259 - val_loss: 0.0847 - val_categorical_crossentropy: 0.4155 - val_accuracy: 0.8000\n",
            "Epoch 76/125\n",
            "425/425 [==============================] - 1s 1ms/step - loss: 0.0917 - categorical_crossentropy: 0.4452 - accuracy: 0.8118 - val_loss: 0.0900 - val_categorical_crossentropy: 0.5015 - val_accuracy: 0.8400\n",
            "Epoch 77/125\n",
            "425/425 [==============================] - 0s 1ms/step - loss: 0.0870 - categorical_crossentropy: 0.4255 - accuracy: 0.8212 - val_loss: 0.0913 - val_categorical_crossentropy: 0.4499 - val_accuracy: 0.7733\n",
            "Epoch 78/125\n",
            "425/425 [==============================] - 1s 1ms/step - loss: 0.0858 - categorical_crossentropy: 0.4275 - accuracy: 0.8282 - val_loss: 0.0985 - val_categorical_crossentropy: 0.4675 - val_accuracy: 0.7733\n",
            "Epoch 79/125\n",
            "425/425 [==============================] - 0s 1ms/step - loss: 0.0897 - categorical_crossentropy: 0.4253 - accuracy: 0.8141 - val_loss: 0.1090 - val_categorical_crossentropy: 0.5042 - val_accuracy: 0.7200\n",
            "Epoch 80/125\n",
            "425/425 [==============================] - 1s 1ms/step - loss: 0.0903 - categorical_crossentropy: 0.4470 - accuracy: 0.8094 - val_loss: 0.1126 - val_categorical_crossentropy: 0.5504 - val_accuracy: 0.7200\n",
            "Epoch 81/125\n",
            "425/425 [==============================] - 1s 1ms/step - loss: 0.0869 - categorical_crossentropy: 0.4417 - accuracy: 0.8188 - val_loss: 0.1071 - val_categorical_crossentropy: 0.5144 - val_accuracy: 0.7600\n",
            "Epoch 82/125\n",
            "425/425 [==============================] - 1s 1ms/step - loss: 0.0880 - categorical_crossentropy: 0.4330 - accuracy: 0.8094 - val_loss: 0.0857 - val_categorical_crossentropy: 0.4464 - val_accuracy: 0.8267\n",
            "Epoch 83/125\n",
            "425/425 [==============================] - 0s 1ms/step - loss: 0.0895 - categorical_crossentropy: 0.4340 - accuracy: 0.8141 - val_loss: 0.0883 - val_categorical_crossentropy: 0.4422 - val_accuracy: 0.8000\n",
            "Epoch 84/125\n",
            "425/425 [==============================] - 1s 1ms/step - loss: 0.0861 - categorical_crossentropy: 0.4488 - accuracy: 0.8353 - val_loss: 0.1041 - val_categorical_crossentropy: 0.5505 - val_accuracy: 0.7733\n",
            "Epoch 85/125\n",
            "425/425 [==============================] - 1s 1ms/step - loss: 0.0883 - categorical_crossentropy: 0.4350 - accuracy: 0.8235 - val_loss: 0.0925 - val_categorical_crossentropy: 0.4775 - val_accuracy: 0.7867\n",
            "Epoch 86/125\n",
            "425/425 [==============================] - 1s 1ms/step - loss: 0.0870 - categorical_crossentropy: 0.4236 - accuracy: 0.8212 - val_loss: 0.0880 - val_categorical_crossentropy: 0.4569 - val_accuracy: 0.8000\n",
            "Epoch 87/125\n",
            "425/425 [==============================] - 0s 1ms/step - loss: 0.0888 - categorical_crossentropy: 0.4293 - accuracy: 0.8141 - val_loss: 0.0892 - val_categorical_crossentropy: 0.4443 - val_accuracy: 0.7600\n",
            "Epoch 88/125\n",
            "425/425 [==============================] - 1s 1ms/step - loss: 0.0874 - categorical_crossentropy: 0.4278 - accuracy: 0.8118 - val_loss: 0.0930 - val_categorical_crossentropy: 0.4472 - val_accuracy: 0.8267\n",
            "Epoch 89/125\n",
            "425/425 [==============================] - 0s 1ms/step - loss: 0.0864 - categorical_crossentropy: 0.4209 - accuracy: 0.8141 - val_loss: 0.0919 - val_categorical_crossentropy: 0.4816 - val_accuracy: 0.8267\n",
            "Epoch 90/125\n",
            "425/425 [==============================] - 0s 1ms/step - loss: 0.0877 - categorical_crossentropy: 0.4428 - accuracy: 0.8282 - val_loss: 0.0922 - val_categorical_crossentropy: 0.4526 - val_accuracy: 0.8400\n",
            "Epoch 91/125\n",
            "425/425 [==============================] - 0s 1ms/step - loss: 0.0876 - categorical_crossentropy: 0.4343 - accuracy: 0.8329 - val_loss: 0.0902 - val_categorical_crossentropy: 0.4417 - val_accuracy: 0.8133\n",
            "Epoch 92/125\n",
            "425/425 [==============================] - 1s 1ms/step - loss: 0.0878 - categorical_crossentropy: 0.4248 - accuracy: 0.8235 - val_loss: 0.0946 - val_categorical_crossentropy: 0.4507 - val_accuracy: 0.8133\n",
            "Epoch 93/125\n",
            "425/425 [==============================] - 0s 1ms/step - loss: 0.0855 - categorical_crossentropy: 0.4242 - accuracy: 0.8165 - val_loss: 0.1256 - val_categorical_crossentropy: 0.6298 - val_accuracy: 0.7067\n",
            "Epoch 94/125\n",
            "425/425 [==============================] - 1s 1ms/step - loss: 0.0868 - categorical_crossentropy: 0.4402 - accuracy: 0.8188 - val_loss: 0.0888 - val_categorical_crossentropy: 0.5131 - val_accuracy: 0.8400\n",
            "Epoch 95/125\n",
            "425/425 [==============================] - 0s 1ms/step - loss: 0.0915 - categorical_crossentropy: 0.4492 - accuracy: 0.8071 - val_loss: 0.0948 - val_categorical_crossentropy: 0.4964 - val_accuracy: 0.7600\n",
            "Epoch 96/125\n",
            "425/425 [==============================] - 1s 1ms/step - loss: 0.0900 - categorical_crossentropy: 0.4441 - accuracy: 0.8141 - val_loss: 0.1044 - val_categorical_crossentropy: 0.5122 - val_accuracy: 0.7467\n",
            "Epoch 97/125\n",
            "425/425 [==============================] - 0s 1ms/step - loss: 0.0862 - categorical_crossentropy: 0.4258 - accuracy: 0.8306 - val_loss: 0.0898 - val_categorical_crossentropy: 0.4901 - val_accuracy: 0.8267\n",
            "Epoch 98/125\n",
            "425/425 [==============================] - 0s 1ms/step - loss: 0.0887 - categorical_crossentropy: 0.4439 - accuracy: 0.8235 - val_loss: 0.0942 - val_categorical_crossentropy: 0.4683 - val_accuracy: 0.7733\n",
            "Epoch 99/125\n",
            "425/425 [==============================] - 0s 1ms/step - loss: 0.0872 - categorical_crossentropy: 0.4215 - accuracy: 0.8165 - val_loss: 0.0877 - val_categorical_crossentropy: 0.4544 - val_accuracy: 0.7867\n",
            "Epoch 100/125\n",
            "425/425 [==============================] - 1s 1ms/step - loss: 0.0865 - categorical_crossentropy: 0.4337 - accuracy: 0.8329 - val_loss: 0.0901 - val_categorical_crossentropy: 0.4414 - val_accuracy: 0.7733\n",
            "Epoch 101/125\n",
            "425/425 [==============================] - 0s 1ms/step - loss: 0.0868 - categorical_crossentropy: 0.4315 - accuracy: 0.8212 - val_loss: 0.0870 - val_categorical_crossentropy: 0.4399 - val_accuracy: 0.8133\n",
            "Epoch 102/125\n",
            "425/425 [==============================] - 1s 1ms/step - loss: 0.0875 - categorical_crossentropy: 0.4368 - accuracy: 0.8329 - val_loss: 0.0939 - val_categorical_crossentropy: 0.4786 - val_accuracy: 0.7867\n",
            "Epoch 103/125\n",
            "425/425 [==============================] - 1s 1ms/step - loss: 0.0896 - categorical_crossentropy: 0.4546 - accuracy: 0.8165 - val_loss: 0.0962 - val_categorical_crossentropy: 0.4684 - val_accuracy: 0.7733\n",
            "Epoch 104/125\n",
            "425/425 [==============================] - 1s 1ms/step - loss: 0.0867 - categorical_crossentropy: 0.4250 - accuracy: 0.8306 - val_loss: 0.0892 - val_categorical_crossentropy: 0.4430 - val_accuracy: 0.8000\n",
            "Epoch 105/125\n",
            "425/425 [==============================] - 1s 1ms/step - loss: 0.0851 - categorical_crossentropy: 0.4151 - accuracy: 0.8212 - val_loss: 0.0895 - val_categorical_crossentropy: 0.4366 - val_accuracy: 0.8133\n",
            "Epoch 106/125\n",
            "425/425 [==============================] - 1s 1ms/step - loss: 0.0872 - categorical_crossentropy: 0.4354 - accuracy: 0.8212 - val_loss: 0.0974 - val_categorical_crossentropy: 0.4803 - val_accuracy: 0.7600\n",
            "Epoch 107/125\n",
            "425/425 [==============================] - 1s 1ms/step - loss: 0.0878 - categorical_crossentropy: 0.4366 - accuracy: 0.8212 - val_loss: 0.0961 - val_categorical_crossentropy: 0.5791 - val_accuracy: 0.8133\n",
            "Epoch 108/125\n",
            "425/425 [==============================] - 1s 1ms/step - loss: 0.0860 - categorical_crossentropy: 0.4354 - accuracy: 0.8306 - val_loss: 0.1034 - val_categorical_crossentropy: 0.5215 - val_accuracy: 0.7467\n",
            "Epoch 109/125\n",
            "425/425 [==============================] - 1s 1ms/step - loss: 0.0857 - categorical_crossentropy: 0.4268 - accuracy: 0.8306 - val_loss: 0.0914 - val_categorical_crossentropy: 0.4561 - val_accuracy: 0.7733\n",
            "Epoch 110/125\n",
            "425/425 [==============================] - 1s 1ms/step - loss: 0.0851 - categorical_crossentropy: 0.4198 - accuracy: 0.8306 - val_loss: 0.0882 - val_categorical_crossentropy: 0.4359 - val_accuracy: 0.8000\n",
            "Epoch 111/125\n",
            "425/425 [==============================] - 1s 1ms/step - loss: 0.0842 - categorical_crossentropy: 0.4179 - accuracy: 0.8259 - val_loss: 0.0887 - val_categorical_crossentropy: 0.4602 - val_accuracy: 0.8267\n",
            "Epoch 112/125\n",
            "425/425 [==============================] - 1s 1ms/step - loss: 0.0869 - categorical_crossentropy: 0.4334 - accuracy: 0.8329 - val_loss: 0.0924 - val_categorical_crossentropy: 0.4594 - val_accuracy: 0.8267\n",
            "Epoch 113/125\n",
            "425/425 [==============================] - 0s 1ms/step - loss: 0.0849 - categorical_crossentropy: 0.4295 - accuracy: 0.8353 - val_loss: 0.1148 - val_categorical_crossentropy: 0.5418 - val_accuracy: 0.7200\n",
            "Epoch 114/125\n",
            "425/425 [==============================] - 1s 1ms/step - loss: 0.0841 - categorical_crossentropy: 0.4217 - accuracy: 0.8329 - val_loss: 0.0976 - val_categorical_crossentropy: 0.4752 - val_accuracy: 0.7867\n",
            "Epoch 115/125\n",
            "425/425 [==============================] - 1s 1ms/step - loss: 0.0855 - categorical_crossentropy: 0.4348 - accuracy: 0.8306 - val_loss: 0.0907 - val_categorical_crossentropy: 0.4384 - val_accuracy: 0.8267\n",
            "Epoch 116/125\n",
            "425/425 [==============================] - 1s 1ms/step - loss: 0.0860 - categorical_crossentropy: 0.4320 - accuracy: 0.8376 - val_loss: 0.0909 - val_categorical_crossentropy: 0.5091 - val_accuracy: 0.8400\n",
            "Epoch 117/125\n",
            "425/425 [==============================] - 1s 1ms/step - loss: 0.0887 - categorical_crossentropy: 0.4511 - accuracy: 0.8235 - val_loss: 0.0915 - val_categorical_crossentropy: 0.4662 - val_accuracy: 0.7867\n",
            "Epoch 118/125\n",
            "425/425 [==============================] - 1s 1ms/step - loss: 0.0846 - categorical_crossentropy: 0.4202 - accuracy: 0.8259 - val_loss: 0.0915 - val_categorical_crossentropy: 0.4538 - val_accuracy: 0.7733\n",
            "Epoch 119/125\n",
            "425/425 [==============================] - 1s 1ms/step - loss: 0.0842 - categorical_crossentropy: 0.4304 - accuracy: 0.8235 - val_loss: 0.0984 - val_categorical_crossentropy: 0.4723 - val_accuracy: 0.8267\n",
            "Epoch 120/125\n",
            "425/425 [==============================] - 0s 1ms/step - loss: 0.0892 - categorical_crossentropy: 0.4418 - accuracy: 0.8188 - val_loss: 0.0927 - val_categorical_crossentropy: 0.5227 - val_accuracy: 0.8000\n",
            "Epoch 121/125\n",
            "425/425 [==============================] - 1s 1ms/step - loss: 0.0866 - categorical_crossentropy: 0.4319 - accuracy: 0.8306 - val_loss: 0.0924 - val_categorical_crossentropy: 0.5252 - val_accuracy: 0.8267\n",
            "Epoch 122/125\n",
            "425/425 [==============================] - 1s 1ms/step - loss: 0.0841 - categorical_crossentropy: 0.4301 - accuracy: 0.8235 - val_loss: 0.0877 - val_categorical_crossentropy: 0.4605 - val_accuracy: 0.7600\n",
            "Epoch 123/125\n",
            "425/425 [==============================] - 0s 1ms/step - loss: 0.0893 - categorical_crossentropy: 0.4456 - accuracy: 0.8306 - val_loss: 0.0909 - val_categorical_crossentropy: 0.4744 - val_accuracy: 0.7600\n",
            "Epoch 124/125\n",
            "425/425 [==============================] - 0s 1ms/step - loss: 0.0894 - categorical_crossentropy: 0.4398 - accuracy: 0.8047 - val_loss: 0.0915 - val_categorical_crossentropy: 0.4776 - val_accuracy: 0.7467\n",
            "Epoch 125/125\n",
            "425/425 [==============================] - 1s 1ms/step - loss: 0.0886 - categorical_crossentropy: 0.4364 - accuracy: 0.8212 - val_loss: 0.0897 - val_categorical_crossentropy: 0.4421 - val_accuracy: 0.8267\n",
            "16/16 - 0s - loss: 0.0902 - categorical_crossentropy: 0.4758 - accuracy: 0.8220 - 113ms/epoch - 7ms/step\n"
          ]
        },
        {
          "output_type": "display_data",
          "data": {
            "text/plain": [
              "<Figure size 432x288 with 1 Axes>"
            ],
            "image/png": "[encoded data removed]"
          },
          "metadata": {
            "needs_background": "light"
          }
        },
        {
          "output_type": "execute_result",
          "data": {
            "text/plain": [
              "<keras.callbacks.History at 0x7fdcdd136e10>"
            ]
          },
          "metadata": {},
          "execution_count": 65
        }
      ],
      "source": [
        "### Your answer\n",
        "fit_better_model(X_train, y_train, X_test, y_test, 1, 0.007)"
      ]
    },
    {
      "cell_type": "markdown",
      "id": "ca24463c-6d6d-4dce-b365-1e0a10cbb6b9",
      "metadata": {
        "tags": [],
        "id": "ca24463c-6d6d-4dce-b365-1e0a10cbb6b9"
      },
      "source": [
        "##### Size =  16"
      ]
    },
    {
      "cell_type": "markdown",
      "id": "c9d3f83a-edf8-4f61-a0fe-db3261ace6ab",
      "metadata": {
        "id": "c9d3f83a-edf8-4f61-a0fe-db3261ace6ab"
      },
      "source": [
        "10. **Retrain for 16 batch size**"
      ]
    },
    {
      "cell_type": "code",
      "execution_count": null,
      "id": "589fd6d3-6c4d-48ed-b5db-9e3d931725d0",
      "metadata": {
        "id": "589fd6d3-6c4d-48ed-b5db-9e3d931725d0",
        "colab": {
          "base_uri": "https://localhost:8080/",
          "height": 1000
        },
        "outputId": "22a5f71e-764d-4759-d926-dd4d79c53d67"
      },
      "outputs": [
        {
          "output_type": "stream",
          "name": "stdout",
          "text": [
            "Epoch 1/125\n",
            "27/27 [==============================] - 0s 6ms/step - loss: 0.2889 - categorical_crossentropy: 2.2242 - accuracy: 0.4047 - val_loss: 0.2361 - val_categorical_crossentropy: 2.2034 - val_accuracy: 0.5733\n",
            "Epoch 2/125\n",
            "27/27 [==============================] - 0s 2ms/step - loss: 0.2142 - categorical_crossentropy: 1.7000 - accuracy: 0.5388 - val_loss: 0.1591 - val_categorical_crossentropy: 0.8449 - val_accuracy: 0.5867\n",
            "Epoch 3/125\n",
            "27/27 [==============================] - 0s 2ms/step - loss: 0.1764 - categorical_crossentropy: 0.9381 - accuracy: 0.6071 - val_loss: 0.1538 - val_categorical_crossentropy: 0.8253 - val_accuracy: 0.6400\n",
            "Epoch 4/125\n",
            "27/27 [==============================] - 0s 2ms/step - loss: 0.1550 - categorical_crossentropy: 0.8180 - accuracy: 0.6424 - val_loss: 0.1331 - val_categorical_crossentropy: 0.6797 - val_accuracy: 0.6933\n",
            "Epoch 5/125\n",
            "27/27 [==============================] - 0s 2ms/step - loss: 0.1576 - categorical_crossentropy: 0.8150 - accuracy: 0.6518 - val_loss: 0.1790 - val_categorical_crossentropy: 0.8866 - val_accuracy: 0.6267\n",
            "Epoch 6/125\n",
            "27/27 [==============================] - 0s 2ms/step - loss: 0.1469 - categorical_crossentropy: 0.7601 - accuracy: 0.6635 - val_loss: 0.1349 - val_categorical_crossentropy: 0.6633 - val_accuracy: 0.6933\n",
            "Epoch 7/125\n",
            "27/27 [==============================] - 0s 2ms/step - loss: 0.1591 - categorical_crossentropy: 0.8903 - accuracy: 0.6706 - val_loss: 0.1441 - val_categorical_crossentropy: 0.6873 - val_accuracy: 0.6800\n",
            "Epoch 8/125\n",
            "27/27 [==============================] - 0s 2ms/step - loss: 0.1435 - categorical_crossentropy: 0.7258 - accuracy: 0.6659 - val_loss: 0.1294 - val_categorical_crossentropy: 0.6522 - val_accuracy: 0.7200\n",
            "Epoch 9/125\n",
            "27/27 [==============================] - 0s 2ms/step - loss: 0.1382 - categorical_crossentropy: 0.7170 - accuracy: 0.6965 - val_loss: 0.1359 - val_categorical_crossentropy: 0.6559 - val_accuracy: 0.6933\n",
            "Epoch 10/125\n",
            "27/27 [==============================] - 0s 2ms/step - loss: 0.1277 - categorical_crossentropy: 0.6687 - accuracy: 0.7082 - val_loss: 0.1137 - val_categorical_crossentropy: 0.5599 - val_accuracy: 0.7467\n",
            "Epoch 11/125\n",
            "27/27 [==============================] - 0s 2ms/step - loss: 0.1284 - categorical_crossentropy: 0.6499 - accuracy: 0.7153 - val_loss: 0.1266 - val_categorical_crossentropy: 0.6655 - val_accuracy: 0.7200\n",
            "Epoch 12/125\n",
            "27/27 [==============================] - 0s 2ms/step - loss: 0.1475 - categorical_crossentropy: 0.8547 - accuracy: 0.6518 - val_loss: 0.1174 - val_categorical_crossentropy: 0.6244 - val_accuracy: 0.7467\n",
            "Epoch 13/125\n",
            "27/27 [==============================] - 0s 2ms/step - loss: 0.1318 - categorical_crossentropy: 0.6826 - accuracy: 0.7059 - val_loss: 0.1020 - val_categorical_crossentropy: 0.5107 - val_accuracy: 0.7867\n",
            "Epoch 14/125\n",
            "27/27 [==============================] - 0s 3ms/step - loss: 0.1211 - categorical_crossentropy: 0.6148 - accuracy: 0.7365 - val_loss: 0.1004 - val_categorical_crossentropy: 0.5085 - val_accuracy: 0.8000\n",
            "Epoch 15/125\n",
            "27/27 [==============================] - 0s 2ms/step - loss: 0.1190 - categorical_crossentropy: 0.6013 - accuracy: 0.7247 - val_loss: 0.1078 - val_categorical_crossentropy: 0.5476 - val_accuracy: 0.7867\n",
            "Epoch 16/125\n",
            "27/27 [==============================] - 0s 2ms/step - loss: 0.1266 - categorical_crossentropy: 0.6519 - accuracy: 0.7365 - val_loss: 0.1274 - val_categorical_crossentropy: 0.6038 - val_accuracy: 0.7333\n",
            "Epoch 17/125\n",
            "27/27 [==============================] - 0s 2ms/step - loss: 0.1335 - categorical_crossentropy: 0.6867 - accuracy: 0.6965 - val_loss: 0.1596 - val_categorical_crossentropy: 0.7324 - val_accuracy: 0.6267\n",
            "Epoch 18/125\n",
            "27/27 [==============================] - 0s 2ms/step - loss: 0.1256 - categorical_crossentropy: 0.6676 - accuracy: 0.7318 - val_loss: 0.1035 - val_categorical_crossentropy: 0.5153 - val_accuracy: 0.7600\n",
            "Epoch 19/125\n",
            "27/27 [==============================] - 0s 2ms/step - loss: 0.1187 - categorical_crossentropy: 0.6108 - accuracy: 0.7341 - val_loss: 0.0942 - val_categorical_crossentropy: 0.4677 - val_accuracy: 0.7733\n",
            "Epoch 20/125\n",
            "27/27 [==============================] - 0s 2ms/step - loss: 0.1321 - categorical_crossentropy: 0.7022 - accuracy: 0.7176 - val_loss: 0.1020 - val_categorical_crossentropy: 0.4927 - val_accuracy: 0.7867\n",
            "Epoch 21/125\n",
            "27/27 [==============================] - 0s 2ms/step - loss: 0.1158 - categorical_crossentropy: 0.5875 - accuracy: 0.7553 - val_loss: 0.1138 - val_categorical_crossentropy: 0.5417 - val_accuracy: 0.7733\n",
            "Epoch 22/125\n",
            "27/27 [==============================] - 0s 2ms/step - loss: 0.1171 - categorical_crossentropy: 0.5900 - accuracy: 0.7271 - val_loss: 0.1058 - val_categorical_crossentropy: 0.5339 - val_accuracy: 0.7600\n",
            "Epoch 23/125\n",
            "27/27 [==============================] - 0s 2ms/step - loss: 0.1107 - categorical_crossentropy: 0.5732 - accuracy: 0.7835 - val_loss: 0.0952 - val_categorical_crossentropy: 0.4686 - val_accuracy: 0.8267\n",
            "Epoch 24/125\n",
            "27/27 [==============================] - 0s 2ms/step - loss: 0.1073 - categorical_crossentropy: 0.5539 - accuracy: 0.7718 - val_loss: 0.0945 - val_categorical_crossentropy: 0.4730 - val_accuracy: 0.7867\n",
            "Epoch 25/125\n",
            "27/27 [==============================] - 0s 2ms/step - loss: 0.1087 - categorical_crossentropy: 0.5464 - accuracy: 0.7788 - val_loss: 0.1012 - val_categorical_crossentropy: 0.5005 - val_accuracy: 0.7600\n",
            "Epoch 26/125\n",
            "27/27 [==============================] - 0s 3ms/step - loss: 0.1157 - categorical_crossentropy: 0.5868 - accuracy: 0.7576 - val_loss: 0.0922 - val_categorical_crossentropy: 0.4577 - val_accuracy: 0.8133\n",
            "Epoch 27/125\n",
            "27/27 [==============================] - 0s 2ms/step - loss: 0.1028 - categorical_crossentropy: 0.5202 - accuracy: 0.7765 - val_loss: 0.0965 - val_categorical_crossentropy: 0.4798 - val_accuracy: 0.7733\n",
            "Epoch 28/125\n",
            "27/27 [==============================] - 0s 2ms/step - loss: 0.1014 - categorical_crossentropy: 0.5261 - accuracy: 0.8000 - val_loss: 0.0890 - val_categorical_crossentropy: 0.4396 - val_accuracy: 0.8267\n",
            "Epoch 29/125\n",
            "27/27 [==============================] - 0s 2ms/step - loss: 0.1040 - categorical_crossentropy: 0.5310 - accuracy: 0.7812 - val_loss: 0.0915 - val_categorical_crossentropy: 0.4492 - val_accuracy: 0.8267\n",
            "Epoch 30/125\n",
            "27/27 [==============================] - 0s 2ms/step - loss: 0.1025 - categorical_crossentropy: 0.5181 - accuracy: 0.7929 - val_loss: 0.0932 - val_categorical_crossentropy: 0.4646 - val_accuracy: 0.8000\n",
            "Epoch 31/125\n",
            "27/27 [==============================] - 0s 2ms/step - loss: 0.1052 - categorical_crossentropy: 0.5238 - accuracy: 0.7835 - val_loss: 0.0962 - val_categorical_crossentropy: 0.4775 - val_accuracy: 0.8133\n",
            "Epoch 32/125\n",
            "27/27 [==============================] - 0s 2ms/step - loss: 0.1164 - categorical_crossentropy: 0.5870 - accuracy: 0.7506 - val_loss: 0.1000 - val_categorical_crossentropy: 0.5049 - val_accuracy: 0.7867\n",
            "Epoch 33/125\n",
            "27/27 [==============================] - 0s 2ms/step - loss: 0.1067 - categorical_crossentropy: 0.5363 - accuracy: 0.7741 - val_loss: 0.0879 - val_categorical_crossentropy: 0.4364 - val_accuracy: 0.8133\n",
            "Epoch 34/125\n",
            "27/27 [==============================] - 0s 2ms/step - loss: 0.1181 - categorical_crossentropy: 0.6032 - accuracy: 0.7365 - val_loss: 0.1087 - val_categorical_crossentropy: 0.5151 - val_accuracy: 0.7600\n",
            "Epoch 35/125\n",
            "27/27 [==============================] - 0s 2ms/step - loss: 0.1016 - categorical_crossentropy: 0.5088 - accuracy: 0.7953 - val_loss: 0.0992 - val_categorical_crossentropy: 0.4885 - val_accuracy: 0.8267\n",
            "Epoch 36/125\n",
            "27/27 [==============================] - 0s 2ms/step - loss: 0.0965 - categorical_crossentropy: 0.4846 - accuracy: 0.8000 - val_loss: 0.0915 - val_categorical_crossentropy: 0.4480 - val_accuracy: 0.8000\n",
            "Epoch 37/125\n",
            "27/27 [==============================] - 0s 2ms/step - loss: 0.1086 - categorical_crossentropy: 0.5499 - accuracy: 0.7600 - val_loss: 0.1145 - val_categorical_crossentropy: 0.5798 - val_accuracy: 0.7200\n",
            "Epoch 38/125\n",
            "27/27 [==============================] - 0s 2ms/step - loss: 0.1292 - categorical_crossentropy: 0.6660 - accuracy: 0.7318 - val_loss: 0.1211 - val_categorical_crossentropy: 0.6714 - val_accuracy: 0.7200\n",
            "Epoch 39/125\n",
            "27/27 [==============================] - 0s 2ms/step - loss: 0.1136 - categorical_crossentropy: 0.6230 - accuracy: 0.7600 - val_loss: 0.0878 - val_categorical_crossentropy: 0.4285 - val_accuracy: 0.8133\n",
            "Epoch 40/125\n",
            "27/27 [==============================] - 0s 3ms/step - loss: 0.0994 - categorical_crossentropy: 0.4960 - accuracy: 0.8000 - val_loss: 0.0865 - val_categorical_crossentropy: 0.4260 - val_accuracy: 0.8267\n",
            "Epoch 41/125\n",
            "27/27 [==============================] - 0s 3ms/step - loss: 0.1083 - categorical_crossentropy: 0.5424 - accuracy: 0.7600 - val_loss: 0.1093 - val_categorical_crossentropy: 0.5439 - val_accuracy: 0.7200\n",
            "Epoch 42/125\n",
            "27/27 [==============================] - 0s 3ms/step - loss: 0.1019 - categorical_crossentropy: 0.5051 - accuracy: 0.7882 - val_loss: 0.0908 - val_categorical_crossentropy: 0.4464 - val_accuracy: 0.8267\n",
            "Epoch 43/125\n",
            "27/27 [==============================] - 0s 2ms/step - loss: 0.1013 - categorical_crossentropy: 0.5111 - accuracy: 0.7953 - val_loss: 0.0941 - val_categorical_crossentropy: 0.4534 - val_accuracy: 0.8133\n",
            "Epoch 44/125\n",
            "27/27 [==============================] - 0s 2ms/step - loss: 0.0934 - categorical_crossentropy: 0.4636 - accuracy: 0.8094 - val_loss: 0.0862 - val_categorical_crossentropy: 0.4193 - val_accuracy: 0.8400\n",
            "Epoch 45/125\n",
            "27/27 [==============================] - 0s 2ms/step - loss: 0.0993 - categorical_crossentropy: 0.4921 - accuracy: 0.7835 - val_loss: 0.0884 - val_categorical_crossentropy: 0.4321 - val_accuracy: 0.8267\n",
            "Epoch 46/125\n",
            "27/27 [==============================] - 0s 2ms/step - loss: 0.1039 - categorical_crossentropy: 0.5147 - accuracy: 0.7929 - val_loss: 0.1191 - val_categorical_crossentropy: 0.6358 - val_accuracy: 0.7333\n",
            "Epoch 47/125\n",
            "27/27 [==============================] - 0s 2ms/step - loss: 0.1042 - categorical_crossentropy: 0.5318 - accuracy: 0.7953 - val_loss: 0.0909 - val_categorical_crossentropy: 0.4369 - val_accuracy: 0.8267\n",
            "Epoch 48/125\n",
            "27/27 [==============================] - 0s 2ms/step - loss: 0.1148 - categorical_crossentropy: 0.5996 - accuracy: 0.7694 - val_loss: 0.0922 - val_categorical_crossentropy: 0.4452 - val_accuracy: 0.8267\n",
            "Epoch 49/125\n",
            "27/27 [==============================] - 0s 2ms/step - loss: 0.0900 - categorical_crossentropy: 0.4499 - accuracy: 0.8212 - val_loss: 0.0844 - val_categorical_crossentropy: 0.4087 - val_accuracy: 0.8267\n",
            "Epoch 50/125\n",
            "27/27 [==============================] - 0s 2ms/step - loss: 0.0954 - categorical_crossentropy: 0.4712 - accuracy: 0.8047 - val_loss: 0.0942 - val_categorical_crossentropy: 0.4567 - val_accuracy: 0.8000\n",
            "Epoch 51/125\n",
            "27/27 [==============================] - 0s 2ms/step - loss: 0.0969 - categorical_crossentropy: 0.4770 - accuracy: 0.7976 - val_loss: 0.0880 - val_categorical_crossentropy: 0.4240 - val_accuracy: 0.8133\n",
            "Epoch 52/125\n",
            "27/27 [==============================] - 0s 2ms/step - loss: 0.0936 - categorical_crossentropy: 0.4710 - accuracy: 0.8118 - val_loss: 0.0855 - val_categorical_crossentropy: 0.4137 - val_accuracy: 0.8400\n",
            "Epoch 53/125\n",
            "27/27 [==============================] - 0s 2ms/step - loss: 0.0965 - categorical_crossentropy: 0.4722 - accuracy: 0.7976 - val_loss: 0.0888 - val_categorical_crossentropy: 0.4281 - val_accuracy: 0.8267\n",
            "Epoch 54/125\n",
            "27/27 [==============================] - 0s 2ms/step - loss: 0.0902 - categorical_crossentropy: 0.4492 - accuracy: 0.8047 - val_loss: 0.0941 - val_categorical_crossentropy: 0.4500 - val_accuracy: 0.7867\n",
            "Epoch 55/125\n",
            "27/27 [==============================] - 0s 2ms/step - loss: 0.1100 - categorical_crossentropy: 0.5439 - accuracy: 0.7859 - val_loss: 0.0930 - val_categorical_crossentropy: 0.4414 - val_accuracy: 0.8267\n",
            "Epoch 56/125\n",
            "27/27 [==============================] - 0s 2ms/step - loss: 0.0965 - categorical_crossentropy: 0.4825 - accuracy: 0.8047 - val_loss: 0.0980 - val_categorical_crossentropy: 0.4868 - val_accuracy: 0.8133\n",
            "Epoch 57/125\n",
            "27/27 [==============================] - 0s 3ms/step - loss: 0.0967 - categorical_crossentropy: 0.4655 - accuracy: 0.7976 - val_loss: 0.0851 - val_categorical_crossentropy: 0.4135 - val_accuracy: 0.8400\n",
            "Epoch 58/125\n",
            "27/27 [==============================] - 0s 2ms/step - loss: 0.0964 - categorical_crossentropy: 0.4759 - accuracy: 0.8047 - val_loss: 0.1223 - val_categorical_crossentropy: 0.6228 - val_accuracy: 0.6933\n",
            "Epoch 59/125\n",
            "27/27 [==============================] - 0s 2ms/step - loss: 0.0946 - categorical_crossentropy: 0.4656 - accuracy: 0.8071 - val_loss: 0.1001 - val_categorical_crossentropy: 0.5006 - val_accuracy: 0.7867\n",
            "Epoch 60/125\n",
            "27/27 [==============================] - 0s 3ms/step - loss: 0.1069 - categorical_crossentropy: 0.5555 - accuracy: 0.7788 - val_loss: 0.0898 - val_categorical_crossentropy: 0.4322 - val_accuracy: 0.8267\n",
            "Epoch 61/125\n",
            "27/27 [==============================] - 0s 2ms/step - loss: 0.0962 - categorical_crossentropy: 0.4727 - accuracy: 0.8094 - val_loss: 0.0884 - val_categorical_crossentropy: 0.4221 - val_accuracy: 0.8267\n",
            "Epoch 62/125\n",
            "27/27 [==============================] - 0s 2ms/step - loss: 0.0920 - categorical_crossentropy: 0.4470 - accuracy: 0.8306 - val_loss: 0.0880 - val_categorical_crossentropy: 0.4276 - val_accuracy: 0.8267\n",
            "Epoch 63/125\n",
            "27/27 [==============================] - 0s 2ms/step - loss: 0.0922 - categorical_crossentropy: 0.4468 - accuracy: 0.8118 - val_loss: 0.0855 - val_categorical_crossentropy: 0.4133 - val_accuracy: 0.8533\n",
            "Epoch 64/125\n",
            "27/27 [==============================] - 0s 2ms/step - loss: 0.0908 - categorical_crossentropy: 0.4429 - accuracy: 0.8165 - val_loss: 0.0843 - val_categorical_crossentropy: 0.4090 - val_accuracy: 0.8400\n",
            "Epoch 65/125\n",
            "27/27 [==============================] - 0s 2ms/step - loss: 0.0886 - categorical_crossentropy: 0.4410 - accuracy: 0.8212 - val_loss: 0.0933 - val_categorical_crossentropy: 0.4641 - val_accuracy: 0.7867\n",
            "Epoch 66/125\n",
            "27/27 [==============================] - 0s 2ms/step - loss: 0.0920 - categorical_crossentropy: 0.4523 - accuracy: 0.8212 - val_loss: 0.0883 - val_categorical_crossentropy: 0.4253 - val_accuracy: 0.8133\n",
            "Epoch 67/125\n",
            "27/27 [==============================] - 0s 2ms/step - loss: 0.0858 - categorical_crossentropy: 0.4215 - accuracy: 0.8259 - val_loss: 0.0956 - val_categorical_crossentropy: 0.4595 - val_accuracy: 0.7867\n",
            "Epoch 68/125\n",
            "27/27 [==============================] - 0s 2ms/step - loss: 0.1024 - categorical_crossentropy: 0.5032 - accuracy: 0.7976 - val_loss: 0.0893 - val_categorical_crossentropy: 0.4365 - val_accuracy: 0.8133\n",
            "Epoch 69/125\n",
            "27/27 [==============================] - 0s 2ms/step - loss: 0.0987 - categorical_crossentropy: 0.4828 - accuracy: 0.7929 - val_loss: 0.0858 - val_categorical_crossentropy: 0.4129 - val_accuracy: 0.8400\n",
            "Epoch 70/125\n",
            "27/27 [==============================] - 0s 2ms/step - loss: 0.0859 - categorical_crossentropy: 0.4178 - accuracy: 0.8212 - val_loss: 0.0890 - val_categorical_crossentropy: 0.4303 - val_accuracy: 0.8000\n",
            "Epoch 71/125\n",
            "27/27 [==============================] - 0s 2ms/step - loss: 0.0878 - categorical_crossentropy: 0.4224 - accuracy: 0.8212 - val_loss: 0.0885 - val_categorical_crossentropy: 0.4256 - val_accuracy: 0.7867\n",
            "Epoch 72/125\n",
            "27/27 [==============================] - 0s 2ms/step - loss: 0.0902 - categorical_crossentropy: 0.4368 - accuracy: 0.8165 - val_loss: 0.0893 - val_categorical_crossentropy: 0.4270 - val_accuracy: 0.8267\n",
            "Epoch 73/125\n",
            "27/27 [==============================] - 0s 2ms/step - loss: 0.0885 - categorical_crossentropy: 0.4301 - accuracy: 0.8165 - val_loss: 0.0915 - val_categorical_crossentropy: 0.4404 - val_accuracy: 0.7733\n",
            "Epoch 74/125\n",
            "27/27 [==============================] - 0s 2ms/step - loss: 0.0913 - categorical_crossentropy: 0.4572 - accuracy: 0.8188 - val_loss: 0.0885 - val_categorical_crossentropy: 0.4375 - val_accuracy: 0.8533\n",
            "Epoch 75/125\n",
            "27/27 [==============================] - 0s 2ms/step - loss: 0.0935 - categorical_crossentropy: 0.4499 - accuracy: 0.8094 - val_loss: 0.0891 - val_categorical_crossentropy: 0.4314 - val_accuracy: 0.8400\n",
            "Epoch 76/125\n",
            "27/27 [==============================] - 0s 2ms/step - loss: 0.0899 - categorical_crossentropy: 0.4352 - accuracy: 0.8188 - val_loss: 0.0883 - val_categorical_crossentropy: 0.4341 - val_accuracy: 0.8133\n",
            "Epoch 77/125\n",
            "27/27 [==============================] - 0s 2ms/step - loss: 0.0948 - categorical_crossentropy: 0.4672 - accuracy: 0.8141 - val_loss: 0.0874 - val_categorical_crossentropy: 0.4261 - val_accuracy: 0.8133\n",
            "Epoch 78/125\n",
            "27/27 [==============================] - 0s 2ms/step - loss: 0.0846 - categorical_crossentropy: 0.4136 - accuracy: 0.8259 - val_loss: 0.0875 - val_categorical_crossentropy: 0.4244 - val_accuracy: 0.8133\n",
            "Epoch 79/125\n",
            "27/27 [==============================] - 0s 2ms/step - loss: 0.0922 - categorical_crossentropy: 0.4527 - accuracy: 0.8165 - val_loss: 0.0880 - val_categorical_crossentropy: 0.4220 - val_accuracy: 0.8400\n",
            "Epoch 80/125\n",
            "27/27 [==============================] - 0s 2ms/step - loss: 0.1122 - categorical_crossentropy: 0.5660 - accuracy: 0.7553 - val_loss: 0.1067 - val_categorical_crossentropy: 0.5984 - val_accuracy: 0.8000\n",
            "Epoch 81/125\n",
            "27/27 [==============================] - 0s 2ms/step - loss: 0.0996 - categorical_crossentropy: 0.4877 - accuracy: 0.8024 - val_loss: 0.0980 - val_categorical_crossentropy: 0.4774 - val_accuracy: 0.7733\n",
            "Epoch 82/125\n",
            "27/27 [==============================] - 0s 2ms/step - loss: 0.0872 - categorical_crossentropy: 0.4198 - accuracy: 0.8235 - val_loss: 0.0879 - val_categorical_crossentropy: 0.4245 - val_accuracy: 0.8000\n",
            "Epoch 83/125\n",
            "27/27 [==============================] - 0s 2ms/step - loss: 0.0856 - categorical_crossentropy: 0.4171 - accuracy: 0.8235 - val_loss: 0.0908 - val_categorical_crossentropy: 0.4425 - val_accuracy: 0.8133\n",
            "Epoch 84/125\n",
            "27/27 [==============================] - 0s 2ms/step - loss: 0.0925 - categorical_crossentropy: 0.4486 - accuracy: 0.8141 - val_loss: 0.0947 - val_categorical_crossentropy: 0.4581 - val_accuracy: 0.8000\n",
            "Epoch 85/125\n",
            "27/27 [==============================] - 0s 2ms/step - loss: 0.0864 - categorical_crossentropy: 0.4175 - accuracy: 0.8188 - val_loss: 0.0970 - val_categorical_crossentropy: 0.4606 - val_accuracy: 0.8400\n",
            "Epoch 86/125\n",
            "27/27 [==============================] - 0s 3ms/step - loss: 0.0858 - categorical_crossentropy: 0.4205 - accuracy: 0.8306 - val_loss: 0.0910 - val_categorical_crossentropy: 0.4356 - val_accuracy: 0.8400\n",
            "Epoch 87/125\n",
            "27/27 [==============================] - 0s 2ms/step - loss: 0.0890 - categorical_crossentropy: 0.4331 - accuracy: 0.8212 - val_loss: 0.0902 - val_categorical_crossentropy: 0.4394 - val_accuracy: 0.7867\n",
            "Epoch 88/125\n",
            "27/27 [==============================] - 0s 2ms/step - loss: 0.0867 - categorical_crossentropy: 0.4213 - accuracy: 0.8188 - val_loss: 0.0880 - val_categorical_crossentropy: 0.4290 - val_accuracy: 0.8000\n",
            "Epoch 89/125\n",
            "27/27 [==============================] - 0s 2ms/step - loss: 0.0855 - categorical_crossentropy: 0.4144 - accuracy: 0.8259 - val_loss: 0.0881 - val_categorical_crossentropy: 0.4280 - val_accuracy: 0.7867\n",
            "Epoch 90/125\n",
            "27/27 [==============================] - 0s 2ms/step - loss: 0.0855 - categorical_crossentropy: 0.4210 - accuracy: 0.8376 - val_loss: 0.0868 - val_categorical_crossentropy: 0.4209 - val_accuracy: 0.8400\n",
            "Epoch 91/125\n",
            "27/27 [==============================] - 0s 2ms/step - loss: 0.0880 - categorical_crossentropy: 0.4234 - accuracy: 0.8165 - val_loss: 0.0975 - val_categorical_crossentropy: 0.4838 - val_accuracy: 0.8133\n",
            "Epoch 92/125\n",
            "27/27 [==============================] - 0s 2ms/step - loss: 0.0894 - categorical_crossentropy: 0.4368 - accuracy: 0.8141 - val_loss: 0.0993 - val_categorical_crossentropy: 0.4676 - val_accuracy: 0.8400\n",
            "Epoch 93/125\n",
            "27/27 [==============================] - 0s 2ms/step - loss: 0.0901 - categorical_crossentropy: 0.4428 - accuracy: 0.8141 - val_loss: 0.1031 - val_categorical_crossentropy: 0.4839 - val_accuracy: 0.8133\n",
            "Epoch 94/125\n",
            "27/27 [==============================] - 0s 2ms/step - loss: 0.0897 - categorical_crossentropy: 0.4359 - accuracy: 0.8188 - val_loss: 0.1013 - val_categorical_crossentropy: 0.4833 - val_accuracy: 0.7733\n",
            "Epoch 95/125\n",
            "27/27 [==============================] - 0s 2ms/step - loss: 0.0830 - categorical_crossentropy: 0.4103 - accuracy: 0.8376 - val_loss: 0.0944 - val_categorical_crossentropy: 0.4502 - val_accuracy: 0.8000\n",
            "Epoch 96/125\n",
            "27/27 [==============================] - 0s 2ms/step - loss: 0.0846 - categorical_crossentropy: 0.4114 - accuracy: 0.8235 - val_loss: 0.0900 - val_categorical_crossentropy: 0.4349 - val_accuracy: 0.8000\n",
            "Epoch 97/125\n",
            "27/27 [==============================] - 0s 2ms/step - loss: 0.0918 - categorical_crossentropy: 0.4493 - accuracy: 0.8024 - val_loss: 0.0864 - val_categorical_crossentropy: 0.4193 - val_accuracy: 0.8267\n",
            "Epoch 98/125\n",
            "27/27 [==============================] - 0s 2ms/step - loss: 0.0813 - categorical_crossentropy: 0.4065 - accuracy: 0.8471 - val_loss: 0.1128 - val_categorical_crossentropy: 0.5733 - val_accuracy: 0.7600\n",
            "Epoch 99/125\n",
            "27/27 [==============================] - 0s 2ms/step - loss: 0.0898 - categorical_crossentropy: 0.4258 - accuracy: 0.8071 - val_loss: 0.0878 - val_categorical_crossentropy: 0.4241 - val_accuracy: 0.8000\n",
            "Epoch 100/125\n",
            "27/27 [==============================] - 0s 2ms/step - loss: 0.0832 - categorical_crossentropy: 0.4038 - accuracy: 0.8259 - val_loss: 0.0891 - val_categorical_crossentropy: 0.4420 - val_accuracy: 0.8267\n",
            "Epoch 101/125\n",
            "27/27 [==============================] - 0s 2ms/step - loss: 0.0891 - categorical_crossentropy: 0.4351 - accuracy: 0.8188 - val_loss: 0.1043 - val_categorical_crossentropy: 0.5436 - val_accuracy: 0.7733\n",
            "Epoch 102/125\n",
            "27/27 [==============================] - 0s 2ms/step - loss: 0.1020 - categorical_crossentropy: 0.4947 - accuracy: 0.7859 - val_loss: 0.1156 - val_categorical_crossentropy: 0.5324 - val_accuracy: 0.7467\n",
            "Epoch 103/125\n",
            "27/27 [==============================] - 0s 2ms/step - loss: 0.0916 - categorical_crossentropy: 0.4381 - accuracy: 0.8047 - val_loss: 0.0949 - val_categorical_crossentropy: 0.4820 - val_accuracy: 0.8000\n",
            "Epoch 104/125\n",
            "27/27 [==============================] - 0s 3ms/step - loss: 0.0929 - categorical_crossentropy: 0.4521 - accuracy: 0.8141 - val_loss: 0.1021 - val_categorical_crossentropy: 0.5127 - val_accuracy: 0.7733\n",
            "Epoch 105/125\n",
            "27/27 [==============================] - 0s 2ms/step - loss: 0.0858 - categorical_crossentropy: 0.4163 - accuracy: 0.8306 - val_loss: 0.0914 - val_categorical_crossentropy: 0.4480 - val_accuracy: 0.8000\n",
            "Epoch 106/125\n",
            "27/27 [==============================] - 0s 3ms/step - loss: 0.0836 - categorical_crossentropy: 0.4050 - accuracy: 0.8282 - val_loss: 0.0927 - val_categorical_crossentropy: 0.4435 - val_accuracy: 0.8000\n",
            "Epoch 107/125\n",
            "27/27 [==============================] - 0s 2ms/step - loss: 0.0828 - categorical_crossentropy: 0.4094 - accuracy: 0.8306 - val_loss: 0.0882 - val_categorical_crossentropy: 0.4378 - val_accuracy: 0.8533\n",
            "Epoch 108/125\n",
            "27/27 [==============================] - 0s 2ms/step - loss: 0.0868 - categorical_crossentropy: 0.4159 - accuracy: 0.8165 - val_loss: 0.1029 - val_categorical_crossentropy: 0.4861 - val_accuracy: 0.7733\n",
            "Epoch 109/125\n",
            "27/27 [==============================] - 0s 2ms/step - loss: 0.0835 - categorical_crossentropy: 0.4121 - accuracy: 0.8400 - val_loss: 0.0899 - val_categorical_crossentropy: 0.4376 - val_accuracy: 0.8133\n",
            "Epoch 110/125\n",
            "27/27 [==============================] - 0s 3ms/step - loss: 0.0839 - categorical_crossentropy: 0.4061 - accuracy: 0.8329 - val_loss: 0.0884 - val_categorical_crossentropy: 0.4282 - val_accuracy: 0.8000\n",
            "Epoch 111/125\n",
            "27/27 [==============================] - 0s 2ms/step - loss: 0.0855 - categorical_crossentropy: 0.4179 - accuracy: 0.8259 - val_loss: 0.0916 - val_categorical_crossentropy: 0.4478 - val_accuracy: 0.8133\n",
            "Epoch 112/125\n",
            "27/27 [==============================] - 0s 2ms/step - loss: 0.0841 - categorical_crossentropy: 0.4034 - accuracy: 0.8212 - val_loss: 0.0928 - val_categorical_crossentropy: 0.4429 - val_accuracy: 0.8000\n",
            "Epoch 113/125\n",
            "27/27 [==============================] - 0s 2ms/step - loss: 0.0829 - categorical_crossentropy: 0.4043 - accuracy: 0.8235 - val_loss: 0.0883 - val_categorical_crossentropy: 0.4280 - val_accuracy: 0.8400\n",
            "Epoch 114/125\n",
            "27/27 [==============================] - 0s 3ms/step - loss: 0.0861 - categorical_crossentropy: 0.4179 - accuracy: 0.8282 - val_loss: 0.1001 - val_categorical_crossentropy: 0.4755 - val_accuracy: 0.7867\n",
            "Epoch 115/125\n",
            "27/27 [==============================] - 0s 2ms/step - loss: 0.0852 - categorical_crossentropy: 0.4092 - accuracy: 0.8259 - val_loss: 0.1012 - val_categorical_crossentropy: 0.5166 - val_accuracy: 0.7733\n",
            "Epoch 116/125\n",
            "27/27 [==============================] - 0s 2ms/step - loss: 0.0867 - categorical_crossentropy: 0.4146 - accuracy: 0.8212 - val_loss: 0.1058 - val_categorical_crossentropy: 0.4983 - val_accuracy: 0.7467\n",
            "Epoch 117/125\n",
            "27/27 [==============================] - 0s 2ms/step - loss: 0.0891 - categorical_crossentropy: 0.4265 - accuracy: 0.8094 - val_loss: 0.0938 - val_categorical_crossentropy: 0.4861 - val_accuracy: 0.8133\n",
            "Epoch 118/125\n",
            "27/27 [==============================] - 0s 2ms/step - loss: 0.0884 - categorical_crossentropy: 0.4238 - accuracy: 0.8188 - val_loss: 0.0915 - val_categorical_crossentropy: 0.4646 - val_accuracy: 0.8133\n",
            "Epoch 119/125\n",
            "27/27 [==============================] - 0s 2ms/step - loss: 0.0961 - categorical_crossentropy: 0.4565 - accuracy: 0.8024 - val_loss: 0.0921 - val_categorical_crossentropy: 0.4481 - val_accuracy: 0.7733\n",
            "Epoch 120/125\n",
            "27/27 [==============================] - 0s 2ms/step - loss: 0.0869 - categorical_crossentropy: 0.4262 - accuracy: 0.8259 - val_loss: 0.0907 - val_categorical_crossentropy: 0.4356 - val_accuracy: 0.8000\n",
            "Epoch 121/125\n",
            "27/27 [==============================] - 0s 2ms/step - loss: 0.0868 - categorical_crossentropy: 0.4216 - accuracy: 0.8235 - val_loss: 0.0919 - val_categorical_crossentropy: 0.4479 - val_accuracy: 0.7733\n",
            "Epoch 122/125\n",
            "27/27 [==============================] - 0s 2ms/step - loss: 0.0835 - categorical_crossentropy: 0.4036 - accuracy: 0.8165 - val_loss: 0.0938 - val_categorical_crossentropy: 0.4815 - val_accuracy: 0.8133\n",
            "Epoch 123/125\n",
            "27/27 [==============================] - 0s 2ms/step - loss: 0.0882 - categorical_crossentropy: 0.4253 - accuracy: 0.8188 - val_loss: 0.0951 - val_categorical_crossentropy: 0.4540 - val_accuracy: 0.7733\n",
            "Epoch 124/125\n",
            "27/27 [==============================] - 0s 2ms/step - loss: 0.0852 - categorical_crossentropy: 0.4131 - accuracy: 0.8282 - val_loss: 0.0933 - val_categorical_crossentropy: 0.4694 - val_accuracy: 0.7867\n",
            "Epoch 125/125\n",
            "27/27 [==============================] - 0s 2ms/step - loss: 0.0886 - categorical_crossentropy: 0.4205 - accuracy: 0.8118 - val_loss: 0.0870 - val_categorical_crossentropy: 0.4281 - val_accuracy: 0.8000\n",
            "16/16 - 0s - loss: 0.0829 - categorical_crossentropy: 0.4130 - accuracy: 0.8320 - 26ms/epoch - 2ms/step\n"
          ]
        },
        {
          "output_type": "display_data",
          "data": {
            "text/plain": [
              "<Figure size 432x288 with 1 Axes>"
            ],
            "image/png": "[encoded data removed]"
          },
          "metadata": {
            "needs_background": "light"
          }
        },
        {
          "output_type": "execute_result",
          "data": {
            "text/plain": [
              "<keras.callbacks.History at 0x7fdce8fc71d0>"
            ]
          },
          "metadata": {},
          "execution_count": 66
        }
      ],
      "source": [
        "### START CODE HERE ###\n",
        "fit_better_model(X_train, y_train, X_test, y_test, 16, 0.01)\n",
        "###### END CODE HERE"
      ]
    },
    {
      "cell_type": "code",
      "execution_count": null,
      "id": "be8533d7-34a0-4072-a9f3-600ddb9e58df",
      "metadata": {
        "tags": [],
        "id": "be8533d7-34a0-4072-a9f3-600ddb9e58df"
      },
      "outputs": [],
      "source": [
        "plt.figure(figsize=(10,5))\n",
        "plt.plot(history.history['loss'])\n",
        "plt.plot(history.history['val_loss'])\n",
        "plt.title('Loss vs. epochs, batch=' +str(batch_size))\n",
        "plt.ylabel('Loss')\n",
        "plt.xlabel('Epoch')\n",
        "plt.legend(['Training', 'Validation'], loc='upper right')\n",
        "plt.show()"
      ]
    },
    {
      "cell_type": "markdown",
      "id": "a7c4cd41-4aa3-4a8e-a6bb-3c7862c25787",
      "metadata": {
        "id": "a7c4cd41-4aa3-4a8e-a6bb-3c7862c25787"
      },
      "source": [
        "##### Size =  128"
      ]
    },
    {
      "cell_type": "markdown",
      "id": "55ae315d-ccfd-42aa-9e02-b2ba042756ec",
      "metadata": {
        "id": "55ae315d-ccfd-42aa-9e02-b2ba042756ec"
      },
      "source": [
        "10. **Retrain for 128 batch size**"
      ]
    },
    {
      "cell_type": "code",
      "execution_count": null,
      "id": "220b57cc-c220-424f-b3df-25eff109f718",
      "metadata": {
        "id": "220b57cc-c220-424f-b3df-25eff109f718",
        "colab": {
          "base_uri": "https://localhost:8080/",
          "height": 1000
        },
        "outputId": "c7effac0-e493-451b-c1d4-ec04ab1f7c41"
      },
      "outputs": [
        {
          "output_type": "stream",
          "name": "stdout",
          "text": [
            "Epoch 1/125\n",
            "4/4 [==============================] - 0s 43ms/step - loss: 0.3839 - categorical_crossentropy: 3.1026 - accuracy: 0.2800 - val_loss: 0.3042 - val_categorical_crossentropy: 2.5200 - val_accuracy: 0.4267\n",
            "Epoch 2/125\n",
            "4/4 [==============================] - 0s 9ms/step - loss: 0.3527 - categorical_crossentropy: 3.3087 - accuracy: 0.3506 - val_loss: 0.3034 - val_categorical_crossentropy: 2.9174 - val_accuracy: 0.4267\n",
            "Epoch 3/125\n",
            "4/4 [==============================] - 0s 7ms/step - loss: 0.3596 - categorical_crossentropy: 3.5635 - accuracy: 0.3482 - val_loss: 0.2953 - val_categorical_crossentropy: 2.8337 - val_accuracy: 0.5067\n",
            "Epoch 4/125\n",
            "4/4 [==============================] - 0s 7ms/step - loss: 0.3468 - categorical_crossentropy: 3.2669 - accuracy: 0.3882 - val_loss: 0.2707 - val_categorical_crossentropy: 2.2825 - val_accuracy: 0.5200\n",
            "Epoch 5/125\n",
            "4/4 [==============================] - 0s 7ms/step - loss: 0.3112 - categorical_crossentropy: 2.5154 - accuracy: 0.4188 - val_loss: 0.2412 - val_categorical_crossentropy: 1.5782 - val_accuracy: 0.5200\n",
            "Epoch 6/125\n",
            "4/4 [==============================] - 0s 7ms/step - loss: 0.3004 - categorical_crossentropy: 1.8947 - accuracy: 0.3953 - val_loss: 0.2252 - val_categorical_crossentropy: 1.3487 - val_accuracy: 0.5467\n",
            "Epoch 7/125\n",
            "4/4 [==============================] - 0s 8ms/step - loss: 0.2712 - categorical_crossentropy: 1.7276 - accuracy: 0.4635 - val_loss: 0.2277 - val_categorical_crossentropy: 1.3953 - val_accuracy: 0.5600\n",
            "Epoch 8/125\n",
            "4/4 [==============================] - 0s 8ms/step - loss: 0.2428 - categorical_crossentropy: 1.4444 - accuracy: 0.5012 - val_loss: 0.2179 - val_categorical_crossentropy: 1.0748 - val_accuracy: 0.4400\n",
            "Epoch 9/125\n",
            "4/4 [==============================] - 0s 13ms/step - loss: 0.1937 - categorical_crossentropy: 1.0060 - accuracy: 0.4894 - val_loss: 0.1750 - val_categorical_crossentropy: 0.9438 - val_accuracy: 0.5467\n",
            "Epoch 10/125\n",
            "4/4 [==============================] - 0s 7ms/step - loss: 0.1668 - categorical_crossentropy: 0.9302 - accuracy: 0.6118 - val_loss: 0.1769 - val_categorical_crossentropy: 0.9688 - val_accuracy: 0.5733\n",
            "Epoch 11/125\n",
            "4/4 [==============================] - 0s 7ms/step - loss: 0.1638 - categorical_crossentropy: 0.9394 - accuracy: 0.6471 - val_loss: 0.1708 - val_categorical_crossentropy: 0.9707 - val_accuracy: 0.6400\n",
            "Epoch 12/125\n",
            "4/4 [==============================] - 0s 8ms/step - loss: 0.1688 - categorical_crossentropy: 0.9882 - accuracy: 0.6329 - val_loss: 0.1698 - val_categorical_crossentropy: 0.9416 - val_accuracy: 0.6400\n",
            "Epoch 13/125\n",
            "4/4 [==============================] - 0s 13ms/step - loss: 0.1655 - categorical_crossentropy: 0.9635 - accuracy: 0.6471 - val_loss: 0.1768 - val_categorical_crossentropy: 0.9488 - val_accuracy: 0.6000\n",
            "Epoch 14/125\n",
            "4/4 [==============================] - 0s 7ms/step - loss: 0.1654 - categorical_crossentropy: 0.9681 - accuracy: 0.6424 - val_loss: 0.1716 - val_categorical_crossentropy: 0.9736 - val_accuracy: 0.6267\n",
            "Epoch 15/125\n",
            "4/4 [==============================] - 0s 7ms/step - loss: 0.1612 - categorical_crossentropy: 0.9732 - accuracy: 0.6659 - val_loss: 0.1720 - val_categorical_crossentropy: 0.9989 - val_accuracy: 0.6400\n",
            "Epoch 16/125\n",
            "4/4 [==============================] - 0s 7ms/step - loss: 0.1603 - categorical_crossentropy: 0.9746 - accuracy: 0.6588 - val_loss: 0.1681 - val_categorical_crossentropy: 0.9629 - val_accuracy: 0.6533\n",
            "Epoch 17/125\n",
            "4/4 [==============================] - 0s 7ms/step - loss: 0.1581 - categorical_crossentropy: 0.9353 - accuracy: 0.6635 - val_loss: 0.1643 - val_categorical_crossentropy: 0.8951 - val_accuracy: 0.6267\n",
            "Epoch 18/125\n",
            "4/4 [==============================] - 0s 7ms/step - loss: 0.1546 - categorical_crossentropy: 0.8798 - accuracy: 0.6565 - val_loss: 0.1560 - val_categorical_crossentropy: 0.8214 - val_accuracy: 0.6933\n",
            "Epoch 19/125\n",
            "4/4 [==============================] - 0s 7ms/step - loss: 0.1573 - categorical_crossentropy: 0.8553 - accuracy: 0.6400 - val_loss: 0.1495 - val_categorical_crossentropy: 0.7616 - val_accuracy: 0.6933\n",
            "Epoch 20/125\n",
            "4/4 [==============================] - 0s 13ms/step - loss: 0.1505 - categorical_crossentropy: 0.8044 - accuracy: 0.6565 - val_loss: 0.1422 - val_categorical_crossentropy: 0.7232 - val_accuracy: 0.6933\n",
            "Epoch 21/125\n",
            "4/4 [==============================] - 0s 8ms/step - loss: 0.1477 - categorical_crossentropy: 0.7803 - accuracy: 0.6494 - val_loss: 0.1419 - val_categorical_crossentropy: 0.7206 - val_accuracy: 0.7067\n",
            "Epoch 22/125\n",
            "4/4 [==============================] - 0s 8ms/step - loss: 0.1426 - categorical_crossentropy: 0.7593 - accuracy: 0.6541 - val_loss: 0.1379 - val_categorical_crossentropy: 0.7005 - val_accuracy: 0.6533\n",
            "Epoch 23/125\n",
            "4/4 [==============================] - 0s 8ms/step - loss: 0.1437 - categorical_crossentropy: 0.7614 - accuracy: 0.6471 - val_loss: 0.1345 - val_categorical_crossentropy: 0.6927 - val_accuracy: 0.6667\n",
            "Epoch 24/125\n",
            "4/4 [==============================] - 0s 10ms/step - loss: 0.1416 - categorical_crossentropy: 0.7509 - accuracy: 0.6447 - val_loss: 0.1353 - val_categorical_crossentropy: 0.6954 - val_accuracy: 0.7333\n",
            "Epoch 25/125\n",
            "4/4 [==============================] - 0s 9ms/step - loss: 0.1421 - categorical_crossentropy: 0.7496 - accuracy: 0.6635 - val_loss: 0.1300 - val_categorical_crossentropy: 0.6684 - val_accuracy: 0.7200\n",
            "Epoch 26/125\n",
            "4/4 [==============================] - 0s 8ms/step - loss: 0.1433 - categorical_crossentropy: 0.7497 - accuracy: 0.6565 - val_loss: 0.1324 - val_categorical_crossentropy: 0.6723 - val_accuracy: 0.6933\n",
            "Epoch 27/125\n",
            "4/4 [==============================] - 0s 8ms/step - loss: 0.1392 - categorical_crossentropy: 0.7344 - accuracy: 0.6776 - val_loss: 0.1349 - val_categorical_crossentropy: 0.6790 - val_accuracy: 0.6933\n",
            "Epoch 28/125\n",
            "4/4 [==============================] - 0s 8ms/step - loss: 0.1416 - categorical_crossentropy: 0.7355 - accuracy: 0.6518 - val_loss: 0.1493 - val_categorical_crossentropy: 0.7320 - val_accuracy: 0.6667\n",
            "Epoch 29/125\n",
            "4/4 [==============================] - 0s 8ms/step - loss: 0.1395 - categorical_crossentropy: 0.7330 - accuracy: 0.6776 - val_loss: 0.1376 - val_categorical_crossentropy: 0.6841 - val_accuracy: 0.6800\n",
            "Epoch 30/125\n",
            "4/4 [==============================] - 0s 9ms/step - loss: 0.1413 - categorical_crossentropy: 0.7297 - accuracy: 0.6612 - val_loss: 0.1357 - val_categorical_crossentropy: 0.6768 - val_accuracy: 0.7067\n",
            "Epoch 31/125\n",
            "4/4 [==============================] - 0s 8ms/step - loss: 0.1378 - categorical_crossentropy: 0.7160 - accuracy: 0.6635 - val_loss: 0.1268 - val_categorical_crossentropy: 0.6403 - val_accuracy: 0.7067\n",
            "Epoch 32/125\n",
            "4/4 [==============================] - 0s 8ms/step - loss: 0.1363 - categorical_crossentropy: 0.7135 - accuracy: 0.6894 - val_loss: 0.1363 - val_categorical_crossentropy: 0.6679 - val_accuracy: 0.6667\n",
            "Epoch 33/125\n",
            "4/4 [==============================] - 0s 14ms/step - loss: 0.1435 - categorical_crossentropy: 0.7249 - accuracy: 0.6447 - val_loss: 0.1708 - val_categorical_crossentropy: 0.7912 - val_accuracy: 0.5067\n",
            "Epoch 34/125\n",
            "4/4 [==============================] - 0s 8ms/step - loss: 0.1456 - categorical_crossentropy: 0.7347 - accuracy: 0.6494 - val_loss: 0.1363 - val_categorical_crossentropy: 0.6725 - val_accuracy: 0.6800\n",
            "Epoch 35/125\n",
            "4/4 [==============================] - 0s 7ms/step - loss: 0.1388 - categorical_crossentropy: 0.7147 - accuracy: 0.6729 - val_loss: 0.1292 - val_categorical_crossentropy: 0.6440 - val_accuracy: 0.7067\n",
            "Epoch 36/125\n",
            "4/4 [==============================] - 0s 7ms/step - loss: 0.1365 - categorical_crossentropy: 0.7032 - accuracy: 0.6729 - val_loss: 0.1247 - val_categorical_crossentropy: 0.6231 - val_accuracy: 0.7200\n",
            "Epoch 37/125\n",
            "4/4 [==============================] - 0s 7ms/step - loss: 0.1336 - categorical_crossentropy: 0.6937 - accuracy: 0.6682 - val_loss: 0.1293 - val_categorical_crossentropy: 0.6410 - val_accuracy: 0.7067\n",
            "Epoch 38/125\n",
            "4/4 [==============================] - 0s 7ms/step - loss: 0.1499 - categorical_crossentropy: 0.7575 - accuracy: 0.6494 - val_loss: 0.1320 - val_categorical_crossentropy: 0.6557 - val_accuracy: 0.6800\n",
            "Epoch 39/125\n",
            "4/4 [==============================] - 0s 7ms/step - loss: 0.1355 - categorical_crossentropy: 0.7025 - accuracy: 0.6918 - val_loss: 0.1208 - val_categorical_crossentropy: 0.6085 - val_accuracy: 0.7200\n",
            "Epoch 40/125\n",
            "4/4 [==============================] - 0s 8ms/step - loss: 0.1336 - categorical_crossentropy: 0.6818 - accuracy: 0.6612 - val_loss: 0.1188 - val_categorical_crossentropy: 0.5980 - val_accuracy: 0.7600\n",
            "Epoch 41/125\n",
            "4/4 [==============================] - 0s 8ms/step - loss: 0.1315 - categorical_crossentropy: 0.6818 - accuracy: 0.6800 - val_loss: 0.1185 - val_categorical_crossentropy: 0.5991 - val_accuracy: 0.7600\n",
            "Epoch 42/125\n",
            "4/4 [==============================] - 0s 9ms/step - loss: 0.1289 - categorical_crossentropy: 0.6696 - accuracy: 0.7153 - val_loss: 0.1218 - val_categorical_crossentropy: 0.6032 - val_accuracy: 0.7067\n",
            "Epoch 43/125\n",
            "4/4 [==============================] - 0s 8ms/step - loss: 0.1306 - categorical_crossentropy: 0.6741 - accuracy: 0.6706 - val_loss: 0.1239 - val_categorical_crossentropy: 0.6239 - val_accuracy: 0.7467\n",
            "Epoch 44/125\n",
            "4/4 [==============================] - 0s 7ms/step - loss: 0.1278 - categorical_crossentropy: 0.6695 - accuracy: 0.6894 - val_loss: 0.1187 - val_categorical_crossentropy: 0.5985 - val_accuracy: 0.7200\n",
            "Epoch 45/125\n",
            "4/4 [==============================] - 0s 7ms/step - loss: 0.1265 - categorical_crossentropy: 0.6622 - accuracy: 0.7106 - val_loss: 0.1157 - val_categorical_crossentropy: 0.5841 - val_accuracy: 0.7600\n",
            "Epoch 46/125\n",
            "4/4 [==============================] - 0s 7ms/step - loss: 0.1278 - categorical_crossentropy: 0.6638 - accuracy: 0.7200 - val_loss: 0.1149 - val_categorical_crossentropy: 0.5723 - val_accuracy: 0.7333\n",
            "Epoch 47/125\n",
            "4/4 [==============================] - 0s 7ms/step - loss: 0.1276 - categorical_crossentropy: 0.6548 - accuracy: 0.6753 - val_loss: 0.1365 - val_categorical_crossentropy: 0.6542 - val_accuracy: 0.7600\n",
            "Epoch 48/125\n",
            "4/4 [==============================] - 0s 6ms/step - loss: 0.1346 - categorical_crossentropy: 0.6825 - accuracy: 0.6800 - val_loss: 0.1192 - val_categorical_crossentropy: 0.5947 - val_accuracy: 0.7200\n",
            "Epoch 49/125\n",
            "4/4 [==============================] - 0s 13ms/step - loss: 0.1308 - categorical_crossentropy: 0.6815 - accuracy: 0.7082 - val_loss: 0.1232 - val_categorical_crossentropy: 0.6140 - val_accuracy: 0.6800\n",
            "Epoch 50/125\n",
            "4/4 [==============================] - 0s 8ms/step - loss: 0.1330 - categorical_crossentropy: 0.6782 - accuracy: 0.6588 - val_loss: 0.1140 - val_categorical_crossentropy: 0.5785 - val_accuracy: 0.7600\n",
            "Epoch 51/125\n",
            "4/4 [==============================] - 0s 7ms/step - loss: 0.1268 - categorical_crossentropy: 0.6612 - accuracy: 0.7271 - val_loss: 0.1161 - val_categorical_crossentropy: 0.5757 - val_accuracy: 0.7200\n",
            "Epoch 52/125\n",
            "4/4 [==============================] - 0s 7ms/step - loss: 0.1289 - categorical_crossentropy: 0.6519 - accuracy: 0.6682 - val_loss: 0.1165 - val_categorical_crossentropy: 0.5849 - val_accuracy: 0.8000\n",
            "Epoch 53/125\n",
            "4/4 [==============================] - 0s 13ms/step - loss: 0.1257 - categorical_crossentropy: 0.6496 - accuracy: 0.7106 - val_loss: 0.1141 - val_categorical_crossentropy: 0.5779 - val_accuracy: 0.7333\n",
            "Epoch 54/125\n",
            "4/4 [==============================] - 0s 7ms/step - loss: 0.1260 - categorical_crossentropy: 0.6638 - accuracy: 0.7224 - val_loss: 0.1185 - val_categorical_crossentropy: 0.5949 - val_accuracy: 0.7200\n",
            "Epoch 55/125\n",
            "4/4 [==============================] - 0s 7ms/step - loss: 0.1266 - categorical_crossentropy: 0.6516 - accuracy: 0.6753 - val_loss: 0.1138 - val_categorical_crossentropy: 0.5772 - val_accuracy: 0.7733\n",
            "Epoch 56/125\n",
            "4/4 [==============================] - 0s 7ms/step - loss: 0.1240 - categorical_crossentropy: 0.6426 - accuracy: 0.7247 - val_loss: 0.1107 - val_categorical_crossentropy: 0.5522 - val_accuracy: 0.7600\n",
            "Epoch 57/125\n",
            "4/4 [==============================] - 0s 7ms/step - loss: 0.1243 - categorical_crossentropy: 0.6361 - accuracy: 0.7082 - val_loss: 0.1151 - val_categorical_crossentropy: 0.5806 - val_accuracy: 0.8000\n",
            "Epoch 58/125\n",
            "4/4 [==============================] - 0s 7ms/step - loss: 0.1235 - categorical_crossentropy: 0.6400 - accuracy: 0.7271 - val_loss: 0.1120 - val_categorical_crossentropy: 0.5664 - val_accuracy: 0.7467\n",
            "Epoch 59/125\n",
            "4/4 [==============================] - 0s 8ms/step - loss: 0.1219 - categorical_crossentropy: 0.6366 - accuracy: 0.7176 - val_loss: 0.1162 - val_categorical_crossentropy: 0.5900 - val_accuracy: 0.7467\n",
            "Epoch 60/125\n",
            "4/4 [==============================] - 0s 14ms/step - loss: 0.1253 - categorical_crossentropy: 0.6475 - accuracy: 0.7059 - val_loss: 0.1121 - val_categorical_crossentropy: 0.5717 - val_accuracy: 0.7600\n",
            "Epoch 61/125\n",
            "4/4 [==============================] - 0s 7ms/step - loss: 0.1222 - categorical_crossentropy: 0.6421 - accuracy: 0.7506 - val_loss: 0.1081 - val_categorical_crossentropy: 0.5514 - val_accuracy: 0.7600\n",
            "Epoch 62/125\n",
            "4/4 [==============================] - 0s 7ms/step - loss: 0.1203 - categorical_crossentropy: 0.6258 - accuracy: 0.7200 - val_loss: 0.1093 - val_categorical_crossentropy: 0.5583 - val_accuracy: 0.7867\n",
            "Epoch 63/125\n",
            "4/4 [==============================] - 0s 8ms/step - loss: 0.1214 - categorical_crossentropy: 0.6313 - accuracy: 0.7271 - val_loss: 0.1076 - val_categorical_crossentropy: 0.5496 - val_accuracy: 0.7867\n",
            "Epoch 64/125\n",
            "4/4 [==============================] - 0s 8ms/step - loss: 0.1196 - categorical_crossentropy: 0.6268 - accuracy: 0.7318 - val_loss: 0.1126 - val_categorical_crossentropy: 0.5741 - val_accuracy: 0.7733\n",
            "Epoch 65/125\n",
            "4/4 [==============================] - 0s 8ms/step - loss: 0.1205 - categorical_crossentropy: 0.6328 - accuracy: 0.7388 - val_loss: 0.1101 - val_categorical_crossentropy: 0.5590 - val_accuracy: 0.7467\n",
            "Epoch 66/125\n",
            "4/4 [==============================] - 0s 8ms/step - loss: 0.1220 - categorical_crossentropy: 0.6355 - accuracy: 0.7200 - val_loss: 0.1081 - val_categorical_crossentropy: 0.5540 - val_accuracy: 0.7467\n",
            "Epoch 67/125\n",
            "4/4 [==============================] - 0s 14ms/step - loss: 0.1200 - categorical_crossentropy: 0.6228 - accuracy: 0.7106 - val_loss: 0.1076 - val_categorical_crossentropy: 0.5524 - val_accuracy: 0.7867\n",
            "Epoch 68/125\n",
            "4/4 [==============================] - 0s 8ms/step - loss: 0.1184 - categorical_crossentropy: 0.6227 - accuracy: 0.7435 - val_loss: 0.1089 - val_categorical_crossentropy: 0.5554 - val_accuracy: 0.7467\n",
            "Epoch 69/125\n",
            "4/4 [==============================] - 0s 12ms/step - loss: 0.1187 - categorical_crossentropy: 0.6191 - accuracy: 0.7271 - val_loss: 0.1076 - val_categorical_crossentropy: 0.5500 - val_accuracy: 0.7733\n",
            "Epoch 70/125\n",
            "4/4 [==============================] - 0s 9ms/step - loss: 0.1191 - categorical_crossentropy: 0.6196 - accuracy: 0.7176 - val_loss: 0.1106 - val_categorical_crossentropy: 0.5671 - val_accuracy: 0.8000\n",
            "Epoch 71/125\n",
            "4/4 [==============================] - 0s 10ms/step - loss: 0.1200 - categorical_crossentropy: 0.6298 - accuracy: 0.7271 - val_loss: 0.1116 - val_categorical_crossentropy: 0.5671 - val_accuracy: 0.7467\n",
            "Epoch 72/125\n",
            "4/4 [==============================] - 0s 9ms/step - loss: 0.1196 - categorical_crossentropy: 0.6225 - accuracy: 0.7059 - val_loss: 0.1139 - val_categorical_crossentropy: 0.5804 - val_accuracy: 0.8000\n",
            "Epoch 73/125\n",
            "4/4 [==============================] - 0s 9ms/step - loss: 0.1187 - categorical_crossentropy: 0.6242 - accuracy: 0.7506 - val_loss: 0.1096 - val_categorical_crossentropy: 0.5518 - val_accuracy: 0.7467\n",
            "Epoch 74/125\n",
            "4/4 [==============================] - 0s 9ms/step - loss: 0.1195 - categorical_crossentropy: 0.6204 - accuracy: 0.7200 - val_loss: 0.1096 - val_categorical_crossentropy: 0.5549 - val_accuracy: 0.7600\n",
            "Epoch 75/125\n",
            "4/4 [==============================] - 0s 15ms/step - loss: 0.1237 - categorical_crossentropy: 0.6314 - accuracy: 0.6941 - val_loss: 0.1115 - val_categorical_crossentropy: 0.5703 - val_accuracy: 0.7600\n",
            "Epoch 76/125\n",
            "4/4 [==============================] - 0s 7ms/step - loss: 0.1196 - categorical_crossentropy: 0.6284 - accuracy: 0.7576 - val_loss: 0.1100 - val_categorical_crossentropy: 0.5540 - val_accuracy: 0.7467\n",
            "Epoch 77/125\n",
            "4/4 [==============================] - 0s 13ms/step - loss: 0.1183 - categorical_crossentropy: 0.6109 - accuracy: 0.7153 - val_loss: 0.1149 - val_categorical_crossentropy: 0.5772 - val_accuracy: 0.7600\n",
            "Epoch 78/125\n",
            "4/4 [==============================] - 0s 7ms/step - loss: 0.1199 - categorical_crossentropy: 0.6247 - accuracy: 0.7412 - val_loss: 0.1121 - val_categorical_crossentropy: 0.5622 - val_accuracy: 0.7333\n",
            "Epoch 79/125\n",
            "4/4 [==============================] - 0s 15ms/step - loss: 0.1205 - categorical_crossentropy: 0.6214 - accuracy: 0.7129 - val_loss: 0.1076 - val_categorical_crossentropy: 0.5528 - val_accuracy: 0.7733\n",
            "Epoch 80/125\n",
            "4/4 [==============================] - 0s 7ms/step - loss: 0.1185 - categorical_crossentropy: 0.6185 - accuracy: 0.7247 - val_loss: 0.1090 - val_categorical_crossentropy: 0.5581 - val_accuracy: 0.7733\n",
            "Epoch 81/125\n",
            "4/4 [==============================] - 0s 8ms/step - loss: 0.1214 - categorical_crossentropy: 0.6327 - accuracy: 0.7506 - val_loss: 0.1119 - val_categorical_crossentropy: 0.5543 - val_accuracy: 0.7467\n",
            "Epoch 82/125\n",
            "4/4 [==============================] - 0s 7ms/step - loss: 0.1216 - categorical_crossentropy: 0.6136 - accuracy: 0.6988 - val_loss: 0.1125 - val_categorical_crossentropy: 0.5656 - val_accuracy: 0.8000\n",
            "Epoch 83/125\n",
            "4/4 [==============================] - 0s 7ms/step - loss: 0.1159 - categorical_crossentropy: 0.6053 - accuracy: 0.7600 - val_loss: 0.1124 - val_categorical_crossentropy: 0.5634 - val_accuracy: 0.7467\n",
            "Epoch 84/125\n",
            "4/4 [==============================] - 0s 8ms/step - loss: 0.1224 - categorical_crossentropy: 0.6314 - accuracy: 0.7035 - val_loss: 0.1079 - val_categorical_crossentropy: 0.5560 - val_accuracy: 0.7733\n",
            "Epoch 85/125\n",
            "4/4 [==============================] - 0s 7ms/step - loss: 0.1163 - categorical_crossentropy: 0.6038 - accuracy: 0.7412 - val_loss: 0.1047 - val_categorical_crossentropy: 0.5356 - val_accuracy: 0.7867\n",
            "Epoch 86/125\n",
            "4/4 [==============================] - 0s 7ms/step - loss: 0.1156 - categorical_crossentropy: 0.6047 - accuracy: 0.7553 - val_loss: 0.1071 - val_categorical_crossentropy: 0.5364 - val_accuracy: 0.7467\n",
            "Epoch 87/125\n",
            "4/4 [==============================] - 0s 7ms/step - loss: 0.1156 - categorical_crossentropy: 0.5973 - accuracy: 0.7224 - val_loss: 0.1119 - val_categorical_crossentropy: 0.5683 - val_accuracy: 0.7867\n",
            "Epoch 88/125\n",
            "4/4 [==============================] - 0s 7ms/step - loss: 0.1153 - categorical_crossentropy: 0.6081 - accuracy: 0.7600 - val_loss: 0.1090 - val_categorical_crossentropy: 0.5510 - val_accuracy: 0.7600\n",
            "Epoch 89/125\n",
            "4/4 [==============================] - 0s 8ms/step - loss: 0.1156 - categorical_crossentropy: 0.6014 - accuracy: 0.7412 - val_loss: 0.1045 - val_categorical_crossentropy: 0.5374 - val_accuracy: 0.8133\n",
            "Epoch 90/125\n",
            "4/4 [==============================] - 0s 7ms/step - loss: 0.1137 - categorical_crossentropy: 0.5940 - accuracy: 0.7600 - val_loss: 0.1043 - val_categorical_crossentropy: 0.5330 - val_accuracy: 0.7600\n",
            "Epoch 91/125\n",
            "4/4 [==============================] - 0s 7ms/step - loss: 0.1139 - categorical_crossentropy: 0.5950 - accuracy: 0.7529 - val_loss: 0.1066 - val_categorical_crossentropy: 0.5346 - val_accuracy: 0.7467\n",
            "Epoch 92/125\n",
            "4/4 [==============================] - 0s 8ms/step - loss: 0.1186 - categorical_crossentropy: 0.6004 - accuracy: 0.7129 - val_loss: 0.1011 - val_categorical_crossentropy: 0.5190 - val_accuracy: 0.7867\n",
            "Epoch 93/125\n",
            "4/4 [==============================] - 0s 9ms/step - loss: 0.1130 - categorical_crossentropy: 0.5900 - accuracy: 0.7624 - val_loss: 0.1031 - val_categorical_crossentropy: 0.5211 - val_accuracy: 0.7733\n",
            "Epoch 94/125\n",
            "4/4 [==============================] - 0s 8ms/step - loss: 0.1151 - categorical_crossentropy: 0.5888 - accuracy: 0.7318 - val_loss: 0.1026 - val_categorical_crossentropy: 0.5299 - val_accuracy: 0.8133\n",
            "Epoch 95/125\n",
            "4/4 [==============================] - 0s 10ms/step - loss: 0.1169 - categorical_crossentropy: 0.6100 - accuracy: 0.7600 - val_loss: 0.1024 - val_categorical_crossentropy: 0.5222 - val_accuracy: 0.7733\n",
            "Epoch 96/125\n",
            "4/4 [==============================] - 0s 8ms/step - loss: 0.1128 - categorical_crossentropy: 0.5892 - accuracy: 0.7624 - val_loss: 0.1014 - val_categorical_crossentropy: 0.5227 - val_accuracy: 0.7867\n",
            "Epoch 97/125\n",
            "4/4 [==============================] - 0s 8ms/step - loss: 0.1171 - categorical_crossentropy: 0.6015 - accuracy: 0.7318 - val_loss: 0.1020 - val_categorical_crossentropy: 0.5266 - val_accuracy: 0.7867\n",
            "Epoch 98/125\n",
            "4/4 [==============================] - 0s 8ms/step - loss: 0.1144 - categorical_crossentropy: 0.6002 - accuracy: 0.7788 - val_loss: 0.1031 - val_categorical_crossentropy: 0.5277 - val_accuracy: 0.7600\n",
            "Epoch 99/125\n",
            "4/4 [==============================] - 0s 15ms/step - loss: 0.1111 - categorical_crossentropy: 0.5805 - accuracy: 0.7600 - val_loss: 0.1015 - val_categorical_crossentropy: 0.5208 - val_accuracy: 0.8000\n",
            "Epoch 100/125\n",
            "4/4 [==============================] - 0s 8ms/step - loss: 0.1115 - categorical_crossentropy: 0.5779 - accuracy: 0.7506 - val_loss: 0.1019 - val_categorical_crossentropy: 0.5236 - val_accuracy: 0.8000\n",
            "Epoch 101/125\n",
            "4/4 [==============================] - 0s 7ms/step - loss: 0.1122 - categorical_crossentropy: 0.5862 - accuracy: 0.7647 - val_loss: 0.1030 - val_categorical_crossentropy: 0.5286 - val_accuracy: 0.7867\n",
            "Epoch 102/125\n",
            "4/4 [==============================] - 0s 7ms/step - loss: 0.1126 - categorical_crossentropy: 0.5891 - accuracy: 0.7741 - val_loss: 0.1041 - val_categorical_crossentropy: 0.5269 - val_accuracy: 0.7467\n",
            "Epoch 103/125\n",
            "4/4 [==============================] - 0s 9ms/step - loss: 0.1123 - categorical_crossentropy: 0.5866 - accuracy: 0.7482 - val_loss: 0.1036 - val_categorical_crossentropy: 0.5355 - val_accuracy: 0.7867\n",
            "Epoch 104/125\n",
            "4/4 [==============================] - 0s 7ms/step - loss: 0.1157 - categorical_crossentropy: 0.5989 - accuracy: 0.7459 - val_loss: 0.1018 - val_categorical_crossentropy: 0.5249 - val_accuracy: 0.8000\n",
            "Epoch 105/125\n",
            "4/4 [==============================] - 0s 7ms/step - loss: 0.1120 - categorical_crossentropy: 0.5873 - accuracy: 0.7765 - val_loss: 0.1020 - val_categorical_crossentropy: 0.5138 - val_accuracy: 0.7733\n",
            "Epoch 106/125\n",
            "4/4 [==============================] - 0s 14ms/step - loss: 0.1101 - categorical_crossentropy: 0.5677 - accuracy: 0.7506 - val_loss: 0.1048 - val_categorical_crossentropy: 0.5316 - val_accuracy: 0.8000\n",
            "Epoch 107/125\n",
            "4/4 [==============================] - 0s 8ms/step - loss: 0.1101 - categorical_crossentropy: 0.5730 - accuracy: 0.7741 - val_loss: 0.1047 - val_categorical_crossentropy: 0.5210 - val_accuracy: 0.7733\n",
            "Epoch 108/125\n",
            "4/4 [==============================] - 0s 7ms/step - loss: 0.1126 - categorical_crossentropy: 0.5811 - accuracy: 0.7694 - val_loss: 0.1015 - val_categorical_crossentropy: 0.5198 - val_accuracy: 0.7867\n",
            "Epoch 109/125\n",
            "4/4 [==============================] - 0s 8ms/step - loss: 0.1093 - categorical_crossentropy: 0.5718 - accuracy: 0.7624 - val_loss: 0.1022 - val_categorical_crossentropy: 0.5218 - val_accuracy: 0.7733\n",
            "Epoch 110/125\n",
            "4/4 [==============================] - 0s 7ms/step - loss: 0.1118 - categorical_crossentropy: 0.5760 - accuracy: 0.7459 - val_loss: 0.1208 - val_categorical_crossentropy: 0.5909 - val_accuracy: 0.7733\n",
            "Epoch 111/125\n",
            "4/4 [==============================] - 0s 8ms/step - loss: 0.1174 - categorical_crossentropy: 0.6022 - accuracy: 0.7529 - val_loss: 0.1068 - val_categorical_crossentropy: 0.5316 - val_accuracy: 0.7467\n",
            "Epoch 112/125\n",
            "4/4 [==============================] - 0s 7ms/step - loss: 0.1139 - categorical_crossentropy: 0.5820 - accuracy: 0.7600 - val_loss: 0.1005 - val_categorical_crossentropy: 0.5148 - val_accuracy: 0.8000\n",
            "Epoch 113/125\n",
            "4/4 [==============================] - 0s 7ms/step - loss: 0.1107 - categorical_crossentropy: 0.5756 - accuracy: 0.7576 - val_loss: 0.1016 - val_categorical_crossentropy: 0.5197 - val_accuracy: 0.7733\n",
            "Epoch 114/125\n",
            "4/4 [==============================] - 0s 9ms/step - loss: 0.1099 - categorical_crossentropy: 0.5765 - accuracy: 0.7835 - val_loss: 0.0987 - val_categorical_crossentropy: 0.5047 - val_accuracy: 0.7867\n",
            "Epoch 115/125\n",
            "4/4 [==============================] - 0s 8ms/step - loss: 0.1110 - categorical_crossentropy: 0.5680 - accuracy: 0.7529 - val_loss: 0.0984 - val_categorical_crossentropy: 0.5017 - val_accuracy: 0.8133\n",
            "Epoch 116/125\n",
            "4/4 [==============================] - 0s 7ms/step - loss: 0.1109 - categorical_crossentropy: 0.5741 - accuracy: 0.7647 - val_loss: 0.1000 - val_categorical_crossentropy: 0.5022 - val_accuracy: 0.7733\n",
            "Epoch 117/125\n",
            "4/4 [==============================] - 0s 7ms/step - loss: 0.1075 - categorical_crossentropy: 0.5570 - accuracy: 0.7812 - val_loss: 0.1069 - val_categorical_crossentropy: 0.5452 - val_accuracy: 0.7867\n",
            "Epoch 118/125\n",
            "4/4 [==============================] - 0s 7ms/step - loss: 0.1098 - categorical_crossentropy: 0.5793 - accuracy: 0.7788 - val_loss: 0.1053 - val_categorical_crossentropy: 0.5316 - val_accuracy: 0.7733\n",
            "Epoch 119/125\n",
            "4/4 [==============================] - 0s 8ms/step - loss: 0.1098 - categorical_crossentropy: 0.5670 - accuracy: 0.7671 - val_loss: 0.1090 - val_categorical_crossentropy: 0.5428 - val_accuracy: 0.7600\n",
            "Epoch 120/125\n",
            "4/4 [==============================] - 0s 9ms/step - loss: 0.1113 - categorical_crossentropy: 0.5700 - accuracy: 0.7741 - val_loss: 0.1042 - val_categorical_crossentropy: 0.5160 - val_accuracy: 0.7733\n",
            "Epoch 121/125\n",
            "4/4 [==============================] - 0s 9ms/step - loss: 0.1109 - categorical_crossentropy: 0.5694 - accuracy: 0.7600 - val_loss: 0.1001 - val_categorical_crossentropy: 0.5132 - val_accuracy: 0.7867\n",
            "Epoch 122/125\n",
            "4/4 [==============================] - 0s 7ms/step - loss: 0.1121 - categorical_crossentropy: 0.5755 - accuracy: 0.7671 - val_loss: 0.0991 - val_categorical_crossentropy: 0.5066 - val_accuracy: 0.8000\n",
            "Epoch 123/125\n",
            "4/4 [==============================] - 0s 8ms/step - loss: 0.1131 - categorical_crossentropy: 0.5859 - accuracy: 0.7694 - val_loss: 0.1068 - val_categorical_crossentropy: 0.5333 - val_accuracy: 0.7467\n",
            "Epoch 124/125\n",
            "4/4 [==============================] - 0s 9ms/step - loss: 0.1113 - categorical_crossentropy: 0.5762 - accuracy: 0.7647 - val_loss: 0.1030 - val_categorical_crossentropy: 0.5281 - val_accuracy: 0.7733\n",
            "Epoch 125/125\n",
            "4/4 [==============================] - 0s 9ms/step - loss: 0.1063 - categorical_crossentropy: 0.5596 - accuracy: 0.7835 - val_loss: 0.1021 - val_categorical_crossentropy: 0.5123 - val_accuracy: 0.7600\n",
            "16/16 - 0s - loss: 0.1006 - categorical_crossentropy: 0.5457 - accuracy: 0.7900 - 24ms/epoch - 1ms/step\n"
          ]
        },
        {
          "output_type": "display_data",
          "data": {
            "text/plain": [
              "<Figure size 432x288 with 1 Axes>"
            ],
            "image/png": "[encoded data removed]"
          },
          "metadata": {
            "needs_background": "light"
          }
        },
        {
          "output_type": "execute_result",
          "data": {
            "text/plain": [
              "<keras.callbacks.History at 0x7fdce90fc890>"
            ]
          },
          "metadata": {},
          "execution_count": 67
        }
      ],
      "source": [
        "### START CODE HERE ###\n",
        "fit_better_model(X_train, y_train, X_test, y_test, 128, 0.01)\n",
        "###### END CODE HERE"
      ]
    },
    {
      "cell_type": "code",
      "execution_count": null,
      "id": "7e9a46f6-a1ce-4922-b48f-3c6f54ae4515",
      "metadata": {
        "tags": [],
        "id": "7e9a46f6-a1ce-4922-b48f-3c6f54ae4515"
      },
      "outputs": [],
      "source": [
        "plt.figure(figsize=(10,5))\n",
        "plt.plot(history.history['loss'])\n",
        "plt.plot(history.history['val_loss'])\n",
        "plt.title('Loss vs. epochs, batch=' +str(batch_size))\n",
        "plt.ylabel('Loss')\n",
        "plt.xlabel('Epoch')\n",
        "plt.legend(['Training', 'Validation'], loc='upper right')\n",
        "plt.show()"
      ]
    },
    {
      "cell_type": "markdown",
      "id": "c0c037e6-a554-454d-8d87-e009aefd826c",
      "metadata": {
        "id": "c0c037e6-a554-454d-8d87-e009aefd826c"
      },
      "source": [
        "##### Size =  Data"
      ]
    },
    {
      "cell_type": "markdown",
      "id": "f067cc9d-4c8e-434d-970e-5395914df5f1",
      "metadata": {
        "id": "f067cc9d-4c8e-434d-970e-5395914df5f1"
      },
      "source": [
        "10. **Retrain for length of data batch size**"
      ]
    },
    {
      "cell_type": "code",
      "execution_count": null,
      "id": "c6bcbb54-5017-4030-97a8-8a70bf2204ce",
      "metadata": {
        "id": "c6bcbb54-5017-4030-97a8-8a70bf2204ce",
        "colab": {
          "base_uri": "https://localhost:8080/",
          "height": 1000
        },
        "outputId": "61859222-165f-484b-f1d8-16e18182cf45"
      },
      "outputs": [
        {
          "output_type": "stream",
          "name": "stdout",
          "text": [
            "Epoch 1/125\n",
            "1/1 [==============================] - 0s 430ms/step - loss: 0.3579 - categorical_crossentropy: 5.1655 - accuracy: 0.3741 - val_loss: 0.3262 - val_categorical_crossentropy: 4.8559 - val_accuracy: 0.4400\n",
            "Epoch 2/125\n",
            "1/1 [==============================] - 0s 24ms/step - loss: 0.3568 - categorical_crossentropy: 5.1342 - accuracy: 0.3765 - val_loss: 0.3247 - val_categorical_crossentropy: 4.8041 - val_accuracy: 0.4400\n",
            "Epoch 3/125\n",
            "1/1 [==============================] - 0s 24ms/step - loss: 0.3546 - categorical_crossentropy: 5.0742 - accuracy: 0.3765 - val_loss: 0.3222 - val_categorical_crossentropy: 4.7289 - val_accuracy: 0.4400\n",
            "Epoch 4/125\n",
            "1/1 [==============================] - 0s 43ms/step - loss: 0.3511 - categorical_crossentropy: 4.9870 - accuracy: 0.3765 - val_loss: 0.3183 - val_categorical_crossentropy: 4.6311 - val_accuracy: 0.4400\n",
            "Epoch 5/125\n",
            "1/1 [==============================] - 0s 23ms/step - loss: 0.3457 - categorical_crossentropy: 4.8734 - accuracy: 0.3788 - val_loss: 0.3123 - val_categorical_crossentropy: 4.5115 - val_accuracy: 0.4400\n",
            "Epoch 6/125\n",
            "1/1 [==============================] - 0s 23ms/step - loss: 0.3377 - categorical_crossentropy: 4.7338 - accuracy: 0.3835 - val_loss: 0.3028 - val_categorical_crossentropy: 4.3737 - val_accuracy: 0.4400\n",
            "Epoch 7/125\n",
            "1/1 [==============================] - 0s 47ms/step - loss: 0.3252 - categorical_crossentropy: 4.5705 - accuracy: 0.3859 - val_loss: 0.2900 - val_categorical_crossentropy: 4.2447 - val_accuracy: 0.4533\n",
            "Epoch 8/125\n",
            "1/1 [==============================] - 0s 23ms/step - loss: 0.3067 - categorical_crossentropy: 4.4044 - accuracy: 0.3906 - val_loss: 0.3189 - val_categorical_crossentropy: 4.2817 - val_accuracy: 0.2800\n",
            "Epoch 9/125\n",
            "1/1 [==============================] - 0s 23ms/step - loss: 0.3145 - categorical_crossentropy: 4.3611 - accuracy: 0.3129 - val_loss: 0.3434 - val_categorical_crossentropy: 4.3219 - val_accuracy: 0.2267\n",
            "Epoch 10/125\n",
            "1/1 [==============================] - 0s 41ms/step - loss: 0.3292 - categorical_crossentropy: 4.3702 - accuracy: 0.2800 - val_loss: 0.2907 - val_categorical_crossentropy: 4.1432 - val_accuracy: 0.4533\n",
            "Epoch 11/125\n",
            "1/1 [==============================] - 0s 22ms/step - loss: 0.2993 - categorical_crossentropy: 4.2673 - accuracy: 0.3953 - val_loss: 0.2896 - val_categorical_crossentropy: 4.1235 - val_accuracy: 0.4533\n",
            "Epoch 12/125\n",
            "1/1 [==============================] - 0s 23ms/step - loss: 0.3068 - categorical_crossentropy: 4.2885 - accuracy: 0.3906 - val_loss: 0.2946 - val_categorical_crossentropy: 4.1268 - val_accuracy: 0.4533\n",
            "Epoch 13/125\n",
            "1/1 [==============================] - 0s 25ms/step - loss: 0.3140 - categorical_crossentropy: 4.3065 - accuracy: 0.3882 - val_loss: 0.2950 - val_categorical_crossentropy: 4.0947 - val_accuracy: 0.4533\n",
            "Epoch 14/125\n",
            "1/1 [==============================] - 0s 21ms/step - loss: 0.3145 - categorical_crossentropy: 4.2763 - accuracy: 0.3906 - val_loss: 0.2911 - val_categorical_crossentropy: 4.0254 - val_accuracy: 0.4533\n",
            "Epoch 15/125\n",
            "1/1 [==============================] - 0s 20ms/step - loss: 0.3092 - categorical_crossentropy: 4.1985 - accuracy: 0.3929 - val_loss: 0.2843 - val_categorical_crossentropy: 3.9371 - val_accuracy: 0.4533\n",
            "Epoch 16/125\n",
            "1/1 [==============================] - 0s 25ms/step - loss: 0.2986 - categorical_crossentropy: 4.0905 - accuracy: 0.3976 - val_loss: 0.2885 - val_categorical_crossentropy: 3.8946 - val_accuracy: 0.4533\n",
            "Epoch 17/125\n",
            "1/1 [==============================] - 0s 22ms/step - loss: 0.2936 - categorical_crossentropy: 4.0093 - accuracy: 0.4071 - val_loss: 0.3115 - val_categorical_crossentropy: 3.9106 - val_accuracy: 0.3067\n",
            "Epoch 18/125\n",
            "1/1 [==============================] - 0s 28ms/step - loss: 0.3058 - categorical_crossentropy: 3.9899 - accuracy: 0.3153 - val_loss: 0.2873 - val_categorical_crossentropy: 3.7939 - val_accuracy: 0.4533\n",
            "Epoch 19/125\n",
            "1/1 [==============================] - 0s 25ms/step - loss: 0.2914 - categorical_crossentropy: 3.9064 - accuracy: 0.4165 - val_loss: 0.2790 - val_categorical_crossentropy: 3.7220 - val_accuracy: 0.4533\n",
            "Epoch 20/125\n",
            "1/1 [==============================] - 0s 22ms/step - loss: 0.2911 - categorical_crossentropy: 3.8680 - accuracy: 0.4000 - val_loss: 0.2806 - val_categorical_crossentropy: 3.6821 - val_accuracy: 0.4533\n",
            "Epoch 21/125\n",
            "1/1 [==============================] - 0s 39ms/step - loss: 0.2951 - categorical_crossentropy: 3.8410 - accuracy: 0.4000 - val_loss: 0.2793 - val_categorical_crossentropy: 3.6224 - val_accuracy: 0.4533\n",
            "Epoch 22/125\n",
            "1/1 [==============================] - 0s 26ms/step - loss: 0.2937 - categorical_crossentropy: 3.7813 - accuracy: 0.4000 - val_loss: 0.2752 - val_categorical_crossentropy: 3.5455 - val_accuracy: 0.4533\n",
            "Epoch 23/125\n",
            "1/1 [==============================] - 0s 22ms/step - loss: 0.2873 - categorical_crossentropy: 3.6930 - accuracy: 0.4094 - val_loss: 0.2764 - val_categorical_crossentropy: 3.4902 - val_accuracy: 0.4533\n",
            "Epoch 24/125\n",
            "1/1 [==============================] - 0s 27ms/step - loss: 0.2828 - categorical_crossentropy: 3.6127 - accuracy: 0.4165 - val_loss: 0.2894 - val_categorical_crossentropy: 3.4737 - val_accuracy: 0.4533\n",
            "Epoch 25/125\n",
            "1/1 [==============================] - 0s 24ms/step - loss: 0.2884 - categorical_crossentropy: 3.5696 - accuracy: 0.4424 - val_loss: 0.2789 - val_categorical_crossentropy: 3.3912 - val_accuracy: 0.4533\n",
            "Epoch 26/125\n",
            "1/1 [==============================] - 0s 27ms/step - loss: 0.2820 - categorical_crossentropy: 3.5015 - accuracy: 0.4306 - val_loss: 0.2709 - val_categorical_crossentropy: 3.3183 - val_accuracy: 0.4533\n",
            "Epoch 27/125\n",
            "1/1 [==============================] - 0s 24ms/step - loss: 0.2799 - categorical_crossentropy: 3.4522 - accuracy: 0.4118 - val_loss: 0.2706 - val_categorical_crossentropy: 3.2738 - val_accuracy: 0.4533\n",
            "Epoch 28/125\n",
            "1/1 [==============================] - 0s 29ms/step - loss: 0.2818 - categorical_crossentropy: 3.4175 - accuracy: 0.4094 - val_loss: 0.2698 - val_categorical_crossentropy: 3.2257 - val_accuracy: 0.4533\n",
            "Epoch 29/125\n",
            "1/1 [==============================] - 0s 27ms/step - loss: 0.2806 - categorical_crossentropy: 3.3673 - accuracy: 0.4141 - val_loss: 0.2686 - val_categorical_crossentropy: 3.1736 - val_accuracy: 0.4267\n",
            "Epoch 30/125\n",
            "1/1 [==============================] - 0s 28ms/step - loss: 0.2766 - categorical_crossentropy: 3.3027 - accuracy: 0.4141 - val_loss: 0.2713 - val_categorical_crossentropy: 3.1382 - val_accuracy: 0.4267\n",
            "Epoch 31/125\n",
            "1/1 [==============================] - 0s 25ms/step - loss: 0.2744 - categorical_crossentropy: 3.2462 - accuracy: 0.4235 - val_loss: 0.2769 - val_categorical_crossentropy: 3.1154 - val_accuracy: 0.4533\n",
            "Epoch 32/125\n",
            "1/1 [==============================] - 0s 27ms/step - loss: 0.2761 - categorical_crossentropy: 3.2069 - accuracy: 0.4424 - val_loss: 0.2711 - val_categorical_crossentropy: 3.0599 - val_accuracy: 0.4133\n",
            "Epoch 33/125\n",
            "1/1 [==============================] - 0s 24ms/step - loss: 0.2726 - categorical_crossentropy: 3.1582 - accuracy: 0.4306 - val_loss: 0.2649 - val_categorical_crossentropy: 3.0052 - val_accuracy: 0.4000\n",
            "Epoch 34/125\n",
            "1/1 [==============================] - 0s 30ms/step - loss: 0.2705 - categorical_crossentropy: 3.1178 - accuracy: 0.4188 - val_loss: 0.2634 - val_categorical_crossentropy: 2.9657 - val_accuracy: 0.4267\n",
            "Epoch 35/125\n",
            "1/1 [==============================] - 0s 27ms/step - loss: 0.2709 - categorical_crossentropy: 3.0845 - accuracy: 0.4212 - val_loss: 0.2627 - val_categorical_crossentropy: 2.9243 - val_accuracy: 0.4267\n",
            "Epoch 36/125\n",
            "1/1 [==============================] - 0s 24ms/step - loss: 0.2699 - categorical_crossentropy: 3.0405 - accuracy: 0.4188 - val_loss: 0.2623 - val_categorical_crossentropy: 2.8793 - val_accuracy: 0.4267\n",
            "Epoch 37/125\n",
            "1/1 [==============================] - 0s 25ms/step - loss: 0.2673 - categorical_crossentropy: 2.9852 - accuracy: 0.4282 - val_loss: 0.2647 - val_categorical_crossentropy: 2.8414 - val_accuracy: 0.4000\n",
            "Epoch 38/125\n",
            "1/1 [==============================] - 0s 25ms/step - loss: 0.2662 - categorical_crossentropy: 2.9325 - accuracy: 0.4306 - val_loss: 0.2673 - val_categorical_crossentropy: 2.8034 - val_accuracy: 0.4400\n",
            "Epoch 39/125\n",
            "1/1 [==============================] - 0s 25ms/step - loss: 0.2665 - categorical_crossentropy: 2.8849 - accuracy: 0.4424 - val_loss: 0.2641 - val_categorical_crossentropy: 2.7468 - val_accuracy: 0.4400\n",
            "Epoch 40/125\n",
            "1/1 [==============================] - 0s 30ms/step - loss: 0.2642 - categorical_crossentropy: 2.8321 - accuracy: 0.4329 - val_loss: 0.2608 - val_categorical_crossentropy: 2.6896 - val_accuracy: 0.4267\n",
            "Epoch 41/125\n",
            "1/1 [==============================] - 0s 24ms/step - loss: 0.2629 - categorical_crossentropy: 2.7829 - accuracy: 0.4282 - val_loss: 0.2598 - val_categorical_crossentropy: 2.6387 - val_accuracy: 0.4267\n",
            "Epoch 42/125\n",
            "1/1 [==============================] - 0s 25ms/step - loss: 0.2627 - categorical_crossentropy: 2.7354 - accuracy: 0.4282 - val_loss: 0.2595 - val_categorical_crossentropy: 2.5884 - val_accuracy: 0.4267\n",
            "Epoch 43/125\n",
            "1/1 [==============================] - 0s 25ms/step - loss: 0.2616 - categorical_crossentropy: 2.6821 - accuracy: 0.4306 - val_loss: 0.2599 - val_categorical_crossentropy: 2.5409 - val_accuracy: 0.4400\n",
            "Epoch 44/125\n",
            "1/1 [==============================] - 0s 24ms/step - loss: 0.2601 - categorical_crossentropy: 2.6262 - accuracy: 0.4235 - val_loss: 0.2614 - val_categorical_crossentropy: 2.5012 - val_accuracy: 0.4533\n",
            "Epoch 45/125\n",
            "1/1 [==============================] - 0s 25ms/step - loss: 0.2595 - categorical_crossentropy: 2.5766 - accuracy: 0.4329 - val_loss: 0.2617 - val_categorical_crossentropy: 2.4634 - val_accuracy: 0.4533\n",
            "Epoch 46/125\n",
            "1/1 [==============================] - 0s 27ms/step - loss: 0.2591 - categorical_crossentropy: 2.5339 - accuracy: 0.4329 - val_loss: 0.2593 - val_categorical_crossentropy: 2.4215 - val_accuracy: 0.4533\n",
            "Epoch 47/125\n",
            "1/1 [==============================] - 0s 26ms/step - loss: 0.2577 - categorical_crossentropy: 2.4948 - accuracy: 0.4329 - val_loss: 0.2566 - val_categorical_crossentropy: 2.3833 - val_accuracy: 0.4533\n",
            "Epoch 48/125\n",
            "1/1 [==============================] - 0s 28ms/step - loss: 0.2565 - categorical_crossentropy: 2.4619 - accuracy: 0.4282 - val_loss: 0.2549 - val_categorical_crossentropy: 2.3510 - val_accuracy: 0.4400\n",
            "Epoch 49/125\n",
            "1/1 [==============================] - 0s 29ms/step - loss: 0.2560 - categorical_crossentropy: 2.4319 - accuracy: 0.4235 - val_loss: 0.2539 - val_categorical_crossentropy: 2.3193 - val_accuracy: 0.4533\n",
            "Epoch 50/125\n",
            "1/1 [==============================] - 0s 30ms/step - loss: 0.2550 - categorical_crossentropy: 2.3978 - accuracy: 0.4306 - val_loss: 0.2536 - val_categorical_crossentropy: 2.2874 - val_accuracy: 0.4533\n",
            "Epoch 51/125\n",
            "1/1 [==============================] - 0s 24ms/step - loss: 0.2537 - categorical_crossentropy: 2.3594 - accuracy: 0.4329 - val_loss: 0.2540 - val_categorical_crossentropy: 2.2573 - val_accuracy: 0.4667\n",
            "Epoch 52/125\n",
            "1/1 [==============================] - 0s 28ms/step - loss: 0.2529 - categorical_crossentropy: 2.3218 - accuracy: 0.4353 - val_loss: 0.2537 - val_categorical_crossentropy: 2.2250 - val_accuracy: 0.4667\n",
            "Epoch 53/125\n",
            "1/1 [==============================] - 0s 25ms/step - loss: 0.2522 - categorical_crossentropy: 2.2857 - accuracy: 0.4376 - val_loss: 0.2516 - val_categorical_crossentropy: 2.1869 - val_accuracy: 0.4933\n",
            "Epoch 54/125\n",
            "1/1 [==============================] - 0s 26ms/step - loss: 0.2509 - categorical_crossentropy: 2.2493 - accuracy: 0.4424 - val_loss: 0.2495 - val_categorical_crossentropy: 2.1479 - val_accuracy: 0.4800\n",
            "Epoch 55/125\n",
            "1/1 [==============================] - 0s 26ms/step - loss: 0.2499 - categorical_crossentropy: 2.2136 - accuracy: 0.4400 - val_loss: 0.2480 - val_categorical_crossentropy: 2.1095 - val_accuracy: 0.4800\n",
            "Epoch 56/125\n",
            "1/1 [==============================] - 0s 26ms/step - loss: 0.2490 - categorical_crossentropy: 2.1762 - accuracy: 0.4353 - val_loss: 0.2469 - val_categorical_crossentropy: 2.0707 - val_accuracy: 0.4933\n",
            "Epoch 57/125\n",
            "1/1 [==============================] - 0s 25ms/step - loss: 0.2478 - categorical_crossentropy: 2.1352 - accuracy: 0.4353 - val_loss: 0.2462 - val_categorical_crossentropy: 2.0339 - val_accuracy: 0.4933\n",
            "Epoch 58/125\n",
            "1/1 [==============================] - 0s 25ms/step - loss: 0.2465 - categorical_crossentropy: 2.0940 - accuracy: 0.4376 - val_loss: 0.2456 - val_categorical_crossentropy: 2.0006 - val_accuracy: 0.4667\n",
            "Epoch 59/125\n",
            "1/1 [==============================] - 0s 47ms/step - loss: 0.2455 - categorical_crossentropy: 2.0566 - accuracy: 0.4447 - val_loss: 0.2442 - val_categorical_crossentropy: 1.9687 - val_accuracy: 0.4933\n",
            "Epoch 60/125\n",
            "1/1 [==============================] - 0s 26ms/step - loss: 0.2441 - categorical_crossentropy: 2.0233 - accuracy: 0.4518 - val_loss: 0.2422 - val_categorical_crossentropy: 1.9378 - val_accuracy: 0.4933\n",
            "Epoch 61/125\n",
            "1/1 [==============================] - 0s 28ms/step - loss: 0.2425 - categorical_crossentropy: 1.9930 - accuracy: 0.4565 - val_loss: 0.2405 - val_categorical_crossentropy: 1.9081 - val_accuracy: 0.4800\n",
            "Epoch 62/125\n",
            "1/1 [==============================] - 0s 25ms/step - loss: 0.2411 - categorical_crossentropy: 1.9634 - accuracy: 0.4400 - val_loss: 0.2391 - val_categorical_crossentropy: 1.8775 - val_accuracy: 0.4800\n",
            "Epoch 63/125\n",
            "1/1 [==============================] - 0s 24ms/step - loss: 0.2396 - categorical_crossentropy: 1.9310 - accuracy: 0.4424 - val_loss: 0.2377 - val_categorical_crossentropy: 1.8453 - val_accuracy: 0.4800\n",
            "Epoch 64/125\n",
            "1/1 [==============================] - 0s 45ms/step - loss: 0.2377 - categorical_crossentropy: 1.8951 - accuracy: 0.4541 - val_loss: 0.2362 - val_categorical_crossentropy: 1.8116 - val_accuracy: 0.4933\n",
            "Epoch 65/125\n",
            "1/1 [==============================] - 0s 23ms/step - loss: 0.2359 - categorical_crossentropy: 1.8577 - accuracy: 0.4588 - val_loss: 0.2342 - val_categorical_crossentropy: 1.7751 - val_accuracy: 0.5067\n",
            "Epoch 66/125\n",
            "1/1 [==============================] - 0s 28ms/step - loss: 0.2338 - categorical_crossentropy: 1.8196 - accuracy: 0.4635 - val_loss: 0.2313 - val_categorical_crossentropy: 1.7357 - val_accuracy: 0.4933\n",
            "Epoch 67/125\n",
            "1/1 [==============================] - 0s 26ms/step - loss: 0.2315 - categorical_crossentropy: 1.7810 - accuracy: 0.4588 - val_loss: 0.2281 - val_categorical_crossentropy: 1.6955 - val_accuracy: 0.4933\n",
            "Epoch 68/125\n",
            "1/1 [==============================] - 0s 25ms/step - loss: 0.2290 - categorical_crossentropy: 1.7421 - accuracy: 0.4588 - val_loss: 0.2248 - val_categorical_crossentropy: 1.6557 - val_accuracy: 0.4933\n",
            "Epoch 69/125\n",
            "1/1 [==============================] - 0s 27ms/step - loss: 0.2263 - categorical_crossentropy: 1.7025 - accuracy: 0.4565 - val_loss: 0.2214 - val_categorical_crossentropy: 1.6168 - val_accuracy: 0.4933\n",
            "Epoch 70/125\n",
            "1/1 [==============================] - 0s 27ms/step - loss: 0.2232 - categorical_crossentropy: 1.6619 - accuracy: 0.4659 - val_loss: 0.2176 - val_categorical_crossentropy: 1.5789 - val_accuracy: 0.4933\n",
            "Epoch 71/125\n",
            "1/1 [==============================] - 0s 50ms/step - loss: 0.2198 - categorical_crossentropy: 1.6215 - accuracy: 0.4753 - val_loss: 0.2134 - val_categorical_crossentropy: 1.5412 - val_accuracy: 0.5067\n",
            "Epoch 72/125\n",
            "1/1 [==============================] - 0s 48ms/step - loss: 0.2162 - categorical_crossentropy: 1.5819 - accuracy: 0.4988 - val_loss: 0.2085 - val_categorical_crossentropy: 1.5020 - val_accuracy: 0.5200\n",
            "Epoch 73/125\n",
            "1/1 [==============================] - 0s 25ms/step - loss: 0.2123 - categorical_crossentropy: 1.5422 - accuracy: 0.5365 - val_loss: 0.2031 - val_categorical_crossentropy: 1.4608 - val_accuracy: 0.5600\n",
            "Epoch 74/125\n",
            "1/1 [==============================] - 0s 22ms/step - loss: 0.2081 - categorical_crossentropy: 1.5019 - accuracy: 0.5600 - val_loss: 0.1978 - val_categorical_crossentropy: 1.4186 - val_accuracy: 0.5600\n",
            "Epoch 75/125\n",
            "1/1 [==============================] - 0s 24ms/step - loss: 0.2041 - categorical_crossentropy: 1.4605 - accuracy: 0.5741 - val_loss: 0.1927 - val_categorical_crossentropy: 1.3756 - val_accuracy: 0.5733\n",
            "Epoch 76/125\n",
            "1/1 [==============================] - 0s 23ms/step - loss: 0.2004 - categorical_crossentropy: 1.4176 - accuracy: 0.5812 - val_loss: 0.1880 - val_categorical_crossentropy: 1.3321 - val_accuracy: 0.5733\n",
            "Epoch 77/125\n",
            "1/1 [==============================] - 0s 23ms/step - loss: 0.1969 - categorical_crossentropy: 1.3731 - accuracy: 0.5859 - val_loss: 0.1837 - val_categorical_crossentropy: 1.2892 - val_accuracy: 0.5867\n",
            "Epoch 78/125\n",
            "1/1 [==============================] - 0s 25ms/step - loss: 0.1937 - categorical_crossentropy: 1.3279 - accuracy: 0.5882 - val_loss: 0.1799 - val_categorical_crossentropy: 1.2482 - val_accuracy: 0.6000\n",
            "Epoch 79/125\n",
            "1/1 [==============================] - 0s 22ms/step - loss: 0.1905 - categorical_crossentropy: 1.2836 - accuracy: 0.5929 - val_loss: 0.1765 - val_categorical_crossentropy: 1.2103 - val_accuracy: 0.6000\n",
            "Epoch 80/125\n",
            "1/1 [==============================] - 0s 23ms/step - loss: 0.1874 - categorical_crossentropy: 1.2420 - accuracy: 0.6000 - val_loss: 0.1733 - val_categorical_crossentropy: 1.1760 - val_accuracy: 0.6133\n",
            "Epoch 81/125\n",
            "1/1 [==============================] - 0s 26ms/step - loss: 0.1842 - categorical_crossentropy: 1.2040 - accuracy: 0.5976 - val_loss: 0.1704 - val_categorical_crossentropy: 1.1452 - val_accuracy: 0.6133\n",
            "Epoch 82/125\n",
            "1/1 [==============================] - 0s 22ms/step - loss: 0.1810 - categorical_crossentropy: 1.1693 - accuracy: 0.5953 - val_loss: 0.1679 - val_categorical_crossentropy: 1.1182 - val_accuracy: 0.6000\n",
            "Epoch 83/125\n",
            "1/1 [==============================] - 0s 25ms/step - loss: 0.1778 - categorical_crossentropy: 1.1372 - accuracy: 0.5882 - val_loss: 0.1659 - val_categorical_crossentropy: 1.0948 - val_accuracy: 0.6000\n",
            "Epoch 84/125\n",
            "1/1 [==============================] - 0s 22ms/step - loss: 0.1747 - categorical_crossentropy: 1.1070 - accuracy: 0.5929 - val_loss: 0.1645 - val_categorical_crossentropy: 1.0750 - val_accuracy: 0.6133\n",
            "Epoch 85/125\n",
            "1/1 [==============================] - 0s 21ms/step - loss: 0.1718 - categorical_crossentropy: 1.0791 - accuracy: 0.6024 - val_loss: 0.1635 - val_categorical_crossentropy: 1.0582 - val_accuracy: 0.6133\n",
            "Epoch 86/125\n",
            "1/1 [==============================] - 0s 25ms/step - loss: 0.1692 - categorical_crossentropy: 1.0544 - accuracy: 0.6094 - val_loss: 0.1626 - val_categorical_crossentropy: 1.0425 - val_accuracy: 0.6267\n",
            "Epoch 87/125\n",
            "1/1 [==============================] - 0s 25ms/step - loss: 0.1668 - categorical_crossentropy: 1.0328 - accuracy: 0.6047 - val_loss: 0.1617 - val_categorical_crossentropy: 1.0274 - val_accuracy: 0.6267\n",
            "Epoch 88/125\n",
            "1/1 [==============================] - 0s 29ms/step - loss: 0.1647 - categorical_crossentropy: 1.0137 - accuracy: 0.6094 - val_loss: 0.1612 - val_categorical_crossentropy: 1.0139 - val_accuracy: 0.6267\n",
            "Epoch 89/125\n",
            "1/1 [==============================] - 0s 27ms/step - loss: 0.1630 - categorical_crossentropy: 0.9965 - accuracy: 0.6141 - val_loss: 0.1611 - val_categorical_crossentropy: 1.0021 - val_accuracy: 0.6267\n",
            "Epoch 90/125\n",
            "1/1 [==============================] - 0s 26ms/step - loss: 0.1615 - categorical_crossentropy: 0.9808 - accuracy: 0.6235 - val_loss: 0.1614 - val_categorical_crossentropy: 0.9917 - val_accuracy: 0.6267\n",
            "Epoch 91/125\n",
            "1/1 [==============================] - 0s 24ms/step - loss: 0.1602 - categorical_crossentropy: 0.9667 - accuracy: 0.6235 - val_loss: 0.1615 - val_categorical_crossentropy: 0.9815 - val_accuracy: 0.6400\n",
            "Epoch 92/125\n",
            "1/1 [==============================] - 0s 25ms/step - loss: 0.1591 - categorical_crossentropy: 0.9544 - accuracy: 0.6282 - val_loss: 0.1611 - val_categorical_crossentropy: 0.9711 - val_accuracy: 0.6400\n",
            "Epoch 93/125\n",
            "1/1 [==============================] - 0s 24ms/step - loss: 0.1580 - categorical_crossentropy: 0.9436 - accuracy: 0.6353 - val_loss: 0.1606 - val_categorical_crossentropy: 0.9611 - val_accuracy: 0.6667\n",
            "Epoch 94/125\n",
            "1/1 [==============================] - 0s 28ms/step - loss: 0.1569 - categorical_crossentropy: 0.9341 - accuracy: 0.6447 - val_loss: 0.1601 - val_categorical_crossentropy: 0.9520 - val_accuracy: 0.6533\n",
            "Epoch 95/125\n",
            "1/1 [==============================] - 0s 45ms/step - loss: 0.1559 - categorical_crossentropy: 0.9254 - accuracy: 0.6541 - val_loss: 0.1597 - val_categorical_crossentropy: 0.9439 - val_accuracy: 0.6267\n",
            "Epoch 96/125\n",
            "1/1 [==============================] - 0s 26ms/step - loss: 0.1549 - categorical_crossentropy: 0.9172 - accuracy: 0.6588 - val_loss: 0.1594 - val_categorical_crossentropy: 0.9363 - val_accuracy: 0.6133\n",
            "Epoch 97/125\n",
            "1/1 [==============================] - 0s 23ms/step - loss: 0.1539 - categorical_crossentropy: 0.9095 - accuracy: 0.6541 - val_loss: 0.1590 - val_categorical_crossentropy: 0.9288 - val_accuracy: 0.6000\n",
            "Epoch 98/125\n",
            "1/1 [==============================] - 0s 31ms/step - loss: 0.1529 - categorical_crossentropy: 0.9025 - accuracy: 0.6565 - val_loss: 0.1584 - val_categorical_crossentropy: 0.9211 - val_accuracy: 0.6133\n",
            "Epoch 99/125\n",
            "1/1 [==============================] - 0s 23ms/step - loss: 0.1519 - categorical_crossentropy: 0.8960 - accuracy: 0.6565 - val_loss: 0.1577 - val_categorical_crossentropy: 0.9133 - val_accuracy: 0.6267\n",
            "Epoch 100/125\n",
            "1/1 [==============================] - 0s 21ms/step - loss: 0.1511 - categorical_crossentropy: 0.8898 - accuracy: 0.6588 - val_loss: 0.1571 - val_categorical_crossentropy: 0.9053 - val_accuracy: 0.6267\n",
            "Epoch 101/125\n",
            "1/1 [==============================] - 0s 24ms/step - loss: 0.1503 - categorical_crossentropy: 0.8834 - accuracy: 0.6635 - val_loss: 0.1565 - val_categorical_crossentropy: 0.8970 - val_accuracy: 0.6267\n",
            "Epoch 102/125\n",
            "1/1 [==============================] - 0s 25ms/step - loss: 0.1495 - categorical_crossentropy: 0.8768 - accuracy: 0.6635 - val_loss: 0.1560 - val_categorical_crossentropy: 0.8885 - val_accuracy: 0.6267\n",
            "Epoch 103/125\n",
            "1/1 [==============================] - 0s 24ms/step - loss: 0.1488 - categorical_crossentropy: 0.8699 - accuracy: 0.6588 - val_loss: 0.1554 - val_categorical_crossentropy: 0.8795 - val_accuracy: 0.6133\n",
            "Epoch 104/125\n",
            "1/1 [==============================] - 0s 24ms/step - loss: 0.1481 - categorical_crossentropy: 0.8631 - accuracy: 0.6612 - val_loss: 0.1545 - val_categorical_crossentropy: 0.8701 - val_accuracy: 0.6133\n",
            "Epoch 105/125\n",
            "1/1 [==============================] - 0s 31ms/step - loss: 0.1474 - categorical_crossentropy: 0.8564 - accuracy: 0.6635 - val_loss: 0.1535 - val_categorical_crossentropy: 0.8606 - val_accuracy: 0.6133\n",
            "Epoch 106/125\n",
            "1/1 [==============================] - 0s 24ms/step - loss: 0.1468 - categorical_crossentropy: 0.8501 - accuracy: 0.6659 - val_loss: 0.1524 - val_categorical_crossentropy: 0.8513 - val_accuracy: 0.6533\n",
            "Epoch 107/125\n",
            "1/1 [==============================] - 0s 44ms/step - loss: 0.1462 - categorical_crossentropy: 0.8440 - accuracy: 0.6682 - val_loss: 0.1514 - val_categorical_crossentropy: 0.8423 - val_accuracy: 0.6533\n",
            "Epoch 108/125\n",
            "1/1 [==============================] - 0s 24ms/step - loss: 0.1456 - categorical_crossentropy: 0.8381 - accuracy: 0.6753 - val_loss: 0.1505 - val_categorical_crossentropy: 0.8339 - val_accuracy: 0.6533\n",
            "Epoch 109/125\n",
            "1/1 [==============================] - 0s 22ms/step - loss: 0.1450 - categorical_crossentropy: 0.8324 - accuracy: 0.6776 - val_loss: 0.1496 - val_categorical_crossentropy: 0.8259 - val_accuracy: 0.6400\n",
            "Epoch 110/125\n",
            "1/1 [==============================] - 0s 23ms/step - loss: 0.1445 - categorical_crossentropy: 0.8270 - accuracy: 0.6847 - val_loss: 0.1486 - val_categorical_crossentropy: 0.8183 - val_accuracy: 0.6400\n",
            "Epoch 111/125\n",
            "1/1 [==============================] - 0s 24ms/step - loss: 0.1439 - categorical_crossentropy: 0.8218 - accuracy: 0.6847 - val_loss: 0.1477 - val_categorical_crossentropy: 0.8109 - val_accuracy: 0.6400\n",
            "Epoch 112/125\n",
            "1/1 [==============================] - 0s 25ms/step - loss: 0.1433 - categorical_crossentropy: 0.8168 - accuracy: 0.6824 - val_loss: 0.1466 - val_categorical_crossentropy: 0.8037 - val_accuracy: 0.6533\n",
            "Epoch 113/125\n",
            "1/1 [==============================] - 0s 22ms/step - loss: 0.1428 - categorical_crossentropy: 0.8119 - accuracy: 0.6824 - val_loss: 0.1457 - val_categorical_crossentropy: 0.7968 - val_accuracy: 0.6533\n",
            "Epoch 114/125\n",
            "1/1 [==============================] - 0s 42ms/step - loss: 0.1422 - categorical_crossentropy: 0.8071 - accuracy: 0.6871 - val_loss: 0.1448 - val_categorical_crossentropy: 0.7902 - val_accuracy: 0.6533\n",
            "Epoch 115/125\n",
            "1/1 [==============================] - 0s 26ms/step - loss: 0.1416 - categorical_crossentropy: 0.8023 - accuracy: 0.6894 - val_loss: 0.1439 - val_categorical_crossentropy: 0.7838 - val_accuracy: 0.6533\n",
            "Epoch 116/125\n",
            "1/1 [==============================] - 0s 25ms/step - loss: 0.1410 - categorical_crossentropy: 0.7975 - accuracy: 0.6941 - val_loss: 0.1430 - val_categorical_crossentropy: 0.7775 - val_accuracy: 0.6533\n",
            "Epoch 117/125\n",
            "1/1 [==============================] - 0s 29ms/step - loss: 0.1404 - categorical_crossentropy: 0.7928 - accuracy: 0.6941 - val_loss: 0.1420 - val_categorical_crossentropy: 0.7711 - val_accuracy: 0.6533\n",
            "Epoch 118/125\n",
            "1/1 [==============================] - 0s 29ms/step - loss: 0.1398 - categorical_crossentropy: 0.7881 - accuracy: 0.6941 - val_loss: 0.1409 - val_categorical_crossentropy: 0.7647 - val_accuracy: 0.6667\n",
            "Epoch 119/125\n",
            "1/1 [==============================] - 0s 24ms/step - loss: 0.1392 - categorical_crossentropy: 0.7836 - accuracy: 0.6941 - val_loss: 0.1397 - val_categorical_crossentropy: 0.7582 - val_accuracy: 0.6933\n",
            "Epoch 120/125\n",
            "1/1 [==============================] - 0s 24ms/step - loss: 0.1386 - categorical_crossentropy: 0.7791 - accuracy: 0.6965 - val_loss: 0.1386 - val_categorical_crossentropy: 0.7520 - val_accuracy: 0.6933\n",
            "Epoch 121/125\n",
            "1/1 [==============================] - 0s 24ms/step - loss: 0.1380 - categorical_crossentropy: 0.7748 - accuracy: 0.6965 - val_loss: 0.1375 - val_categorical_crossentropy: 0.7460 - val_accuracy: 0.7067\n",
            "Epoch 122/125\n",
            "1/1 [==============================] - 0s 26ms/step - loss: 0.1374 - categorical_crossentropy: 0.7706 - accuracy: 0.6965 - val_loss: 0.1364 - val_categorical_crossentropy: 0.7403 - val_accuracy: 0.7200\n",
            "Epoch 123/125\n",
            "1/1 [==============================] - 0s 32ms/step - loss: 0.1368 - categorical_crossentropy: 0.7667 - accuracy: 0.6941 - val_loss: 0.1353 - val_categorical_crossentropy: 0.7348 - val_accuracy: 0.7200\n",
            "Epoch 124/125\n",
            "1/1 [==============================] - 0s 27ms/step - loss: 0.1363 - categorical_crossentropy: 0.7629 - accuracy: 0.6918 - val_loss: 0.1343 - val_categorical_crossentropy: 0.7293 - val_accuracy: 0.7200\n",
            "Epoch 125/125\n",
            "1/1 [==============================] - 0s 24ms/step - loss: 0.1358 - categorical_crossentropy: 0.7593 - accuracy: 0.6941 - val_loss: 0.1332 - val_categorical_crossentropy: 0.7242 - val_accuracy: 0.7200\n",
            "16/16 - 0s - loss: 0.1239 - categorical_crossentropy: 0.7085 - accuracy: 0.7580 - 28ms/epoch - 2ms/step\n"
          ]
        },
        {
          "output_type": "display_data",
          "data": {
            "text/plain": [
              "<Figure size 432x288 with 1 Axes>"
            ],
            "image/png": "[encoded data removed]"
          },
          "metadata": {
            "needs_background": "light"
          }
        },
        {
          "output_type": "execute_result",
          "data": {
            "text/plain": [
              "<keras.callbacks.History at 0x7fdce905cbd0>"
            ]
          },
          "metadata": {},
          "execution_count": 68
        }
      ],
      "source": [
        "### START CODE HERE ###\n",
        "fit_better_model(X_train, y_train, X_test, y_test, X_train.shape[0], 0.01)\n",
        "###### END CODE HERE"
      ]
    },
    {
      "cell_type": "code",
      "execution_count": null,
      "id": "eca79f36-f9b9-444d-950b-5c3d55dfc307",
      "metadata": {
        "tags": [],
        "id": "eca79f36-f9b9-444d-950b-5c3d55dfc307"
      },
      "outputs": [],
      "source": [
        "plt.figure(figsize=(10,5))\n",
        "plt.plot(history.history['loss'])\n",
        "plt.plot(history.history['val_loss'])\n",
        "plt.title('Loss vs. epochs, batch=' +str(batch_size))\n",
        "plt.ylabel('Loss')\n",
        "plt.xlabel('Epoch')\n",
        "plt.legend(['Training', 'Validation'], loc='upper right')\n",
        "plt.show()"
      ]
    },
    {
      "cell_type": "markdown",
      "id": "d58d23e3-89c6-4596-80d3-33b98d895eb1",
      "metadata": {
        "id": "d58d23e3-89c6-4596-80d3-33b98d895eb1"
      },
      "source": [
        "10. **What effect does changing batch size have on learning in terms of convergence and fluctuations?**\n",
        "\n",
        "**Answer:**\n",
        "the higher the batch size, the slower the convergence but the fluctuations become less"
      ]
    },
    {
      "cell_type": "markdown",
      "id": "ac0b0cdb-78c2-4239-bbb9-4bea511b52b1",
      "metadata": {
        "jp-MarkdownHeadingCollapsed": true,
        "tags": [],
        "id": "ac0b0cdb-78c2-4239-bbb9-4bea511b52b1"
      },
      "source": [
        "#### Learning Rate"
      ]
    },
    {
      "cell_type": "markdown",
      "id": "c7be280d-068a-4695-b716-c1ef97d4d6f4",
      "metadata": {
        "id": "c7be280d-068a-4695-b716-c1ef97d4d6f4"
      },
      "source": [
        "batch size 64"
      ]
    },
    {
      "cell_type": "markdown",
      "id": "2970cd51-b911-455a-b6c3-17f477415759",
      "metadata": {
        "id": "2970cd51-b911-455a-b6c3-17f477415759"
      },
      "source": [
        "- **Use same code for build_model above, add an argument learning rate to change learning rate of optmizer**"
      ]
    },
    {
      "cell_type": "code",
      "execution_count": null,
      "id": "939ebb69-e520-4d68-9fa7-ce00f0257629",
      "metadata": {
        "id": "939ebb69-e520-4d68-9fa7-ce00f0257629"
      },
      "outputs": [],
      "source": [
        "def build_model(lr):\n",
        "\n",
        "    # I already made it in build_better_model above\n",
        "\n",
        "    return model"
      ]
    },
    {
      "cell_type": "markdown",
      "id": "72f1ebf6-5bcb-4e2b-bee7-3eb282fd88b1",
      "metadata": {
        "id": "72f1ebf6-5bcb-4e2b-bee7-3eb282fd88b1"
      },
      "source": [
        "##### LR =  0.00001"
      ]
    },
    {
      "cell_type": "markdown",
      "id": "739eab80-d78f-4ca3-9992-42096088cf7a",
      "metadata": {
        "id": "739eab80-d78f-4ca3-9992-42096088cf7a"
      },
      "source": [
        "10. **Retrain for 0.00001 LR**"
      ]
    },
    {
      "cell_type": "code",
      "execution_count": null,
      "id": "fb2ad280-97f1-4c16-9aad-d99c96780472",
      "metadata": {
        "tags": [],
        "id": "fb2ad280-97f1-4c16-9aad-d99c96780472",
        "colab": {
          "base_uri": "https://localhost:8080/"
        },
        "outputId": "ac43dcaa-2137-4f33-e126-f4493e2d9eef"
      },
      "outputs": [
        {
          "output_type": "stream",
          "name": "stdout",
          "text": [
            "Model: \"sequential_22\"\n",
            "_________________________________________________________________\n",
            " Layer (type)                Output Shape              Param #   \n",
            "=================================================================\n",
            " dense_80 (Dense)            (None, 50)                150       \n",
            "                                                                 \n",
            " dense_81 (Dense)            (None, 3)                 153       \n",
            "                                                                 \n",
            "=================================================================\n",
            "Total params: 303\n",
            "Trainable params: 303\n",
            "Non-trainable params: 0\n",
            "_________________________________________________________________\n",
            "None\n"
          ]
        }
      ],
      "source": [
        "### START CODE HERE ### ()\n",
        "model = build_better_model((X_train.shape[-1],), 0.00001)\n",
        "print(model.summary())"
      ]
    },
    {
      "cell_type": "code",
      "source": [
        "fit_better_model(X_train, y_train, X_test, y_test, 16, 0.00001)  # batch num is not specified, I used 16"
      ],
      "metadata": {
        "colab": {
          "base_uri": "https://localhost:8080/",
          "height": 1000
        },
        "id": "sizZBGdx2WOC",
        "outputId": "79a7b1a5-28d2-4f87-f401-cd80985e70f7"
      },
      "id": "sizZBGdx2WOC",
      "execution_count": null,
      "outputs": [
        {
          "output_type": "stream",
          "name": "stdout",
          "text": [
            "Epoch 1/125\n",
            "27/27 [==============================] - 0s 6ms/step - loss: 0.2897 - categorical_crossentropy: 1.8134 - accuracy: 0.2871 - val_loss: 0.2751 - val_categorical_crossentropy: 1.6998 - val_accuracy: 0.2933\n",
            "Epoch 2/125\n",
            "27/27 [==============================] - 0s 2ms/step - loss: 0.2856 - categorical_crossentropy: 1.7890 - accuracy: 0.3059 - val_loss: 0.2689 - val_categorical_crossentropy: 1.6614 - val_accuracy: 0.3200\n",
            "Epoch 3/125\n",
            "27/27 [==============================] - 0s 2ms/step - loss: 0.2817 - categorical_crossentropy: 1.7632 - accuracy: 0.3176 - val_loss: 0.2635 - val_categorical_crossentropy: 1.6285 - val_accuracy: 0.3200\n",
            "Epoch 4/125\n",
            "27/27 [==============================] - 0s 2ms/step - loss: 0.2784 - categorical_crossentropy: 1.7438 - accuracy: 0.3200 - val_loss: 0.2592 - val_categorical_crossentropy: 1.6022 - val_accuracy: 0.3600\n",
            "Epoch 5/125\n",
            "27/27 [==============================] - 0s 2ms/step - loss: 0.2755 - categorical_crossentropy: 1.7270 - accuracy: 0.3200 - val_loss: 0.2559 - val_categorical_crossentropy: 1.5819 - val_accuracy: 0.3733\n",
            "Epoch 6/125\n",
            "27/27 [==============================] - 0s 2ms/step - loss: 0.2731 - categorical_crossentropy: 1.7133 - accuracy: 0.3271 - val_loss: 0.2530 - val_categorical_crossentropy: 1.5641 - val_accuracy: 0.3867\n",
            "Epoch 7/125\n",
            "27/27 [==============================] - 0s 2ms/step - loss: 0.2711 - categorical_crossentropy: 1.7020 - accuracy: 0.3482 - val_loss: 0.2503 - val_categorical_crossentropy: 1.5479 - val_accuracy: 0.4000\n",
            "Epoch 8/125\n",
            "27/27 [==============================] - 0s 2ms/step - loss: 0.2693 - categorical_crossentropy: 1.6909 - accuracy: 0.3529 - val_loss: 0.2477 - val_categorical_crossentropy: 1.5330 - val_accuracy: 0.4000\n",
            "Epoch 9/125\n",
            "27/27 [==============================] - 0s 2ms/step - loss: 0.2678 - categorical_crossentropy: 1.6819 - accuracy: 0.3600 - val_loss: 0.2458 - val_categorical_crossentropy: 1.5214 - val_accuracy: 0.4133\n",
            "Epoch 10/125\n",
            "27/27 [==============================] - 0s 2ms/step - loss: 0.2665 - categorical_crossentropy: 1.6747 - accuracy: 0.3600 - val_loss: 0.2442 - val_categorical_crossentropy: 1.5115 - val_accuracy: 0.4133\n",
            "Epoch 11/125\n",
            "27/27 [==============================] - 0s 2ms/step - loss: 0.2653 - categorical_crossentropy: 1.6685 - accuracy: 0.3647 - val_loss: 0.2431 - val_categorical_crossentropy: 1.5042 - val_accuracy: 0.4000\n",
            "Epoch 12/125\n",
            "27/27 [==============================] - 0s 2ms/step - loss: 0.2644 - categorical_crossentropy: 1.6632 - accuracy: 0.3694 - val_loss: 0.2415 - val_categorical_crossentropy: 1.4950 - val_accuracy: 0.4000\n",
            "Epoch 13/125\n",
            "27/27 [==============================] - 0s 2ms/step - loss: 0.2634 - categorical_crossentropy: 1.6581 - accuracy: 0.3741 - val_loss: 0.2403 - val_categorical_crossentropy: 1.4875 - val_accuracy: 0.4000\n",
            "Epoch 14/125\n",
            "27/27 [==============================] - 0s 2ms/step - loss: 0.2626 - categorical_crossentropy: 1.6531 - accuracy: 0.3765 - val_loss: 0.2394 - val_categorical_crossentropy: 1.4818 - val_accuracy: 0.4000\n",
            "Epoch 15/125\n",
            "27/27 [==============================] - 0s 2ms/step - loss: 0.2619 - categorical_crossentropy: 1.6492 - accuracy: 0.3835 - val_loss: 0.2385 - val_categorical_crossentropy: 1.4759 - val_accuracy: 0.4000\n",
            "Epoch 16/125\n",
            "27/27 [==============================] - 0s 3ms/step - loss: 0.2612 - categorical_crossentropy: 1.6450 - accuracy: 0.3859 - val_loss: 0.2376 - val_categorical_crossentropy: 1.4704 - val_accuracy: 0.4133\n",
            "Epoch 17/125\n",
            "27/27 [==============================] - 0s 2ms/step - loss: 0.2606 - categorical_crossentropy: 1.6418 - accuracy: 0.3812 - val_loss: 0.2369 - val_categorical_crossentropy: 1.4660 - val_accuracy: 0.4267\n",
            "Epoch 18/125\n",
            "27/27 [==============================] - 0s 2ms/step - loss: 0.2601 - categorical_crossentropy: 1.6388 - accuracy: 0.3812 - val_loss: 0.2364 - val_categorical_crossentropy: 1.4622 - val_accuracy: 0.4267\n",
            "Epoch 19/125\n",
            "27/27 [==============================] - 0s 2ms/step - loss: 0.2596 - categorical_crossentropy: 1.6357 - accuracy: 0.3835 - val_loss: 0.2356 - val_categorical_crossentropy: 1.4575 - val_accuracy: 0.4267\n",
            "Epoch 20/125\n",
            "27/27 [==============================] - 0s 3ms/step - loss: 0.2591 - categorical_crossentropy: 1.6329 - accuracy: 0.3812 - val_loss: 0.2351 - val_categorical_crossentropy: 1.4539 - val_accuracy: 0.4267\n",
            "Epoch 21/125\n",
            "27/27 [==============================] - 0s 2ms/step - loss: 0.2587 - categorical_crossentropy: 1.6304 - accuracy: 0.3812 - val_loss: 0.2345 - val_categorical_crossentropy: 1.4499 - val_accuracy: 0.4533\n",
            "Epoch 22/125\n",
            "27/27 [==============================] - 0s 2ms/step - loss: 0.2583 - categorical_crossentropy: 1.6281 - accuracy: 0.3835 - val_loss: 0.2341 - val_categorical_crossentropy: 1.4469 - val_accuracy: 0.4533\n",
            "Epoch 23/125\n",
            "27/27 [==============================] - 0s 2ms/step - loss: 0.2580 - categorical_crossentropy: 1.6260 - accuracy: 0.3835 - val_loss: 0.2339 - val_categorical_crossentropy: 1.4449 - val_accuracy: 0.4533\n",
            "Epoch 24/125\n",
            "27/27 [==============================] - 0s 3ms/step - loss: 0.2577 - categorical_crossentropy: 1.6238 - accuracy: 0.3859 - val_loss: 0.2334 - val_categorical_crossentropy: 1.4415 - val_accuracy: 0.4533\n",
            "Epoch 25/125\n",
            "27/27 [==============================] - 0s 2ms/step - loss: 0.2574 - categorical_crossentropy: 1.6218 - accuracy: 0.3906 - val_loss: 0.2329 - val_categorical_crossentropy: 1.4384 - val_accuracy: 0.4533\n",
            "Epoch 26/125\n",
            "27/27 [==============================] - 0s 3ms/step - loss: 0.2571 - categorical_crossentropy: 1.6196 - accuracy: 0.3929 - val_loss: 0.2326 - val_categorical_crossentropy: 1.4361 - val_accuracy: 0.4533\n",
            "Epoch 27/125\n",
            "27/27 [==============================] - 0s 2ms/step - loss: 0.2568 - categorical_crossentropy: 1.6179 - accuracy: 0.3929 - val_loss: 0.2324 - val_categorical_crossentropy: 1.4341 - val_accuracy: 0.4533\n",
            "Epoch 28/125\n",
            "27/27 [==============================] - 0s 2ms/step - loss: 0.2565 - categorical_crossentropy: 1.6159 - accuracy: 0.3953 - val_loss: 0.2320 - val_categorical_crossentropy: 1.4310 - val_accuracy: 0.4533\n",
            "Epoch 29/125\n",
            "27/27 [==============================] - 0s 2ms/step - loss: 0.2563 - categorical_crossentropy: 1.6140 - accuracy: 0.3976 - val_loss: 0.2317 - val_categorical_crossentropy: 1.4288 - val_accuracy: 0.4533\n",
            "Epoch 30/125\n",
            "27/27 [==============================] - 0s 2ms/step - loss: 0.2561 - categorical_crossentropy: 1.6123 - accuracy: 0.4000 - val_loss: 0.2314 - val_categorical_crossentropy: 1.4265 - val_accuracy: 0.4400\n",
            "Epoch 31/125\n",
            "27/27 [==============================] - 0s 2ms/step - loss: 0.2559 - categorical_crossentropy: 1.6105 - accuracy: 0.3976 - val_loss: 0.2313 - val_categorical_crossentropy: 1.4250 - val_accuracy: 0.4400\n",
            "Epoch 32/125\n",
            "27/27 [==============================] - 0s 2ms/step - loss: 0.2556 - categorical_crossentropy: 1.6089 - accuracy: 0.3953 - val_loss: 0.2311 - val_categorical_crossentropy: 1.4229 - val_accuracy: 0.4400\n",
            "Epoch 33/125\n",
            "27/27 [==============================] - 0s 2ms/step - loss: 0.2554 - categorical_crossentropy: 1.6070 - accuracy: 0.4000 - val_loss: 0.2309 - val_categorical_crossentropy: 1.4212 - val_accuracy: 0.4400\n",
            "Epoch 34/125\n",
            "27/27 [==============================] - 0s 2ms/step - loss: 0.2552 - categorical_crossentropy: 1.6054 - accuracy: 0.4000 - val_loss: 0.2307 - val_categorical_crossentropy: 1.4192 - val_accuracy: 0.4400\n",
            "Epoch 35/125\n",
            "27/27 [==============================] - 0s 2ms/step - loss: 0.2551 - categorical_crossentropy: 1.6037 - accuracy: 0.4000 - val_loss: 0.2305 - val_categorical_crossentropy: 1.4173 - val_accuracy: 0.4400\n",
            "Epoch 36/125\n",
            "27/27 [==============================] - 0s 2ms/step - loss: 0.2549 - categorical_crossentropy: 1.6022 - accuracy: 0.4024 - val_loss: 0.2303 - val_categorical_crossentropy: 1.4154 - val_accuracy: 0.4400\n",
            "Epoch 37/125\n",
            "27/27 [==============================] - 0s 2ms/step - loss: 0.2547 - categorical_crossentropy: 1.6005 - accuracy: 0.4047 - val_loss: 0.2300 - val_categorical_crossentropy: 1.4130 - val_accuracy: 0.4400\n",
            "Epoch 38/125\n",
            "27/27 [==============================] - 0s 2ms/step - loss: 0.2545 - categorical_crossentropy: 1.5989 - accuracy: 0.4047 - val_loss: 0.2298 - val_categorical_crossentropy: 1.4113 - val_accuracy: 0.4400\n",
            "Epoch 39/125\n",
            "27/27 [==============================] - 0s 2ms/step - loss: 0.2544 - categorical_crossentropy: 1.5972 - accuracy: 0.4071 - val_loss: 0.2297 - val_categorical_crossentropy: 1.4098 - val_accuracy: 0.4400\n",
            "Epoch 40/125\n",
            "27/27 [==============================] - 0s 2ms/step - loss: 0.2542 - categorical_crossentropy: 1.5958 - accuracy: 0.4141 - val_loss: 0.2294 - val_categorical_crossentropy: 1.4077 - val_accuracy: 0.4400\n",
            "Epoch 41/125\n",
            "27/27 [==============================] - 0s 2ms/step - loss: 0.2540 - categorical_crossentropy: 1.5938 - accuracy: 0.4165 - val_loss: 0.2293 - val_categorical_crossentropy: 1.4061 - val_accuracy: 0.4533\n",
            "Epoch 42/125\n",
            "27/27 [==============================] - 0s 3ms/step - loss: 0.2539 - categorical_crossentropy: 1.5923 - accuracy: 0.4188 - val_loss: 0.2291 - val_categorical_crossentropy: 1.4044 - val_accuracy: 0.4667\n",
            "Epoch 43/125\n",
            "27/27 [==============================] - 0s 2ms/step - loss: 0.2537 - categorical_crossentropy: 1.5909 - accuracy: 0.4235 - val_loss: 0.2291 - val_categorical_crossentropy: 1.4032 - val_accuracy: 0.4667\n",
            "Epoch 44/125\n",
            "27/27 [==============================] - 0s 2ms/step - loss: 0.2535 - categorical_crossentropy: 1.5892 - accuracy: 0.4235 - val_loss: 0.2288 - val_categorical_crossentropy: 1.4011 - val_accuracy: 0.4667\n",
            "Epoch 45/125\n",
            "27/27 [==============================] - 0s 3ms/step - loss: 0.2534 - categorical_crossentropy: 1.5875 - accuracy: 0.4329 - val_loss: 0.2286 - val_categorical_crossentropy: 1.3993 - val_accuracy: 0.4667\n",
            "Epoch 46/125\n",
            "27/27 [==============================] - 0s 2ms/step - loss: 0.2533 - categorical_crossentropy: 1.5860 - accuracy: 0.4353 - val_loss: 0.2285 - val_categorical_crossentropy: 1.3979 - val_accuracy: 0.4667\n",
            "Epoch 47/125\n",
            "27/27 [==============================] - 0s 2ms/step - loss: 0.2531 - categorical_crossentropy: 1.5844 - accuracy: 0.4376 - val_loss: 0.2284 - val_categorical_crossentropy: 1.3964 - val_accuracy: 0.4667\n",
            "Epoch 48/125\n",
            "27/27 [==============================] - 0s 2ms/step - loss: 0.2530 - categorical_crossentropy: 1.5829 - accuracy: 0.4424 - val_loss: 0.2282 - val_categorical_crossentropy: 1.3945 - val_accuracy: 0.4667\n",
            "Epoch 49/125\n",
            "27/27 [==============================] - 0s 2ms/step - loss: 0.2529 - categorical_crossentropy: 1.5816 - accuracy: 0.4376 - val_loss: 0.2282 - val_categorical_crossentropy: 1.3934 - val_accuracy: 0.4667\n",
            "Epoch 50/125\n",
            "27/27 [==============================] - 0s 2ms/step - loss: 0.2527 - categorical_crossentropy: 1.5798 - accuracy: 0.4376 - val_loss: 0.2279 - val_categorical_crossentropy: 1.3915 - val_accuracy: 0.4667\n",
            "Epoch 51/125\n",
            "27/27 [==============================] - 0s 2ms/step - loss: 0.2525 - categorical_crossentropy: 1.5782 - accuracy: 0.4424 - val_loss: 0.2277 - val_categorical_crossentropy: 1.3897 - val_accuracy: 0.4667\n",
            "Epoch 52/125\n",
            "27/27 [==============================] - 0s 2ms/step - loss: 0.2524 - categorical_crossentropy: 1.5766 - accuracy: 0.4447 - val_loss: 0.2276 - val_categorical_crossentropy: 1.3881 - val_accuracy: 0.4667\n",
            "Epoch 53/125\n",
            "27/27 [==============================] - 0s 2ms/step - loss: 0.2523 - categorical_crossentropy: 1.5754 - accuracy: 0.4400 - val_loss: 0.2275 - val_categorical_crossentropy: 1.3869 - val_accuracy: 0.4667\n",
            "Epoch 54/125\n",
            "27/27 [==============================] - 0s 2ms/step - loss: 0.2521 - categorical_crossentropy: 1.5735 - accuracy: 0.4424 - val_loss: 0.2274 - val_categorical_crossentropy: 1.3854 - val_accuracy: 0.4667\n",
            "Epoch 55/125\n",
            "27/27 [==============================] - 0s 2ms/step - loss: 0.2520 - categorical_crossentropy: 1.5720 - accuracy: 0.4447 - val_loss: 0.2272 - val_categorical_crossentropy: 1.3836 - val_accuracy: 0.4667\n",
            "Epoch 56/125\n",
            "27/27 [==============================] - 0s 2ms/step - loss: 0.2518 - categorical_crossentropy: 1.5704 - accuracy: 0.4447 - val_loss: 0.2271 - val_categorical_crossentropy: 1.3821 - val_accuracy: 0.4667\n",
            "Epoch 57/125\n",
            "27/27 [==============================] - 0s 2ms/step - loss: 0.2517 - categorical_crossentropy: 1.5690 - accuracy: 0.4447 - val_loss: 0.2269 - val_categorical_crossentropy: 1.3806 - val_accuracy: 0.4667\n",
            "Epoch 58/125\n",
            "27/27 [==============================] - 0s 2ms/step - loss: 0.2516 - categorical_crossentropy: 1.5674 - accuracy: 0.4447 - val_loss: 0.2268 - val_categorical_crossentropy: 1.3792 - val_accuracy: 0.4667\n",
            "Epoch 59/125\n",
            "27/27 [==============================] - 0s 2ms/step - loss: 0.2515 - categorical_crossentropy: 1.5660 - accuracy: 0.4447 - val_loss: 0.2265 - val_categorical_crossentropy: 1.3770 - val_accuracy: 0.4667\n",
            "Epoch 60/125\n",
            "27/27 [==============================] - 0s 2ms/step - loss: 0.2513 - categorical_crossentropy: 1.5644 - accuracy: 0.4447 - val_loss: 0.2266 - val_categorical_crossentropy: 1.3763 - val_accuracy: 0.4667\n",
            "Epoch 61/125\n",
            "27/27 [==============================] - 0s 2ms/step - loss: 0.2512 - categorical_crossentropy: 1.5629 - accuracy: 0.4447 - val_loss: 0.2266 - val_categorical_crossentropy: 1.3752 - val_accuracy: 0.4667\n",
            "Epoch 62/125\n",
            "27/27 [==============================] - 0s 2ms/step - loss: 0.2511 - categorical_crossentropy: 1.5613 - accuracy: 0.4447 - val_loss: 0.2264 - val_categorical_crossentropy: 1.3734 - val_accuracy: 0.4667\n",
            "Epoch 63/125\n",
            "27/27 [==============================] - 0s 2ms/step - loss: 0.2509 - categorical_crossentropy: 1.5596 - accuracy: 0.4447 - val_loss: 0.2262 - val_categorical_crossentropy: 1.3717 - val_accuracy: 0.4667\n",
            "Epoch 64/125\n",
            "27/27 [==============================] - 0s 2ms/step - loss: 0.2508 - categorical_crossentropy: 1.5580 - accuracy: 0.4424 - val_loss: 0.2259 - val_categorical_crossentropy: 1.3699 - val_accuracy: 0.4667\n",
            "Epoch 65/125\n",
            "27/27 [==============================] - 0s 2ms/step - loss: 0.2507 - categorical_crossentropy: 1.5565 - accuracy: 0.4424 - val_loss: 0.2259 - val_categorical_crossentropy: 1.3689 - val_accuracy: 0.4667\n",
            "Epoch 66/125\n",
            "27/27 [==============================] - 0s 2ms/step - loss: 0.2505 - categorical_crossentropy: 1.5551 - accuracy: 0.4447 - val_loss: 0.2258 - val_categorical_crossentropy: 1.3676 - val_accuracy: 0.4667\n",
            "Epoch 67/125\n",
            "27/27 [==============================] - 0s 2ms/step - loss: 0.2504 - categorical_crossentropy: 1.5535 - accuracy: 0.4424 - val_loss: 0.2256 - val_categorical_crossentropy: 1.3658 - val_accuracy: 0.4667\n",
            "Epoch 68/125\n",
            "27/27 [==============================] - 0s 2ms/step - loss: 0.2503 - categorical_crossentropy: 1.5520 - accuracy: 0.4424 - val_loss: 0.2255 - val_categorical_crossentropy: 1.3643 - val_accuracy: 0.4667\n",
            "Epoch 69/125\n",
            "27/27 [==============================] - 0s 2ms/step - loss: 0.2502 - categorical_crossentropy: 1.5506 - accuracy: 0.4424 - val_loss: 0.2254 - val_categorical_crossentropy: 1.3630 - val_accuracy: 0.4667\n",
            "Epoch 70/125\n",
            "27/27 [==============================] - 0s 2ms/step - loss: 0.2500 - categorical_crossentropy: 1.5489 - accuracy: 0.4424 - val_loss: 0.2253 - val_categorical_crossentropy: 1.3617 - val_accuracy: 0.4667\n",
            "Epoch 71/125\n",
            "27/27 [==============================] - 0s 2ms/step - loss: 0.2499 - categorical_crossentropy: 1.5472 - accuracy: 0.4424 - val_loss: 0.2250 - val_categorical_crossentropy: 1.3597 - val_accuracy: 0.4667\n",
            "Epoch 72/125\n",
            "27/27 [==============================] - 0s 2ms/step - loss: 0.2498 - categorical_crossentropy: 1.5456 - accuracy: 0.4447 - val_loss: 0.2250 - val_categorical_crossentropy: 1.3584 - val_accuracy: 0.4667\n",
            "Epoch 73/125\n",
            "27/27 [==============================] - 0s 2ms/step - loss: 0.2496 - categorical_crossentropy: 1.5440 - accuracy: 0.4471 - val_loss: 0.2248 - val_categorical_crossentropy: 1.3568 - val_accuracy: 0.4667\n",
            "Epoch 74/125\n",
            "27/27 [==============================] - 0s 2ms/step - loss: 0.2495 - categorical_crossentropy: 1.5426 - accuracy: 0.4471 - val_loss: 0.2248 - val_categorical_crossentropy: 1.3557 - val_accuracy: 0.4667\n",
            "Epoch 75/125\n",
            "27/27 [==============================] - 0s 2ms/step - loss: 0.2494 - categorical_crossentropy: 1.5411 - accuracy: 0.4471 - val_loss: 0.2247 - val_categorical_crossentropy: 1.3543 - val_accuracy: 0.4667\n",
            "Epoch 76/125\n",
            "27/27 [==============================] - 0s 2ms/step - loss: 0.2492 - categorical_crossentropy: 1.5393 - accuracy: 0.4471 - val_loss: 0.2245 - val_categorical_crossentropy: 1.3526 - val_accuracy: 0.4667\n",
            "Epoch 77/125\n",
            "27/27 [==============================] - 0s 2ms/step - loss: 0.2491 - categorical_crossentropy: 1.5378 - accuracy: 0.4471 - val_loss: 0.2243 - val_categorical_crossentropy: 1.3511 - val_accuracy: 0.4667\n",
            "Epoch 78/125\n",
            "27/27 [==============================] - 0s 3ms/step - loss: 0.2490 - categorical_crossentropy: 1.5362 - accuracy: 0.4471 - val_loss: 0.2243 - val_categorical_crossentropy: 1.3498 - val_accuracy: 0.4667\n",
            "Epoch 79/125\n",
            "27/27 [==============================] - 0s 2ms/step - loss: 0.2489 - categorical_crossentropy: 1.5348 - accuracy: 0.4471 - val_loss: 0.2241 - val_categorical_crossentropy: 1.3482 - val_accuracy: 0.4667\n",
            "Epoch 80/125\n",
            "27/27 [==============================] - 0s 2ms/step - loss: 0.2487 - categorical_crossentropy: 1.5331 - accuracy: 0.4471 - val_loss: 0.2240 - val_categorical_crossentropy: 1.3469 - val_accuracy: 0.4667\n",
            "Epoch 81/125\n",
            "27/27 [==============================] - 0s 3ms/step - loss: 0.2486 - categorical_crossentropy: 1.5316 - accuracy: 0.4471 - val_loss: 0.2239 - val_categorical_crossentropy: 1.3456 - val_accuracy: 0.4667\n",
            "Epoch 82/125\n",
            "27/27 [==============================] - 0s 3ms/step - loss: 0.2485 - categorical_crossentropy: 1.5300 - accuracy: 0.4471 - val_loss: 0.2237 - val_categorical_crossentropy: 1.3439 - val_accuracy: 0.4667\n",
            "Epoch 83/125\n",
            "27/27 [==============================] - 0s 2ms/step - loss: 0.2484 - categorical_crossentropy: 1.5286 - accuracy: 0.4471 - val_loss: 0.2237 - val_categorical_crossentropy: 1.3429 - val_accuracy: 0.4667\n",
            "Epoch 84/125\n",
            "27/27 [==============================] - 0s 2ms/step - loss: 0.2482 - categorical_crossentropy: 1.5268 - accuracy: 0.4494 - val_loss: 0.2235 - val_categorical_crossentropy: 1.3410 - val_accuracy: 0.4667\n",
            "Epoch 85/125\n",
            "27/27 [==============================] - 0s 3ms/step - loss: 0.2481 - categorical_crossentropy: 1.5253 - accuracy: 0.4471 - val_loss: 0.2234 - val_categorical_crossentropy: 1.3397 - val_accuracy: 0.4667\n",
            "Epoch 86/125\n",
            "27/27 [==============================] - 0s 2ms/step - loss: 0.2480 - categorical_crossentropy: 1.5238 - accuracy: 0.4471 - val_loss: 0.2233 - val_categorical_crossentropy: 1.3384 - val_accuracy: 0.4667\n",
            "Epoch 87/125\n",
            "27/27 [==============================] - 0s 2ms/step - loss: 0.2479 - categorical_crossentropy: 1.5221 - accuracy: 0.4494 - val_loss: 0.2231 - val_categorical_crossentropy: 1.3366 - val_accuracy: 0.4667\n",
            "Epoch 88/125\n",
            "27/27 [==============================] - 0s 2ms/step - loss: 0.2477 - categorical_crossentropy: 1.5204 - accuracy: 0.4494 - val_loss: 0.2230 - val_categorical_crossentropy: 1.3354 - val_accuracy: 0.4667\n",
            "Epoch 89/125\n",
            "27/27 [==============================] - 0s 3ms/step - loss: 0.2476 - categorical_crossentropy: 1.5192 - accuracy: 0.4494 - val_loss: 0.2229 - val_categorical_crossentropy: 1.3341 - val_accuracy: 0.4667\n",
            "Epoch 90/125\n",
            "27/27 [==============================] - 0s 3ms/step - loss: 0.2475 - categorical_crossentropy: 1.5175 - accuracy: 0.4494 - val_loss: 0.2228 - val_categorical_crossentropy: 1.3325 - val_accuracy: 0.4667\n",
            "Epoch 91/125\n",
            "27/27 [==============================] - 0s 2ms/step - loss: 0.2473 - categorical_crossentropy: 1.5158 - accuracy: 0.4494 - val_loss: 0.2227 - val_categorical_crossentropy: 1.3311 - val_accuracy: 0.4667\n",
            "Epoch 92/125\n",
            "27/27 [==============================] - 0s 2ms/step - loss: 0.2472 - categorical_crossentropy: 1.5144 - accuracy: 0.4494 - val_loss: 0.2225 - val_categorical_crossentropy: 1.3296 - val_accuracy: 0.4667\n",
            "Epoch 93/125\n",
            "27/27 [==============================] - 0s 2ms/step - loss: 0.2472 - categorical_crossentropy: 1.5130 - accuracy: 0.4494 - val_loss: 0.2224 - val_categorical_crossentropy: 1.3283 - val_accuracy: 0.4667\n",
            "Epoch 94/125\n",
            "27/27 [==============================] - 0s 2ms/step - loss: 0.2471 - categorical_crossentropy: 1.5115 - accuracy: 0.4518 - val_loss: 0.2221 - val_categorical_crossentropy: 1.3263 - val_accuracy: 0.4667\n",
            "Epoch 95/125\n",
            "27/27 [==============================] - 0s 2ms/step - loss: 0.2469 - categorical_crossentropy: 1.5095 - accuracy: 0.4518 - val_loss: 0.2221 - val_categorical_crossentropy: 1.3252 - val_accuracy: 0.4667\n",
            "Epoch 96/125\n",
            "27/27 [==============================] - 0s 3ms/step - loss: 0.2467 - categorical_crossentropy: 1.5082 - accuracy: 0.4518 - val_loss: 0.2222 - val_categorical_crossentropy: 1.3245 - val_accuracy: 0.4667\n",
            "Epoch 97/125\n",
            "27/27 [==============================] - 0s 2ms/step - loss: 0.2466 - categorical_crossentropy: 1.5065 - accuracy: 0.4494 - val_loss: 0.2219 - val_categorical_crossentropy: 1.3227 - val_accuracy: 0.4667\n",
            "Epoch 98/125\n",
            "27/27 [==============================] - 0s 2ms/step - loss: 0.2465 - categorical_crossentropy: 1.5048 - accuracy: 0.4518 - val_loss: 0.2218 - val_categorical_crossentropy: 1.3213 - val_accuracy: 0.4667\n",
            "Epoch 99/125\n",
            "27/27 [==============================] - 0s 2ms/step - loss: 0.2464 - categorical_crossentropy: 1.5033 - accuracy: 0.4518 - val_loss: 0.2218 - val_categorical_crossentropy: 1.3201 - val_accuracy: 0.4667\n",
            "Epoch 100/125\n",
            "27/27 [==============================] - 0s 2ms/step - loss: 0.2462 - categorical_crossentropy: 1.5017 - accuracy: 0.4494 - val_loss: 0.2216 - val_categorical_crossentropy: 1.3184 - val_accuracy: 0.4667\n",
            "Epoch 101/125\n",
            "27/27 [==============================] - 0s 2ms/step - loss: 0.2461 - categorical_crossentropy: 1.5002 - accuracy: 0.4518 - val_loss: 0.2215 - val_categorical_crossentropy: 1.3171 - val_accuracy: 0.4667\n",
            "Epoch 102/125\n",
            "27/27 [==============================] - 0s 2ms/step - loss: 0.2460 - categorical_crossentropy: 1.4985 - accuracy: 0.4518 - val_loss: 0.2213 - val_categorical_crossentropy: 1.3155 - val_accuracy: 0.4667\n",
            "Epoch 103/125\n",
            "27/27 [==============================] - 0s 2ms/step - loss: 0.2459 - categorical_crossentropy: 1.4969 - accuracy: 0.4518 - val_loss: 0.2212 - val_categorical_crossentropy: 1.3142 - val_accuracy: 0.4667\n",
            "Epoch 104/125\n",
            "27/27 [==============================] - 0s 2ms/step - loss: 0.2458 - categorical_crossentropy: 1.4956 - accuracy: 0.4494 - val_loss: 0.2212 - val_categorical_crossentropy: 1.3131 - val_accuracy: 0.4667\n",
            "Epoch 105/125\n",
            "27/27 [==============================] - 0s 3ms/step - loss: 0.2456 - categorical_crossentropy: 1.4938 - accuracy: 0.4518 - val_loss: 0.2209 - val_categorical_crossentropy: 1.3111 - val_accuracy: 0.4667\n",
            "Epoch 106/125\n",
            "27/27 [==============================] - 0s 3ms/step - loss: 0.2455 - categorical_crossentropy: 1.4924 - accuracy: 0.4518 - val_loss: 0.2208 - val_categorical_crossentropy: 1.3100 - val_accuracy: 0.4667\n",
            "Epoch 107/125\n",
            "27/27 [==============================] - 0s 2ms/step - loss: 0.2454 - categorical_crossentropy: 1.4909 - accuracy: 0.4518 - val_loss: 0.2208 - val_categorical_crossentropy: 1.3090 - val_accuracy: 0.4667\n",
            "Epoch 108/125\n",
            "27/27 [==============================] - 0s 2ms/step - loss: 0.2452 - categorical_crossentropy: 1.4890 - accuracy: 0.4518 - val_loss: 0.2206 - val_categorical_crossentropy: 1.3071 - val_accuracy: 0.4667\n",
            "Epoch 109/125\n",
            "27/27 [==============================] - 0s 2ms/step - loss: 0.2451 - categorical_crossentropy: 1.4876 - accuracy: 0.4518 - val_loss: 0.2205 - val_categorical_crossentropy: 1.3059 - val_accuracy: 0.4667\n",
            "Epoch 110/125\n",
            "27/27 [==============================] - 0s 2ms/step - loss: 0.2450 - categorical_crossentropy: 1.4859 - accuracy: 0.4518 - val_loss: 0.2204 - val_categorical_crossentropy: 1.3045 - val_accuracy: 0.4667\n",
            "Epoch 111/125\n",
            "27/27 [==============================] - 0s 2ms/step - loss: 0.2448 - categorical_crossentropy: 1.4843 - accuracy: 0.4518 - val_loss: 0.2203 - val_categorical_crossentropy: 1.3031 - val_accuracy: 0.4667\n",
            "Epoch 112/125\n",
            "27/27 [==============================] - 0s 2ms/step - loss: 0.2447 - categorical_crossentropy: 1.4827 - accuracy: 0.4518 - val_loss: 0.2202 - val_categorical_crossentropy: 1.3017 - val_accuracy: 0.4667\n",
            "Epoch 113/125\n",
            "27/27 [==============================] - 0s 2ms/step - loss: 0.2446 - categorical_crossentropy: 1.4812 - accuracy: 0.4541 - val_loss: 0.2199 - val_categorical_crossentropy: 1.3000 - val_accuracy: 0.4667\n",
            "Epoch 114/125\n",
            "27/27 [==============================] - 0s 2ms/step - loss: 0.2445 - categorical_crossentropy: 1.4797 - accuracy: 0.4541 - val_loss: 0.2198 - val_categorical_crossentropy: 1.2986 - val_accuracy: 0.4667\n",
            "Epoch 115/125\n",
            "27/27 [==============================] - 0s 2ms/step - loss: 0.2444 - categorical_crossentropy: 1.4783 - accuracy: 0.4518 - val_loss: 0.2199 - val_categorical_crossentropy: 1.2980 - val_accuracy: 0.4667\n",
            "Epoch 116/125\n",
            "27/27 [==============================] - 0s 2ms/step - loss: 0.2442 - categorical_crossentropy: 1.4766 - accuracy: 0.4518 - val_loss: 0.2197 - val_categorical_crossentropy: 1.2965 - val_accuracy: 0.4667\n",
            "Epoch 117/125\n",
            "27/27 [==============================] - 0s 2ms/step - loss: 0.2441 - categorical_crossentropy: 1.4751 - accuracy: 0.4541 - val_loss: 0.2196 - val_categorical_crossentropy: 1.2949 - val_accuracy: 0.4667\n",
            "Epoch 118/125\n",
            "27/27 [==============================] - 0s 2ms/step - loss: 0.2440 - categorical_crossentropy: 1.4735 - accuracy: 0.4541 - val_loss: 0.2195 - val_categorical_crossentropy: 1.2936 - val_accuracy: 0.4667\n",
            "Epoch 119/125\n",
            "27/27 [==============================] - 0s 3ms/step - loss: 0.2439 - categorical_crossentropy: 1.4719 - accuracy: 0.4541 - val_loss: 0.2192 - val_categorical_crossentropy: 1.2919 - val_accuracy: 0.4667\n",
            "Epoch 120/125\n",
            "27/27 [==============================] - 0s 3ms/step - loss: 0.2437 - categorical_crossentropy: 1.4703 - accuracy: 0.4541 - val_loss: 0.2192 - val_categorical_crossentropy: 1.2907 - val_accuracy: 0.4667\n",
            "Epoch 121/125\n",
            "27/27 [==============================] - 0s 2ms/step - loss: 0.2436 - categorical_crossentropy: 1.4687 - accuracy: 0.4541 - val_loss: 0.2190 - val_categorical_crossentropy: 1.2893 - val_accuracy: 0.4667\n",
            "Epoch 122/125\n",
            "27/27 [==============================] - 0s 2ms/step - loss: 0.2435 - categorical_crossentropy: 1.4671 - accuracy: 0.4541 - val_loss: 0.2188 - val_categorical_crossentropy: 1.2875 - val_accuracy: 0.4667\n",
            "Epoch 123/125\n",
            "27/27 [==============================] - 0s 2ms/step - loss: 0.2434 - categorical_crossentropy: 1.4655 - accuracy: 0.4541 - val_loss: 0.2188 - val_categorical_crossentropy: 1.2866 - val_accuracy: 0.4667\n",
            "Epoch 124/125\n",
            "27/27 [==============================] - 0s 2ms/step - loss: 0.2432 - categorical_crossentropy: 1.4638 - accuracy: 0.4541 - val_loss: 0.2186 - val_categorical_crossentropy: 1.2848 - val_accuracy: 0.4667\n",
            "Epoch 125/125\n",
            "27/27 [==============================] - 0s 2ms/step - loss: 0.2431 - categorical_crossentropy: 1.4622 - accuracy: 0.4541 - val_loss: 0.2184 - val_categorical_crossentropy: 1.2833 - val_accuracy: 0.4667\n",
            "16/16 - 0s - loss: 0.2340 - categorical_crossentropy: 1.4396 - accuracy: 0.4960 - 23ms/epoch - 1ms/step\n"
          ]
        },
        {
          "output_type": "display_data",
          "data": {
            "text/plain": [
              "<Figure size 432x288 with 1 Axes>"
            ],
            "image/png": "[encoded data removed]"
          },
          "metadata": {
            "needs_background": "light"
          }
        },
        {
          "output_type": "execute_result",
          "data": {
            "text/plain": [
              "<keras.callbacks.History at 0x7fdce9b56ed0>"
            ]
          },
          "metadata": {},
          "execution_count": 73
        }
      ]
    },
    {
      "cell_type": "code",
      "execution_count": null,
      "id": "6f5e459c-4f1e-4bf3-88d7-3a7af2f789eb",
      "metadata": {
        "id": "6f5e459c-4f1e-4bf3-88d7-3a7af2f789eb"
      },
      "outputs": [],
      "source": [
        "plt.figure(figsize=(10,5))\n",
        "plt.plot(history.history['loss'])\n",
        "plt.plot(history.history['val_loss'])\n",
        "plt.title('Loss vs. epochs, batch=' +str(batch_size))\n",
        "plt.ylabel('Loss')\n",
        "plt.xlabel('Epoch')\n",
        "plt.legend(['Training', 'Validation'], loc='upper right')\n",
        "plt.show()"
      ]
    },
    {
      "cell_type": "markdown",
      "id": "467481cd-d773-479b-837b-94b0cd4c056a",
      "metadata": {
        "id": "467481cd-d773-479b-837b-94b0cd4c056a"
      },
      "source": [
        "##### LR =  0.001"
      ]
    },
    {
      "cell_type": "markdown",
      "id": "bd885be3-5ac4-4bad-80eb-7a9e1850a3e5",
      "metadata": {
        "id": "bd885be3-5ac4-4bad-80eb-7a9e1850a3e5"
      },
      "source": [
        "10. **Retrain for 0.001 LR**"
      ]
    },
    {
      "cell_type": "code",
      "execution_count": null,
      "id": "afa0d071-55ed-42e5-bd40-ef410c33128f",
      "metadata": {
        "tags": [],
        "id": "afa0d071-55ed-42e5-bd40-ef410c33128f",
        "colab": {
          "base_uri": "https://localhost:8080/",
          "height": 1000
        },
        "outputId": "e24cfe77-d522-437f-a3d9-3cd1adca2f3e"
      },
      "outputs": [
        {
          "output_type": "stream",
          "name": "stdout",
          "text": [
            "Epoch 1/125\n",
            "27/27 [==============================] - 0s 7ms/step - loss: 0.3082 - categorical_crossentropy: 2.1295 - accuracy: 0.3718 - val_loss: 0.2493 - val_categorical_crossentropy: 1.4455 - val_accuracy: 0.4800\n",
            "Epoch 2/125\n",
            "27/27 [==============================] - 0s 3ms/step - loss: 0.2506 - categorical_crossentropy: 1.6930 - accuracy: 0.4376 - val_loss: 0.2061 - val_categorical_crossentropy: 1.4246 - val_accuracy: 0.5067\n",
            "Epoch 3/125\n",
            "27/27 [==============================] - 0s 3ms/step - loss: 0.2296 - categorical_crossentropy: 1.5376 - accuracy: 0.4706 - val_loss: 0.1894 - val_categorical_crossentropy: 1.2205 - val_accuracy: 0.5467\n",
            "Epoch 4/125\n",
            "27/27 [==============================] - 0s 2ms/step - loss: 0.2155 - categorical_crossentropy: 1.4068 - accuracy: 0.5529 - val_loss: 0.1741 - val_categorical_crossentropy: 1.0543 - val_accuracy: 0.6267\n",
            "Epoch 5/125\n",
            "27/27 [==============================] - 0s 2ms/step - loss: 0.2076 - categorical_crossentropy: 1.3003 - accuracy: 0.5788 - val_loss: 0.1823 - val_categorical_crossentropy: 1.0294 - val_accuracy: 0.6000\n",
            "Epoch 6/125\n",
            "27/27 [==============================] - 0s 2ms/step - loss: 0.2020 - categorical_crossentropy: 1.2452 - accuracy: 0.5976 - val_loss: 0.1713 - val_categorical_crossentropy: 0.9646 - val_accuracy: 0.6400\n",
            "Epoch 7/125\n",
            "27/27 [==============================] - 0s 2ms/step - loss: 0.1970 - categorical_crossentropy: 1.1809 - accuracy: 0.6000 - val_loss: 0.1667 - val_categorical_crossentropy: 0.9135 - val_accuracy: 0.6400\n",
            "Epoch 8/125\n",
            "27/27 [==============================] - 0s 2ms/step - loss: 0.1936 - categorical_crossentropy: 1.1315 - accuracy: 0.6047 - val_loss: 0.1670 - val_categorical_crossentropy: 0.8758 - val_accuracy: 0.6400\n",
            "Epoch 9/125\n",
            "27/27 [==============================] - 0s 2ms/step - loss: 0.1903 - categorical_crossentropy: 1.0752 - accuracy: 0.6024 - val_loss: 0.1555 - val_categorical_crossentropy: 0.8287 - val_accuracy: 0.6533\n",
            "Epoch 10/125\n",
            "27/27 [==============================] - 0s 2ms/step - loss: 0.1889 - categorical_crossentropy: 1.0324 - accuracy: 0.6000 - val_loss: 0.1543 - val_categorical_crossentropy: 0.8150 - val_accuracy: 0.6267\n",
            "Epoch 11/125\n",
            "27/27 [==============================] - 0s 2ms/step - loss: 0.1841 - categorical_crossentropy: 0.9975 - accuracy: 0.6071 - val_loss: 0.1504 - val_categorical_crossentropy: 0.7382 - val_accuracy: 0.6267\n",
            "Epoch 12/125\n",
            "27/27 [==============================] - 0s 2ms/step - loss: 0.1766 - categorical_crossentropy: 0.9333 - accuracy: 0.6165 - val_loss: 0.1418 - val_categorical_crossentropy: 0.6958 - val_accuracy: 0.6400\n",
            "Epoch 13/125\n",
            "27/27 [==============================] - 0s 2ms/step - loss: 0.1711 - categorical_crossentropy: 0.9030 - accuracy: 0.6024 - val_loss: 0.1380 - val_categorical_crossentropy: 0.6830 - val_accuracy: 0.6267\n",
            "Epoch 14/125\n",
            "27/27 [==============================] - 0s 2ms/step - loss: 0.1693 - categorical_crossentropy: 0.8813 - accuracy: 0.6071 - val_loss: 0.1360 - val_categorical_crossentropy: 0.6745 - val_accuracy: 0.6800\n",
            "Epoch 15/125\n",
            "27/27 [==============================] - 0s 2ms/step - loss: 0.1683 - categorical_crossentropy: 0.8656 - accuracy: 0.6141 - val_loss: 0.1355 - val_categorical_crossentropy: 0.6742 - val_accuracy: 0.6533\n",
            "Epoch 16/125\n",
            "27/27 [==============================] - 0s 2ms/step - loss: 0.1653 - categorical_crossentropy: 0.8418 - accuracy: 0.6165 - val_loss: 0.1319 - val_categorical_crossentropy: 0.6561 - val_accuracy: 0.6933\n",
            "Epoch 17/125\n",
            "27/27 [==============================] - 0s 2ms/step - loss: 0.1619 - categorical_crossentropy: 0.8153 - accuracy: 0.6000 - val_loss: 0.1308 - val_categorical_crossentropy: 0.6508 - val_accuracy: 0.6533\n",
            "Epoch 18/125\n",
            "27/27 [==============================] - 0s 2ms/step - loss: 0.1595 - categorical_crossentropy: 0.7934 - accuracy: 0.6141 - val_loss: 0.1273 - val_categorical_crossentropy: 0.6388 - val_accuracy: 0.6800\n",
            "Epoch 19/125\n",
            "27/27 [==============================] - 0s 3ms/step - loss: 0.1522 - categorical_crossentropy: 0.7563 - accuracy: 0.6259 - val_loss: 0.1271 - val_categorical_crossentropy: 0.6405 - val_accuracy: 0.6800\n",
            "Epoch 20/125\n",
            "27/27 [==============================] - 0s 2ms/step - loss: 0.1476 - categorical_crossentropy: 0.7342 - accuracy: 0.6329 - val_loss: 0.1270 - val_categorical_crossentropy: 0.6434 - val_accuracy: 0.6667\n",
            "Epoch 21/125\n",
            "27/27 [==============================] - 0s 3ms/step - loss: 0.1462 - categorical_crossentropy: 0.7245 - accuracy: 0.6259 - val_loss: 0.1306 - val_categorical_crossentropy: 0.6612 - val_accuracy: 0.6400\n",
            "Epoch 22/125\n",
            "27/27 [==============================] - 0s 2ms/step - loss: 0.1397 - categorical_crossentropy: 0.7083 - accuracy: 0.6565 - val_loss: 0.1261 - val_categorical_crossentropy: 0.6443 - val_accuracy: 0.7067\n",
            "Epoch 23/125\n",
            "27/27 [==============================] - 0s 2ms/step - loss: 0.1391 - categorical_crossentropy: 0.7017 - accuracy: 0.6376 - val_loss: 0.1266 - val_categorical_crossentropy: 0.6451 - val_accuracy: 0.6933\n",
            "Epoch 24/125\n",
            "27/27 [==============================] - 0s 2ms/step - loss: 0.1385 - categorical_crossentropy: 0.6970 - accuracy: 0.6635 - val_loss: 0.1259 - val_categorical_crossentropy: 0.6410 - val_accuracy: 0.6800\n",
            "Epoch 25/125\n",
            "27/27 [==============================] - 0s 3ms/step - loss: 0.1362 - categorical_crossentropy: 0.6916 - accuracy: 0.6753 - val_loss: 0.1293 - val_categorical_crossentropy: 0.6523 - val_accuracy: 0.6533\n",
            "Epoch 26/125\n",
            "27/27 [==============================] - 0s 2ms/step - loss: 0.1342 - categorical_crossentropy: 0.6821 - accuracy: 0.6753 - val_loss: 0.1257 - val_categorical_crossentropy: 0.6380 - val_accuracy: 0.7200\n",
            "Epoch 27/125\n",
            "27/27 [==============================] - 0s 3ms/step - loss: 0.1404 - categorical_crossentropy: 0.7053 - accuracy: 0.6776 - val_loss: 0.1441 - val_categorical_crossentropy: 0.7056 - val_accuracy: 0.6800\n",
            "Epoch 28/125\n",
            "27/27 [==============================] - 0s 2ms/step - loss: 0.1341 - categorical_crossentropy: 0.6806 - accuracy: 0.6871 - val_loss: 0.1243 - val_categorical_crossentropy: 0.6299 - val_accuracy: 0.6800\n",
            "Epoch 29/125\n",
            "27/27 [==============================] - 0s 2ms/step - loss: 0.1330 - categorical_crossentropy: 0.6739 - accuracy: 0.6776 - val_loss: 0.1280 - val_categorical_crossentropy: 0.6428 - val_accuracy: 0.6533\n",
            "Epoch 30/125\n",
            "27/27 [==============================] - 0s 2ms/step - loss: 0.1370 - categorical_crossentropy: 0.6902 - accuracy: 0.6753 - val_loss: 0.1220 - val_categorical_crossentropy: 0.6197 - val_accuracy: 0.7200\n",
            "Epoch 31/125\n",
            "27/27 [==============================] - 0s 2ms/step - loss: 0.1323 - categorical_crossentropy: 0.6716 - accuracy: 0.6706 - val_loss: 0.1218 - val_categorical_crossentropy: 0.6176 - val_accuracy: 0.7200\n",
            "Epoch 32/125\n",
            "27/27 [==============================] - 0s 2ms/step - loss: 0.1334 - categorical_crossentropy: 0.6774 - accuracy: 0.6871 - val_loss: 0.1188 - val_categorical_crossentropy: 0.6054 - val_accuracy: 0.7333\n",
            "Epoch 33/125\n",
            "27/27 [==============================] - 0s 2ms/step - loss: 0.1297 - categorical_crossentropy: 0.6621 - accuracy: 0.6871 - val_loss: 0.1192 - val_categorical_crossentropy: 0.6069 - val_accuracy: 0.7200\n",
            "Epoch 34/125\n",
            "27/27 [==============================] - 0s 3ms/step - loss: 0.1295 - categorical_crossentropy: 0.6588 - accuracy: 0.6847 - val_loss: 0.1195 - val_categorical_crossentropy: 0.6079 - val_accuracy: 0.7200\n",
            "Epoch 35/125\n",
            "27/27 [==============================] - 0s 2ms/step - loss: 0.1299 - categorical_crossentropy: 0.6622 - accuracy: 0.6894 - val_loss: 0.1193 - val_categorical_crossentropy: 0.6078 - val_accuracy: 0.7200\n",
            "Epoch 36/125\n",
            "27/27 [==============================] - 0s 2ms/step - loss: 0.1295 - categorical_crossentropy: 0.6555 - accuracy: 0.6776 - val_loss: 0.1197 - val_categorical_crossentropy: 0.6086 - val_accuracy: 0.7067\n",
            "Epoch 37/125\n",
            "27/27 [==============================] - 0s 2ms/step - loss: 0.1297 - categorical_crossentropy: 0.6634 - accuracy: 0.6941 - val_loss: 0.1218 - val_categorical_crossentropy: 0.6185 - val_accuracy: 0.7200\n",
            "Epoch 38/125\n",
            "27/27 [==============================] - 0s 2ms/step - loss: 0.1315 - categorical_crossentropy: 0.6630 - accuracy: 0.6729 - val_loss: 0.1179 - val_categorical_crossentropy: 0.5995 - val_accuracy: 0.7333\n",
            "Epoch 39/125\n",
            "27/27 [==============================] - 0s 2ms/step - loss: 0.1276 - categorical_crossentropy: 0.6510 - accuracy: 0.7012 - val_loss: 0.1169 - val_categorical_crossentropy: 0.5970 - val_accuracy: 0.7200\n",
            "Epoch 40/125\n",
            "27/27 [==============================] - 0s 2ms/step - loss: 0.1278 - categorical_crossentropy: 0.6521 - accuracy: 0.6894 - val_loss: 0.1154 - val_categorical_crossentropy: 0.5894 - val_accuracy: 0.7600\n",
            "Epoch 41/125\n",
            "27/27 [==============================] - 0s 2ms/step - loss: 0.1277 - categorical_crossentropy: 0.6481 - accuracy: 0.6918 - val_loss: 0.1164 - val_categorical_crossentropy: 0.5954 - val_accuracy: 0.7333\n",
            "Epoch 42/125\n",
            "27/27 [==============================] - 0s 2ms/step - loss: 0.1277 - categorical_crossentropy: 0.6485 - accuracy: 0.6894 - val_loss: 0.1156 - val_categorical_crossentropy: 0.5919 - val_accuracy: 0.7600\n",
            "Epoch 43/125\n",
            "27/27 [==============================] - 0s 2ms/step - loss: 0.1279 - categorical_crossentropy: 0.6512 - accuracy: 0.7082 - val_loss: 0.1145 - val_categorical_crossentropy: 0.5860 - val_accuracy: 0.7600\n",
            "Epoch 44/125\n",
            "27/27 [==============================] - 0s 2ms/step - loss: 0.1285 - categorical_crossentropy: 0.6496 - accuracy: 0.7012 - val_loss: 0.1153 - val_categorical_crossentropy: 0.5906 - val_accuracy: 0.7600\n",
            "Epoch 45/125\n",
            "27/27 [==============================] - 0s 2ms/step - loss: 0.1267 - categorical_crossentropy: 0.6476 - accuracy: 0.7012 - val_loss: 0.1155 - val_categorical_crossentropy: 0.5904 - val_accuracy: 0.7467\n",
            "Epoch 46/125\n",
            "27/27 [==============================] - 0s 2ms/step - loss: 0.1269 - categorical_crossentropy: 0.6448 - accuracy: 0.6988 - val_loss: 0.1190 - val_categorical_crossentropy: 0.6054 - val_accuracy: 0.6933\n",
            "Epoch 47/125\n",
            "27/27 [==============================] - 0s 2ms/step - loss: 0.1286 - categorical_crossentropy: 0.6515 - accuracy: 0.7035 - val_loss: 0.1133 - val_categorical_crossentropy: 0.5810 - val_accuracy: 0.7467\n",
            "Epoch 48/125\n",
            "27/27 [==============================] - 0s 2ms/step - loss: 0.1246 - categorical_crossentropy: 0.6392 - accuracy: 0.7082 - val_loss: 0.1149 - val_categorical_crossentropy: 0.5879 - val_accuracy: 0.7733\n",
            "Epoch 49/125\n",
            "27/27 [==============================] - 0s 3ms/step - loss: 0.1243 - categorical_crossentropy: 0.6345 - accuracy: 0.6988 - val_loss: 0.1134 - val_categorical_crossentropy: 0.5817 - val_accuracy: 0.7733\n",
            "Epoch 50/125\n",
            "27/27 [==============================] - 0s 3ms/step - loss: 0.1253 - categorical_crossentropy: 0.6394 - accuracy: 0.6988 - val_loss: 0.1123 - val_categorical_crossentropy: 0.5762 - val_accuracy: 0.7733\n",
            "Epoch 51/125\n",
            "27/27 [==============================] - 0s 2ms/step - loss: 0.1234 - categorical_crossentropy: 0.6279 - accuracy: 0.7012 - val_loss: 0.1119 - val_categorical_crossentropy: 0.5750 - val_accuracy: 0.7733\n",
            "Epoch 52/125\n",
            "27/27 [==============================] - 0s 2ms/step - loss: 0.1229 - categorical_crossentropy: 0.6306 - accuracy: 0.7035 - val_loss: 0.1129 - val_categorical_crossentropy: 0.5758 - val_accuracy: 0.7333\n",
            "Epoch 53/125\n",
            "27/27 [==============================] - 0s 2ms/step - loss: 0.1232 - categorical_crossentropy: 0.6310 - accuracy: 0.7106 - val_loss: 0.1130 - val_categorical_crossentropy: 0.5770 - val_accuracy: 0.7333\n",
            "Epoch 54/125\n",
            "27/27 [==============================] - 0s 3ms/step - loss: 0.1244 - categorical_crossentropy: 0.6318 - accuracy: 0.7012 - val_loss: 0.1121 - val_categorical_crossentropy: 0.5767 - val_accuracy: 0.7733\n",
            "Epoch 55/125\n",
            "27/27 [==============================] - 0s 2ms/step - loss: 0.1208 - categorical_crossentropy: 0.6217 - accuracy: 0.7412 - val_loss: 0.1138 - val_categorical_crossentropy: 0.5821 - val_accuracy: 0.7333\n",
            "Epoch 56/125\n",
            "27/27 [==============================] - 0s 2ms/step - loss: 0.1238 - categorical_crossentropy: 0.6313 - accuracy: 0.7176 - val_loss: 0.1171 - val_categorical_crossentropy: 0.5980 - val_accuracy: 0.7067\n",
            "Epoch 57/125\n",
            "27/27 [==============================] - 0s 2ms/step - loss: 0.1226 - categorical_crossentropy: 0.6263 - accuracy: 0.7153 - val_loss: 0.1116 - val_categorical_crossentropy: 0.5722 - val_accuracy: 0.7733\n",
            "Epoch 58/125\n",
            "27/27 [==============================] - 0s 2ms/step - loss: 0.1222 - categorical_crossentropy: 0.6253 - accuracy: 0.7318 - val_loss: 0.1112 - val_categorical_crossentropy: 0.5682 - val_accuracy: 0.7467\n",
            "Epoch 59/125\n",
            "27/27 [==============================] - 0s 2ms/step - loss: 0.1215 - categorical_crossentropy: 0.6209 - accuracy: 0.7224 - val_loss: 0.1104 - val_categorical_crossentropy: 0.5671 - val_accuracy: 0.7733\n",
            "Epoch 60/125\n",
            "27/27 [==============================] - 0s 2ms/step - loss: 0.1203 - categorical_crossentropy: 0.6151 - accuracy: 0.7200 - val_loss: 0.1100 - val_categorical_crossentropy: 0.5665 - val_accuracy: 0.7867\n",
            "Epoch 61/125\n",
            "27/27 [==============================] - 0s 2ms/step - loss: 0.1208 - categorical_crossentropy: 0.6197 - accuracy: 0.7224 - val_loss: 0.1107 - val_categorical_crossentropy: 0.5693 - val_accuracy: 0.8000\n",
            "Epoch 62/125\n",
            "27/27 [==============================] - 0s 2ms/step - loss: 0.1231 - categorical_crossentropy: 0.6262 - accuracy: 0.7271 - val_loss: 0.1127 - val_categorical_crossentropy: 0.5767 - val_accuracy: 0.7467\n",
            "Epoch 63/125\n",
            "27/27 [==============================] - 0s 2ms/step - loss: 0.1235 - categorical_crossentropy: 0.6320 - accuracy: 0.7341 - val_loss: 0.1136 - val_categorical_crossentropy: 0.5766 - val_accuracy: 0.7333\n",
            "Epoch 64/125\n",
            "27/27 [==============================] - 0s 2ms/step - loss: 0.1218 - categorical_crossentropy: 0.6206 - accuracy: 0.7271 - val_loss: 0.1087 - val_categorical_crossentropy: 0.5604 - val_accuracy: 0.7867\n",
            "Epoch 65/125\n",
            "27/27 [==============================] - 0s 2ms/step - loss: 0.1217 - categorical_crossentropy: 0.6216 - accuracy: 0.7341 - val_loss: 0.1171 - val_categorical_crossentropy: 0.5936 - val_accuracy: 0.7600\n",
            "Epoch 66/125\n",
            "27/27 [==============================] - 0s 3ms/step - loss: 0.1200 - categorical_crossentropy: 0.6152 - accuracy: 0.7365 - val_loss: 0.1107 - val_categorical_crossentropy: 0.5698 - val_accuracy: 0.7733\n",
            "Epoch 67/125\n",
            "27/27 [==============================] - 0s 2ms/step - loss: 0.1191 - categorical_crossentropy: 0.6097 - accuracy: 0.7318 - val_loss: 0.1081 - val_categorical_crossentropy: 0.5585 - val_accuracy: 0.7733\n",
            "Epoch 68/125\n",
            "27/27 [==============================] - 0s 2ms/step - loss: 0.1193 - categorical_crossentropy: 0.6135 - accuracy: 0.7341 - val_loss: 0.1082 - val_categorical_crossentropy: 0.5561 - val_accuracy: 0.7733\n",
            "Epoch 69/125\n",
            "27/27 [==============================] - 0s 2ms/step - loss: 0.1193 - categorical_crossentropy: 0.6082 - accuracy: 0.7294 - val_loss: 0.1089 - val_categorical_crossentropy: 0.5564 - val_accuracy: 0.7600\n",
            "Epoch 70/125\n",
            "27/27 [==============================] - 0s 2ms/step - loss: 0.1196 - categorical_crossentropy: 0.6135 - accuracy: 0.7365 - val_loss: 0.1153 - val_categorical_crossentropy: 0.5860 - val_accuracy: 0.7067\n",
            "Epoch 71/125\n",
            "27/27 [==============================] - 0s 2ms/step - loss: 0.1208 - categorical_crossentropy: 0.6177 - accuracy: 0.7435 - val_loss: 0.1067 - val_categorical_crossentropy: 0.5493 - val_accuracy: 0.7733\n",
            "Epoch 72/125\n",
            "27/27 [==============================] - 0s 2ms/step - loss: 0.1188 - categorical_crossentropy: 0.6058 - accuracy: 0.7318 - val_loss: 0.1085 - val_categorical_crossentropy: 0.5570 - val_accuracy: 0.7733\n",
            "Epoch 73/125\n",
            "27/27 [==============================] - 0s 2ms/step - loss: 0.1183 - categorical_crossentropy: 0.6061 - accuracy: 0.7506 - val_loss: 0.1102 - val_categorical_crossentropy: 0.5609 - val_accuracy: 0.7733\n",
            "Epoch 74/125\n",
            "27/27 [==============================] - 0s 2ms/step - loss: 0.1172 - categorical_crossentropy: 0.5999 - accuracy: 0.7365 - val_loss: 0.1065 - val_categorical_crossentropy: 0.5512 - val_accuracy: 0.7867\n",
            "Epoch 75/125\n",
            "27/27 [==============================] - 0s 2ms/step - loss: 0.1190 - categorical_crossentropy: 0.6108 - accuracy: 0.7553 - val_loss: 0.1048 - val_categorical_crossentropy: 0.5410 - val_accuracy: 0.7867\n",
            "Epoch 76/125\n",
            "27/27 [==============================] - 0s 2ms/step - loss: 0.1211 - categorical_crossentropy: 0.6126 - accuracy: 0.7176 - val_loss: 0.1064 - val_categorical_crossentropy: 0.5479 - val_accuracy: 0.7867\n",
            "Epoch 77/125\n",
            "27/27 [==============================] - 0s 2ms/step - loss: 0.1182 - categorical_crossentropy: 0.6049 - accuracy: 0.7271 - val_loss: 0.1054 - val_categorical_crossentropy: 0.5400 - val_accuracy: 0.7867\n",
            "Epoch 78/125\n",
            "27/27 [==============================] - 0s 2ms/step - loss: 0.1184 - categorical_crossentropy: 0.6024 - accuracy: 0.7388 - val_loss: 0.1060 - val_categorical_crossentropy: 0.5492 - val_accuracy: 0.8000\n",
            "Epoch 79/125\n",
            "27/27 [==============================] - 0s 2ms/step - loss: 0.1191 - categorical_crossentropy: 0.6080 - accuracy: 0.7271 - val_loss: 0.1092 - val_categorical_crossentropy: 0.5627 - val_accuracy: 0.8000\n",
            "Epoch 80/125\n",
            "27/27 [==============================] - 0s 2ms/step - loss: 0.1183 - categorical_crossentropy: 0.6028 - accuracy: 0.7482 - val_loss: 0.1038 - val_categorical_crossentropy: 0.5374 - val_accuracy: 0.7867\n",
            "Epoch 81/125\n",
            "27/27 [==============================] - 0s 3ms/step - loss: 0.1163 - categorical_crossentropy: 0.6008 - accuracy: 0.7482 - val_loss: 0.1038 - val_categorical_crossentropy: 0.5357 - val_accuracy: 0.7867\n",
            "Epoch 82/125\n",
            "27/27 [==============================] - 0s 2ms/step - loss: 0.1147 - categorical_crossentropy: 0.5877 - accuracy: 0.7506 - val_loss: 0.1039 - val_categorical_crossentropy: 0.5334 - val_accuracy: 0.7867\n",
            "Epoch 83/125\n",
            "27/27 [==============================] - 0s 2ms/step - loss: 0.1168 - categorical_crossentropy: 0.5990 - accuracy: 0.7459 - val_loss: 0.1059 - val_categorical_crossentropy: 0.5451 - val_accuracy: 0.7600\n",
            "Epoch 84/125\n",
            "27/27 [==============================] - 0s 3ms/step - loss: 0.1183 - categorical_crossentropy: 0.5985 - accuracy: 0.7388 - val_loss: 0.1052 - val_categorical_crossentropy: 0.5374 - val_accuracy: 0.7600\n",
            "Epoch 85/125\n",
            "27/27 [==============================] - 0s 2ms/step - loss: 0.1193 - categorical_crossentropy: 0.6054 - accuracy: 0.7247 - val_loss: 0.1109 - val_categorical_crossentropy: 0.5704 - val_accuracy: 0.7867\n",
            "Epoch 86/125\n",
            "27/27 [==============================] - 0s 2ms/step - loss: 0.1157 - categorical_crossentropy: 0.5950 - accuracy: 0.7459 - val_loss: 0.1085 - val_categorical_crossentropy: 0.5544 - val_accuracy: 0.8000\n",
            "Epoch 87/125\n",
            "27/27 [==============================] - 0s 2ms/step - loss: 0.1138 - categorical_crossentropy: 0.5853 - accuracy: 0.7435 - val_loss: 0.1039 - val_categorical_crossentropy: 0.5360 - val_accuracy: 0.7867\n",
            "Epoch 88/125\n",
            "27/27 [==============================] - 0s 2ms/step - loss: 0.1140 - categorical_crossentropy: 0.5885 - accuracy: 0.7529 - val_loss: 0.1031 - val_categorical_crossentropy: 0.5336 - val_accuracy: 0.8000\n",
            "Epoch 89/125\n",
            "27/27 [==============================] - 0s 2ms/step - loss: 0.1145 - categorical_crossentropy: 0.5867 - accuracy: 0.7365 - val_loss: 0.1050 - val_categorical_crossentropy: 0.5366 - val_accuracy: 0.7600\n",
            "Epoch 90/125\n",
            "27/27 [==============================] - 0s 2ms/step - loss: 0.1149 - categorical_crossentropy: 0.5890 - accuracy: 0.7529 - val_loss: 0.1024 - val_categorical_crossentropy: 0.5312 - val_accuracy: 0.8000\n",
            "Epoch 91/125\n",
            "27/27 [==============================] - 0s 2ms/step - loss: 0.1154 - categorical_crossentropy: 0.5933 - accuracy: 0.7624 - val_loss: 0.1047 - val_categorical_crossentropy: 0.5433 - val_accuracy: 0.7867\n",
            "Epoch 92/125\n",
            "27/27 [==============================] - 0s 2ms/step - loss: 0.1160 - categorical_crossentropy: 0.5953 - accuracy: 0.7624 - val_loss: 0.1018 - val_categorical_crossentropy: 0.5274 - val_accuracy: 0.8133\n",
            "Epoch 93/125\n",
            "27/27 [==============================] - 0s 2ms/step - loss: 0.1141 - categorical_crossentropy: 0.5825 - accuracy: 0.7365 - val_loss: 0.1027 - val_categorical_crossentropy: 0.5328 - val_accuracy: 0.8000\n",
            "Epoch 94/125\n",
            "27/27 [==============================] - 0s 2ms/step - loss: 0.1119 - categorical_crossentropy: 0.5806 - accuracy: 0.7765 - val_loss: 0.1022 - val_categorical_crossentropy: 0.5279 - val_accuracy: 0.7733\n",
            "Epoch 95/125\n",
            "27/27 [==============================] - 0s 2ms/step - loss: 0.1137 - categorical_crossentropy: 0.5843 - accuracy: 0.7529 - val_loss: 0.1038 - val_categorical_crossentropy: 0.5360 - val_accuracy: 0.8000\n",
            "Epoch 96/125\n",
            "27/27 [==============================] - 0s 2ms/step - loss: 0.1127 - categorical_crossentropy: 0.5832 - accuracy: 0.7624 - val_loss: 0.1056 - val_categorical_crossentropy: 0.5450 - val_accuracy: 0.8000\n",
            "Epoch 97/125\n",
            "27/27 [==============================] - 0s 2ms/step - loss: 0.1138 - categorical_crossentropy: 0.5835 - accuracy: 0.7576 - val_loss: 0.1016 - val_categorical_crossentropy: 0.5246 - val_accuracy: 0.8000\n",
            "Epoch 98/125\n",
            "27/27 [==============================] - 0s 2ms/step - loss: 0.1160 - categorical_crossentropy: 0.5941 - accuracy: 0.7435 - val_loss: 0.1026 - val_categorical_crossentropy: 0.5320 - val_accuracy: 0.7867\n",
            "Epoch 99/125\n",
            "27/27 [==============================] - 0s 2ms/step - loss: 0.1158 - categorical_crossentropy: 0.5888 - accuracy: 0.7365 - val_loss: 0.1044 - val_categorical_crossentropy: 0.5351 - val_accuracy: 0.7600\n",
            "Epoch 100/125\n",
            "27/27 [==============================] - 0s 2ms/step - loss: 0.1145 - categorical_crossentropy: 0.5896 - accuracy: 0.7529 - val_loss: 0.1010 - val_categorical_crossentropy: 0.5219 - val_accuracy: 0.7867\n",
            "Epoch 101/125\n",
            "27/27 [==============================] - 0s 2ms/step - loss: 0.1132 - categorical_crossentropy: 0.5809 - accuracy: 0.7600 - val_loss: 0.1017 - val_categorical_crossentropy: 0.5274 - val_accuracy: 0.8000\n",
            "Epoch 102/125\n",
            "27/27 [==============================] - 0s 2ms/step - loss: 0.1101 - categorical_crossentropy: 0.5688 - accuracy: 0.7647 - val_loss: 0.1017 - val_categorical_crossentropy: 0.5257 - val_accuracy: 0.8000\n",
            "Epoch 103/125\n",
            "27/27 [==============================] - 0s 3ms/step - loss: 0.1122 - categorical_crossentropy: 0.5767 - accuracy: 0.7694 - val_loss: 0.1013 - val_categorical_crossentropy: 0.5243 - val_accuracy: 0.8000\n",
            "Epoch 104/125\n",
            "27/27 [==============================] - 0s 2ms/step - loss: 0.1121 - categorical_crossentropy: 0.5748 - accuracy: 0.7600 - val_loss: 0.1036 - val_categorical_crossentropy: 0.5298 - val_accuracy: 0.7600\n",
            "Epoch 105/125\n",
            "27/27 [==============================] - 0s 2ms/step - loss: 0.1125 - categorical_crossentropy: 0.5751 - accuracy: 0.7576 - val_loss: 0.1005 - val_categorical_crossentropy: 0.5180 - val_accuracy: 0.7867\n",
            "Epoch 106/125\n",
            "27/27 [==============================] - 0s 2ms/step - loss: 0.1102 - categorical_crossentropy: 0.5682 - accuracy: 0.7694 - val_loss: 0.1008 - val_categorical_crossentropy: 0.5195 - val_accuracy: 0.7867\n",
            "Epoch 107/125\n",
            "27/27 [==============================] - 0s 2ms/step - loss: 0.1088 - categorical_crossentropy: 0.5643 - accuracy: 0.7741 - val_loss: 0.1086 - val_categorical_crossentropy: 0.5479 - val_accuracy: 0.7333\n",
            "Epoch 108/125\n",
            "27/27 [==============================] - 0s 2ms/step - loss: 0.1118 - categorical_crossentropy: 0.5741 - accuracy: 0.7694 - val_loss: 0.1062 - val_categorical_crossentropy: 0.5367 - val_accuracy: 0.7733\n",
            "Epoch 109/125\n",
            "27/27 [==============================] - 0s 2ms/step - loss: 0.1110 - categorical_crossentropy: 0.5707 - accuracy: 0.7694 - val_loss: 0.1000 - val_categorical_crossentropy: 0.5190 - val_accuracy: 0.8000\n",
            "Epoch 110/125\n",
            "27/27 [==============================] - 0s 2ms/step - loss: 0.1106 - categorical_crossentropy: 0.5674 - accuracy: 0.7694 - val_loss: 0.0997 - val_categorical_crossentropy: 0.5156 - val_accuracy: 0.8133\n",
            "Epoch 111/125\n",
            "27/27 [==============================] - 0s 2ms/step - loss: 0.1095 - categorical_crossentropy: 0.5664 - accuracy: 0.7741 - val_loss: 0.0999 - val_categorical_crossentropy: 0.5155 - val_accuracy: 0.8000\n",
            "Epoch 112/125\n",
            "27/27 [==============================] - 0s 2ms/step - loss: 0.1095 - categorical_crossentropy: 0.5632 - accuracy: 0.7647 - val_loss: 0.1041 - val_categorical_crossentropy: 0.5351 - val_accuracy: 0.8267\n",
            "Epoch 113/125\n",
            "27/27 [==============================] - 0s 3ms/step - loss: 0.1103 - categorical_crossentropy: 0.5645 - accuracy: 0.7624 - val_loss: 0.1015 - val_categorical_crossentropy: 0.5183 - val_accuracy: 0.7733\n",
            "Epoch 114/125\n",
            "27/27 [==============================] - 0s 2ms/step - loss: 0.1098 - categorical_crossentropy: 0.5659 - accuracy: 0.7647 - val_loss: 0.1008 - val_categorical_crossentropy: 0.5228 - val_accuracy: 0.8000\n",
            "Epoch 115/125\n",
            "27/27 [==============================] - 0s 2ms/step - loss: 0.1130 - categorical_crossentropy: 0.5796 - accuracy: 0.7576 - val_loss: 0.0999 - val_categorical_crossentropy: 0.5136 - val_accuracy: 0.8000\n",
            "Epoch 116/125\n",
            "27/27 [==============================] - 0s 2ms/step - loss: 0.1118 - categorical_crossentropy: 0.5695 - accuracy: 0.7718 - val_loss: 0.0991 - val_categorical_crossentropy: 0.5101 - val_accuracy: 0.8000\n",
            "Epoch 117/125\n",
            "27/27 [==============================] - 0s 2ms/step - loss: 0.1094 - categorical_crossentropy: 0.5650 - accuracy: 0.7647 - val_loss: 0.1006 - val_categorical_crossentropy: 0.5220 - val_accuracy: 0.8000\n",
            "Epoch 118/125\n",
            "27/27 [==============================] - 0s 2ms/step - loss: 0.1088 - categorical_crossentropy: 0.5593 - accuracy: 0.7741 - val_loss: 0.1046 - val_categorical_crossentropy: 0.5338 - val_accuracy: 0.8133\n",
            "Epoch 119/125\n",
            "27/27 [==============================] - 0s 3ms/step - loss: 0.1104 - categorical_crossentropy: 0.5668 - accuracy: 0.7788 - val_loss: 0.0989 - val_categorical_crossentropy: 0.5106 - val_accuracy: 0.8133\n",
            "Epoch 120/125\n",
            "27/27 [==============================] - 0s 2ms/step - loss: 0.1139 - categorical_crossentropy: 0.5774 - accuracy: 0.7529 - val_loss: 0.1052 - val_categorical_crossentropy: 0.5358 - val_accuracy: 0.7733\n",
            "Epoch 121/125\n",
            "27/27 [==============================] - 0s 2ms/step - loss: 0.1083 - categorical_crossentropy: 0.5593 - accuracy: 0.7765 - val_loss: 0.0980 - val_categorical_crossentropy: 0.5079 - val_accuracy: 0.8000\n",
            "Epoch 122/125\n",
            "27/27 [==============================] - 0s 2ms/step - loss: 0.1085 - categorical_crossentropy: 0.5598 - accuracy: 0.7812 - val_loss: 0.0985 - val_categorical_crossentropy: 0.5084 - val_accuracy: 0.8000\n",
            "Epoch 123/125\n",
            "27/27 [==============================] - 0s 2ms/step - loss: 0.1120 - categorical_crossentropy: 0.5696 - accuracy: 0.7694 - val_loss: 0.0999 - val_categorical_crossentropy: 0.5130 - val_accuracy: 0.8000\n",
            "Epoch 124/125\n",
            "27/27 [==============================] - 0s 3ms/step - loss: 0.1090 - categorical_crossentropy: 0.5601 - accuracy: 0.7694 - val_loss: 0.0976 - val_categorical_crossentropy: 0.5036 - val_accuracy: 0.8000\n",
            "Epoch 125/125\n",
            "27/27 [==============================] - 0s 2ms/step - loss: 0.1071 - categorical_crossentropy: 0.5523 - accuracy: 0.7694 - val_loss: 0.1013 - val_categorical_crossentropy: 0.5237 - val_accuracy: 0.8133\n",
            "16/16 - 0s - loss: 0.1036 - categorical_crossentropy: 0.5525 - accuracy: 0.8320 - 23ms/epoch - 1ms/step\n"
          ]
        },
        {
          "output_type": "display_data",
          "data": {
            "text/plain": [
              "<Figure size 432x288 with 1 Axes>"
            ],
            "image/png": "[encoded data removed]"
          },
          "metadata": {
            "needs_background": "light"
          }
        },
        {
          "output_type": "execute_result",
          "data": {
            "text/plain": [
              "<keras.callbacks.History at 0x7fdce99e0c10>"
            ]
          },
          "metadata": {},
          "execution_count": 74
        }
      ],
      "source": [
        "### START CODE HERE ### ()\n",
        "fit_better_model(X_train, y_train, X_test, y_test, 16, 0.001)  # batch num is not specified, I used 16"
      ]
    },
    {
      "cell_type": "code",
      "execution_count": null,
      "id": "53bf0abf-a145-4081-aa0b-e4ffe73c9357",
      "metadata": {
        "id": "53bf0abf-a145-4081-aa0b-e4ffe73c9357"
      },
      "outputs": [],
      "source": [
        "plt.figure(figsize=(10,5))\n",
        "plt.plot(history.history['loss'])\n",
        "plt.plot(history.history['val_loss'])\n",
        "plt.title('Loss vs. epochs, batch=' +str(batch_size))\n",
        "plt.ylabel('Loss')\n",
        "plt.xlabel('Epoch')\n",
        "plt.legend(['Training', 'Validation'], loc='upper right')\n",
        "plt.show()"
      ]
    },
    {
      "cell_type": "markdown",
      "id": "9c476d8f-d9d5-49e9-bcb1-c47f3505d456",
      "metadata": {
        "id": "9c476d8f-d9d5-49e9-bcb1-c47f3505d456"
      },
      "source": [
        "##### LR =  0.1"
      ]
    },
    {
      "cell_type": "markdown",
      "id": "5538b4df-7c6b-4d4d-9cbd-e7b14e57a8d6",
      "metadata": {
        "id": "5538b4df-7c6b-4d4d-9cbd-e7b14e57a8d6"
      },
      "source": [
        "10. **Retrain for 0.1 LR**"
      ]
    },
    {
      "cell_type": "code",
      "execution_count": null,
      "id": "2c320fde-e42b-4d0a-941c-86b2c5817c66",
      "metadata": {
        "tags": [],
        "id": "2c320fde-e42b-4d0a-941c-86b2c5817c66",
        "colab": {
          "base_uri": "https://localhost:8080/",
          "height": 1000
        },
        "outputId": "7bf72eb1-1111-46fd-cd7b-8b35c79c028d"
      },
      "outputs": [
        {
          "output_type": "stream",
          "name": "stdout",
          "text": [
            "Epoch 1/125\n",
            "27/27 [==============================] - 0s 6ms/step - loss: 0.3717 - categorical_crossentropy: 16.1518 - accuracy: 0.4212 - val_loss: 0.3462 - val_categorical_crossentropy: 20.4968 - val_accuracy: 0.4800\n",
            "Epoch 2/125\n",
            "27/27 [==============================] - 0s 2ms/step - loss: 0.3344 - categorical_crossentropy: 16.2178 - accuracy: 0.4941 - val_loss: 0.3459 - val_categorical_crossentropy: 21.9037 - val_accuracy: 0.4800\n",
            "Epoch 3/125\n",
            "27/27 [==============================] - 0s 2ms/step - loss: 0.3340 - categorical_crossentropy: 16.8776 - accuracy: 0.4918 - val_loss: 0.3562 - val_categorical_crossentropy: 14.1959 - val_accuracy: 0.4400\n",
            "Epoch 4/125\n",
            "27/27 [==============================] - 0s 2ms/step - loss: 0.3289 - categorical_crossentropy: 12.4836 - accuracy: 0.4965 - val_loss: 0.3275 - val_categorical_crossentropy: 13.2444 - val_accuracy: 0.5067\n",
            "Epoch 5/125\n",
            "27/27 [==============================] - 0s 2ms/step - loss: 0.3264 - categorical_crossentropy: 9.1510 - accuracy: 0.4941 - val_loss: 0.3562 - val_categorical_crossentropy: 10.4922 - val_accuracy: 0.4400\n",
            "Epoch 6/125\n",
            "27/27 [==============================] - 0s 2ms/step - loss: 0.3268 - categorical_crossentropy: 12.8295 - accuracy: 0.5035 - val_loss: 0.3443 - val_categorical_crossentropy: 15.0749 - val_accuracy: 0.4800\n",
            "Epoch 7/125\n",
            "27/27 [==============================] - 0s 2ms/step - loss: 0.3114 - categorical_crossentropy: 9.6086 - accuracy: 0.5106 - val_loss: 0.3170 - val_categorical_crossentropy: 10.4116 - val_accuracy: 0.5200\n",
            "Epoch 8/125\n",
            "27/27 [==============================] - 0s 2ms/step - loss: 0.3911 - categorical_crossentropy: 20.4338 - accuracy: 0.4024 - val_loss: 0.3167 - val_categorical_crossentropy: 19.2401 - val_accuracy: 0.5200\n",
            "Epoch 9/125\n",
            "27/27 [==============================] - 0s 2ms/step - loss: 0.3294 - categorical_crossentropy: 18.1894 - accuracy: 0.4965 - val_loss: 0.2959 - val_categorical_crossentropy: 14.1034 - val_accuracy: 0.5467\n",
            "Epoch 10/125\n",
            "27/27 [==============================] - 0s 3ms/step - loss: 0.3097 - categorical_crossentropy: 14.4162 - accuracy: 0.5224 - val_loss: 0.2954 - val_categorical_crossentropy: 13.2313 - val_accuracy: 0.5467\n",
            "Epoch 11/125\n",
            "27/27 [==============================] - 0s 3ms/step - loss: 0.3008 - categorical_crossentropy: 12.5984 - accuracy: 0.5365 - val_loss: 0.2689 - val_categorical_crossentropy: 10.7228 - val_accuracy: 0.5733\n",
            "Epoch 12/125\n",
            "27/27 [==============================] - 0s 2ms/step - loss: 0.2716 - categorical_crossentropy: 8.4402 - accuracy: 0.5741 - val_loss: 0.2064 - val_categorical_crossentropy: 6.1151 - val_accuracy: 0.6667\n",
            "Epoch 13/125\n",
            "27/27 [==============================] - 0s 2ms/step - loss: 0.2326 - categorical_crossentropy: 5.9512 - accuracy: 0.6259 - val_loss: 0.2389 - val_categorical_crossentropy: 5.7262 - val_accuracy: 0.6133\n",
            "Epoch 14/125\n",
            "27/27 [==============================] - 0s 2ms/step - loss: 0.2239 - categorical_crossentropy: 8.3024 - accuracy: 0.6447 - val_loss: 0.2045 - val_categorical_crossentropy: 8.5724 - val_accuracy: 0.6800\n",
            "Epoch 15/125\n",
            "27/27 [==============================] - 0s 2ms/step - loss: 0.2252 - categorical_crossentropy: 7.9892 - accuracy: 0.6471 - val_loss: 0.1828 - val_categorical_crossentropy: 7.5298 - val_accuracy: 0.7067\n",
            "Epoch 16/125\n",
            "27/27 [==============================] - 0s 2ms/step - loss: 0.2065 - categorical_crossentropy: 6.7695 - accuracy: 0.6706 - val_loss: 0.1995 - val_categorical_crossentropy: 8.0826 - val_accuracy: 0.6933\n",
            "Epoch 17/125\n",
            "27/27 [==============================] - 0s 2ms/step - loss: 0.1897 - categorical_crossentropy: 6.4017 - accuracy: 0.6894 - val_loss: 0.1774 - val_categorical_crossentropy: 6.8906 - val_accuracy: 0.7200\n",
            "Epoch 18/125\n",
            "27/27 [==============================] - 0s 2ms/step - loss: 0.1948 - categorical_crossentropy: 5.7038 - accuracy: 0.6871 - val_loss: 0.1673 - val_categorical_crossentropy: 6.2122 - val_accuracy: 0.7333\n",
            "Epoch 19/125\n",
            "27/27 [==============================] - 0s 2ms/step - loss: 0.1864 - categorical_crossentropy: 5.3246 - accuracy: 0.7012 - val_loss: 0.1741 - val_categorical_crossentropy: 5.5925 - val_accuracy: 0.7067\n",
            "Epoch 20/125\n",
            "27/27 [==============================] - 0s 2ms/step - loss: 0.1780 - categorical_crossentropy: 4.9800 - accuracy: 0.7012 - val_loss: 0.2165 - val_categorical_crossentropy: 5.3633 - val_accuracy: 0.6533\n",
            "Epoch 21/125\n",
            "27/27 [==============================] - 0s 2ms/step - loss: 0.1796 - categorical_crossentropy: 4.6352 - accuracy: 0.7129 - val_loss: 0.1997 - val_categorical_crossentropy: 5.9865 - val_accuracy: 0.6800\n",
            "Epoch 22/125\n",
            "27/27 [==============================] - 0s 3ms/step - loss: 0.1795 - categorical_crossentropy: 5.0239 - accuracy: 0.6988 - val_loss: 0.1828 - val_categorical_crossentropy: 5.1927 - val_accuracy: 0.6800\n",
            "Epoch 23/125\n",
            "27/27 [==============================] - 0s 3ms/step - loss: 0.1747 - categorical_crossentropy: 4.7000 - accuracy: 0.7012 - val_loss: 0.1406 - val_categorical_crossentropy: 4.2716 - val_accuracy: 0.7733\n",
            "Epoch 24/125\n",
            "27/27 [==============================] - 0s 2ms/step - loss: 0.1530 - categorical_crossentropy: 3.5130 - accuracy: 0.7459 - val_loss: 0.1897 - val_categorical_crossentropy: 3.5757 - val_accuracy: 0.6800\n",
            "Epoch 25/125\n",
            "27/27 [==============================] - 0s 2ms/step - loss: 0.1512 - categorical_crossentropy: 3.0422 - accuracy: 0.7482 - val_loss: 0.1894 - val_categorical_crossentropy: 3.3462 - val_accuracy: 0.7067\n",
            "Epoch 26/125\n",
            "27/27 [==============================] - 0s 3ms/step - loss: 0.1570 - categorical_crossentropy: 2.7926 - accuracy: 0.7341 - val_loss: 0.1396 - val_categorical_crossentropy: 2.5788 - val_accuracy: 0.7733\n",
            "Epoch 27/125\n",
            "27/27 [==============================] - 0s 2ms/step - loss: 0.1423 - categorical_crossentropy: 2.1803 - accuracy: 0.7553 - val_loss: 0.1369 - val_categorical_crossentropy: 2.3975 - val_accuracy: 0.7333\n",
            "Epoch 28/125\n",
            "27/27 [==============================] - 0s 2ms/step - loss: 0.1265 - categorical_crossentropy: 1.5649 - accuracy: 0.7718 - val_loss: 0.1158 - val_categorical_crossentropy: 1.3145 - val_accuracy: 0.7733\n",
            "Epoch 29/125\n",
            "27/27 [==============================] - 0s 2ms/step - loss: 0.1188 - categorical_crossentropy: 1.1311 - accuracy: 0.7765 - val_loss: 0.1329 - val_categorical_crossentropy: 1.2177 - val_accuracy: 0.7200\n",
            "Epoch 30/125\n",
            "27/27 [==============================] - 0s 2ms/step - loss: 0.1029 - categorical_crossentropy: 0.9020 - accuracy: 0.8047 - val_loss: 0.0931 - val_categorical_crossentropy: 1.0524 - val_accuracy: 0.8267\n",
            "Epoch 31/125\n",
            "27/27 [==============================] - 0s 2ms/step - loss: 0.1272 - categorical_crossentropy: 1.2303 - accuracy: 0.7624 - val_loss: 0.0954 - val_categorical_crossentropy: 1.0499 - val_accuracy: 0.8133\n",
            "Epoch 32/125\n",
            "27/27 [==============================] - 0s 2ms/step - loss: 0.1046 - categorical_crossentropy: 0.8655 - accuracy: 0.7906 - val_loss: 0.0916 - val_categorical_crossentropy: 0.9777 - val_accuracy: 0.8133\n",
            "Epoch 33/125\n",
            "27/27 [==============================] - 0s 2ms/step - loss: 0.0968 - categorical_crossentropy: 0.7785 - accuracy: 0.8165 - val_loss: 0.0900 - val_categorical_crossentropy: 0.9974 - val_accuracy: 0.8267\n",
            "Epoch 34/125\n",
            "27/27 [==============================] - 0s 3ms/step - loss: 0.0963 - categorical_crossentropy: 0.7583 - accuracy: 0.8047 - val_loss: 0.0988 - val_categorical_crossentropy: 1.0693 - val_accuracy: 0.8000\n",
            "Epoch 35/125\n",
            "27/27 [==============================] - 0s 2ms/step - loss: 0.0951 - categorical_crossentropy: 0.7655 - accuracy: 0.8094 - val_loss: 0.1127 - val_categorical_crossentropy: 1.0451 - val_accuracy: 0.7467\n",
            "Epoch 36/125\n",
            "27/27 [==============================] - 0s 2ms/step - loss: 0.0937 - categorical_crossentropy: 0.7496 - accuracy: 0.8306 - val_loss: 0.1053 - val_categorical_crossentropy: 1.0796 - val_accuracy: 0.7867\n",
            "Epoch 37/125\n",
            "27/27 [==============================] - 0s 2ms/step - loss: 0.1112 - categorical_crossentropy: 0.8601 - accuracy: 0.7741 - val_loss: 0.1095 - val_categorical_crossentropy: 1.0239 - val_accuracy: 0.7467\n",
            "Epoch 38/125\n",
            "27/27 [==============================] - 0s 2ms/step - loss: 0.0933 - categorical_crossentropy: 0.7075 - accuracy: 0.8141 - val_loss: 0.0868 - val_categorical_crossentropy: 0.9218 - val_accuracy: 0.8267\n",
            "Epoch 39/125\n",
            "27/27 [==============================] - 0s 2ms/step - loss: 0.1050 - categorical_crossentropy: 0.7731 - accuracy: 0.7929 - val_loss: 0.1208 - val_categorical_crossentropy: 1.3429 - val_accuracy: 0.7600\n",
            "Epoch 40/125\n",
            "27/27 [==============================] - 0s 2ms/step - loss: 0.1163 - categorical_crossentropy: 0.9410 - accuracy: 0.7906 - val_loss: 0.1049 - val_categorical_crossentropy: 1.0732 - val_accuracy: 0.7867\n",
            "Epoch 41/125\n",
            "27/27 [==============================] - 0s 2ms/step - loss: 0.1046 - categorical_crossentropy: 0.8162 - accuracy: 0.7976 - val_loss: 0.0941 - val_categorical_crossentropy: 0.9573 - val_accuracy: 0.8133\n",
            "Epoch 42/125\n",
            "27/27 [==============================] - 0s 2ms/step - loss: 0.0962 - categorical_crossentropy: 0.7285 - accuracy: 0.8141 - val_loss: 0.0984 - val_categorical_crossentropy: 0.9929 - val_accuracy: 0.7867\n",
            "Epoch 43/125\n",
            "27/27 [==============================] - 0s 2ms/step - loss: 0.0990 - categorical_crossentropy: 0.7121 - accuracy: 0.7953 - val_loss: 0.0939 - val_categorical_crossentropy: 0.9723 - val_accuracy: 0.8133\n",
            "Epoch 44/125\n",
            "27/27 [==============================] - 0s 2ms/step - loss: 0.0964 - categorical_crossentropy: 0.6739 - accuracy: 0.7953 - val_loss: 0.0890 - val_categorical_crossentropy: 0.8799 - val_accuracy: 0.8267\n",
            "Epoch 45/125\n",
            "27/27 [==============================] - 0s 2ms/step - loss: 0.0936 - categorical_crossentropy: 0.6480 - accuracy: 0.8071 - val_loss: 0.0943 - val_categorical_crossentropy: 0.8922 - val_accuracy: 0.7867\n",
            "Epoch 46/125\n",
            "27/27 [==============================] - 0s 2ms/step - loss: 0.0918 - categorical_crossentropy: 0.6585 - accuracy: 0.8212 - val_loss: 0.0908 - val_categorical_crossentropy: 0.8838 - val_accuracy: 0.7733\n",
            "Epoch 47/125\n",
            "27/27 [==============================] - 0s 3ms/step - loss: 0.0934 - categorical_crossentropy: 0.6644 - accuracy: 0.8282 - val_loss: 0.0971 - val_categorical_crossentropy: 0.9058 - val_accuracy: 0.8000\n",
            "Epoch 48/125\n",
            "27/27 [==============================] - 0s 2ms/step - loss: 0.0921 - categorical_crossentropy: 0.6418 - accuracy: 0.8165 - val_loss: 0.0927 - val_categorical_crossentropy: 0.8642 - val_accuracy: 0.7867\n",
            "Epoch 49/125\n",
            "27/27 [==============================] - 0s 2ms/step - loss: 0.0943 - categorical_crossentropy: 0.6585 - accuracy: 0.8141 - val_loss: 0.0991 - val_categorical_crossentropy: 0.9375 - val_accuracy: 0.8000\n",
            "Epoch 50/125\n",
            "27/27 [==============================] - 0s 2ms/step - loss: 0.0884 - categorical_crossentropy: 0.6451 - accuracy: 0.8282 - val_loss: 0.0885 - val_categorical_crossentropy: 0.8566 - val_accuracy: 0.8267\n",
            "Epoch 51/125\n",
            "27/27 [==============================] - 0s 2ms/step - loss: 0.0889 - categorical_crossentropy: 0.6084 - accuracy: 0.8424 - val_loss: 0.1094 - val_categorical_crossentropy: 0.9827 - val_accuracy: 0.7733\n",
            "Epoch 52/125\n",
            "27/27 [==============================] - 0s 2ms/step - loss: 0.0902 - categorical_crossentropy: 0.6016 - accuracy: 0.8259 - val_loss: 0.0935 - val_categorical_crossentropy: 0.8787 - val_accuracy: 0.7867\n",
            "Epoch 53/125\n",
            "27/27 [==============================] - 0s 2ms/step - loss: 0.0895 - categorical_crossentropy: 0.6085 - accuracy: 0.8235 - val_loss: 0.0966 - val_categorical_crossentropy: 0.8606 - val_accuracy: 0.7867\n",
            "Epoch 54/125\n",
            "27/27 [==============================] - 0s 2ms/step - loss: 0.0867 - categorical_crossentropy: 0.5973 - accuracy: 0.8282 - val_loss: 0.0874 - val_categorical_crossentropy: 0.8231 - val_accuracy: 0.8000\n",
            "Epoch 55/125\n",
            "27/27 [==============================] - 0s 2ms/step - loss: 0.0851 - categorical_crossentropy: 0.5874 - accuracy: 0.8259 - val_loss: 0.1003 - val_categorical_crossentropy: 0.8618 - val_accuracy: 0.7733\n",
            "Epoch 56/125\n",
            "27/27 [==============================] - 0s 2ms/step - loss: 0.0839 - categorical_crossentropy: 0.5920 - accuracy: 0.8329 - val_loss: 0.0917 - val_categorical_crossentropy: 0.8458 - val_accuracy: 0.7733\n",
            "Epoch 57/125\n",
            "27/27 [==============================] - 0s 2ms/step - loss: 0.1024 - categorical_crossentropy: 0.6779 - accuracy: 0.8047 - val_loss: 0.1028 - val_categorical_crossentropy: 0.8582 - val_accuracy: 0.7733\n",
            "Epoch 58/125\n",
            "27/27 [==============================] - 0s 2ms/step - loss: 0.0902 - categorical_crossentropy: 0.5810 - accuracy: 0.8094 - val_loss: 0.0852 - val_categorical_crossentropy: 0.7892 - val_accuracy: 0.8133\n",
            "Epoch 59/125\n",
            "27/27 [==============================] - 0s 2ms/step - loss: 0.0923 - categorical_crossentropy: 0.6122 - accuracy: 0.8141 - val_loss: 0.0889 - val_categorical_crossentropy: 0.8091 - val_accuracy: 0.8133\n",
            "Epoch 60/125\n",
            "27/27 [==============================] - 0s 2ms/step - loss: 0.0884 - categorical_crossentropy: 0.5884 - accuracy: 0.8141 - val_loss: 0.0902 - val_categorical_crossentropy: 0.8092 - val_accuracy: 0.8000\n",
            "Epoch 61/125\n",
            "27/27 [==============================] - 0s 2ms/step - loss: 0.0862 - categorical_crossentropy: 0.5634 - accuracy: 0.8282 - val_loss: 0.0866 - val_categorical_crossentropy: 0.7891 - val_accuracy: 0.8267\n",
            "Epoch 62/125\n",
            "27/27 [==============================] - 0s 2ms/step - loss: 0.0840 - categorical_crossentropy: 0.5519 - accuracy: 0.8329 - val_loss: 0.0924 - val_categorical_crossentropy: 0.8078 - val_accuracy: 0.8000\n",
            "Epoch 63/125\n",
            "27/27 [==============================] - 0s 2ms/step - loss: 0.0886 - categorical_crossentropy: 0.5713 - accuracy: 0.8235 - val_loss: 0.0955 - val_categorical_crossentropy: 0.8787 - val_accuracy: 0.8267\n",
            "Epoch 64/125\n",
            "27/27 [==============================] - 0s 2ms/step - loss: 0.0934 - categorical_crossentropy: 0.6149 - accuracy: 0.8165 - val_loss: 0.1016 - val_categorical_crossentropy: 0.8407 - val_accuracy: 0.7733\n",
            "Epoch 65/125\n",
            "27/27 [==============================] - 0s 2ms/step - loss: 0.0871 - categorical_crossentropy: 0.5480 - accuracy: 0.8329 - val_loss: 0.1037 - val_categorical_crossentropy: 0.8549 - val_accuracy: 0.7600\n",
            "Epoch 66/125\n",
            "27/27 [==============================] - 0s 2ms/step - loss: 0.0852 - categorical_crossentropy: 0.5570 - accuracy: 0.8306 - val_loss: 0.0946 - val_categorical_crossentropy: 0.8127 - val_accuracy: 0.7867\n",
            "Epoch 67/125\n",
            "27/27 [==============================] - 0s 2ms/step - loss: 0.0849 - categorical_crossentropy: 0.5476 - accuracy: 0.8306 - val_loss: 0.0919 - val_categorical_crossentropy: 0.8317 - val_accuracy: 0.7867\n",
            "Epoch 68/125\n",
            "27/27 [==============================] - 0s 2ms/step - loss: 0.0850 - categorical_crossentropy: 0.5438 - accuracy: 0.8235 - val_loss: 0.0959 - val_categorical_crossentropy: 0.8074 - val_accuracy: 0.8000\n",
            "Epoch 69/125\n",
            "27/27 [==============================] - 0s 2ms/step - loss: 0.0863 - categorical_crossentropy: 0.5634 - accuracy: 0.8306 - val_loss: 0.0909 - val_categorical_crossentropy: 0.8155 - val_accuracy: 0.7867\n",
            "Epoch 70/125\n",
            "27/27 [==============================] - 0s 3ms/step - loss: 0.0855 - categorical_crossentropy: 0.5480 - accuracy: 0.8212 - val_loss: 0.0932 - val_categorical_crossentropy: 0.7994 - val_accuracy: 0.7867\n",
            "Epoch 71/125\n",
            "27/27 [==============================] - 0s 2ms/step - loss: 0.0886 - categorical_crossentropy: 0.5837 - accuracy: 0.8282 - val_loss: 0.1086 - val_categorical_crossentropy: 0.8593 - val_accuracy: 0.7867\n",
            "Epoch 72/125\n",
            "27/27 [==============================] - 0s 2ms/step - loss: 0.0945 - categorical_crossentropy: 0.6107 - accuracy: 0.8118 - val_loss: 0.0987 - val_categorical_crossentropy: 0.8936 - val_accuracy: 0.8000\n",
            "Epoch 73/125\n",
            "27/27 [==============================] - 0s 2ms/step - loss: 0.0902 - categorical_crossentropy: 0.5761 - accuracy: 0.8000 - val_loss: 0.0910 - val_categorical_crossentropy: 0.8131 - val_accuracy: 0.8133\n",
            "Epoch 74/125\n",
            "27/27 [==============================] - 0s 3ms/step - loss: 0.0832 - categorical_crossentropy: 0.5418 - accuracy: 0.8424 - val_loss: 0.0896 - val_categorical_crossentropy: 0.7854 - val_accuracy: 0.8133\n",
            "Epoch 75/125\n",
            "27/27 [==============================] - 0s 2ms/step - loss: 0.0996 - categorical_crossentropy: 0.5995 - accuracy: 0.7953 - val_loss: 0.0893 - val_categorical_crossentropy: 0.7831 - val_accuracy: 0.7867\n",
            "Epoch 76/125\n",
            "27/27 [==============================] - 0s 2ms/step - loss: 0.0837 - categorical_crossentropy: 0.5454 - accuracy: 0.8376 - val_loss: 0.0958 - val_categorical_crossentropy: 0.7891 - val_accuracy: 0.7867\n",
            "Epoch 77/125\n",
            "27/27 [==============================] - 0s 2ms/step - loss: 0.0850 - categorical_crossentropy: 0.5423 - accuracy: 0.8212 - val_loss: 0.0915 - val_categorical_crossentropy: 0.7864 - val_accuracy: 0.8267\n",
            "Epoch 78/125\n",
            "27/27 [==============================] - 0s 3ms/step - loss: 0.0835 - categorical_crossentropy: 0.5244 - accuracy: 0.8376 - val_loss: 0.0914 - val_categorical_crossentropy: 0.7800 - val_accuracy: 0.7733\n",
            "Epoch 79/125\n",
            "27/27 [==============================] - 0s 2ms/step - loss: 0.0843 - categorical_crossentropy: 0.5373 - accuracy: 0.8353 - val_loss: 0.0909 - val_categorical_crossentropy: 0.7671 - val_accuracy: 0.8133\n",
            "Epoch 80/125\n",
            "27/27 [==============================] - 0s 2ms/step - loss: 0.0835 - categorical_crossentropy: 0.5328 - accuracy: 0.8471 - val_loss: 0.0884 - val_categorical_crossentropy: 0.7648 - val_accuracy: 0.7867\n",
            "Epoch 81/125\n",
            "27/27 [==============================] - 0s 2ms/step - loss: 0.0832 - categorical_crossentropy: 0.5363 - accuracy: 0.8400 - val_loss: 0.0968 - val_categorical_crossentropy: 0.8084 - val_accuracy: 0.7867\n",
            "Epoch 82/125\n",
            "27/27 [==============================] - 0s 3ms/step - loss: 0.0850 - categorical_crossentropy: 0.5501 - accuracy: 0.8235 - val_loss: 0.0913 - val_categorical_crossentropy: 0.7589 - val_accuracy: 0.8267\n",
            "Epoch 83/125\n",
            "27/27 [==============================] - 0s 2ms/step - loss: 0.0854 - categorical_crossentropy: 0.5492 - accuracy: 0.8376 - val_loss: 0.1016 - val_categorical_crossentropy: 0.7952 - val_accuracy: 0.7733\n",
            "Epoch 84/125\n",
            "27/27 [==============================] - 0s 2ms/step - loss: 0.0913 - categorical_crossentropy: 0.5817 - accuracy: 0.8141 - val_loss: 0.0917 - val_categorical_crossentropy: 0.7600 - val_accuracy: 0.8267\n",
            "Epoch 85/125\n",
            "27/27 [==============================] - 0s 2ms/step - loss: 0.0870 - categorical_crossentropy: 0.5492 - accuracy: 0.8212 - val_loss: 0.0865 - val_categorical_crossentropy: 0.7546 - val_accuracy: 0.8133\n",
            "Epoch 86/125\n",
            "27/27 [==============================] - 0s 2ms/step - loss: 0.0863 - categorical_crossentropy: 0.5572 - accuracy: 0.8306 - val_loss: 0.0963 - val_categorical_crossentropy: 0.7834 - val_accuracy: 0.7733\n",
            "Epoch 87/125\n",
            "27/27 [==============================] - 0s 2ms/step - loss: 0.0873 - categorical_crossentropy: 0.5450 - accuracy: 0.8400 - val_loss: 0.0926 - val_categorical_crossentropy: 0.7804 - val_accuracy: 0.8000\n",
            "Epoch 88/125\n",
            "27/27 [==============================] - 0s 2ms/step - loss: 0.0868 - categorical_crossentropy: 0.5442 - accuracy: 0.8212 - val_loss: 0.0879 - val_categorical_crossentropy: 0.7409 - val_accuracy: 0.8267\n",
            "Epoch 89/125\n",
            "27/27 [==============================] - 0s 2ms/step - loss: 0.0797 - categorical_crossentropy: 0.5138 - accuracy: 0.8471 - val_loss: 0.0918 - val_categorical_crossentropy: 0.7779 - val_accuracy: 0.7733\n",
            "Epoch 90/125\n",
            "27/27 [==============================] - 0s 2ms/step - loss: 0.0834 - categorical_crossentropy: 0.5302 - accuracy: 0.8235 - val_loss: 0.0914 - val_categorical_crossentropy: 0.7494 - val_accuracy: 0.8000\n",
            "Epoch 91/125\n",
            "27/27 [==============================] - 0s 2ms/step - loss: 0.0822 - categorical_crossentropy: 0.5150 - accuracy: 0.8447 - val_loss: 0.0902 - val_categorical_crossentropy: 0.7727 - val_accuracy: 0.8000\n",
            "Epoch 92/125\n",
            "27/27 [==============================] - 0s 2ms/step - loss: 0.0918 - categorical_crossentropy: 0.5695 - accuracy: 0.8188 - val_loss: 0.1072 - val_categorical_crossentropy: 0.7982 - val_accuracy: 0.7333\n",
            "Epoch 93/125\n",
            "27/27 [==============================] - 0s 2ms/step - loss: 0.0927 - categorical_crossentropy: 0.5620 - accuracy: 0.8141 - val_loss: 0.0903 - val_categorical_crossentropy: 0.7518 - val_accuracy: 0.8000\n",
            "Epoch 94/125\n",
            "27/27 [==============================] - 0s 2ms/step - loss: 0.0870 - categorical_crossentropy: 0.5346 - accuracy: 0.8353 - val_loss: 0.0976 - val_categorical_crossentropy: 0.7705 - val_accuracy: 0.7867\n",
            "Epoch 95/125\n",
            "27/27 [==============================] - 0s 2ms/step - loss: 0.0838 - categorical_crossentropy: 0.5212 - accuracy: 0.8329 - val_loss: 0.0900 - val_categorical_crossentropy: 0.7710 - val_accuracy: 0.8267\n",
            "Epoch 96/125\n",
            "27/27 [==============================] - 0s 2ms/step - loss: 0.0871 - categorical_crossentropy: 0.5386 - accuracy: 0.8188 - val_loss: 0.0932 - val_categorical_crossentropy: 0.7323 - val_accuracy: 0.8133\n",
            "Epoch 97/125\n",
            "27/27 [==============================] - 0s 2ms/step - loss: 0.0884 - categorical_crossentropy: 0.5419 - accuracy: 0.8235 - val_loss: 0.1036 - val_categorical_crossentropy: 0.7831 - val_accuracy: 0.7600\n",
            "Epoch 98/125\n",
            "27/27 [==============================] - 0s 2ms/step - loss: 0.0880 - categorical_crossentropy: 0.5729 - accuracy: 0.8259 - val_loss: 0.0988 - val_categorical_crossentropy: 0.7738 - val_accuracy: 0.7733\n",
            "Epoch 99/125\n",
            "27/27 [==============================] - 0s 3ms/step - loss: 0.0904 - categorical_crossentropy: 0.5691 - accuracy: 0.8165 - val_loss: 0.0912 - val_categorical_crossentropy: 0.7955 - val_accuracy: 0.8133\n",
            "Epoch 100/125\n",
            "27/27 [==============================] - 0s 2ms/step - loss: 0.0919 - categorical_crossentropy: 0.5751 - accuracy: 0.8259 - val_loss: 0.0972 - val_categorical_crossentropy: 0.7682 - val_accuracy: 0.7867\n",
            "Epoch 101/125\n",
            "27/27 [==============================] - 0s 3ms/step - loss: 0.0904 - categorical_crossentropy: 0.5469 - accuracy: 0.8212 - val_loss: 0.0902 - val_categorical_crossentropy: 0.7411 - val_accuracy: 0.8133\n",
            "Epoch 102/125\n",
            "27/27 [==============================] - 0s 2ms/step - loss: 0.0836 - categorical_crossentropy: 0.5211 - accuracy: 0.8329 - val_loss: 0.1079 - val_categorical_crossentropy: 0.7852 - val_accuracy: 0.7733\n",
            "Epoch 103/125\n",
            "27/27 [==============================] - 0s 2ms/step - loss: 0.0835 - categorical_crossentropy: 0.5222 - accuracy: 0.8471 - val_loss: 0.0943 - val_categorical_crossentropy: 0.7960 - val_accuracy: 0.8133\n",
            "Epoch 104/125\n",
            "27/27 [==============================] - 0s 2ms/step - loss: 0.0914 - categorical_crossentropy: 0.5734 - accuracy: 0.8259 - val_loss: 0.0959 - val_categorical_crossentropy: 0.7440 - val_accuracy: 0.8000\n",
            "Epoch 105/125\n",
            "27/27 [==============================] - 0s 2ms/step - loss: 0.0835 - categorical_crossentropy: 0.5217 - accuracy: 0.8353 - val_loss: 0.0892 - val_categorical_crossentropy: 0.7377 - val_accuracy: 0.8133\n",
            "Epoch 106/125\n",
            "27/27 [==============================] - 0s 2ms/step - loss: 0.0821 - categorical_crossentropy: 0.5046 - accuracy: 0.8329 - val_loss: 0.0882 - val_categorical_crossentropy: 0.7203 - val_accuracy: 0.8133\n",
            "Epoch 107/125\n",
            "27/27 [==============================] - 0s 2ms/step - loss: 0.0821 - categorical_crossentropy: 0.5282 - accuracy: 0.8376 - val_loss: 0.0931 - val_categorical_crossentropy: 0.7357 - val_accuracy: 0.7733\n",
            "Epoch 108/125\n",
            "27/27 [==============================] - 0s 2ms/step - loss: 0.0807 - categorical_crossentropy: 0.5211 - accuracy: 0.8494 - val_loss: 0.0935 - val_categorical_crossentropy: 0.8158 - val_accuracy: 0.8400\n",
            "Epoch 109/125\n",
            "27/27 [==============================] - 0s 2ms/step - loss: 0.0888 - categorical_crossentropy: 0.5411 - accuracy: 0.8212 - val_loss: 0.1003 - val_categorical_crossentropy: 0.7303 - val_accuracy: 0.7600\n",
            "Epoch 110/125\n",
            "27/27 [==============================] - 0s 2ms/step - loss: 0.0816 - categorical_crossentropy: 0.5097 - accuracy: 0.8282 - val_loss: 0.0885 - val_categorical_crossentropy: 0.7296 - val_accuracy: 0.8533\n",
            "Epoch 111/125\n",
            "27/27 [==============================] - 0s 2ms/step - loss: 0.0874 - categorical_crossentropy: 0.5524 - accuracy: 0.8329 - val_loss: 0.0969 - val_categorical_crossentropy: 0.7691 - val_accuracy: 0.7867\n",
            "Epoch 112/125\n",
            "27/27 [==============================] - 0s 2ms/step - loss: 0.0812 - categorical_crossentropy: 0.5175 - accuracy: 0.8376 - val_loss: 0.0896 - val_categorical_crossentropy: 0.7272 - val_accuracy: 0.8267\n",
            "Epoch 113/125\n",
            "27/27 [==============================] - 0s 2ms/step - loss: 0.0831 - categorical_crossentropy: 0.4987 - accuracy: 0.8353 - val_loss: 0.0909 - val_categorical_crossentropy: 0.6854 - val_accuracy: 0.8133\n",
            "Epoch 114/125\n",
            "27/27 [==============================] - 0s 2ms/step - loss: 0.0798 - categorical_crossentropy: 0.4936 - accuracy: 0.8471 - val_loss: 0.0918 - val_categorical_crossentropy: 0.7003 - val_accuracy: 0.8000\n",
            "Epoch 115/125\n",
            "27/27 [==============================] - 0s 2ms/step - loss: 0.0830 - categorical_crossentropy: 0.5095 - accuracy: 0.8329 - val_loss: 0.0900 - val_categorical_crossentropy: 0.7202 - val_accuracy: 0.8133\n",
            "Epoch 116/125\n",
            "27/27 [==============================] - 0s 2ms/step - loss: 0.0861 - categorical_crossentropy: 0.5161 - accuracy: 0.8400 - val_loss: 0.1084 - val_categorical_crossentropy: 0.7598 - val_accuracy: 0.7467\n",
            "Epoch 117/125\n",
            "27/27 [==============================] - 0s 2ms/step - loss: 0.0843 - categorical_crossentropy: 0.5074 - accuracy: 0.8329 - val_loss: 0.0887 - val_categorical_crossentropy: 0.6813 - val_accuracy: 0.8133\n",
            "Epoch 118/125\n",
            "27/27 [==============================] - 0s 2ms/step - loss: 0.0825 - categorical_crossentropy: 0.4992 - accuracy: 0.8376 - val_loss: 0.0926 - val_categorical_crossentropy: 0.7210 - val_accuracy: 0.7733\n",
            "Epoch 119/125\n",
            "27/27 [==============================] - 0s 2ms/step - loss: 0.0854 - categorical_crossentropy: 0.5235 - accuracy: 0.8424 - val_loss: 0.0933 - val_categorical_crossentropy: 0.7091 - val_accuracy: 0.7867\n",
            "Epoch 120/125\n",
            "27/27 [==============================] - 0s 2ms/step - loss: 0.0807 - categorical_crossentropy: 0.4943 - accuracy: 0.8306 - val_loss: 0.0878 - val_categorical_crossentropy: 0.7137 - val_accuracy: 0.8133\n",
            "Epoch 121/125\n",
            "27/27 [==============================] - 0s 2ms/step - loss: 0.0818 - categorical_crossentropy: 0.5011 - accuracy: 0.8306 - val_loss: 0.0997 - val_categorical_crossentropy: 0.7306 - val_accuracy: 0.7867\n",
            "Epoch 122/125\n",
            "27/27 [==============================] - 0s 2ms/step - loss: 0.0906 - categorical_crossentropy: 0.5469 - accuracy: 0.8235 - val_loss: 0.0947 - val_categorical_crossentropy: 0.7413 - val_accuracy: 0.8000\n",
            "Epoch 123/125\n",
            "27/27 [==============================] - 0s 3ms/step - loss: 0.0834 - categorical_crossentropy: 0.5107 - accuracy: 0.8329 - val_loss: 0.0875 - val_categorical_crossentropy: 0.6787 - val_accuracy: 0.8000\n",
            "Epoch 124/125\n",
            "27/27 [==============================] - 0s 2ms/step - loss: 0.0798 - categorical_crossentropy: 0.5035 - accuracy: 0.8447 - val_loss: 0.0917 - val_categorical_crossentropy: 0.6924 - val_accuracy: 0.7733\n",
            "Epoch 125/125\n",
            "27/27 [==============================] - 0s 2ms/step - loss: 0.0823 - categorical_crossentropy: 0.5149 - accuracy: 0.8447 - val_loss: 0.0871 - val_categorical_crossentropy: 0.6753 - val_accuracy: 0.8000\n",
            "16/16 - 0s - loss: 0.0890 - categorical_crossentropy: 0.7555 - accuracy: 0.8260 - 24ms/epoch - 2ms/step\n"
          ]
        },
        {
          "output_type": "display_data",
          "data": {
            "text/plain": [
              "<Figure size 432x288 with 1 Axes>"
            ],
            "image/png": "[encoded data removed]"
          },
          "metadata": {
            "needs_background": "light"
          }
        },
        {
          "output_type": "execute_result",
          "data": {
            "text/plain": [
              "<keras.callbacks.History at 0x7fdce976bc50>"
            ]
          },
          "metadata": {},
          "execution_count": 75
        }
      ],
      "source": [
        "### START CODE HERE ### ()\n",
        "fit_better_model(X_train, y_train, X_test, y_test, 16, 0.1)  # batch num is not specified, I used 16"
      ]
    },
    {
      "cell_type": "code",
      "execution_count": null,
      "id": "abadecd9-9a79-45c0-8540-bf16d8b4bc27",
      "metadata": {
        "id": "abadecd9-9a79-45c0-8540-bf16d8b4bc27"
      },
      "outputs": [],
      "source": [
        "plt.figure(figsize=(10,5))\n",
        "plt.plot(history.history['loss'])\n",
        "plt.plot(history.history['val_loss'])\n",
        "plt.title('Loss vs. epochs, batch=' +str(batch_size))\n",
        "plt.ylabel('Loss')\n",
        "plt.xlabel('Epoch')\n",
        "plt.legend(['Training', 'Validation'], loc='upper right')\n",
        "plt.show()"
      ]
    },
    {
      "cell_type": "markdown",
      "id": "1c665798-8db4-4b7f-a242-b34f3d0d317d",
      "metadata": {
        "id": "1c665798-8db4-4b7f-a242-b34f3d0d317d"
      },
      "source": [
        "10. **What effect does changing learning rate have on learning?**\n",
        "\n",
        "**Answer:**\n",
        "increasing it makes training converges faster but with more fluctuations"
      ]
    },
    {
      "cell_type": "code",
      "execution_count": null,
      "id": "d412834b-4486-446d-94c7-9d0c06a4419c",
      "metadata": {
        "id": "d412834b-4486-446d-94c7-9d0c06a4419c"
      },
      "outputs": [],
      "source": []
    }
  ],
  "metadata": {
    "kernelspec": {
      "display_name": "Python 3",
      "language": "python",
      "name": "python3"
    },
    "language_info": {
      "codemirror_mode": {
        "name": "ipython",
        "version": 3
      },
      "file_extension": ".py",
      "mimetype": "text/x-python",
      "name": "python",
      "nbconvert_exporter": "python",
      "pygments_lexer": "ipython3",
      "version": "3.8.8"
    },
    "colab": {
      "provenance": [],
      "include_colab_link": true
    }
  },
  "nbformat": 4,
  "nbformat_minor": 5
}